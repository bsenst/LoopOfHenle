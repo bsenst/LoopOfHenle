{
  "nbformat": 4,
  "nbformat_minor": 0,
  "metadata": {
    "colab": {
      "provenance": [],
      "authorship_tag": "ABX9TyN/j33mU9aPO+tg4n3sBtmV",
      "include_colab_link": true
    },
    "kernelspec": {
      "name": "python3",
      "display_name": "Python 3"
    },
    "language_info": {
      "name": "python"
    }
  },
  "cells": [
    {
      "cell_type": "markdown",
      "metadata": {
        "id": "view-in-github",
        "colab_type": "text"
      },
      "source": [
        "<a href=\"https://colab.research.google.com/github/bsenst/LoopOfHenle/blob/main/TranslateLabAnalytes.ipynb\" target=\"_parent\"><img src=\"https://colab.research.google.com/assets/colab-badge.svg\" alt=\"Open In Colab\"/></a>"
      ]
    },
    {
      "cell_type": "code",
      "execution_count": 1,
      "metadata": {
        "colab": {
          "base_uri": "https://localhost:8080/"
        },
        "id": "0BCfdh-pOWIu",
        "outputId": "318b12df-2457-4e1a-9926-cbbe1f067f56"
      },
      "outputs": [
        {
          "output_type": "stream",
          "name": "stdout",
          "text": [
            "Looking in indexes: https://pypi.org/simple, https://us-python.pkg.dev/colab-wheels/public/simple/\n",
            "Collecting loinchpo\n",
            "  Downloading loinchpo-1.1.1-py3-none-any.whl (48 kB)\n",
            "\u001b[K     |████████████████████████████████| 48 kB 2.3 MB/s \n",
            "\u001b[?25hCollecting ddt\n",
            "  Downloading ddt-1.6.0-py2.py3-none-any.whl (7.1 kB)\n",
            "Requirement already satisfied: pandas in /usr/local/lib/python3.7/dist-packages (from loinchpo) (1.3.5)\n",
            "Requirement already satisfied: click in /usr/local/lib/python3.7/dist-packages (from loinchpo) (7.1.2)\n",
            "Requirement already satisfied: python-dateutil>=2.7.3 in /usr/local/lib/python3.7/dist-packages (from pandas->loinchpo) (2.8.2)\n",
            "Requirement already satisfied: numpy>=1.17.3 in /usr/local/lib/python3.7/dist-packages (from pandas->loinchpo) (1.21.6)\n",
            "Requirement already satisfied: pytz>=2017.3 in /usr/local/lib/python3.7/dist-packages (from pandas->loinchpo) (2022.6)\n",
            "Requirement already satisfied: six>=1.5 in /usr/local/lib/python3.7/dist-packages (from python-dateutil>=2.7.3->pandas->loinchpo) (1.15.0)\n",
            "Installing collected packages: ddt, loinchpo\n",
            "Successfully installed ddt-1.6.0 loinchpo-1.1.1\n"
          ]
        }
      ],
      "source": [
        "! pip install loinchpo"
      ]
    },
    {
      "cell_type": "code",
      "source": [
        "! pip install googletrans==4.0.0-rc1"
      ],
      "metadata": {
        "colab": {
          "base_uri": "https://localhost:8080/",
          "height": 574
        },
        "id": "eb1YjiM7O0zk",
        "outputId": "00814e0c-fda6-46de-b0ab-01cf89394706"
      },
      "execution_count": 8,
      "outputs": [
        {
          "output_type": "stream",
          "name": "stdout",
          "text": [
            "Looking in indexes: https://pypi.org/simple, https://us-python.pkg.dev/colab-wheels/public/simple/\n",
            "Collecting googletrans==4.0.0-rc1\n",
            "  Downloading googletrans-4.0.0rc1.tar.gz (20 kB)\n",
            "Requirement already satisfied: httpx==0.13.3 in /usr/local/lib/python3.7/dist-packages (from googletrans==4.0.0-rc1) (0.13.3)\n",
            "Requirement already satisfied: hstspreload in /usr/local/lib/python3.7/dist-packages (from httpx==0.13.3->googletrans==4.0.0-rc1) (2022.11.1)\n",
            "Requirement already satisfied: chardet==3.* in /usr/local/lib/python3.7/dist-packages (from httpx==0.13.3->googletrans==4.0.0-rc1) (3.0.4)\n",
            "Requirement already satisfied: idna==2.* in /usr/local/lib/python3.7/dist-packages (from httpx==0.13.3->googletrans==4.0.0-rc1) (2.10)\n",
            "Requirement already satisfied: sniffio in /usr/local/lib/python3.7/dist-packages (from httpx==0.13.3->googletrans==4.0.0-rc1) (1.3.0)\n",
            "Requirement already satisfied: rfc3986<2,>=1.3 in /usr/local/lib/python3.7/dist-packages (from httpx==0.13.3->googletrans==4.0.0-rc1) (1.5.0)\n",
            "Requirement already satisfied: certifi in /usr/local/lib/python3.7/dist-packages (from httpx==0.13.3->googletrans==4.0.0-rc1) (2022.9.24)\n",
            "Requirement already satisfied: httpcore==0.9.* in /usr/local/lib/python3.7/dist-packages (from httpx==0.13.3->googletrans==4.0.0-rc1) (0.9.1)\n",
            "Requirement already satisfied: h2==3.* in /usr/local/lib/python3.7/dist-packages (from httpcore==0.9.*->httpx==0.13.3->googletrans==4.0.0-rc1) (3.2.0)\n",
            "Requirement already satisfied: h11<0.10,>=0.8 in /usr/local/lib/python3.7/dist-packages (from httpcore==0.9.*->httpx==0.13.3->googletrans==4.0.0-rc1) (0.9.0)\n",
            "Requirement already satisfied: hpack<4,>=3.0 in /usr/local/lib/python3.7/dist-packages (from h2==3.*->httpcore==0.9.*->httpx==0.13.3->googletrans==4.0.0-rc1) (3.0.0)\n",
            "Requirement already satisfied: hyperframe<6,>=5.2.0 in /usr/local/lib/python3.7/dist-packages (from h2==3.*->httpcore==0.9.*->httpx==0.13.3->googletrans==4.0.0-rc1) (5.2.0)\n",
            "Building wheels for collected packages: googletrans\n",
            "  Building wheel for googletrans (setup.py) ... \u001b[?25l\u001b[?25hdone\n",
            "  Created wheel for googletrans: filename=googletrans-4.0.0rc1-py3-none-any.whl size=17414 sha256=6948ae9671445b5996bf8812e2784dfe7363b28401d5ae6fec47c7eef03fd979\n",
            "  Stored in directory: /root/.cache/pip/wheels/43/34/00/4fe71786ea6d12314b29037620c36d857e5d104ac2748bf82a\n",
            "Successfully built googletrans\n",
            "Installing collected packages: googletrans\n",
            "  Attempting uninstall: googletrans\n",
            "    Found existing installation: googletrans 3.1.0a0\n",
            "    Uninstalling googletrans-3.1.0a0:\n",
            "      Successfully uninstalled googletrans-3.1.0a0\n",
            "Successfully installed googletrans-4.0.0rc1\n"
          ]
        },
        {
          "output_type": "display_data",
          "data": {
            "application/vnd.colab-display-data+json": {
              "pip_warning": {
                "packages": [
                  "googletrans"
                ]
              }
            }
          },
          "metadata": {}
        }
      ]
    },
    {
      "cell_type": "markdown",
      "source": [
        "# Translate Language"
      ],
      "metadata": {
        "id": "KUYVF3glQcGr"
      }
    },
    {
      "cell_type": "code",
      "source": [
        "from googletrans import Translator\n",
        "\n",
        "text1 = '''\n",
        "A Római Birodalom (latinul Imperium Romanum) az ókori Róma által létrehozott \n",
        "államalakulat volt a Földközi-tenger medencéjében\n",
        "'''\n",
        "\n",
        "text2 = '''\n",
        "Vysoké Tatry sú najvyššie pohorie na Slovensku a v Poľsku a sú zároveň jediným \n",
        "horstvom v týchto štátoch s alpským charakterom. \n",
        "'''\n",
        "\n",
        "translator = Translator()\n",
        "\n",
        "dt1 = translator.detect(text1)\n",
        "print(dt1)\n",
        "\n",
        "dt2 = translator.detect(text2)\n",
        "print(dt2)"
      ],
      "metadata": {
        "colab": {
          "base_uri": "https://localhost:8080/"
        },
        "id": "w3wEGBhXOeE4",
        "outputId": "ce33cbb5-23b7-41f4-f62e-05b36cfede68"
      },
      "execution_count": 1,
      "outputs": [
        {
          "output_type": "stream",
          "name": "stdout",
          "text": [
            "Detected(lang=hu, confidence=None)\n",
            "Detected(lang=sk, confidence=None)\n"
          ]
        }
      ]
    },
    {
      "cell_type": "code",
      "source": [
        "print(translator.translate(\"s_HBsAg_kvantita\"))"
      ],
      "metadata": {
        "colab": {
          "base_uri": "https://localhost:8080/"
        },
        "id": "xI3PnfmdPvAK",
        "outputId": "e048fd48-0f15-4ef6-acce-bfae081014bf"
      },
      "execution_count": 4,
      "outputs": [
        {
          "output_type": "stream",
          "name": "stdout",
          "text": [
            "Translated(src=bg, dest=en, text=C_XBSAG_KOPTITIES, pronunciation=None, extra_data=\"{'confiden...\")\n"
          ]
        }
      ]
    },
    {
      "cell_type": "code",
      "source": [
        "! pip install loinchpo"
      ],
      "metadata": {
        "colab": {
          "base_uri": "https://localhost:8080/"
        },
        "id": "wh7owP4cP9GA",
        "outputId": "273c6325-955f-4f46-b8b3-4acdc42b59f9"
      },
      "execution_count": 5,
      "outputs": [
        {
          "output_type": "stream",
          "name": "stdout",
          "text": [
            "Looking in indexes: https://pypi.org/simple, https://us-python.pkg.dev/colab-wheels/public/simple/\n",
            "Requirement already satisfied: loinchpo in /usr/local/lib/python3.7/dist-packages (1.1.1)\n",
            "Requirement already satisfied: click in /usr/local/lib/python3.7/dist-packages (from loinchpo) (7.1.2)\n",
            "Requirement already satisfied: ddt in /usr/local/lib/python3.7/dist-packages (from loinchpo) (1.6.0)\n",
            "Requirement already satisfied: pandas in /usr/local/lib/python3.7/dist-packages (from loinchpo) (1.3.5)\n",
            "Requirement already satisfied: pytz>=2017.3 in /usr/local/lib/python3.7/dist-packages (from pandas->loinchpo) (2022.6)\n",
            "Requirement already satisfied: python-dateutil>=2.7.3 in /usr/local/lib/python3.7/dist-packages (from pandas->loinchpo) (2.8.2)\n",
            "Requirement already satisfied: numpy>=1.17.3 in /usr/local/lib/python3.7/dist-packages (from pandas->loinchpo) (1.21.6)\n",
            "Requirement already satisfied: six>=1.5 in /usr/local/lib/python3.7/dist-packages (from python-dateutil>=2.7.3->pandas->loinchpo) (1.15.0)\n"
          ]
        }
      ]
    },
    {
      "cell_type": "markdown",
      "source": [
        "# Map to LOINC"
      ],
      "metadata": {
        "id": "yloke-7aQfiJ"
      }
    },
    {
      "cell_type": "code",
      "source": [
        "import loinchpo"
      ],
      "metadata": {
        "id": "wt7J-_43QOCW"
      },
      "execution_count": 6,
      "outputs": []
    },
    {
      "cell_type": "code",
      "source": [
        "resolver = loinchpo.QueryResolver(annotations)\n",
        "hpo_term = resolver.resolve(\"0000118\")"
      ],
      "metadata": {
        "colab": {
          "base_uri": "https://localhost:8080/",
          "height": 183
        },
        "id": "wn8hezOPQQRp",
        "outputId": "39b5447e-c6be-47e3-b5fe-33026703c81c"
      },
      "execution_count": 12,
      "outputs": [
        {
          "output_type": "error",
          "ename": "NameError",
          "evalue": "ignored",
          "traceback": [
            "\u001b[0;31m---------------------------------------------------------------------------\u001b[0m",
            "\u001b[0;31mNameError\u001b[0m                                 Traceback (most recent call last)",
            "\u001b[0;32m<ipython-input-12-52c293d793e2>\u001b[0m in \u001b[0;36m<module>\u001b[0;34m\u001b[0m\n\u001b[0;32m----> 1\u001b[0;31m \u001b[0mresolver\u001b[0m \u001b[0;34m=\u001b[0m \u001b[0mloinchpo\u001b[0m\u001b[0;34m.\u001b[0m\u001b[0mQueryResolver\u001b[0m\u001b[0;34m(\u001b[0m\u001b[0mannotations\u001b[0m\u001b[0;34m)\u001b[0m\u001b[0;34m\u001b[0m\u001b[0;34m\u001b[0m\u001b[0m\n\u001b[0m\u001b[1;32m      2\u001b[0m \u001b[0mhpo_term\u001b[0m \u001b[0;34m=\u001b[0m \u001b[0mresolver\u001b[0m\u001b[0;34m.\u001b[0m\u001b[0mresolve\u001b[0m\u001b[0;34m(\u001b[0m\u001b[0;34m\"0000118\"\u001b[0m\u001b[0;34m)\u001b[0m\u001b[0;34m\u001b[0m\u001b[0;34m\u001b[0m\u001b[0m\n",
            "\u001b[0;31mNameError\u001b[0m: name 'annotations' is not defined"
          ]
        }
      ]
    },
    {
      "cell_type": "markdown",
      "source": [
        "# Go via Wikipedia"
      ],
      "metadata": {
        "id": "CwDhd6nxRKgo"
      }
    },
    {
      "cell_type": "code",
      "source": [
        "! pip install Wikipedia-API"
      ],
      "metadata": {
        "colab": {
          "base_uri": "https://localhost:8080/"
        },
        "id": "YrV3fszzRUYA",
        "outputId": "20003ea3-d467-4cd1-c96f-dce85730f90e"
      },
      "execution_count": 14,
      "outputs": [
        {
          "output_type": "stream",
          "name": "stdout",
          "text": [
            "Looking in indexes: https://pypi.org/simple, https://us-python.pkg.dev/colab-wheels/public/simple/\n",
            "Collecting Wikipedia-API\n",
            "  Downloading Wikipedia-API-0.5.4.tar.gz (18 kB)\n",
            "Requirement already satisfied: requests in /usr/local/lib/python3.7/dist-packages (from Wikipedia-API) (2.23.0)\n",
            "Requirement already satisfied: urllib3!=1.25.0,!=1.25.1,<1.26,>=1.21.1 in /usr/local/lib/python3.7/dist-packages (from requests->Wikipedia-API) (1.24.3)\n",
            "Requirement already satisfied: idna<3,>=2.5 in /usr/local/lib/python3.7/dist-packages (from requests->Wikipedia-API) (2.10)\n",
            "Requirement already satisfied: chardet<4,>=3.0.2 in /usr/local/lib/python3.7/dist-packages (from requests->Wikipedia-API) (3.0.4)\n",
            "Requirement already satisfied: certifi>=2017.4.17 in /usr/local/lib/python3.7/dist-packages (from requests->Wikipedia-API) (2022.9.24)\n",
            "Building wheels for collected packages: Wikipedia-API\n",
            "  Building wheel for Wikipedia-API (setup.py) ... \u001b[?25l\u001b[?25hdone\n",
            "  Created wheel for Wikipedia-API: filename=Wikipedia_API-0.5.4-py3-none-any.whl size=13476 sha256=6598264bae7802db24ec7b76f9165d3974fd14fb588e9bb0b04e9f51f95ca642\n",
            "  Stored in directory: /root/.cache/pip/wheels/d3/24/56/58ba93cf78be162451144e7a9889603f437976ef1ae7013d04\n",
            "Successfully built Wikipedia-API\n",
            "Installing collected packages: Wikipedia-API\n",
            "Successfully installed Wikipedia-API-0.5.4\n"
          ]
        }
      ]
    },
    {
      "cell_type": "code",
      "source": [
        "import wikipediaapi\n",
        "\n",
        "wiki_wiki = wikipediaapi.Wikipedia('en')\n",
        "page_py = wiki_wiki.page('Python_(programming_language)')\n",
        "print(\"Page - Exists: %s\" % page_py.exists())\n",
        "print(page_py.canonicalurl)"
      ],
      "metadata": {
        "colab": {
          "base_uri": "https://localhost:8080/"
        },
        "id": "uMcP3E6NRMhb",
        "outputId": "753dfbdb-884e-452a-e622-76f01854b017"
      },
      "execution_count": 17,
      "outputs": [
        {
          "output_type": "stream",
          "name": "stdout",
          "text": [
            "Page - Exists: True\n",
            "https://en.wikipedia.org/wiki/Python_(programming_language)\n"
          ]
        }
      ]
    },
    {
      "cell_type": "code",
      "source": [
        "wiki_wiki = wikipediaapi.Wikipedia('cz')\n",
        "page_py = wiki_wiki.page('s_CA_125')\n",
        "print(\"Page - Exists: %s\" % page_py.exists())\n",
        "print(page_py.canonicalurl)"
      ],
      "metadata": {
        "colab": {
          "base_uri": "https://localhost:8080/"
        },
        "id": "QSdG0-N-Rhfq",
        "outputId": "c07508b9-b1c9-4d52-fd4b-87f6b101bbd1"
      },
      "execution_count": 18,
      "outputs": [
        {
          "output_type": "stream",
          "name": "stdout",
          "text": [
            "Page - Exists: False\n",
            "None\n"
          ]
        }
      ]
    },
    {
      "cell_type": "markdown",
      "source": [
        "# Python String Operations"
      ],
      "metadata": {
        "id": "nmK0J7bfTUvB"
      }
    },
    {
      "cell_type": "code",
      "source": [
        "features = \"\"\"s_a-b-2GPI_IgG\n",
        "s_a-kardiol.IgG\n",
        "s_a-PS_IgM\n",
        "s_anti_PI_IgM\n",
        "s_a-b-2GPI_IgM\n",
        "s_a-kardiol.IgM\n",
        "s_total_IgE_s_Total_IgE\n",
        "DNA-A_HLA-A_(DNA)_(Pt;_HLA_genotyp_[-]_PCR)_HLA-A\n",
        "s_anti-TG_Anti_tyreoglobulin\n",
        "S_FSH\n",
        "s_anti_PI_IgG\n",
        "anti_TETANUS_IgG\n",
        "U_albumin/kreat._V_Index_MIAL/U_KRE_ACR_-_albumin/kreatinin_v_moči_U-alb/U-krea_ACR_=_U-albumin_/_U-kreatinin_ACR_(Albumin/kreatinin)_Albumin/Kreatinin_ACR_ACR-_albumin/kreatinin_ratio_v_moči_Alb/krea_v_moči_U-albumin/kreatinin_(ACR)_ACR-_albumin/kreatinin_v_moči_Albumin/kreatinin\n",
        "S_LH\n",
        "s_b-2-mikroglob.\n",
        "U_válce_hyalinní_U-válce_nepatologické\n",
        "s_a-MPO_CIA_s_a-MPO_ELISA\n",
        "U_krev_Hemoglobin_Krev_Krev_-_hemoglobin_U_krev_(M_chem.)_Krev-hemoglobin_chemicky_moč_KREV_krev\n",
        "CVVH-vápník_ion.\n",
        "U_albumin_ranní_U_Mikroalbumin_Albumin_v_moči_Mikroalbuminurie_Albuminurie_Mikroalbumin_U-albumin,_ranní_moč\n",
        "p_DRVVT_pacient\n",
        "U_válce_patolog._U_válce_patol._UD\n",
        "U_válce_patol._UF\n",
        "s_lipáza_Lipáza_Lipasa\n",
        "s_anti-TPO\n",
        "s_CA_125\n",
        "U_protein/kreat.\n",
        "ROMA\n",
        "s_HBsAg_kvantita\n",
        "s_anti-tTG_IgG\n",
        "s_ferritin_Ferritin\n",
        "U_protein_ranní\n",
        "p_DRVVT-sc1:1-RI\n",
        "s_parathormon_s_PTH(1-84)\n",
        "Urea_S_Urea_-_močovina_Urea_-_močovina_UREA\n",
        "p_DRVVT_ratio\n",
        "U_erytrocyty_Hamburger-ery_Erytrocyty_erytrocyty_U_ery_(M_sed.)_U-erytrocyty_Hamburgerův_sediment_-_ery\n",
        "p_aPTT-LA_pacien\n",
        "p_aPTT-LA_ratio\n",
        "s_HE4\n",
        "s_kreatinin_kreatinin_S-kreatinin\n",
        "S_Prolaktin\n",
        "U_válce_hyalinní_UF\n",
        "s_C_peptid\n",
        "p_aPTT-konf.hex.\n",
        "s_CMV_IgM\n",
        "s_propeptid_prokolagenu_1_s_P1NP\n",
        "x_Frakční_exkrece_vody_Frakč.exkreceH2O\n",
        "s_CA_125\n",
        "p_aPTT_scr/konf\n",
        "B_CD16_+_56\n",
        "Kreatinin_S_Kreatinin_KREA\n",
        "s_urea_Urea_urea_S_Urea_S-urea\n",
        "p_DRVVT_pacient\n",
        "p_kreatinin_P-kreatinin\n",
        "Erytropoietin_Erytrocyty\n",
        "p_aPTT-LA1:1-RI\n",
        "s_EBNA_IgG\n",
        "p_DRVVT_scr/konf\n",
        "s_EBV_VCA_IgG\n",
        "p_DRVVT_scr_1:1\n",
        "s_PSA\n",
        "p_BNP\n",
        "p_Aldosteron\n",
        "s_b-CrossLaps\n",
        "s_B12_aktivní\n",
        "p_urea_Urea_P-urea\n",
        "s_ferritin_Ferritin_S_Ferritin\n",
        "s_Herpes_IgG\n",
        "U_albuminurie\n",
        "p_LDH_LDH\n",
        "p_DDi_kvantit.\n",
        "s_Kortizol_Kortisol_(dopoledne)\n",
        "dU_protein_celk._Bílkovina_odpad_U_odpady_protein./24h_Proteinurie_odpad\n",
        "s_FSH\n",
        "p_aPTT-LA_1:1\n",
        "s_CA_15-3\n",
        "dU_albumin_Mikroalbuminurie/den\n",
        "s_cystatin_C\n",
        "U_protein_celk._Bílkovina_v_moči\n",
        "p_Aldosteron\n",
        "B_Tyče_Neutrofilní_tyče_Tyč-mikr.\n",
        "B_NK_abs.počet\n",
        "s_B12_aktivní\n",
        "s_parathormon_Parathormon_PTH\n",
        "s_ferritin\n",
        "s_CA_15-3\n",
        "s_prolaktin\n",
        "s_ceruloplasmin\n",
        "s_ASCA_IgG\n",
        "B_leukocyty\n",
        "Kappa+CD19+_Buňky_CD19+/kappa+\n",
        "U_erytrocyty_UD_U_Erytrocyty_elementy_Erytrocyty_mikroskopicky\n",
        "B_CD19\n",
        "U_albumin_sběr_U-mikroalb._U_Albumin_v_ranní_moči_MALB_Albumin\n",
        "p_PT_ratio_PT-ratio_Protrombinový_test_-_ratio_PT_-_ratio_PT_(Quick)_-_ratio_P_Protrombinový_test_-_ratio_PT_-_Ratio_PT_(ratio)_PT-poměr_PT-_ratio\n",
        "s_fPSA\n",
        "p_PT_pacient\n",
        "p_AST_AST_P-AST\n",
        "objem_sbír_Moč_sběr_-_objem_objem_moče_-_sběr_Moč_neupravená_Objem_Množství_moče_mnozstvi_1_Moč_neupravená_-_objem_moč-sběr\n",
        "B_CD16_+_56\n",
        "B_Sedimentace/1h_FW_/_1h_FW_za_1_h.\n",
        "p_fosfor_Fosfor\n",
        "p_amoniak\n",
        "B_Segmenty_Neutrofilní_segmenty_Segment-mikr.\n",
        "s_EBV_EA_IgG\n",
        "B_poměr_CD4/CD8\n",
        "s_a-HBs\n",
        "p_aPTTnecit_rat\n",
        "s_fPSA\n",
        "p_homocystein\n",
        "s_AMS_Amyláza_Alfa-amylasa_v_séru\n",
        "p_ALT_ALT_P-ALT\n",
        "p_DRVVTkonf_rati\n",
        "p_Digoxin\n",
        "B_Metamyelocyty_Metamyelocyty\n",
        "CD20_Lymfocyty_CD20+\n",
        "p_glukóza_(NaF)\n",
        "s_Chl.pn.IgM\n",
        "p_DRVVTkonf_paci\n",
        "p_PT_INR_INR_PT_INR_Protrombinový_test_-_INR_Quick_test_Protrombinový_test_-_INR_(PT)_Quick_INR_PT_(Quick)_-_INR_PT_-_INR_P_Protrombinový_test_-_INR_Quick_PT_Quick_Protromb._test_(Quick):_INR__Protrombinový_test_(Quick)_PT_(antikoag._léčba)_INR._PT-_INR\n",
        "s_propeptid_prokolagenu_1\n",
        "s_a1_antitrypsin\n",
        "p_Faktor_XII\n",
        "B_takrolimus\n",
        "s_Kortizol_S_Kortizol\n",
        "B_RTC_mladé\n",
        "p_PT_%\n",
        "s_EBV_VCA_IgM\n",
        "B_ASPIRIN_VERIFY_p_ASPIRIN_VERIFY\n",
        "s_bilirubin_přím\n",
        "p_prokalcitonin_s_prokalcitonin\n",
        "B_Lymfocyty_abs_Lymfocyty_ap_5P_Lymfocyty_abs._Lymfocyty_Abs\n",
        "U_sodík\n",
        "U_kreatinin\n",
        "CD19_Lymfocyty_CD19+\n",
        "B_Lymfocyty_Lymfocyty_%_5P_Lymfocyty\n",
        "p_železo_Železo\n",
        "s_CIK_vazbou_C1q\n",
        "s_anti-tTG_IgA\n",
        "1.25(OH)D\n",
        "dU_kreatinin\n",
        "U_chloridy\n",
        "U_epitelie_jiné\n",
        "p_Gentamicin\n",
        "p_GGT_GGT\n",
        "p_transfer._sat.\n",
        "s_CA_72-4\n",
        "S-triacylglyc._S_Triacylglyceroly\n",
        "U_kreatinin_ran.\n",
        "s_Chl.pn.IgG\n",
        "s_ApoC-III\n",
        "s_bilirubin_celk\n",
        "S-PSA_PSA_PSA_celkový\n",
        "U_leukocyty_Hamburger-leuko_U_Leu_(M_sed.)_U-leukocyty_Hamburgerův_sediment_-_leuko_Leukocyty\n",
        "p_lipáza\n",
        "Vitamin_D_Total_Vitamín_D_Vitamin_D_25-OH_vitamin_D_total_B_Vitamin_D_total_(25-OH)_S-25-OH-vitaminD_25-hydroxyvitamin_D_Vitamin_D_total\n",
        "p_NT-proBNP\n",
        "DNA-B_HLA-B_(DNA)_(Pt;_HLA_genotyp_[-]_PCR)_HLA-B\n",
        "p_Faktor_VIII\n",
        "s_IgM\n",
        "s_anti-TSH_rec._TRAK_(anti_TSH_recep.)\n",
        "s_a-HBs\n",
        "U_kys.močová_U-kyselina_močová\n",
        "B_CD4_abs.počet\n",
        "U_fosfor_U-fosfor_(P)\n",
        "s_IgG2\n",
        "p_Digoxin\n",
        "U_válce_hyalinní_UD_Válce_hyalinní\n",
        "Normetanefrin\n",
        "B_CD3_abs.počet\n",
        "DHEAS\n",
        "p_bilirubin_celk\n",
        "B_CD8_abs.počet\n",
        "GFR-MDRD-3P\n",
        "f_hemoglobin_f_hemogl._korig._f_Hemoglobin_korigovaný\n",
        "U_draslík\n",
        "s_hs-Troponin_T\n",
        "s_IgG3\n",
        "s_LH\n",
        "dU_vápník_celk._dU-vápník/24h\n",
        "GFR-MDRD-1P_MDRD_1P_GFR-MDRD_eGFR(MDRD-1P)\n",
        "p_AMS_Amyláza\n",
        "GFR-CYSTC-K\n",
        "GFR-KRKOR_Clearance/1.73_Clearance_kreatininu_/_1.73m2_Glom.filtr.korig\n",
        "U_urea\n",
        "s_AMS_pankreat.\n",
        "U_vápník_celk._U-vápník_(Ca)\n",
        "s_COVID-19_IgG_CLIA_s_COVID-19_IgG\n",
        "dr_bilirub._celk\n",
        "p_AMS_pankreat.\n",
        "GFR-KR_Clearance_kreat._Clearance_kreatininu_(GF)_Glom.filtrace\n",
        "GFR-CYSTC\n",
        "B_Lymfocyty_Lymfocyty_Lymfocyty_(relativní_počet)_Lymfocyt-mikr.\n",
        "p_bilirubin_přím\n",
        "B_NRBC_abs.počet\n",
        "dU_urea\n",
        "s_a-gliadin_IgA_Gliadin_IgA\n",
        "s_prokalcitonin\n",
        "C_PEPTID_C-peptid\n",
        "s_CMV_IgM\n",
        "sTfR/F\n",
        "s_Dermat.farinae\n",
        "NEESTER._MK\n",
        "CKD-EPI_eGF_(CKD-EPI)_GF_CKD-EPI_CKD-EPI_pro_kreatinin_Výp.GFR_dle_CKD-EPI_eGFR_(CKD-EPI)_GF_odhad_dle_CKD_EPI_Glomerul._filtrace_(CKD-EPI)_Odhad_GF_dle_CKD-EPI_eGFR-CKD-EPI_GF_dle_CKD-EPI\n",
        "U_OSM_okamžitá\n",
        "s_Degradace_histaminu\n",
        "U_OSM_sběr\n",
        "s_anti-virus_hepatitidy_E_IgM\n",
        "GFR-KRKOR\n",
        "GFR-MDRD-1P_MDRD_S_Odhad_GF_dle_CKD-EPI_Odhad_GF_dle_CKD-EPI\n",
        "s_a-HBs\n",
        "B_CD19_abs.počet\n",
        "S-free_PSA\n",
        "s_ASLO_ASLO_Antistreptolyzin_O_S_ASLO\n",
        "s_a-PS_IgG\n",
        "s_Borrelia_IgG\n",
        "GFR-KR\n",
        "dU-kortizol_volný/24_h_U-kortisol_volny\n",
        "s_ANA_IF_ANA_IgG\n",
        "NRBCau_technická_B_NRBCaut/100Leu_NORMOBLASTY_aut._B_NRBC_–_relativně\n",
        "p_CK\n",
        "GFR-MDRD-3P\n",
        "p_CMV_qRT_PCR\n",
        "s_a-dsDNA_CIA_s_a-dsDNA_ELISA\n",
        "s_Herpes_IgM\n",
        "s_b-CrossLaps_B_Beta-Crosslaps_beta_CrossLaps\n",
        "p_Apixaban\n",
        "s_AFP\n",
        "p_prokalcitonin\n",
        "s_Chl.sp.IgA_Anti_CHLAMYDIE_LPS_IgA_ELISA\n",
        "s_Mycop.pneu.IgM\n",
        "s_CA_72-4\n",
        "s_a-gliadin_IgG_Gliadin_IgG\n",
        "p_bilirubin_přím\n",
        "s_anti-tTG_IgG\n",
        "s_CIK_vazbou_C1q\n",
        "U_epitelie_přechodné_UD_U-epitelie_kulaté\n",
        "p_Renin\n",
        "dr_bilirub._přím\n",
        "P-myoglobin\n",
        "s_Chl.sp.IgM_Anti_CHLAMYDIE_LPS_IgM_ELISA\n",
        "f_hemoglobin\n",
        "v_3-OH-butyrát\n",
        "s_lipoprotein(a)\n",
        "s_a-MPO_CIA\n",
        "p_ACTH\n",
        "s_a-dsDNA_CIA\n",
        "s_ASCA_IgA\n",
        "CD19_Buňky_CD19+\n",
        "p_Renin\n",
        "s_testosteron\n",
        "s_GX1-trávy_rané\n",
        "s_C_peptid\n",
        "s_GX4-trávy_poz.\n",
        "s_WX1-plevely_s.\n",
        "s_a-PR3_CIA_s_a-PR3_ELISA\n",
        "s_total_IgE_s_Total_IgE\n",
        "GAD_M\n",
        "s_anti-tTG_IgA\n",
        "s_TX10-stromy_s.\n",
        "s_a-PR3_CIA\n",
        "s_pes\n",
        "U_glukóza_Glukóza\n",
        "s_Dermatoph.pter\n",
        "s_TX6-stromy_sm.\n",
        "s_kočka\n",
        "s_TX10-stromy_s.\n",
        "s_rBetv2_profil._s_rBet_v2\n",
        "PRADTT_Protilátky_Anti-HLA_(panel_30)*_(S;_num._podíl_[%]_test_cytotoxický)_PRA_s_DTT\n",
        "PRA_Protilátky_Anti-HLA_(panel_30)*_(S;_num._podíl_[%]_*)_PRA\n",
        "U_hlen_U_hlen_UD_Hlen_U_Hlen_HLEN\n",
        "U_hlen_UF_Hlen_v_sedimentu_moče_Hlen_Hlenová_vlákna_U_Hlen\n",
        "s_a-nukleosomy\n",
        "U_shluky_leukocytů_UF_Leukocyty_U_Leukocyty_ULEUK\n",
        "U_bakterie_U_bakterie_UF_Bakterie_U_Bakterie_BACT_U_bakterie_(M_sed.)\"\"\"\n",
        "features = features.split(\"\\n\")"
      ],
      "metadata": {
        "id": "CuXnZ1yUTXBt"
      },
      "execution_count": 20,
      "outputs": []
    },
    {
      "cell_type": "code",
      "source": [
        "counter = 1\n",
        "for feature in list(sorted(features)):\n",
        "  if len(feature) > 30:\n",
        "    print((feature[:25]+\"[...]\").ljust(30), end=\" \")\n",
        "  else:\n",
        "    print((feature).ljust(30), end=\" \")\n",
        "  if counter % 3 == 0:\n",
        "    print()\n",
        "  counter += 1 "
      ],
      "metadata": {
        "colab": {
          "base_uri": "https://localhost:8080/"
        },
        "id": "b-xNZWkQTcJQ",
        "outputId": "f9219666-989b-4567-c61c-a91ef3d7501a"
      },
      "execution_count": 29,
      "outputs": [
        {
          "output_type": "stream",
          "name": "stdout",
          "text": [
            "1.25(OH)D                      B_ASPIRIN_VERIFY_p_ASPIRI[...] B_CD16_+_56                    \n",
            "B_CD16_+_56                    B_CD19                         B_CD19_abs.počet               \n",
            "B_CD3_abs.počet                B_CD4_abs.počet                B_CD8_abs.počet                \n",
            "B_Lymfocyty_Lymfocyty_%_5[...] B_Lymfocyty_Lymfocyty_Lym[...] B_Lymfocyty_abs_Lymfocyty[...] \n",
            "B_Metamyelocyty_Metamyelocyty  B_NK_abs.počet                 B_NRBC_abs.počet               \n",
            "B_RTC_mladé                    B_Sedimentace/1h_FW_/_1h_[...] B_Segmenty_Neutrofilní_se[...] \n",
            "B_Tyče_Neutrofilní_tyče_T[...] B_leukocyty                    B_poměr_CD4/CD8                \n",
            "B_takrolimus                   CD19_Buňky_CD19+               CD19_Lymfocyty_CD19+           \n",
            "CD20_Lymfocyty_CD20+           CKD-EPI_eGF_(CKD-EPI)_GF_[...] CVVH-vápník_ion.               \n",
            "C_PEPTID_C-peptid              DHEAS                          DNA-A_HLA-A_(DNA)_(Pt;_HL[...] \n",
            "DNA-B_HLA-B_(DNA)_(Pt;_HL[...] Erytropoietin_Erytrocyty       GAD_M                          \n",
            "GFR-CYSTC                      GFR-CYSTC-K                    GFR-KR                         \n",
            "GFR-KRKOR                      GFR-KRKOR_Clearance/1.73_[...] GFR-KR_Clearance_kreat._C[...] \n",
            "GFR-MDRD-1P_MDRD_1P_GFR-M[...] GFR-MDRD-1P_MDRD_S_Odhad_[...] GFR-MDRD-3P                    \n",
            "GFR-MDRD-3P                    Kappa+CD19+_Buňky_CD19+/kappa+ Kreatinin_S_Kreatinin_KREA     \n",
            "NEESTER._MK                    NRBCau_technická_B_NRBCau[...] Normetanefrin                  \n",
            "P-myoglobin                    PRADTT_Protilátky_Anti-HL[...] PRA_Protilátky_Anti-HLA_([...] \n",
            "ROMA                           S-PSA_PSA_PSA_celkový          S-free_PSA                     \n",
            "S-triacylglyc._S_Triacylg[...] S_FSH                          S_LH                           \n",
            "S_Prolaktin                    U_OSM_okamžitá                 U_OSM_sběr                     \n",
            "U_albumin/kreat._V_Index_[...] U_albumin_ranní_U_Mikroal[...] U_albumin_sběr_U-mikroalb[...] \n",
            "U_albuminurie                  U_bakterie_U_bakterie_UF_[...] U_chloridy                     \n",
            "U_draslík                      U_epitelie_jiné                U_epitelie_přechodné_UD_U[...] \n",
            "U_erytrocyty_Hamburger-er[...] U_erytrocyty_UD_U_Erytroc[...] U_fosfor_U-fosfor_(P)          \n",
            "U_glukóza_Glukóza              U_hlen_UF_Hlen_v_sediment[...] U_hlen_U_hlen_UD_Hlen_U_H[...] \n",
            "U_kreatinin                    U_kreatinin_ran.               U_krev_Hemoglobin_Krev_Kr[...] \n",
            "U_kys.močová_U-kyselina_močová U_leukocyty_Hamburger-leu[...] U_protein/kreat.               \n",
            "U_protein_celk._Bílkovina[...] U_protein_ranní                U_shluky_leukocytů_UF_Leu[...] \n",
            "U_sodík                        U_urea                         U_válce_hyalinní_U-válce_[...] \n",
            "U_válce_hyalinní_UD_Válce[...] U_válce_hyalinní_UF            U_válce_patol._UF              \n",
            "U_válce_patolog._U_válce_[...] U_vápník_celk._U-vápník_(Ca)   Urea_S_Urea_-_močovina_Ur[...] \n",
            "Vitamin_D_Total_Vitamín_D[...] anti_TETANUS_IgG               dU-kortizol_volný/24_h_U-[...] \n",
            "dU_albumin_Mikroalbuminur[...] dU_kreatinin                   dU_protein_celk._Bílkovin[...] \n",
            "dU_urea                        dU_vápník_celk._dU-vápník/24h  dr_bilirub._celk               \n",
            "dr_bilirub._přím               f_hemoglobin                   f_hemoglobin_f_hemogl._ko[...] \n",
            "objem_sbír_Moč_sběr_-_obj[...] p_ACTH                         p_ALT_ALT_P-ALT                \n",
            "p_AMS_Amyláza                  p_AMS_pankreat.                p_AST_AST_P-AST                \n",
            "p_Aldosteron                   p_Aldosteron                   p_Apixaban                     \n",
            "p_BNP                          p_CK                           p_CMV_qRT_PCR                  \n",
            "p_DDi_kvantit.                 p_DRVVT-sc1:1-RI               p_DRVVT_pacient                \n",
            "p_DRVVT_pacient                p_DRVVT_ratio                  p_DRVVT_scr/konf               \n",
            "p_DRVVT_scr_1:1                p_DRVVTkonf_paci               p_DRVVTkonf_rati               \n",
            "p_Digoxin                      p_Digoxin                      p_Faktor_VIII                  \n",
            "p_Faktor_XII                   p_GGT_GGT                      p_Gentamicin                   \n",
            "p_LDH_LDH                      p_NT-proBNP                    p_PT_%                         \n",
            "p_PT_INR_INR_PT_INR_Protr[...] p_PT_pacient                   p_PT_ratio_PT-ratio_Protr[...] \n",
            "p_Renin                        p_Renin                        p_aPTT-LA1:1-RI                \n",
            "p_aPTT-LA_1:1                  p_aPTT-LA_pacien               p_aPTT-LA_ratio                \n",
            "p_aPTT-konf.hex.               p_aPTT_scr/konf                p_aPTTnecit_rat                \n",
            "p_amoniak                      p_bilirubin_celk               p_bilirubin_přím               \n",
            "p_bilirubin_přím               p_fosfor_Fosfor                p_glukóza_(NaF)                \n",
            "p_homocystein                  p_kreatinin_P-kreatinin        p_lipáza                       \n",
            "p_prokalcitonin                p_prokalcitonin_s_prokalc[...] p_transfer._sat.               \n",
            "p_urea_Urea_P-urea             p_železo_Železo                sTfR/F                         \n",
            "s_AFP                          s_AMS_Amyláza_Alfa-amylas[...] s_AMS_pankreat.                \n",
            "s_ANA_IF_ANA_IgG               s_ASCA_IgA                     s_ASCA_IgG                     \n",
            "s_ASLO_ASLO_Antistreptoly[...] s_ApoC-III                     s_B12_aktivní                  \n",
            "s_B12_aktivní                  s_Borrelia_IgG                 s_CA_125                       \n",
            "s_CA_125                       s_CA_15-3                      s_CA_15-3                      \n",
            "s_CA_72-4                      s_CA_72-4                      s_CIK_vazbou_C1q               \n",
            "s_CIK_vazbou_C1q               s_CMV_IgM                      s_CMV_IgM                      \n",
            "s_COVID-19_IgG_CLIA_s_COV[...] s_C_peptid                     s_C_peptid                     \n",
            "s_Chl.pn.IgG                   s_Chl.pn.IgM                   s_Chl.sp.IgA_Anti_CHLAMYD[...] \n",
            "s_Chl.sp.IgM_Anti_CHLAMYD[...] s_Degradace_histaminu          s_Dermat.farinae               \n",
            "s_Dermatoph.pter               s_EBNA_IgG                     s_EBV_EA_IgG                   \n",
            "s_EBV_VCA_IgG                  s_EBV_VCA_IgM                  s_FSH                          \n",
            "s_GX1-trávy_rané               s_GX4-trávy_poz.               s_HBsAg_kvantita               \n",
            "s_HE4                          s_Herpes_IgG                   s_Herpes_IgM                   \n",
            "s_IgG2                         s_IgG3                         s_IgM                          \n",
            "s_Kortizol_Kortisol_(dopo[...] s_Kortizol_S_Kortizol          s_LH                           \n",
            "s_Mycop.pneu.IgM               s_PSA                          s_TX10-stromy_s.               \n",
            "s_TX10-stromy_s.               s_TX6-stromy_sm.               s_WX1-plevely_s.               \n",
            "s_a-HBs                        s_a-HBs                        s_a-HBs                        \n",
            "s_a-MPO_CIA                    s_a-MPO_CIA_s_a-MPO_ELISA      s_a-PR3_CIA                    \n",
            "s_a-PR3_CIA_s_a-PR3_ELISA      s_a-PS_IgG                     s_a-PS_IgM                     \n",
            "s_a-b-2GPI_IgG                 s_a-b-2GPI_IgM                 s_a-dsDNA_CIA                  \n",
            "s_a-dsDNA_CIA_s_a-dsDNA_ELISA  s_a-gliadin_IgA_Gliadin_IgA    s_a-gliadin_IgG_Gliadin_IgG    \n",
            "s_a-kardiol.IgG                s_a-kardiol.IgM                s_a-nukleosomy                 \n",
            "s_a1_antitrypsin               s_anti-TG_Anti_tyreoglobulin   s_anti-TPO                     \n",
            "s_anti-TSH_rec._TRAK_(ant[...] s_anti-tTG_IgA                 s_anti-tTG_IgA                 \n",
            "s_anti-tTG_IgG                 s_anti-tTG_IgG                 s_anti-virus_hepatitidy_E_IgM  \n",
            "s_anti_PI_IgG                  s_anti_PI_IgM                  s_b-2-mikroglob.               \n",
            "s_b-CrossLaps                  s_b-CrossLaps_B_Beta-Cros[...] s_bilirubin_celk               \n",
            "s_bilirubin_přím               s_ceruloplasmin                s_cystatin_C                   \n",
            "s_fPSA                         s_fPSA                         s_ferritin                     \n",
            "s_ferritin_Ferritin            s_ferritin_Ferritin_S_Ferritin s_hs-Troponin_T                \n",
            "s_kočka                        s_kreatinin_kreatinin_S-k[...] s_lipoprotein(a)               \n",
            "s_lipáza_Lipáza_Lipasa         s_parathormon_Parathormon_PTH  s_parathormon_s_PTH(1-84)      \n",
            "s_pes                          s_prokalcitonin                s_prolaktin                    \n",
            "s_propeptid_prokolagenu_1      s_propeptid_prokolagenu_1[...] s_rBetv2_profil._s_rBet_v2     \n",
            "s_testosteron                  s_total_IgE_s_Total_IgE        s_total_IgE_s_Total_IgE        \n",
            "s_urea_Urea_urea_S_Urea_S-urea v_3-OH-butyrát                 x_Frakční_exkrece_vody_Fr[...] \n"
          ]
        }
      ]
    }
  ]
}