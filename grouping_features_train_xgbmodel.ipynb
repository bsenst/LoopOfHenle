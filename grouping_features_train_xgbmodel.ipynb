{
  "cells": [
    {
      "cell_type": "markdown",
      "metadata": {
        "id": "view-in-github",
        "colab_type": "text"
      },
      "source": [
        "<a href=\"https://colab.research.google.com/github/bsenst/LoopOfHenle/blob/main/grouping_features_train_xgbmodel.ipynb\" target=\"_parent\"><img src=\"https://colab.research.google.com/assets/colab-badge.svg\" alt=\"Open In Colab\"/></a>"
      ]
    },
    {
      "cell_type": "code",
      "execution_count": 1,
      "metadata": {
        "colab": {
          "base_uri": "https://localhost:8080/"
        },
        "id": "JSM1P7pDf4DP",
        "outputId": "4e50dfc0-f747-4ec3-97a7-ddfa9f781146"
      },
      "outputs": [
        {
          "output_type": "stream",
          "name": "stdout",
          "text": [
            "--2022-11-26 12:20:09--  https://owncloud.ikem.cz/index.php/s/mFPJKwbgsOOFBsW/download\n",
            "Resolving owncloud.ikem.cz (owncloud.ikem.cz)... 212.67.92.39\n",
            "Connecting to owncloud.ikem.cz (owncloud.ikem.cz)|212.67.92.39|:443... connected.\n",
            "HTTP request sent, awaiting response... 200 OK\n",
            "Length: 76420372 (73M) [application/x-7z-compressed]\n",
            "Saving to: ‘download’\n",
            "\n",
            "download            100%[===================>]  72.88M  11.1MB/s    in 7.4s    \n",
            "\n",
            "2022-11-26 12:20:18 (9.82 MB/s) - ‘download’ saved [76420372/76420372]\n",
            "\n",
            "\n",
            "7-Zip (a) [64] 16.02 : Copyright (c) 1999-2016 Igor Pavlov : 2016-05-21\n",
            "p7zip Version 16.02 (locale=en_US.UTF-8,Utf16=on,HugeFiles=on,64 bits,2 CPUs Intel(R) Xeon(R) CPU @ 2.20GHz (406F0),ASM,AES-NI)\n",
            "\n",
            "Scanning the drive for archives:\n",
            "  0M Scan\b\b\b\b\b\b\b\b\b         \b\b\b\b\b\b\b\b\b1 file, 76420372 bytes (73 MiB)\n",
            "\n",
            "Extracting archive: download\n",
            "--\n",
            "Path = download\n",
            "Type = 7z\n",
            "Physical Size = 76420372\n",
            "Headers Size = 221\n",
            "Method = LZMA2:24\n",
            "Solid = +\n",
            "Blocks = 1\n",
            "\n",
            "  0%\b\b\b\b    \b\b\b\b  0% - Dg from report.xlsx\b\b\b\b\b\b\b\b\b\b\b\b\b\b\b\b\b\b\b\b\b\b\b\b\b\b                          \b\b\b\b\b\b\b\b\b\b\b\b\b\b\b\b\b\b\b\b\b\b\b\b\b\b  1% 1 - LabsALL 2015-2022.csv\b\b\b\b\b\b\b\b\b\b\b\b\b\b\b\b\b\b\b\b\b\b\b\b\b\b\b\b\b\b                              \b\b\b\b\b\b\b\b\b\b\b\b\b\b\b\b\b\b\b\b\b\b\b\b\b\b\b\b\b\b  2% 1 - LabsALL 2015-2022.csv\b\b\b\b\b\b\b\b\b\b\b\b\b\b\b\b\b\b\b\b\b\b\b\b\b\b\b\b\b\b                              \b\b\b\b\b\b\b\b\b\b\b\b\b\b\b\b\b\b\b\b\b\b\b\b\b\b\b\b\b\b  4% 1 - LabsALL 2015-2022.csv\b\b\b\b\b\b\b\b\b\b\b\b\b\b\b\b\b\b\b\b\b\b\b\b\b\b\b\b\b\b                              \b\b\b\b\b\b\b\b\b\b\b\b\b\b\b\b\b\b\b\b\b\b\b\b\b\b\b\b\b\b  6% 1 - LabsALL 2015-2022.csv\b\b\b\b\b\b\b\b\b\b\b\b\b\b\b\b\b\b\b\b\b\b\b\b\b\b\b\b\b\b                              \b\b\b\b\b\b\b\b\b\b\b\b\b\b\b\b\b\b\b\b\b\b\b\b\b\b\b\b\b\b  7% 1 - LabsALL 2015-2022.csv\b\b\b\b\b\b\b\b\b\b\b\b\b\b\b\b\b\b\b\b\b\b\b\b\b\b\b\b\b\b                              \b\b\b\b\b\b\b\b\b\b\b\b\b\b\b\b\b\b\b\b\b\b\b\b\b\b\b\b\b\b  8% 1 - LabsALL 2015-2022.csv\b\b\b\b\b\b\b\b\b\b\b\b\b\b\b\b\b\b\b\b\b\b\b\b\b\b\b\b\b\b                              \b\b\b\b\b\b\b\b\b\b\b\b\b\b\b\b\b\b\b\b\b\b\b\b\b\b\b\b\b\b  9% 1 - LabsALL 2015-2022.csv\b\b\b\b\b\b\b\b\b\b\b\b\b\b\b\b\b\b\b\b\b\b\b\b\b\b\b\b\b\b                              \b\b\b\b\b\b\b\b\b\b\b\b\b\b\b\b\b\b\b\b\b\b\b\b\b\b\b\b\b\b 10% 1 - LabsALL 2015-2022.csv\b\b\b\b\b\b\b\b\b\b\b\b\b\b\b\b\b\b\b\b\b\b\b\b\b\b\b\b\b\b                              \b\b\b\b\b\b\b\b\b\b\b\b\b\b\b\b\b\b\b\b\b\b\b\b\b\b\b\b\b\b 11% 1 - LabsALL 2015-2022.csv\b\b\b\b\b\b\b\b\b\b\b\b\b\b\b\b\b\b\b\b\b\b\b\b\b\b\b\b\b\b                              \b\b\b\b\b\b\b\b\b\b\b\b\b\b\b\b\b\b\b\b\b\b\b\b\b\b\b\b\b\b 13% 1 - LabsALL 2015-2022.csv\b\b\b\b\b\b\b\b\b\b\b\b\b\b\b\b\b\b\b\b\b\b\b\b\b\b\b\b\b\b                              \b\b\b\b\b\b\b\b\b\b\b\b\b\b\b\b\b\b\b\b\b\b\b\b\b\b\b\b\b\b 14% 1 - LabsALL 2015-2022.csv\b\b\b\b\b\b\b\b\b\b\b\b\b\b\b\b\b\b\b\b\b\b\b\b\b\b\b\b\b\b                              \b\b\b\b\b\b\b\b\b\b\b\b\b\b\b\b\b\b\b\b\b\b\b\b\b\b\b\b\b\b 15% 1 - LabsALL 2015-2022.csv\b\b\b\b\b\b\b\b\b\b\b\b\b\b\b\b\b\b\b\b\b\b\b\b\b\b\b\b\b\b                              \b\b\b\b\b\b\b\b\b\b\b\b\b\b\b\b\b\b\b\b\b\b\b\b\b\b\b\b\b\b 17% 1 - LabsALL 2015-2022.csv\b\b\b\b\b\b\b\b\b\b\b\b\b\b\b\b\b\b\b\b\b\b\b\b\b\b\b\b\b\b                              \b\b\b\b\b\b\b\b\b\b\b\b\b\b\b\b\b\b\b\b\b\b\b\b\b\b\b\b\b\b 18% 1 - LabsALL 2015-2022.csv\b\b\b\b\b\b\b\b\b\b\b\b\b\b\b\b\b\b\b\b\b\b\b\b\b\b\b\b\b\b                              \b\b\b\b\b\b\b\b\b\b\b\b\b\b\b\b\b\b\b\b\b\b\b\b\b\b\b\b\b\b 21% 1 - LabsALL 2015-2022.csv\b\b\b\b\b\b\b\b\b\b\b\b\b\b\b\b\b\b\b\b\b\b\b\b\b\b\b\b\b\b                              \b\b\b\b\b\b\b\b\b\b\b\b\b\b\b\b\b\b\b\b\b\b\b\b\b\b\b\b\b\b 23% 1 - LabsALL 2015-2022.csv\b\b\b\b\b\b\b\b\b\b\b\b\b\b\b\b\b\b\b\b\b\b\b\b\b\b\b\b\b\b                              \b\b\b\b\b\b\b\b\b\b\b\b\b\b\b\b\b\b\b\b\b\b\b\b\b\b\b\b\b\b 25% 1 - LabsALL 2015-2022.csv\b\b\b\b\b\b\b\b\b\b\b\b\b\b\b\b\b\b\b\b\b\b\b\b\b\b\b\b\b\b                              \b\b\b\b\b\b\b\b\b\b\b\b\b\b\b\b\b\b\b\b\b\b\b\b\b\b\b\b\b\b 26% 1 - LabsALL 2015-2022.csv\b\b\b\b\b\b\b\b\b\b\b\b\b\b\b\b\b\b\b\b\b\b\b\b\b\b\b\b\b\b                              \b\b\b\b\b\b\b\b\b\b\b\b\b\b\b\b\b\b\b\b\b\b\b\b\b\b\b\b\b\b 27% 1 - LabsALL 2015-2022.csv\b\b\b\b\b\b\b\b\b\b\b\b\b\b\b\b\b\b\b\b\b\b\b\b\b\b\b\b\b\b                              \b\b\b\b\b\b\b\b\b\b\b\b\b\b\b\b\b\b\b\b\b\b\b\b\b\b\b\b\b\b 29% 1 - LabsALL 2015-2022.csv\b\b\b\b\b\b\b\b\b\b\b\b\b\b\b\b\b\b\b\b\b\b\b\b\b\b\b\b\b\b                              \b\b\b\b\b\b\b\b\b\b\b\b\b\b\b\b\b\b\b\b\b\b\b\b\b\b\b\b\b\b 30% 1 - LabsALL 2015-2022.csv\b\b\b\b\b\b\b\b\b\b\b\b\b\b\b\b\b\b\b\b\b\b\b\b\b\b\b\b\b\b                              \b\b\b\b\b\b\b\b\b\b\b\b\b\b\b\b\b\b\b\b\b\b\b\b\b\b\b\b\b\b 32% 1 - LabsALL 2015-2022.csv\b\b\b\b\b\b\b\b\b\b\b\b\b\b\b\b\b\b\b\b\b\b\b\b\b\b\b\b\b\b                              \b\b\b\b\b\b\b\b\b\b\b\b\b\b\b\b\b\b\b\b\b\b\b\b\b\b\b\b\b\b 33% 1 - LabsALL 2015-2022.csv\b\b\b\b\b\b\b\b\b\b\b\b\b\b\b\b\b\b\b\b\b\b\b\b\b\b\b\b\b\b                              \b\b\b\b\b\b\b\b\b\b\b\b\b\b\b\b\b\b\b\b\b\b\b\b\b\b\b\b\b\b 35% 1 - LabsALL 2015-2022.csv\b\b\b\b\b\b\b\b\b\b\b\b\b\b\b\b\b\b\b\b\b\b\b\b\b\b\b\b\b\b                              \b\b\b\b\b\b\b\b\b\b\b\b\b\b\b\b\b\b\b\b\b\b\b\b\b\b\b\b\b\b 37% 1 - LabsALL 2015-2022.csv\b\b\b\b\b\b\b\b\b\b\b\b\b\b\b\b\b\b\b\b\b\b\b\b\b\b\b\b\b\b                              \b\b\b\b\b\b\b\b\b\b\b\b\b\b\b\b\b\b\b\b\b\b\b\b\b\b\b\b\b\b 39% 1 - LabsALL 2015-2022.csv\b\b\b\b\b\b\b\b\b\b\b\b\b\b\b\b\b\b\b\b\b\b\b\b\b\b\b\b\b\b                              \b\b\b\b\b\b\b\b\b\b\b\b\b\b\b\b\b\b\b\b\b\b\b\b\b\b\b\b\b\b 41% 1 - LabsALL 2015-2022.csv\b\b\b\b\b\b\b\b\b\b\b\b\b\b\b\b\b\b\b\b\b\b\b\b\b\b\b\b\b\b                              \b\b\b\b\b\b\b\b\b\b\b\b\b\b\b\b\b\b\b\b\b\b\b\b\b\b\b\b\b\b 43% 1 - LabsALL 2015-2022.csv\b\b\b\b\b\b\b\b\b\b\b\b\b\b\b\b\b\b\b\b\b\b\b\b\b\b\b\b\b\b                              \b\b\b\b\b\b\b\b\b\b\b\b\b\b\b\b\b\b\b\b\b\b\b\b\b\b\b\b\b\b 45% 1 - LabsALL 2015-2022.csv\b\b\b\b\b\b\b\b\b\b\b\b\b\b\b\b\b\b\b\b\b\b\b\b\b\b\b\b\b\b                              \b\b\b\b\b\b\b\b\b\b\b\b\b\b\b\b\b\b\b\b\b\b\b\b\b\b\b\b\b\b 47% 1 - LabsALL 2015-2022.csv\b\b\b\b\b\b\b\b\b\b\b\b\b\b\b\b\b\b\b\b\b\b\b\b\b\b\b\b\b\b                              \b\b\b\b\b\b\b\b\b\b\b\b\b\b\b\b\b\b\b\b\b\b\b\b\b\b\b\b\b\b 48% 1 - LabsALL 2015-2022.csv\b\b\b\b\b\b\b\b\b\b\b\b\b\b\b\b\b\b\b\b\b\b\b\b\b\b\b\b\b\b                              \b\b\b\b\b\b\b\b\b\b\b\b\b\b\b\b\b\b\b\b\b\b\b\b\b\b\b\b\b\b 49% 1 - LabsALL 2015-2022.csv\b\b\b\b\b\b\b\b\b\b\b\b\b\b\b\b\b\b\b\b\b\b\b\b\b\b\b\b\b\b                              \b\b\b\b\b\b\b\b\b\b\b\b\b\b\b\b\b\b\b\b\b\b\b\b\b\b\b\b\b\b 50% 1 - LabsALL 2015-2022.csv\b\b\b\b\b\b\b\b\b\b\b\b\b\b\b\b\b\b\b\b\b\b\b\b\b\b\b\b\b\b                              \b\b\b\b\b\b\b\b\b\b\b\b\b\b\b\b\b\b\b\b\b\b\b\b\b\b\b\b\b\b 52% 1 - LabsALL 2015-2022.csv\b\b\b\b\b\b\b\b\b\b\b\b\b\b\b\b\b\b\b\b\b\b\b\b\b\b\b\b\b\b                              \b\b\b\b\b\b\b\b\b\b\b\b\b\b\b\b\b\b\b\b\b\b\b\b\b\b\b\b\b\b 53% 1 - LabsALL 2015-2022.csv\b\b\b\b\b\b\b\b\b\b\b\b\b\b\b\b\b\b\b\b\b\b\b\b\b\b\b\b\b\b                              \b\b\b\b\b\b\b\b\b\b\b\b\b\b\b\b\b\b\b\b\b\b\b\b\b\b\b\b\b\b 56% 1 - LabsALL 2015-2022.csv\b\b\b\b\b\b\b\b\b\b\b\b\b\b\b\b\b\b\b\b\b\b\b\b\b\b\b\b\b\b                              \b\b\b\b\b\b\b\b\b\b\b\b\b\b\b\b\b\b\b\b\b\b\b\b\b\b\b\b\b\b 57% 1 - LabsALL 2015-2022.csv\b\b\b\b\b\b\b\b\b\b\b\b\b\b\b\b\b\b\b\b\b\b\b\b\b\b\b\b\b\b                              \b\b\b\b\b\b\b\b\b\b\b\b\b\b\b\b\b\b\b\b\b\b\b\b\b\b\b\b\b\b 59% 1 - LabsALL 2015-2022.csv\b\b\b\b\b\b\b\b\b\b\b\b\b\b\b\b\b\b\b\b\b\b\b\b\b\b\b\b\b\b                              \b\b\b\b\b\b\b\b\b\b\b\b\b\b\b\b\b\b\b\b\b\b\b\b\b\b\b\b\b\b 60% 1 - LabsALL 2015-2022.csv\b\b\b\b\b\b\b\b\b\b\b\b\b\b\b\b\b\b\b\b\b\b\b\b\b\b\b\b\b\b                              \b\b\b\b\b\b\b\b\b\b\b\b\b\b\b\b\b\b\b\b\b\b\b\b\b\b\b\b\b\b 61% 1 - LabsALL 2015-2022.csv\b\b\b\b\b\b\b\b\b\b\b\b\b\b\b\b\b\b\b\b\b\b\b\b\b\b\b\b\b\b                              \b\b\b\b\b\b\b\b\b\b\b\b\b\b\b\b\b\b\b\b\b\b\b\b\b\b\b\b\b\b 63% 1 - LabsALL 2015-2022.csv\b\b\b\b\b\b\b\b\b\b\b\b\b\b\b\b\b\b\b\b\b\b\b\b\b\b\b\b\b\b                              \b\b\b\b\b\b\b\b\b\b\b\b\b\b\b\b\b\b\b\b\b\b\b\b\b\b\b\b\b\b 64% 1 - LabsALL 2015-2022.csv\b\b\b\b\b\b\b\b\b\b\b\b\b\b\b\b\b\b\b\b\b\b\b\b\b\b\b\b\b\b                              \b\b\b\b\b\b\b\b\b\b\b\b\b\b\b\b\b\b\b\b\b\b\b\b\b\b\b\b\b\b 65% 1 - LabsALL 2015-2022.csv\b\b\b\b\b\b\b\b\b\b\b\b\b\b\b\b\b\b\b\b\b\b\b\b\b\b\b\b\b\b                              \b\b\b\b\b\b\b\b\b\b\b\b\b\b\b\b\b\b\b\b\b\b\b\b\b\b\b\b\b\b 66% 1 - LabsALL 2015-2022.csv\b\b\b\b\b\b\b\b\b\b\b\b\b\b\b\b\b\b\b\b\b\b\b\b\b\b\b\b\b\b                              \b\b\b\b\b\b\b\b\b\b\b\b\b\b\b\b\b\b\b\b\b\b\b\b\b\b\b\b\b\b 68% 1 - LabsALL 2015-2022.csv\b\b\b\b\b\b\b\b\b\b\b\b\b\b\b\b\b\b\b\b\b\b\b\b\b\b\b\b\b\b                              \b\b\b\b\b\b\b\b\b\b\b\b\b\b\b\b\b\b\b\b\b\b\b\b\b\b\b\b\b\b 69% 1 - LabsALL 2015-2022.csv\b\b\b\b\b\b\b\b\b\b\b\b\b\b\b\b\b\b\b\b\b\b\b\b\b\b\b\b\b\b                              \b\b\b\b\b\b\b\b\b\b\b\b\b\b\b\b\b\b\b\b\b\b\b\b\b\b\b\b\b\b 71% 1 - LabsALL 2015-2022.csv\b\b\b\b\b\b\b\b\b\b\b\b\b\b\b\b\b\b\b\b\b\b\b\b\b\b\b\b\b\b                              \b\b\b\b\b\b\b\b\b\b\b\b\b\b\b\b\b\b\b\b\b\b\b\b\b\b\b\b\b\b 72% 1 - LabsALL 2015-2022.csv\b\b\b\b\b\b\b\b\b\b\b\b\b\b\b\b\b\b\b\b\b\b\b\b\b\b\b\b\b\b                              \b\b\b\b\b\b\b\b\b\b\b\b\b\b\b\b\b\b\b\b\b\b\b\b\b\b\b\b\b\b 74% 1 - LabsALL 2015-2022.csv\b\b\b\b\b\b\b\b\b\b\b\b\b\b\b\b\b\b\b\b\b\b\b\b\b\b\b\b\b\b                              \b\b\b\b\b\b\b\b\b\b\b\b\b\b\b\b\b\b\b\b\b\b\b\b\b\b\b\b\b\b 76% 1 - LabsALL 2015-2022.csv\b\b\b\b\b\b\b\b\b\b\b\b\b\b\b\b\b\b\b\b\b\b\b\b\b\b\b\b\b\b                              \b\b\b\b\b\b\b\b\b\b\b\b\b\b\b\b\b\b\b\b\b\b\b\b\b\b\b\b\b\b 78% 1 - LabsALL 2015-2022.csv\b\b\b\b\b\b\b\b\b\b\b\b\b\b\b\b\b\b\b\b\b\b\b\b\b\b\b\b\b\b                              \b\b\b\b\b\b\b\b\b\b\b\b\b\b\b\b\b\b\b\b\b\b\b\b\b\b\b\b\b\b 80% 1 - LabsALL 2015-2022.csv\b\b\b\b\b\b\b\b\b\b\b\b\b\b\b\b\b\b\b\b\b\b\b\b\b\b\b\b\b\b                              \b\b\b\b\b\b\b\b\b\b\b\b\b\b\b\b\b\b\b\b\b\b\b\b\b\b\b\b\b\b 82% 1 - LabsALL 2015-2022.csv\b\b\b\b\b\b\b\b\b\b\b\b\b\b\b\b\b\b\b\b\b\b\b\b\b\b\b\b\b\b                              \b\b\b\b\b\b\b\b\b\b\b\b\b\b\b\b\b\b\b\b\b\b\b\b\b\b\b\b\b\b 84% 1 - LabsALL 2015-2022.csv\b\b\b\b\b\b\b\b\b\b\b\b\b\b\b\b\b\b\b\b\b\b\b\b\b\b\b\b\b\b                              \b\b\b\b\b\b\b\b\b\b\b\b\b\b\b\b\b\b\b\b\b\b\b\b\b\b\b\b\b\b 86% 1 - LabsALL 2015-2022.csv\b\b\b\b\b\b\b\b\b\b\b\b\b\b\b\b\b\b\b\b\b\b\b\b\b\b\b\b\b\b                              \b\b\b\b\b\b\b\b\b\b\b\b\b\b\b\b\b\b\b\b\b\b\b\b\b\b\b\b\b\b 87% 1 - LabsALL 2015-2022.csv\b\b\b\b\b\b\b\b\b\b\b\b\b\b\b\b\b\b\b\b\b\b\b\b\b\b\b\b\b\b                              \b\b\b\b\b\b\b\b\b\b\b\b\b\b\b\b\b\b\b\b\b\b\b\b\b\b\b\b\b\b 88% 1 - LabsALL 2015-2022.csv\b\b\b\b\b\b\b\b\b\b\b\b\b\b\b\b\b\b\b\b\b\b\b\b\b\b\b\b\b\b                              \b\b\b\b\b\b\b\b\b\b\b\b\b\b\b\b\b\b\b\b\b\b\b\b\b\b\b\b\b\b 90% 1 - LabsALL 2015-2022.csv\b\b\b\b\b\b\b\b\b\b\b\b\b\b\b\b\b\b\b\b\b\b\b\b\b\b\b\b\b\b                              \b\b\b\b\b\b\b\b\b\b\b\b\b\b\b\b\b\b\b\b\b\b\b\b\b\b\b\b\b\b 92% 1 - LabsALL 2015-2022.csv\b\b\b\b\b\b\b\b\b\b\b\b\b\b\b\b\b\b\b\b\b\b\b\b\b\b\b\b\b\b                              \b\b\b\b\b\b\b\b\b\b\b\b\b\b\b\b\b\b\b\b\b\b\b\b\b\b\b\b\b\b 93% 1 - LabsALL 2015-2022.csv\b\b\b\b\b\b\b\b\b\b\b\b\b\b\b\b\b\b\b\b\b\b\b\b\b\b\b\b\b\b                              \b\b\b\b\b\b\b\b\b\b\b\b\b\b\b\b\b\b\b\b\b\b\b\b\b\b\b\b\b\b 95% 1 - LabsALL 2015-2022.csv\b\b\b\b\b\b\b\b\b\b\b\b\b\b\b\b\b\b\b\b\b\b\b\b\b\b\b\b\b\b                              \b\b\b\b\b\b\b\b\b\b\b\b\b\b\b\b\b\b\b\b\b\b\b\b\b\b\b\b\b\b 97% 1 - LabsALL 2015-2022.csv\b\b\b\b\b\b\b\b\b\b\b\b\b\b\b\b\b\b\b\b\b\b\b\b\b\b\b\b\b\b                              \b\b\b\b\b\b\b\b\b\b\b\b\b\b\b\b\b\b\b\b\b\b\b\b\b\b\b\b\b\b100% 2\b\b\b\b\b\b      \b\b\b\b\b\bEverything is Ok\n",
            "\n",
            "Files: 2\n",
            "Size:       839390228\n",
            "Compressed: 76420372\n"
          ]
        }
      ],
      "source": [
        "!wget https://owncloud.ikem.cz/index.php/s/mFPJKwbgsOOFBsW/download\n",
        "!7za x download"
      ]
    },
    {
      "cell_type": "code",
      "execution_count": 2,
      "metadata": {
        "id": "Ut5hsgaaf9u0"
      },
      "outputs": [],
      "source": [
        "import pandas as pd\n",
        "import numpy as np"
      ]
    },
    {
      "cell_type": "code",
      "source": [
        "df = pd.read_csv(\"LabsALL 2015-2022.csv\", sep=\";\")"
      ],
      "metadata": {
        "colab": {
          "base_uri": "https://localhost:8080/"
        },
        "id": "FiMSNvbwAUit",
        "outputId": "d063e97a-a061-4395-9d13-b9cce7ebfacc"
      },
      "execution_count": 3,
      "outputs": [
        {
          "output_type": "stream",
          "name": "stderr",
          "text": [
            "/usr/local/lib/python3.7/dist-packages/IPython/core/interactiveshell.py:3326: DtypeWarning: Columns (10,11) have mixed types.Specify dtype option on import or set low_memory=False.\n",
            "  exec(code_obj, self.user_global_ns, self.user_ns)\n"
          ]
        }
      ]
    },
    {
      "cell_type": "code",
      "source": [
        "def format_date(row):\n",
        "    day, month, year = row.split(\".\")\n",
        "    return f\"{year}-{month}-{day}\"\n",
        "df.EntryDate = pd.to_datetime(df.EntryDate.apply(format_date))\n",
        "df[\"pr_id\"]= df.Patient.astype(str) + \"_\"+df.Report.astype(str)"
      ],
      "metadata": {
        "id": "H4fyO4p6AYk0"
      },
      "execution_count": 4,
      "outputs": []
    },
    {
      "cell_type": "code",
      "source": [
        "df = df[~df.ValueNumber.isna()]"
      ],
      "metadata": {
        "id": "EOcoHQbvezy1"
      },
      "execution_count": 5,
      "outputs": []
    },
    {
      "cell_type": "code",
      "source": [
        "df"
      ],
      "metadata": {
        "colab": {
          "base_uri": "https://localhost:8080/",
          "height": 661
        },
        "id": "5oDVWp1ATNrJ",
        "outputId": "4cf977e4-43fa-4a5f-83b8-273b0a6d87ca"
      },
      "execution_count": 6,
      "outputs": [
        {
          "output_type": "execute_result",
          "data": {
            "text/plain": [
              "         Patient    Report         ID  EntryDate           EntryTime Code  \\\n",
              "2         324729   1453155   18244355 2015-04-16  30.12.1899 7:31:00  NaN   \n",
              "3         324729   1453155   18244356 2015-04-16  30.12.1899 7:31:00  NaN   \n",
              "4         324729   1453155   18244357 2015-04-16  30.12.1899 7:31:00  NaN   \n",
              "5         324729   1453155   18244358 2015-04-16  30.12.1899 7:31:00  NaN   \n",
              "6         324729   1453155   18244359 2015-04-16  30.12.1899 7:31:00  NaN   \n",
              "...          ...       ...        ...        ...                 ...  ...   \n",
              "8679291   335472  26490462  140942845 2022-05-13  30.12.1899 6:47:00  NaN   \n",
              "8679293   335472  26490462  140942847 2022-05-13  30.12.1899 6:47:00  NaN   \n",
              "8679295   335472  26490462  140942849 2022-05-13  30.12.1899 6:47:00  NaN   \n",
              "8679296   335472  26490462  140942850 2022-05-13  30.12.1899 6:47:00  NaN   \n",
              "8679297   335472  27409261  158447953 2022-09-29  30.12.1899 6:44:00  NaN   \n",
              "\n",
              "            NCLP                Analyte ValueNumber ValueText RefHigh RefLow  \\\n",
              "2         3482.0         s_vápník celk.        2.37       NaN    2.55   2.15   \n",
              "3         2618.0               s_fosfor        1.32       NaN    1.23   0.71   \n",
              "4         3940.0               s_hořčík        0.75       NaN    0.94   0.71   \n",
              "5         8574.0            s_kreatinin       138.9       NaN   104.0   64.0   \n",
              "6         1896.0        p_glukóza (NaF)       10.36       NaN    5.59   3.60   \n",
              "...          ...                    ...         ...       ...     ...    ...   \n",
              "8679291  14011.0     U_epitelie dlaž.UF           1       NaN    20.0      0   \n",
              "8679293   3386.0  U_shluky leukocytů UF           0       NaN     NaN    NaN   \n",
              "8679295   9322.0         U_leukocyty UF           5       NaN    10.0      0   \n",
              "8679296   3078.0           s_kys.močová         327       NaN   420.0    210   \n",
              "8679297  15194.0                B_HbA1c          53       NaN    42.0   20.0   \n",
              "\n",
              "             Unit            pr_id  \n",
              "2          mmol/l   324729_1453155  \n",
              "3          mmol/l   324729_1453155  \n",
              "4          mmol/l   324729_1453155  \n",
              "5          umol/l   324729_1453155  \n",
              "6          mmol/l   324729_1453155  \n",
              "...           ...              ...  \n",
              "8679291       /µL  335472_26490462  \n",
              "8679293    arb.j.  335472_26490462  \n",
              "8679295       /µL  335472_26490462  \n",
              "8679296    µmol/l  335472_26490462  \n",
              "8679297  mmol/mol  335472_27409261  \n",
              "\n",
              "[7340417 rows x 14 columns]"
            ],
            "text/html": [
              "\n",
              "  <div id=\"df-c0dae83c-7222-4020-a4fa-e1c1f6ad0d52\">\n",
              "    <div class=\"colab-df-container\">\n",
              "      <div>\n",
              "<style scoped>\n",
              "    .dataframe tbody tr th:only-of-type {\n",
              "        vertical-align: middle;\n",
              "    }\n",
              "\n",
              "    .dataframe tbody tr th {\n",
              "        vertical-align: top;\n",
              "    }\n",
              "\n",
              "    .dataframe thead th {\n",
              "        text-align: right;\n",
              "    }\n",
              "</style>\n",
              "<table border=\"1\" class=\"dataframe\">\n",
              "  <thead>\n",
              "    <tr style=\"text-align: right;\">\n",
              "      <th></th>\n",
              "      <th>Patient</th>\n",
              "      <th>Report</th>\n",
              "      <th>ID</th>\n",
              "      <th>EntryDate</th>\n",
              "      <th>EntryTime</th>\n",
              "      <th>Code</th>\n",
              "      <th>NCLP</th>\n",
              "      <th>Analyte</th>\n",
              "      <th>ValueNumber</th>\n",
              "      <th>ValueText</th>\n",
              "      <th>RefHigh</th>\n",
              "      <th>RefLow</th>\n",
              "      <th>Unit</th>\n",
              "      <th>pr_id</th>\n",
              "    </tr>\n",
              "  </thead>\n",
              "  <tbody>\n",
              "    <tr>\n",
              "      <th>2</th>\n",
              "      <td>324729</td>\n",
              "      <td>1453155</td>\n",
              "      <td>18244355</td>\n",
              "      <td>2015-04-16</td>\n",
              "      <td>30.12.1899 7:31:00</td>\n",
              "      <td>NaN</td>\n",
              "      <td>3482.0</td>\n",
              "      <td>s_vápník celk.</td>\n",
              "      <td>2.37</td>\n",
              "      <td>NaN</td>\n",
              "      <td>2.55</td>\n",
              "      <td>2.15</td>\n",
              "      <td>mmol/l</td>\n",
              "      <td>324729_1453155</td>\n",
              "    </tr>\n",
              "    <tr>\n",
              "      <th>3</th>\n",
              "      <td>324729</td>\n",
              "      <td>1453155</td>\n",
              "      <td>18244356</td>\n",
              "      <td>2015-04-16</td>\n",
              "      <td>30.12.1899 7:31:00</td>\n",
              "      <td>NaN</td>\n",
              "      <td>2618.0</td>\n",
              "      <td>s_fosfor</td>\n",
              "      <td>1.32</td>\n",
              "      <td>NaN</td>\n",
              "      <td>1.23</td>\n",
              "      <td>0.71</td>\n",
              "      <td>mmol/l</td>\n",
              "      <td>324729_1453155</td>\n",
              "    </tr>\n",
              "    <tr>\n",
              "      <th>4</th>\n",
              "      <td>324729</td>\n",
              "      <td>1453155</td>\n",
              "      <td>18244357</td>\n",
              "      <td>2015-04-16</td>\n",
              "      <td>30.12.1899 7:31:00</td>\n",
              "      <td>NaN</td>\n",
              "      <td>3940.0</td>\n",
              "      <td>s_hořčík</td>\n",
              "      <td>0.75</td>\n",
              "      <td>NaN</td>\n",
              "      <td>0.94</td>\n",
              "      <td>0.71</td>\n",
              "      <td>mmol/l</td>\n",
              "      <td>324729_1453155</td>\n",
              "    </tr>\n",
              "    <tr>\n",
              "      <th>5</th>\n",
              "      <td>324729</td>\n",
              "      <td>1453155</td>\n",
              "      <td>18244358</td>\n",
              "      <td>2015-04-16</td>\n",
              "      <td>30.12.1899 7:31:00</td>\n",
              "      <td>NaN</td>\n",
              "      <td>8574.0</td>\n",
              "      <td>s_kreatinin</td>\n",
              "      <td>138.9</td>\n",
              "      <td>NaN</td>\n",
              "      <td>104.0</td>\n",
              "      <td>64.0</td>\n",
              "      <td>umol/l</td>\n",
              "      <td>324729_1453155</td>\n",
              "    </tr>\n",
              "    <tr>\n",
              "      <th>6</th>\n",
              "      <td>324729</td>\n",
              "      <td>1453155</td>\n",
              "      <td>18244359</td>\n",
              "      <td>2015-04-16</td>\n",
              "      <td>30.12.1899 7:31:00</td>\n",
              "      <td>NaN</td>\n",
              "      <td>1896.0</td>\n",
              "      <td>p_glukóza (NaF)</td>\n",
              "      <td>10.36</td>\n",
              "      <td>NaN</td>\n",
              "      <td>5.59</td>\n",
              "      <td>3.60</td>\n",
              "      <td>mmol/l</td>\n",
              "      <td>324729_1453155</td>\n",
              "    </tr>\n",
              "    <tr>\n",
              "      <th>...</th>\n",
              "      <td>...</td>\n",
              "      <td>...</td>\n",
              "      <td>...</td>\n",
              "      <td>...</td>\n",
              "      <td>...</td>\n",
              "      <td>...</td>\n",
              "      <td>...</td>\n",
              "      <td>...</td>\n",
              "      <td>...</td>\n",
              "      <td>...</td>\n",
              "      <td>...</td>\n",
              "      <td>...</td>\n",
              "      <td>...</td>\n",
              "      <td>...</td>\n",
              "    </tr>\n",
              "    <tr>\n",
              "      <th>8679291</th>\n",
              "      <td>335472</td>\n",
              "      <td>26490462</td>\n",
              "      <td>140942845</td>\n",
              "      <td>2022-05-13</td>\n",
              "      <td>30.12.1899 6:47:00</td>\n",
              "      <td>NaN</td>\n",
              "      <td>14011.0</td>\n",
              "      <td>U_epitelie dlaž.UF</td>\n",
              "      <td>1</td>\n",
              "      <td>NaN</td>\n",
              "      <td>20.0</td>\n",
              "      <td>0</td>\n",
              "      <td>/µL</td>\n",
              "      <td>335472_26490462</td>\n",
              "    </tr>\n",
              "    <tr>\n",
              "      <th>8679293</th>\n",
              "      <td>335472</td>\n",
              "      <td>26490462</td>\n",
              "      <td>140942847</td>\n",
              "      <td>2022-05-13</td>\n",
              "      <td>30.12.1899 6:47:00</td>\n",
              "      <td>NaN</td>\n",
              "      <td>3386.0</td>\n",
              "      <td>U_shluky leukocytů UF</td>\n",
              "      <td>0</td>\n",
              "      <td>NaN</td>\n",
              "      <td>NaN</td>\n",
              "      <td>NaN</td>\n",
              "      <td>arb.j.</td>\n",
              "      <td>335472_26490462</td>\n",
              "    </tr>\n",
              "    <tr>\n",
              "      <th>8679295</th>\n",
              "      <td>335472</td>\n",
              "      <td>26490462</td>\n",
              "      <td>140942849</td>\n",
              "      <td>2022-05-13</td>\n",
              "      <td>30.12.1899 6:47:00</td>\n",
              "      <td>NaN</td>\n",
              "      <td>9322.0</td>\n",
              "      <td>U_leukocyty UF</td>\n",
              "      <td>5</td>\n",
              "      <td>NaN</td>\n",
              "      <td>10.0</td>\n",
              "      <td>0</td>\n",
              "      <td>/µL</td>\n",
              "      <td>335472_26490462</td>\n",
              "    </tr>\n",
              "    <tr>\n",
              "      <th>8679296</th>\n",
              "      <td>335472</td>\n",
              "      <td>26490462</td>\n",
              "      <td>140942850</td>\n",
              "      <td>2022-05-13</td>\n",
              "      <td>30.12.1899 6:47:00</td>\n",
              "      <td>NaN</td>\n",
              "      <td>3078.0</td>\n",
              "      <td>s_kys.močová</td>\n",
              "      <td>327</td>\n",
              "      <td>NaN</td>\n",
              "      <td>420.0</td>\n",
              "      <td>210</td>\n",
              "      <td>µmol/l</td>\n",
              "      <td>335472_26490462</td>\n",
              "    </tr>\n",
              "    <tr>\n",
              "      <th>8679297</th>\n",
              "      <td>335472</td>\n",
              "      <td>27409261</td>\n",
              "      <td>158447953</td>\n",
              "      <td>2022-09-29</td>\n",
              "      <td>30.12.1899 6:44:00</td>\n",
              "      <td>NaN</td>\n",
              "      <td>15194.0</td>\n",
              "      <td>B_HbA1c</td>\n",
              "      <td>53</td>\n",
              "      <td>NaN</td>\n",
              "      <td>42.0</td>\n",
              "      <td>20.0</td>\n",
              "      <td>mmol/mol</td>\n",
              "      <td>335472_27409261</td>\n",
              "    </tr>\n",
              "  </tbody>\n",
              "</table>\n",
              "<p>7340417 rows × 14 columns</p>\n",
              "</div>\n",
              "      <button class=\"colab-df-convert\" onclick=\"convertToInteractive('df-c0dae83c-7222-4020-a4fa-e1c1f6ad0d52')\"\n",
              "              title=\"Convert this dataframe to an interactive table.\"\n",
              "              style=\"display:none;\">\n",
              "        \n",
              "  <svg xmlns=\"http://www.w3.org/2000/svg\" height=\"24px\"viewBox=\"0 0 24 24\"\n",
              "       width=\"24px\">\n",
              "    <path d=\"M0 0h24v24H0V0z\" fill=\"none\"/>\n",
              "    <path d=\"M18.56 5.44l.94 2.06.94-2.06 2.06-.94-2.06-.94-.94-2.06-.94 2.06-2.06.94zm-11 1L8.5 8.5l.94-2.06 2.06-.94-2.06-.94L8.5 2.5l-.94 2.06-2.06.94zm10 10l.94 2.06.94-2.06 2.06-.94-2.06-.94-.94-2.06-.94 2.06-2.06.94z\"/><path d=\"M17.41 7.96l-1.37-1.37c-.4-.4-.92-.59-1.43-.59-.52 0-1.04.2-1.43.59L10.3 9.45l-7.72 7.72c-.78.78-.78 2.05 0 2.83L4 21.41c.39.39.9.59 1.41.59.51 0 1.02-.2 1.41-.59l7.78-7.78 2.81-2.81c.8-.78.8-2.07 0-2.86zM5.41 20L4 18.59l7.72-7.72 1.47 1.35L5.41 20z\"/>\n",
              "  </svg>\n",
              "      </button>\n",
              "      \n",
              "  <style>\n",
              "    .colab-df-container {\n",
              "      display:flex;\n",
              "      flex-wrap:wrap;\n",
              "      gap: 12px;\n",
              "    }\n",
              "\n",
              "    .colab-df-convert {\n",
              "      background-color: #E8F0FE;\n",
              "      border: none;\n",
              "      border-radius: 50%;\n",
              "      cursor: pointer;\n",
              "      display: none;\n",
              "      fill: #1967D2;\n",
              "      height: 32px;\n",
              "      padding: 0 0 0 0;\n",
              "      width: 32px;\n",
              "    }\n",
              "\n",
              "    .colab-df-convert:hover {\n",
              "      background-color: #E2EBFA;\n",
              "      box-shadow: 0px 1px 2px rgba(60, 64, 67, 0.3), 0px 1px 3px 1px rgba(60, 64, 67, 0.15);\n",
              "      fill: #174EA6;\n",
              "    }\n",
              "\n",
              "    [theme=dark] .colab-df-convert {\n",
              "      background-color: #3B4455;\n",
              "      fill: #D2E3FC;\n",
              "    }\n",
              "\n",
              "    [theme=dark] .colab-df-convert:hover {\n",
              "      background-color: #434B5C;\n",
              "      box-shadow: 0px 1px 3px 1px rgba(0, 0, 0, 0.15);\n",
              "      filter: drop-shadow(0px 1px 2px rgba(0, 0, 0, 0.3));\n",
              "      fill: #FFFFFF;\n",
              "    }\n",
              "  </style>\n",
              "\n",
              "      <script>\n",
              "        const buttonEl =\n",
              "          document.querySelector('#df-c0dae83c-7222-4020-a4fa-e1c1f6ad0d52 button.colab-df-convert');\n",
              "        buttonEl.style.display =\n",
              "          google.colab.kernel.accessAllowed ? 'block' : 'none';\n",
              "\n",
              "        async function convertToInteractive(key) {\n",
              "          const element = document.querySelector('#df-c0dae83c-7222-4020-a4fa-e1c1f6ad0d52');\n",
              "          const dataTable =\n",
              "            await google.colab.kernel.invokeFunction('convertToInteractive',\n",
              "                                                     [key], {});\n",
              "          if (!dataTable) return;\n",
              "\n",
              "          const docLinkHtml = 'Like what you see? Visit the ' +\n",
              "            '<a target=\"_blank\" href=https://colab.research.google.com/notebooks/data_table.ipynb>data table notebook</a>'\n",
              "            + ' to learn more about interactive tables.';\n",
              "          element.innerHTML = '';\n",
              "          dataTable['output_type'] = 'display_data';\n",
              "          await google.colab.output.renderOutput(dataTable, element);\n",
              "          const docLink = document.createElement('div');\n",
              "          docLink.innerHTML = docLinkHtml;\n",
              "          element.appendChild(docLink);\n",
              "        }\n",
              "      </script>\n",
              "    </div>\n",
              "  </div>\n",
              "  "
            ]
          },
          "metadata": {},
          "execution_count": 6
        }
      ]
    },
    {
      "cell_type": "code",
      "source": [
        "nclp_analytes = df[[\"NCLP\",\"Analyte\"]].groupby(\"NCLP\").Analyte.unique().explode().drop_duplicates().reset_index().values"
      ],
      "metadata": {
        "id": "NTnyYiqVel_m"
      },
      "execution_count": 7,
      "outputs": []
    },
    {
      "cell_type": "code",
      "source": [
        "analytes_nclp_mapping = dict(zip(nclp_analytes[:,1], nclp_analytes[:,0]))\n",
        "nclp_analytes_mapping = dict(zip(nclp_analytes[:,0], nclp_analytes[:,1]))"
      ],
      "metadata": {
        "id": "Z5By3uM33Z2M"
      },
      "execution_count": 8,
      "outputs": []
    },
    {
      "cell_type": "code",
      "source": [
        "df_nan_nclp = df[df.NCLP.isna()].copy()"
      ],
      "metadata": {
        "id": "VKd3sJSWUALL"
      },
      "execution_count": 9,
      "outputs": []
    },
    {
      "cell_type": "code",
      "source": [
        "df_nan_nclp.NCLP = df_nan_nclp.Analyte.apply(lambda x: analytes_nclp_mapping[x] if x in analytes_nclp_mapping else -999)"
      ],
      "metadata": {
        "id": "C_V2FRaXULVf"
      },
      "execution_count": 10,
      "outputs": []
    },
    {
      "cell_type": "code",
      "source": [
        "df_new = pd.concat([df[~df.NCLP.isna()],df_nan_nclp[~(df_nan_nclp.NCLP == -999)]])"
      ],
      "metadata": {
        "id": "Qq-wXPN_UgFP"
      },
      "execution_count": 11,
      "outputs": []
    },
    {
      "cell_type": "code",
      "source": [
        "#units = df[[\"NCLP\",\"Unit\"]].groupby(\"NCLP\").Unit.unique()\n",
        "#units[units.apply(lambda x: len(x) > 1)].tail(60)"
      ],
      "metadata": {
        "id": "er4QOEyAUphl"
      },
      "execution_count": 12,
      "outputs": []
    },
    {
      "cell_type": "code",
      "source": [
        "\n",
        "df_new.to_csv(\"cleaned_labs.csv.gzip\", index=False, compression=\"gzip\")"
      ],
      "metadata": {
        "id": "yMy9G-TNU73D"
      },
      "execution_count": 13,
      "outputs": []
    },
    {
      "cell_type": "code",
      "source": [
        "used_columns = ['Patient', 'Report','EntryDate', 'NCLP',\n",
        "       'Analyte', 'ValueNumber', 'Unit',\n",
        "       'pr_id']\n",
        "df_new = df_new[used_columns]"
      ],
      "metadata": {
        "id": "xWgfDzo2Wgqi"
      },
      "execution_count": 14,
      "outputs": []
    },
    {
      "cell_type": "markdown",
      "source": [
        "# Download dgs"
      ],
      "metadata": {
        "id": "WddUGCQxX3J3"
      }
    },
    {
      "cell_type": "code",
      "source": [
        "dgs = pd.read_excel(\"Dg from report.xlsx\")\n",
        "dgs[\"EntryDate\"] = dgs.Date\n",
        "dgs[\"parsed_dgs\"] = dgs.mainDgCode.apply(lambda x: x.split(\":\")[0] if str(x).find(\":\")>0 else None)"
      ],
      "metadata": {
        "id": "nXyLP0q3XiIQ"
      },
      "execution_count": 15,
      "outputs": []
    },
    {
      "cell_type": "code",
      "source": [
        "n18_patients = dgs[dgs.parsed_dgs.apply(lambda x: x[:3]==\"N18\" if x else None).fillna(False)].Patient.unique()\n",
        "dgs = dgs[dgs.Patient.isin(n18_patients)]\n",
        "labs_n18 = df[df.Patient.isin(dgs.Patient.unique())]"
      ],
      "metadata": {
        "id": "3a4vWhaoXzjS"
      },
      "execution_count": 16,
      "outputs": []
    },
    {
      "cell_type": "markdown",
      "source": [
        "# look at CKD time series"
      ],
      "metadata": {
        "id": "sFxdBE8gXz25"
      }
    },
    {
      "cell_type": "code",
      "source": [
        "df_ckd = df_new[df_new.Patient.isin(labs_n18.Patient.unique())].copy()"
      ],
      "metadata": {
        "id": "iuxpI8R1YJRL"
      },
      "execution_count": 17,
      "outputs": []
    },
    {
      "cell_type": "code",
      "source": [
        "ckd_data =df_ckd.pivot_table(index=\"pr_id\",columns=\"NCLP\", values=\"ValueNumber\", aggfunc=\"first\")\n",
        "ckd_data = ckd_data.merge(df_ckd[[\"pr_id\",\"EntryDate\"]].drop_duplicates(), on=\"pr_id\")\n",
        "\n",
        "ckd_data[\"p_id\"] = ckd_data.pr_id.apply(lambda x: int(x.split(\"_\")[0]))\n",
        "for col in ckd_data.columns[1:-2]:\n",
        "    ckd_data[col] = ckd_data[col].apply(lambda x: pd.to_numeric(x, errors='coerce'))\n",
        "\n",
        "ckd_data_grouped = ckd_data.groupby([\"p_id\",pd.Grouper(key=\"EntryDate\",freq=\"1M\")]).mean()"
      ],
      "metadata": {
        "id": "SyLNUdczaRU9"
      },
      "execution_count": 18,
      "outputs": []
    },
    {
      "cell_type": "markdown",
      "source": [],
      "metadata": {
        "id": "L7IMsoqziiZr"
      }
    },
    {
      "cell_type": "code",
      "source": [
        "nclp_nan_ratio = ckd_data_grouped.isna().mean().sort_values()"
      ],
      "metadata": {
        "id": "aUK-12XhcUr9"
      },
      "execution_count": 19,
      "outputs": []
    },
    {
      "cell_type": "code",
      "source": [
        "feature_columns = nclp_nan_ratio[nclp_nan_ratio <=0.5].index"
      ],
      "metadata": {
        "id": "r3m4Gh6ibNkg"
      },
      "execution_count": 20,
      "outputs": []
    },
    {
      "cell_type": "code",
      "source": [
        "ckd_data_grouped[feature_columns].to_csv(\"ckd_grouped.csv.gzip\", index=True, compression=\"gzip\")"
      ],
      "metadata": {
        "id": "xrrlpkRvesA2"
      },
      "execution_count": 21,
      "outputs": []
    },
    {
      "cell_type": "code",
      "source": [
        "ckd_data_grouped[feature_columns]"
      ],
      "metadata": {
        "colab": {
          "base_uri": "https://localhost:8080/",
          "height": 693
        },
        "id": "tRrAmUKBe4T0",
        "outputId": "0fac58f0-188a-4852-961d-1f6f28261968"
      },
      "execution_count": 22,
      "outputs": [
        {
          "output_type": "execute_result",
          "data": {
            "text/plain": [
              "                    8574.0   3086.0   5254.0   2688.0   4769.0   13808.0  \\\n",
              "p_id    EntryDate                                                          \n",
              "10304   2015-02-28    113.3      8.1     3.94    256.0     15.0      5.6   \n",
              "        2015-05-31    112.0      7.9     4.25    223.0     14.2      5.6   \n",
              "        2015-06-30      NaN      NaN      NaN    251.0     14.1      5.1   \n",
              "        2015-11-30    115.7      8.9     3.76    235.0     14.2      5.5   \n",
              "        2016-03-31      NaN      NaN      NaN    246.0     14.9      4.5   \n",
              "...                     ...      ...      ...      ...      ...      ...   \n",
              "1254969 2021-11-30     83.4      5.4     4.30    332.0     12.8      8.9   \n",
              "        2021-12-31     80.4      5.4     4.17    293.0     12.2      6.1   \n",
              "        2022-06-30     86.4      7.3     4.24    319.0     12.6     11.5   \n",
              "        2022-08-31     89.1      7.2      NaN    243.0     12.5      5.7   \n",
              "        2022-11-30     81.4      6.5     4.85    297.0     12.4     13.4   \n",
              "\n",
              "                    1675.0   2419.0   2099.0   1991.0   ...  12369.0  12365.0  \\\n",
              "p_id    EntryDate                                       ...                     \n",
              "10304   2015-02-28     4.31     84.5   0.3640    120.0  ...     3.59     1.36   \n",
              "        2015-05-31     4.21     86.0   0.3620    120.0  ...     3.66     1.29   \n",
              "        2015-06-30     4.48     83.7   0.3750    128.0  ...     3.15     1.29   \n",
              "        2015-11-30     4.22     83.0   0.3505    119.5  ...     3.68     1.15   \n",
              "        2016-03-31     4.18     83.7   0.3500    117.0  ...     2.83     1.12   \n",
              "...                     ...      ...      ...      ...  ...      ...      ...   \n",
              "1254969 2021-11-30     4.36     89.9   0.3920    129.0  ...     5.58     2.33   \n",
              "        2021-12-31     4.11     89.3   0.3670    120.0  ...     3.76     1.53   \n",
              "        2022-06-30     4.05     89.6   0.3630    123.0  ...    10.74     0.61   \n",
              "        2022-08-31     4.05     89.9   0.3640    123.0  ...     3.36     1.71   \n",
              "        2022-11-30     4.08     91.7   0.3740    125.0  ...    12.56     0.64   \n",
              "\n",
              "                    18029.0  18027.0  12449.0  12460.0  12483.0  12478.0  \\\n",
              "p_id    EntryDate                                                          \n",
              "10304   2015-02-28      0.4     0.02      0.5      2.8     64.0      8.5   \n",
              "        2015-05-31      0.5     0.03      0.5      3.7     64.9      8.0   \n",
              "        2015-06-30      0.4     0.02      0.6      3.9     61.9      8.3   \n",
              "        2015-11-30      0.2     0.01      0.5      3.7     65.1     10.3   \n",
              "        2016-03-31      0.0     0.00      0.4      4.4     62.7      7.7   \n",
              "...                     ...      ...      ...      ...      ...      ...   \n",
              "1254969 2021-11-30      0.3     0.03      0.7      2.8     62.9      7.3   \n",
              "        2021-12-31      0.2     0.01      1.2      4.4     61.8      7.4   \n",
              "        2022-06-30      0.4     0.05      0.2      0.0     93.7      0.8   \n",
              "        2022-08-31      0.2     0.01      0.5      2.1     59.5      7.6   \n",
              "        2022-11-30      0.4     0.05      0.2      0.0     94.0      1.0   \n",
              "\n",
              "                    12471.0  543.0    \n",
              "p_id    EntryDate                     \n",
              "10304   2015-02-28     24.2     2.19  \n",
              "        2015-05-31     22.9     1.96  \n",
              "        2015-06-30     25.3      NaN  \n",
              "        2015-11-30     20.4     2.22  \n",
              "        2016-03-31     24.8      NaN  \n",
              "...                     ...      ...  \n",
              "1254969 2021-11-30     26.3     1.13  \n",
              "        2021-12-31     25.2     0.97  \n",
              "        2022-06-30      5.3     1.08  \n",
              "        2022-08-31     30.3      NaN  \n",
              "        2022-11-30      4.8     0.97  \n",
              "\n",
              "[2005 rows x 34 columns]"
            ],
            "text/html": [
              "\n",
              "  <div id=\"df-fd61fcf7-c66b-43e1-9c2f-8762c0851f73\">\n",
              "    <div class=\"colab-df-container\">\n",
              "      <div>\n",
              "<style scoped>\n",
              "    .dataframe tbody tr th:only-of-type {\n",
              "        vertical-align: middle;\n",
              "    }\n",
              "\n",
              "    .dataframe tbody tr th {\n",
              "        vertical-align: top;\n",
              "    }\n",
              "\n",
              "    .dataframe thead th {\n",
              "        text-align: right;\n",
              "    }\n",
              "</style>\n",
              "<table border=\"1\" class=\"dataframe\">\n",
              "  <thead>\n",
              "    <tr style=\"text-align: right;\">\n",
              "      <th></th>\n",
              "      <th></th>\n",
              "      <th>8574.0</th>\n",
              "      <th>3086.0</th>\n",
              "      <th>5254.0</th>\n",
              "      <th>2688.0</th>\n",
              "      <th>4769.0</th>\n",
              "      <th>13808.0</th>\n",
              "      <th>1675.0</th>\n",
              "      <th>2419.0</th>\n",
              "      <th>2099.0</th>\n",
              "      <th>1991.0</th>\n",
              "      <th>...</th>\n",
              "      <th>12369.0</th>\n",
              "      <th>12365.0</th>\n",
              "      <th>18029.0</th>\n",
              "      <th>18027.0</th>\n",
              "      <th>12449.0</th>\n",
              "      <th>12460.0</th>\n",
              "      <th>12483.0</th>\n",
              "      <th>12478.0</th>\n",
              "      <th>12471.0</th>\n",
              "      <th>543.0</th>\n",
              "    </tr>\n",
              "    <tr>\n",
              "      <th>p_id</th>\n",
              "      <th>EntryDate</th>\n",
              "      <th></th>\n",
              "      <th></th>\n",
              "      <th></th>\n",
              "      <th></th>\n",
              "      <th></th>\n",
              "      <th></th>\n",
              "      <th></th>\n",
              "      <th></th>\n",
              "      <th></th>\n",
              "      <th></th>\n",
              "      <th></th>\n",
              "      <th></th>\n",
              "      <th></th>\n",
              "      <th></th>\n",
              "      <th></th>\n",
              "      <th></th>\n",
              "      <th></th>\n",
              "      <th></th>\n",
              "      <th></th>\n",
              "      <th></th>\n",
              "      <th></th>\n",
              "    </tr>\n",
              "  </thead>\n",
              "  <tbody>\n",
              "    <tr>\n",
              "      <th rowspan=\"5\" valign=\"top\">10304</th>\n",
              "      <th>2015-02-28</th>\n",
              "      <td>113.3</td>\n",
              "      <td>8.1</td>\n",
              "      <td>3.94</td>\n",
              "      <td>256.0</td>\n",
              "      <td>15.0</td>\n",
              "      <td>5.6</td>\n",
              "      <td>4.31</td>\n",
              "      <td>84.5</td>\n",
              "      <td>0.3640</td>\n",
              "      <td>120.0</td>\n",
              "      <td>...</td>\n",
              "      <td>3.59</td>\n",
              "      <td>1.36</td>\n",
              "      <td>0.4</td>\n",
              "      <td>0.02</td>\n",
              "      <td>0.5</td>\n",
              "      <td>2.8</td>\n",
              "      <td>64.0</td>\n",
              "      <td>8.5</td>\n",
              "      <td>24.2</td>\n",
              "      <td>2.19</td>\n",
              "    </tr>\n",
              "    <tr>\n",
              "      <th>2015-05-31</th>\n",
              "      <td>112.0</td>\n",
              "      <td>7.9</td>\n",
              "      <td>4.25</td>\n",
              "      <td>223.0</td>\n",
              "      <td>14.2</td>\n",
              "      <td>5.6</td>\n",
              "      <td>4.21</td>\n",
              "      <td>86.0</td>\n",
              "      <td>0.3620</td>\n",
              "      <td>120.0</td>\n",
              "      <td>...</td>\n",
              "      <td>3.66</td>\n",
              "      <td>1.29</td>\n",
              "      <td>0.5</td>\n",
              "      <td>0.03</td>\n",
              "      <td>0.5</td>\n",
              "      <td>3.7</td>\n",
              "      <td>64.9</td>\n",
              "      <td>8.0</td>\n",
              "      <td>22.9</td>\n",
              "      <td>1.96</td>\n",
              "    </tr>\n",
              "    <tr>\n",
              "      <th>2015-06-30</th>\n",
              "      <td>NaN</td>\n",
              "      <td>NaN</td>\n",
              "      <td>NaN</td>\n",
              "      <td>251.0</td>\n",
              "      <td>14.1</td>\n",
              "      <td>5.1</td>\n",
              "      <td>4.48</td>\n",
              "      <td>83.7</td>\n",
              "      <td>0.3750</td>\n",
              "      <td>128.0</td>\n",
              "      <td>...</td>\n",
              "      <td>3.15</td>\n",
              "      <td>1.29</td>\n",
              "      <td>0.4</td>\n",
              "      <td>0.02</td>\n",
              "      <td>0.6</td>\n",
              "      <td>3.9</td>\n",
              "      <td>61.9</td>\n",
              "      <td>8.3</td>\n",
              "      <td>25.3</td>\n",
              "      <td>NaN</td>\n",
              "    </tr>\n",
              "    <tr>\n",
              "      <th>2015-11-30</th>\n",
              "      <td>115.7</td>\n",
              "      <td>8.9</td>\n",
              "      <td>3.76</td>\n",
              "      <td>235.0</td>\n",
              "      <td>14.2</td>\n",
              "      <td>5.5</td>\n",
              "      <td>4.22</td>\n",
              "      <td>83.0</td>\n",
              "      <td>0.3505</td>\n",
              "      <td>119.5</td>\n",
              "      <td>...</td>\n",
              "      <td>3.68</td>\n",
              "      <td>1.15</td>\n",
              "      <td>0.2</td>\n",
              "      <td>0.01</td>\n",
              "      <td>0.5</td>\n",
              "      <td>3.7</td>\n",
              "      <td>65.1</td>\n",
              "      <td>10.3</td>\n",
              "      <td>20.4</td>\n",
              "      <td>2.22</td>\n",
              "    </tr>\n",
              "    <tr>\n",
              "      <th>2016-03-31</th>\n",
              "      <td>NaN</td>\n",
              "      <td>NaN</td>\n",
              "      <td>NaN</td>\n",
              "      <td>246.0</td>\n",
              "      <td>14.9</td>\n",
              "      <td>4.5</td>\n",
              "      <td>4.18</td>\n",
              "      <td>83.7</td>\n",
              "      <td>0.3500</td>\n",
              "      <td>117.0</td>\n",
              "      <td>...</td>\n",
              "      <td>2.83</td>\n",
              "      <td>1.12</td>\n",
              "      <td>0.0</td>\n",
              "      <td>0.00</td>\n",
              "      <td>0.4</td>\n",
              "      <td>4.4</td>\n",
              "      <td>62.7</td>\n",
              "      <td>7.7</td>\n",
              "      <td>24.8</td>\n",
              "      <td>NaN</td>\n",
              "    </tr>\n",
              "    <tr>\n",
              "      <th>...</th>\n",
              "      <th>...</th>\n",
              "      <td>...</td>\n",
              "      <td>...</td>\n",
              "      <td>...</td>\n",
              "      <td>...</td>\n",
              "      <td>...</td>\n",
              "      <td>...</td>\n",
              "      <td>...</td>\n",
              "      <td>...</td>\n",
              "      <td>...</td>\n",
              "      <td>...</td>\n",
              "      <td>...</td>\n",
              "      <td>...</td>\n",
              "      <td>...</td>\n",
              "      <td>...</td>\n",
              "      <td>...</td>\n",
              "      <td>...</td>\n",
              "      <td>...</td>\n",
              "      <td>...</td>\n",
              "      <td>...</td>\n",
              "      <td>...</td>\n",
              "      <td>...</td>\n",
              "    </tr>\n",
              "    <tr>\n",
              "      <th rowspan=\"5\" valign=\"top\">1254969</th>\n",
              "      <th>2021-11-30</th>\n",
              "      <td>83.4</td>\n",
              "      <td>5.4</td>\n",
              "      <td>4.30</td>\n",
              "      <td>332.0</td>\n",
              "      <td>12.8</td>\n",
              "      <td>8.9</td>\n",
              "      <td>4.36</td>\n",
              "      <td>89.9</td>\n",
              "      <td>0.3920</td>\n",
              "      <td>129.0</td>\n",
              "      <td>...</td>\n",
              "      <td>5.58</td>\n",
              "      <td>2.33</td>\n",
              "      <td>0.3</td>\n",
              "      <td>0.03</td>\n",
              "      <td>0.7</td>\n",
              "      <td>2.8</td>\n",
              "      <td>62.9</td>\n",
              "      <td>7.3</td>\n",
              "      <td>26.3</td>\n",
              "      <td>1.13</td>\n",
              "    </tr>\n",
              "    <tr>\n",
              "      <th>2021-12-31</th>\n",
              "      <td>80.4</td>\n",
              "      <td>5.4</td>\n",
              "      <td>4.17</td>\n",
              "      <td>293.0</td>\n",
              "      <td>12.2</td>\n",
              "      <td>6.1</td>\n",
              "      <td>4.11</td>\n",
              "      <td>89.3</td>\n",
              "      <td>0.3670</td>\n",
              "      <td>120.0</td>\n",
              "      <td>...</td>\n",
              "      <td>3.76</td>\n",
              "      <td>1.53</td>\n",
              "      <td>0.2</td>\n",
              "      <td>0.01</td>\n",
              "      <td>1.2</td>\n",
              "      <td>4.4</td>\n",
              "      <td>61.8</td>\n",
              "      <td>7.4</td>\n",
              "      <td>25.2</td>\n",
              "      <td>0.97</td>\n",
              "    </tr>\n",
              "    <tr>\n",
              "      <th>2022-06-30</th>\n",
              "      <td>86.4</td>\n",
              "      <td>7.3</td>\n",
              "      <td>4.24</td>\n",
              "      <td>319.0</td>\n",
              "      <td>12.6</td>\n",
              "      <td>11.5</td>\n",
              "      <td>4.05</td>\n",
              "      <td>89.6</td>\n",
              "      <td>0.3630</td>\n",
              "      <td>123.0</td>\n",
              "      <td>...</td>\n",
              "      <td>10.74</td>\n",
              "      <td>0.61</td>\n",
              "      <td>0.4</td>\n",
              "      <td>0.05</td>\n",
              "      <td>0.2</td>\n",
              "      <td>0.0</td>\n",
              "      <td>93.7</td>\n",
              "      <td>0.8</td>\n",
              "      <td>5.3</td>\n",
              "      <td>1.08</td>\n",
              "    </tr>\n",
              "    <tr>\n",
              "      <th>2022-08-31</th>\n",
              "      <td>89.1</td>\n",
              "      <td>7.2</td>\n",
              "      <td>NaN</td>\n",
              "      <td>243.0</td>\n",
              "      <td>12.5</td>\n",
              "      <td>5.7</td>\n",
              "      <td>4.05</td>\n",
              "      <td>89.9</td>\n",
              "      <td>0.3640</td>\n",
              "      <td>123.0</td>\n",
              "      <td>...</td>\n",
              "      <td>3.36</td>\n",
              "      <td>1.71</td>\n",
              "      <td>0.2</td>\n",
              "      <td>0.01</td>\n",
              "      <td>0.5</td>\n",
              "      <td>2.1</td>\n",
              "      <td>59.5</td>\n",
              "      <td>7.6</td>\n",
              "      <td>30.3</td>\n",
              "      <td>NaN</td>\n",
              "    </tr>\n",
              "    <tr>\n",
              "      <th>2022-11-30</th>\n",
              "      <td>81.4</td>\n",
              "      <td>6.5</td>\n",
              "      <td>4.85</td>\n",
              "      <td>297.0</td>\n",
              "      <td>12.4</td>\n",
              "      <td>13.4</td>\n",
              "      <td>4.08</td>\n",
              "      <td>91.7</td>\n",
              "      <td>0.3740</td>\n",
              "      <td>125.0</td>\n",
              "      <td>...</td>\n",
              "      <td>12.56</td>\n",
              "      <td>0.64</td>\n",
              "      <td>0.4</td>\n",
              "      <td>0.05</td>\n",
              "      <td>0.2</td>\n",
              "      <td>0.0</td>\n",
              "      <td>94.0</td>\n",
              "      <td>1.0</td>\n",
              "      <td>4.8</td>\n",
              "      <td>0.97</td>\n",
              "    </tr>\n",
              "  </tbody>\n",
              "</table>\n",
              "<p>2005 rows × 34 columns</p>\n",
              "</div>\n",
              "      <button class=\"colab-df-convert\" onclick=\"convertToInteractive('df-fd61fcf7-c66b-43e1-9c2f-8762c0851f73')\"\n",
              "              title=\"Convert this dataframe to an interactive table.\"\n",
              "              style=\"display:none;\">\n",
              "        \n",
              "  <svg xmlns=\"http://www.w3.org/2000/svg\" height=\"24px\"viewBox=\"0 0 24 24\"\n",
              "       width=\"24px\">\n",
              "    <path d=\"M0 0h24v24H0V0z\" fill=\"none\"/>\n",
              "    <path d=\"M18.56 5.44l.94 2.06.94-2.06 2.06-.94-2.06-.94-.94-2.06-.94 2.06-2.06.94zm-11 1L8.5 8.5l.94-2.06 2.06-.94-2.06-.94L8.5 2.5l-.94 2.06-2.06.94zm10 10l.94 2.06.94-2.06 2.06-.94-2.06-.94-.94-2.06-.94 2.06-2.06.94z\"/><path d=\"M17.41 7.96l-1.37-1.37c-.4-.4-.92-.59-1.43-.59-.52 0-1.04.2-1.43.59L10.3 9.45l-7.72 7.72c-.78.78-.78 2.05 0 2.83L4 21.41c.39.39.9.59 1.41.59.51 0 1.02-.2 1.41-.59l7.78-7.78 2.81-2.81c.8-.78.8-2.07 0-2.86zM5.41 20L4 18.59l7.72-7.72 1.47 1.35L5.41 20z\"/>\n",
              "  </svg>\n",
              "      </button>\n",
              "      \n",
              "  <style>\n",
              "    .colab-df-container {\n",
              "      display:flex;\n",
              "      flex-wrap:wrap;\n",
              "      gap: 12px;\n",
              "    }\n",
              "\n",
              "    .colab-df-convert {\n",
              "      background-color: #E8F0FE;\n",
              "      border: none;\n",
              "      border-radius: 50%;\n",
              "      cursor: pointer;\n",
              "      display: none;\n",
              "      fill: #1967D2;\n",
              "      height: 32px;\n",
              "      padding: 0 0 0 0;\n",
              "      width: 32px;\n",
              "    }\n",
              "\n",
              "    .colab-df-convert:hover {\n",
              "      background-color: #E2EBFA;\n",
              "      box-shadow: 0px 1px 2px rgba(60, 64, 67, 0.3), 0px 1px 3px 1px rgba(60, 64, 67, 0.15);\n",
              "      fill: #174EA6;\n",
              "    }\n",
              "\n",
              "    [theme=dark] .colab-df-convert {\n",
              "      background-color: #3B4455;\n",
              "      fill: #D2E3FC;\n",
              "    }\n",
              "\n",
              "    [theme=dark] .colab-df-convert:hover {\n",
              "      background-color: #434B5C;\n",
              "      box-shadow: 0px 1px 3px 1px rgba(0, 0, 0, 0.15);\n",
              "      filter: drop-shadow(0px 1px 2px rgba(0, 0, 0, 0.3));\n",
              "      fill: #FFFFFF;\n",
              "    }\n",
              "  </style>\n",
              "\n",
              "      <script>\n",
              "        const buttonEl =\n",
              "          document.querySelector('#df-fd61fcf7-c66b-43e1-9c2f-8762c0851f73 button.colab-df-convert');\n",
              "        buttonEl.style.display =\n",
              "          google.colab.kernel.accessAllowed ? 'block' : 'none';\n",
              "\n",
              "        async function convertToInteractive(key) {\n",
              "          const element = document.querySelector('#df-fd61fcf7-c66b-43e1-9c2f-8762c0851f73');\n",
              "          const dataTable =\n",
              "            await google.colab.kernel.invokeFunction('convertToInteractive',\n",
              "                                                     [key], {});\n",
              "          if (!dataTable) return;\n",
              "\n",
              "          const docLinkHtml = 'Like what you see? Visit the ' +\n",
              "            '<a target=\"_blank\" href=https://colab.research.google.com/notebooks/data_table.ipynb>data table notebook</a>'\n",
              "            + ' to learn more about interactive tables.';\n",
              "          element.innerHTML = '';\n",
              "          dataTable['output_type'] = 'display_data';\n",
              "          await google.colab.output.renderOutput(dataTable, element);\n",
              "          const docLink = document.createElement('div');\n",
              "          docLink.innerHTML = docLinkHtml;\n",
              "          element.appendChild(docLink);\n",
              "        }\n",
              "      </script>\n",
              "    </div>\n",
              "  </div>\n",
              "  "
            ]
          },
          "metadata": {},
          "execution_count": 22
        }
      ]
    },
    {
      "cell_type": "markdown",
      "source": [
        "# get other patients"
      ],
      "metadata": {
        "id": "dZ2Lxxt2ff7-"
      }
    },
    {
      "cell_type": "code",
      "source": [
        "dgs[\"high_level_dgs\"] = dgs.parsed_dgs.apply(lambda x: x.split(\".\")[0] if x else None)\n",
        "other_N18_dgs=dgs[dgs.Patient.isin(n18_patients)].high_level_dgs.value_counts()"
      ],
      "metadata": {
        "id": "u7RHWZ86f4Wh"
      },
      "execution_count": 23,
      "outputs": []
    },
    {
      "cell_type": "code",
      "source": [
        "common_N18_dgs = other_N18_dgs.head(20).index"
      ],
      "metadata": {
        "id": "_d1HHjHnf_Pi"
      },
      "execution_count": 24,
      "outputs": []
    },
    {
      "cell_type": "code",
      "source": [
        "symptotic_patients = dgs[dgs.high_level_dgs.isin(common_N18_dgs)].Patient"
      ],
      "metadata": {
        "id": "YCUK7eyrg7pg"
      },
      "execution_count": 25,
      "outputs": []
    },
    {
      "cell_type": "code",
      "source": [
        "# df_non_ckd"
      ],
      "metadata": {
        "id": "ALaaIuwviSgL"
      },
      "execution_count": 27,
      "outputs": []
    },
    {
      "cell_type": "code",
      "source": [
        "df_non_ckd = df[(~df.Patient.isin(symptotic_patients))&(df.NCLP.isin(feature_columns))][used_columns].copy()"
      ],
      "metadata": {
        "id": "xLtyIVzLhJgJ"
      },
      "execution_count": 28,
      "outputs": []
    },
    {
      "cell_type": "code",
      "source": [
        "del df\n",
        "import gc\n",
        "gc.collect()"
      ],
      "metadata": {
        "colab": {
          "base_uri": "https://localhost:8080/"
        },
        "id": "xHQLHXgPimOv",
        "outputId": "6f17aac5-e9c1-47e7-d40f-87b8dba28b72"
      },
      "execution_count": 29,
      "outputs": [
        {
          "output_type": "execute_result",
          "data": {
            "text/plain": [
              "689"
            ]
          },
          "metadata": {},
          "execution_count": 29
        }
      ]
    },
    {
      "cell_type": "code",
      "source": [
        "non_ckd_data =df_non_ckd.pivot_table(index=\"pr_id\",columns=\"NCLP\", values=\"ValueNumber\", aggfunc=\"first\")\n",
        "non_ckd_data = non_ckd_data.merge(df_non_ckd[[\"pr_id\",\"EntryDate\"]].drop_duplicates(), on=\"pr_id\")\n",
        "\n",
        "non_ckd_data[\"p_id\"] = non_ckd_data.pr_id.apply(lambda x: int(x.split(\"_\")[0]))\n",
        "for col in non_ckd_data.columns[1:-2]:\n",
        "    non_ckd_data[col] = non_ckd_data[col].apply(lambda x: pd.to_numeric(x, errors='coerce'))\n",
        "\n",
        "non_ckd_data = non_ckd_data.groupby([\"p_id\",pd.Grouper(key=\"EntryDate\",freq=\"1M\")]).mean()"
      ],
      "metadata": {
        "id": "0I9hwQraiU2Q"
      },
      "execution_count": 30,
      "outputs": []
    },
    {
      "cell_type": "code",
      "source": [
        "non_ckd_data[feature_columns].to_csv(\"non_ckd_grouped.csv.gzip\", index=True, compression=\"gzip\")"
      ],
      "metadata": {
        "id": "YOr0yyu3iy45"
      },
      "execution_count": 31,
      "outputs": []
    },
    {
      "cell_type": "code",
      "source": [
        "\n",
        "non_ckd_data.reset_index().p_id.unique().shape"
      ],
      "metadata": {
        "colab": {
          "base_uri": "https://localhost:8080/"
        },
        "id": "JuxrXJaRjTFJ",
        "outputId": "09878519-a4e5-4156-e3a8-26f779a6e0c6"
      },
      "execution_count": 32,
      "outputs": [
        {
          "output_type": "execute_result",
          "data": {
            "text/plain": [
              "(13645,)"
            ]
          },
          "metadata": {},
          "execution_count": 32
        }
      ]
    },
    {
      "cell_type": "code",
      "source": [
        "nclp_analytes = dict(zip(nclp_analytes[:,0], nclp_analytes[:,1]))"
      ],
      "metadata": {
        "id": "3GxBXYrhi4SJ"
      },
      "execution_count": 33,
      "outputs": []
    },
    {
      "cell_type": "code",
      "source": [
        "\n",
        "del df_ckd, df_non_ckd"
      ],
      "metadata": {
        "id": "Oz9UrTgOk0h-"
      },
      "execution_count": 34,
      "outputs": []
    },
    {
      "cell_type": "markdown",
      "source": [
        "# Lets train"
      ],
      "metadata": {
        "id": "7nv4bKCPlHiY"
      }
    },
    {
      "cell_type": "code",
      "source": [
        "ckd_data_grouped = ckd_data_grouped[feature_columns]"
      ],
      "metadata": {
        "id": "fiT5RM3IlBUR"
      },
      "execution_count": 35,
      "outputs": []
    },
    {
      "cell_type": "code",
      "source": [
        "non_ckd_data = non_ckd_data[feature_columns]"
      ],
      "metadata": {
        "id": "LFTACk8Bkbtf"
      },
      "execution_count": 36,
      "outputs": []
    },
    {
      "cell_type": "code",
      "source": [
        "ckd_data_grouped[\"target\"] = 1\n",
        "non_ckd_data[\"target\"] = 0"
      ],
      "metadata": {
        "colab": {
          "base_uri": "https://localhost:8080/"
        },
        "id": "Txwtt-2xkzg5",
        "outputId": "ae8326d4-139b-4d08-d86c-bad517c361f0"
      },
      "execution_count": 37,
      "outputs": [
        {
          "output_type": "stream",
          "name": "stderr",
          "text": [
            "/usr/local/lib/python3.7/dist-packages/ipykernel_launcher.py:1: SettingWithCopyWarning: \n",
            "A value is trying to be set on a copy of a slice from a DataFrame.\n",
            "Try using .loc[row_indexer,col_indexer] = value instead\n",
            "\n",
            "See the caveats in the documentation: https://pandas.pydata.org/pandas-docs/stable/user_guide/indexing.html#returning-a-view-versus-a-copy\n",
            "  \"\"\"Entry point for launching an IPython kernel.\n",
            "/usr/local/lib/python3.7/dist-packages/ipykernel_launcher.py:2: SettingWithCopyWarning: \n",
            "A value is trying to be set on a copy of a slice from a DataFrame.\n",
            "Try using .loc[row_indexer,col_indexer] = value instead\n",
            "\n",
            "See the caveats in the documentation: https://pandas.pydata.org/pandas-docs/stable/user_guide/indexing.html#returning-a-view-versus-a-copy\n",
            "  \n"
          ]
        }
      ]
    },
    {
      "cell_type": "code",
      "source": [
        "train_data = pd.concat([ckd_data_grouped,non_ckd_data])"
      ],
      "metadata": {
        "id": "NO1zSYUblKeW"
      },
      "execution_count": 38,
      "outputs": []
    },
    {
      "cell_type": "code",
      "source": [
        "train_data.to_csv(\"train_data.csv.gzip\", index=True, compression=\"gzip\")"
      ],
      "metadata": {
        "id": "P8bOhLimlSjS"
      },
      "execution_count": 39,
      "outputs": []
    },
    {
      "cell_type": "code",
      "source": [
        "# for col in train_data.columns"
      ],
      "metadata": {
        "id": "jOWKaZSZy54e"
      },
      "execution_count": 41,
      "outputs": []
    },
    {
      "cell_type": "code",
      "source": [
        "train_data = train_data.fillna(-999)"
      ],
      "metadata": {
        "id": "cZT03-Mqlf7k"
      },
      "execution_count": 42,
      "outputs": []
    },
    {
      "cell_type": "code",
      "source": [
        "import xgboost as xgb\n",
        "from sklearn.model_selection import train_test_split\n",
        "\n",
        "train, test = train_test_split(train_data, stratify=train_data.target)\n"
      ],
      "metadata": {
        "id": "ia7eU5-wl51I"
      },
      "execution_count": 43,
      "outputs": []
    },
    {
      "cell_type": "code",
      "source": [
        "ratio_CKD = 76/13_000"
      ],
      "metadata": {
        "id": "7DsUeYjsnPzK"
      },
      "execution_count": 44,
      "outputs": []
    },
    {
      "cell_type": "code",
      "source": [
        "train_sample_weight = np.ones(train.shape[0])\n",
        "train_sample_weight[train.target==0] = ratio_CKD"
      ],
      "metadata": {
        "id": "xvVkQ_PrnClW"
      },
      "execution_count": 45,
      "outputs": []
    },
    {
      "cell_type": "code",
      "source": [
        "test_sample_weight = np.ones(test.shape[0])\n",
        "test_sample_weight[test.target==0] = ratio_CKD"
      ],
      "metadata": {
        "id": "DUTEJbM6ngW1"
      },
      "execution_count": 46,
      "outputs": []
    },
    {
      "cell_type": "code",
      "source": [
        "\n",
        "model = xgb.XGBClassifier(max_depth=5, learning_rate=0.05, n_estimators=1000, missing=-999)"
      ],
      "metadata": {
        "id": "PZ8jCr_Ir-Kg"
      },
      "execution_count": 47,
      "outputs": []
    },
    {
      "cell_type": "code",
      "source": [
        "print(*list((train.iloc[100:101,:-1]).values[0]), sep=\", \")"
      ],
      "metadata": {
        "colab": {
          "base_uri": "https://localhost:8080/"
        },
        "id": "ZL0Wvw9nDe7w",
        "outputId": "84fd6ad1-61cf-4755-a617-8bc1b89f1ec3"
      },
      "execution_count": 80,
      "outputs": [
        {
          "output_type": "stream",
          "name": "stdout",
          "text": [
            "-999.0, -999.0, -999.0, -999.0, -999.0, -999.0, -999.0, -999.0, -999.0, -999.0, -999.0, -999.0, -999.0, -999.0, -999.0, -999.0, -999.0, -999.0, -999.0, 5.0, 1.044, -999.0, -999.0, -999.0, -999.0, -999.0, -999.0, -999.0, -999.0, -999.0, -999.0, -999.0, -999.0, -999.0\n"
          ]
        }
      ]
    },
    {
      "cell_type": "code",
      "source": [
        "\n",
        "\n",
        "model.fit(train.iloc[:,:-1], train.target, sample_weight=train_sample_weight,\n",
        "          eval_set=[(train.iloc[:,:-1], train.target),(test.iloc[:,:-1], test.target)],\n",
        "          sample_weight_eval_set=[train_sample_weight, test_sample_weight], early_stopping_rounds=100)\n"
      ],
      "metadata": {
        "id": "w7-CKduXl9T9",
        "colab": {
          "base_uri": "https://localhost:8080/"
        },
        "outputId": "31f36bb6-0616-4f5b-db42-db6c856148a7"
      },
      "execution_count": 48,
      "outputs": [
        {
          "output_type": "stream",
          "name": "stdout",
          "text": [
            "[0]\tvalidation_0-error:0.104804\tvalidation_1-error:0.128267\n",
            "Multiple eval metrics have been passed: 'validation_1-error' will be used for early stopping.\n",
            "\n",
            "Will train until validation_1-error hasn't improved in 100 rounds.\n",
            "[1]\tvalidation_0-error:0.102066\tvalidation_1-error:0.128205\n",
            "[2]\tvalidation_0-error:0.100273\tvalidation_1-error:0.123522\n",
            "[3]\tvalidation_0-error:0.099319\tvalidation_1-error:0.126256\n",
            "[4]\tvalidation_0-error:0.099984\tvalidation_1-error:0.122404\n",
            "[5]\tvalidation_0-error:0.099126\tvalidation_1-error:0.117247\n",
            "[6]\tvalidation_0-error:0.099317\tvalidation_1-error:0.119196\n",
            "[7]\tvalidation_0-error:0.101317\tvalidation_1-error:0.119832\n",
            "[8]\tvalidation_0-error:0.101396\tvalidation_1-error:0.120727\n",
            "[9]\tvalidation_0-error:0.102949\tvalidation_1-error:0.122628\n",
            "[10]\tvalidation_0-error:0.103337\tvalidation_1-error:0.123016\n",
            "[11]\tvalidation_0-error:0.101821\tvalidation_1-error:0.119289\n",
            "[12]\tvalidation_0-error:0.102276\tvalidation_1-error:0.119747\n",
            "[13]\tvalidation_0-error:0.101617\tvalidation_1-error:0.117899\n",
            "[14]\tvalidation_0-error:0.106784\tvalidation_1-error:0.126927\n",
            "[15]\tvalidation_0-error:0.101946\tvalidation_1-error:0.120524\n",
            "[16]\tvalidation_0-error:0.107526\tvalidation_1-error:0.124209\n",
            "[17]\tvalidation_0-error:0.101835\tvalidation_1-error:0.117743\n",
            "[18]\tvalidation_0-error:0.107278\tvalidation_1-error:0.125304\n",
            "[19]\tvalidation_0-error:0.106321\tvalidation_1-error:0.125196\n",
            "[20]\tvalidation_0-error:0.10577\tvalidation_1-error:0.125483\n",
            "[21]\tvalidation_0-error:0.106277\tvalidation_1-error:0.124691\n",
            "[22]\tvalidation_0-error:0.106213\tvalidation_1-error:0.125514\n",
            "[23]\tvalidation_0-error:0.106014\tvalidation_1-error:0.123992\n",
            "[24]\tvalidation_0-error:0.106014\tvalidation_1-error:0.123876\n",
            "[25]\tvalidation_0-error:0.105515\tvalidation_1-error:0.123712\n",
            "[26]\tvalidation_0-error:0.105491\tvalidation_1-error:0.123697\n",
            "[27]\tvalidation_0-error:0.105587\tvalidation_1-error:0.122485\n",
            "[28]\tvalidation_0-error:0.099424\tvalidation_1-error:0.116035\n",
            "[29]\tvalidation_0-error:0.100335\tvalidation_1-error:0.118272\n",
            "[30]\tvalidation_0-error:0.100206\tvalidation_1-error:0.118195\n",
            "[31]\tvalidation_0-error:0.106281\tvalidation_1-error:0.123115\n",
            "[32]\tvalidation_0-error:0.099199\tvalidation_1-error:0.117612\n",
            "[33]\tvalidation_0-error:0.096559\tvalidation_1-error:0.116308\n",
            "[34]\tvalidation_0-error:0.095977\tvalidation_1-error:0.115229\n",
            "[35]\tvalidation_0-error:0.096285\tvalidation_1-error:0.113823\n",
            "[36]\tvalidation_0-error:0.095886\tvalidation_1-error:0.113947\n",
            "[37]\tvalidation_0-error:0.095527\tvalidation_1-error:0.113994\n",
            "[38]\tvalidation_0-error:0.096014\tvalidation_1-error:0.113645\n",
            "[39]\tvalidation_0-error:0.094845\tvalidation_1-error:0.113878\n",
            "[40]\tvalidation_0-error:0.094002\tvalidation_1-error:0.1122\n",
            "[41]\tvalidation_0-error:0.093756\tvalidation_1-error:0.111346\n",
            "[42]\tvalidation_0-error:0.091822\tvalidation_1-error:0.116114\n",
            "[43]\tvalidation_0-error:0.091535\tvalidation_1-error:0.115718\n",
            "[44]\tvalidation_0-error:0.091675\tvalidation_1-error:0.116736\n",
            "[45]\tvalidation_0-error:0.091509\tvalidation_1-error:0.115268\n",
            "[46]\tvalidation_0-error:0.091535\tvalidation_1-error:0.115283\n",
            "[47]\tvalidation_0-error:0.091328\tvalidation_1-error:0.116417\n",
            "[48]\tvalidation_0-error:0.090958\tvalidation_1-error:0.116052\n",
            "[49]\tvalidation_0-error:0.090539\tvalidation_1-error:0.116006\n",
            "[50]\tvalidation_0-error:0.090425\tvalidation_1-error:0.115804\n",
            "[51]\tvalidation_0-error:0.090677\tvalidation_1-error:0.114452\n",
            "[52]\tvalidation_0-error:0.09047\tvalidation_1-error:0.114266\n",
            "[53]\tvalidation_0-error:0.089771\tvalidation_1-error:0.114064\n",
            "[54]\tvalidation_0-error:0.089091\tvalidation_1-error:0.112496\n",
            "[55]\tvalidation_0-error:0.088998\tvalidation_1-error:0.112379\n",
            "[56]\tvalidation_0-error:0.08833\tvalidation_1-error:0.112178\n",
            "[57]\tvalidation_0-error:0.088565\tvalidation_1-error:0.109615\n",
            "[58]\tvalidation_0-error:0.087926\tvalidation_1-error:0.109468\n",
            "[59]\tvalidation_0-error:0.08645\tvalidation_1-error:0.111572\n",
            "[60]\tvalidation_0-error:0.087259\tvalidation_1-error:0.111517\n",
            "[61]\tvalidation_0-error:0.085369\tvalidation_1-error:0.110749\n",
            "[62]\tvalidation_0-error:0.085428\tvalidation_1-error:0.109359\n",
            "[63]\tvalidation_0-error:0.084438\tvalidation_1-error:0.108427\n",
            "[64]\tvalidation_0-error:0.084218\tvalidation_1-error:0.108264\n",
            "[65]\tvalidation_0-error:0.084397\tvalidation_1-error:0.107977\n",
            "[66]\tvalidation_0-error:0.083799\tvalidation_1-error:0.106556\n",
            "[67]\tvalidation_0-error:0.08399\tvalidation_1-error:0.106299\n",
            "[68]\tvalidation_0-error:0.083504\tvalidation_1-error:0.105888\n",
            "[69]\tvalidation_0-error:0.083755\tvalidation_1-error:0.102254\n",
            "[70]\tvalidation_0-error:0.083664\tvalidation_1-error:0.10244\n",
            "[71]\tvalidation_0-error:0.08354\tvalidation_1-error:0.101951\n",
            "[72]\tvalidation_0-error:0.083186\tvalidation_1-error:0.104297\n",
            "[73]\tvalidation_0-error:0.082868\tvalidation_1-error:0.104972\n",
            "[74]\tvalidation_0-error:0.08241\tvalidation_1-error:0.106262\n",
            "[75]\tvalidation_0-error:0.082656\tvalidation_1-error:0.106099\n",
            "[76]\tvalidation_0-error:0.082754\tvalidation_1-error:0.106285\n",
            "[77]\tvalidation_0-error:0.081973\tvalidation_1-error:0.105555\n",
            "[78]\tvalidation_0-error:0.081611\tvalidation_1-error:0.105221\n",
            "[79]\tvalidation_0-error:0.081381\tvalidation_1-error:0.104476\n",
            "[80]\tvalidation_0-error:0.081089\tvalidation_1-error:0.104212\n",
            "[81]\tvalidation_0-error:0.081081\tvalidation_1-error:0.104181\n",
            "[82]\tvalidation_0-error:0.080721\tvalidation_1-error:0.103862\n",
            "[83]\tvalidation_0-error:0.079819\tvalidation_1-error:0.103808\n",
            "[84]\tvalidation_0-error:0.079777\tvalidation_1-error:0.1038\n",
            "[85]\tvalidation_0-error:0.078857\tvalidation_1-error:0.105556\n",
            "[86]\tvalidation_0-error:0.079395\tvalidation_1-error:0.104313\n",
            "[87]\tvalidation_0-error:0.078583\tvalidation_1-error:0.104935\n",
            "[88]\tvalidation_0-error:0.078559\tvalidation_1-error:0.104942\n",
            "[89]\tvalidation_0-error:0.077946\tvalidation_1-error:0.104725\n",
            "[90]\tvalidation_0-error:0.077328\tvalidation_1-error:0.104593\n",
            "[91]\tvalidation_0-error:0.076485\tvalidation_1-error:0.105307\n",
            "[92]\tvalidation_0-error:0.076617\tvalidation_1-error:0.104741\n",
            "[93]\tvalidation_0-error:0.075996\tvalidation_1-error:0.10335\n",
            "[94]\tvalidation_0-error:0.073821\tvalidation_1-error:0.104158\n",
            "[95]\tvalidation_0-error:0.073544\tvalidation_1-error:0.10377\n",
            "[96]\tvalidation_0-error:0.073477\tvalidation_1-error:0.103762\n",
            "[97]\tvalidation_0-error:0.072928\tvalidation_1-error:0.103653\n",
            "[98]\tvalidation_0-error:0.073673\tvalidation_1-error:0.103584\n",
            "[99]\tvalidation_0-error:0.073666\tvalidation_1-error:0.103444\n",
            "[100]\tvalidation_0-error:0.07335\tvalidation_1-error:0.103234\n",
            "[101]\tvalidation_0-error:0.0732\tvalidation_1-error:0.103087\n",
            "[102]\tvalidation_0-error:0.073024\tvalidation_1-error:0.102854\n",
            "[103]\tvalidation_0-error:0.072408\tvalidation_1-error:0.105354\n",
            "[104]\tvalidation_0-error:0.072315\tvalidation_1-error:0.105315\n",
            "[105]\tvalidation_0-error:0.072393\tvalidation_1-error:0.103669\n",
            "[106]\tvalidation_0-error:0.072259\tvalidation_1-error:0.103498\n",
            "[107]\tvalidation_0-error:0.072272\tvalidation_1-error:0.103599\n",
            "[108]\tvalidation_0-error:0.071734\tvalidation_1-error:0.103514\n",
            "[109]\tvalidation_0-error:0.07237\tvalidation_1-error:0.103149\n",
            "[110]\tvalidation_0-error:0.072285\tvalidation_1-error:0.103071\n",
            "[111]\tvalidation_0-error:0.072202\tvalidation_1-error:0.102978\n",
            "[112]\tvalidation_0-error:0.071136\tvalidation_1-error:0.102776\n",
            "[113]\tvalidation_0-error:0.071058\tvalidation_1-error:0.102691\n",
            "[114]\tvalidation_0-error:0.071431\tvalidation_1-error:0.103903\n",
            "[115]\tvalidation_0-error:0.071791\tvalidation_1-error:0.103957\n",
            "[116]\tvalidation_0-error:0.070774\tvalidation_1-error:0.103786\n",
            "[117]\tvalidation_0-error:0.070482\tvalidation_1-error:0.102062\n",
            "[118]\tvalidation_0-error:0.070427\tvalidation_1-error:0.103328\n",
            "[119]\tvalidation_0-error:0.070345\tvalidation_1-error:0.103258\n",
            "[120]\tvalidation_0-error:0.070174\tvalidation_1-error:0.103149\n",
            "[121]\tvalidation_0-error:0.069985\tvalidation_1-error:0.102901\n",
            "[122]\tvalidation_0-error:0.069478\tvalidation_1-error:0.102831\n",
            "[123]\tvalidation_0-error:0.06895\tvalidation_1-error:0.10273\n",
            "[124]\tvalidation_0-error:0.06885\tvalidation_1-error:0.102676\n",
            "[125]\tvalidation_0-error:0.069137\tvalidation_1-error:0.102365\n",
            "[126]\tvalidation_0-error:0.068203\tvalidation_1-error:0.102357\n",
            "[127]\tvalidation_0-error:0.068156\tvalidation_1-error:0.102357\n",
            "[128]\tvalidation_0-error:0.067973\tvalidation_1-error:0.10207\n",
            "[129]\tvalidation_0-error:0.067895\tvalidation_1-error:0.102031\n",
            "[130]\tvalidation_0-error:0.067683\tvalidation_1-error:0.103096\n",
            "[131]\tvalidation_0-error:0.067572\tvalidation_1-error:0.103065\n",
            "[132]\tvalidation_0-error:0.067841\tvalidation_1-error:0.103336\n",
            "[133]\tvalidation_0-error:0.067577\tvalidation_1-error:0.103018\n",
            "[134]\tvalidation_0-error:0.067427\tvalidation_1-error:0.104268\n",
            "[135]\tvalidation_0-error:0.067251\tvalidation_1-error:0.105394\n",
            "[136]\tvalidation_0-error:0.067192\tvalidation_1-error:0.10541\n",
            "[137]\tvalidation_0-error:0.066636\tvalidation_1-error:0.105184\n",
            "[138]\tvalidation_0-error:0.066501\tvalidation_1-error:0.104998\n",
            "[139]\tvalidation_0-error:0.066434\tvalidation_1-error:0.104959\n",
            "[140]\tvalidation_0-error:0.066315\tvalidation_1-error:0.104804\n",
            "[141]\tvalidation_0-error:0.066201\tvalidation_1-error:0.104649\n",
            "[142]\tvalidation_0-error:0.066051\tvalidation_1-error:0.104486\n",
            "[143]\tvalidation_0-error:0.065608\tvalidation_1-error:0.1044\n",
            "[144]\tvalidation_0-error:0.065456\tvalidation_1-error:0.104268\n",
            "[145]\tvalidation_0-error:0.065433\tvalidation_1-error:0.104229\n",
            "[146]\tvalidation_0-error:0.065301\tvalidation_1-error:0.104035\n",
            "[147]\tvalidation_0-error:0.065182\tvalidation_1-error:0.10388\n",
            "[148]\tvalidation_0-error:0.065146\tvalidation_1-error:0.103849\n",
            "[149]\tvalidation_0-error:0.064595\tvalidation_1-error:0.103772\n",
            "[150]\tvalidation_0-error:0.064476\tvalidation_1-error:0.103632\n",
            "[151]\tvalidation_0-error:0.063953\tvalidation_1-error:0.103562\n",
            "[152]\tvalidation_0-error:0.063919\tvalidation_1-error:0.103523\n",
            "[153]\tvalidation_0-error:0.064264\tvalidation_1-error:0.103461\n",
            "[154]\tvalidation_0-error:0.063273\tvalidation_1-error:0.10329\n",
            "[155]\tvalidation_0-error:0.06319\tvalidation_1-error:0.103228\n",
            "[156]\tvalidation_0-error:0.063092\tvalidation_1-error:0.103197\n",
            "[157]\tvalidation_0-error:0.061661\tvalidation_1-error:0.103958\n",
            "[158]\tvalidation_0-error:0.061586\tvalidation_1-error:0.103888\n",
            "[159]\tvalidation_0-error:0.061535\tvalidation_1-error:0.103849\n",
            "[160]\tvalidation_0-error:0.06147\tvalidation_1-error:0.103725\n",
            "[161]\tvalidation_0-error:0.061392\tvalidation_1-error:0.103616\n",
            "[162]\tvalidation_0-error:0.061343\tvalidation_1-error:0.103616\n",
            "[163]\tvalidation_0-error:0.061305\tvalidation_1-error:0.10357\n",
            "[164]\tvalidation_0-error:0.060741\tvalidation_1-error:0.103562\n",
            "[165]\tvalidation_0-error:0.060707\tvalidation_1-error:0.103516\n",
            "[166]\tvalidation_0-error:0.060585\tvalidation_1-error:0.103422\n",
            "[167]\tvalidation_0-error:0.060557\tvalidation_1-error:0.103368\n",
            "[168]\tvalidation_0-error:0.060397\tvalidation_1-error:0.103197\n",
            "[169]\tvalidation_0-error:0.060322\tvalidation_1-error:0.104432\n",
            "[170]\tvalidation_0-error:0.060285\tvalidation_1-error:0.104347\n",
            "[171]\tvalidation_0-error:0.060226\tvalidation_1-error:0.104285\n",
            "Stopping. Best iteration:\n",
            "[71]\tvalidation_0-error:0.08354\tvalidation_1-error:0.101951\n",
            "\n"
          ]
        },
        {
          "output_type": "execute_result",
          "data": {
            "text/plain": [
              "XGBClassifier(learning_rate=0.05, max_depth=5, missing=-999, n_estimators=1000)"
            ]
          },
          "metadata": {},
          "execution_count": 48
        }
      ]
    },
    {
      "cell_type": "code",
      "source": [
        "\n",
        "import pickle\n",
        "\n",
        "with open(\"model_weighted.pkl\", \"wb\") as f:\n",
        "    pickle.dump(model, f)"
      ],
      "metadata": {
        "id": "n3Wu0I46oVTP"
      },
      "execution_count": 49,
      "outputs": []
    },
    {
      "cell_type": "code",
      "source": [
        "\n",
        "from sklearn.metrics import precision_recall_fscore_support\n",
        "\n",
        "\n",
        "y_pred = model.predict(test.iloc[:,:-1])\n",
        "\n",
        "precision_recall_fscore_support(test.target, y_pred, sample_weight=test_sample_weight)[:3]"
      ],
      "metadata": {
        "colab": {
          "base_uri": "https://localhost:8080/"
        },
        "id": "CkItt4GsmAdp",
        "outputId": "148dea9c-08fd-4a3e-e84f-4f4221bccd60"
      },
      "execution_count": 50,
      "outputs": [
        {
          "output_type": "execute_result",
          "data": {
            "text/plain": [
              "(array([0.87220121, 0.90970248]),\n",
              " array([0.8141054 , 0.94011976]),\n",
              " array([0.84215256, 0.92466104]))"
            ]
          },
          "metadata": {},
          "execution_count": 50
        }
      ]
    },
    {
      "cell_type": "code",
      "source": [
        "test.iloc[:,:-1]"
      ],
      "metadata": {
        "colab": {
          "base_uri": "https://localhost:8080/",
          "height": 693
        },
        "id": "rOKFoLlx8tmv",
        "outputId": "f5ca117d-fc83-42e0-82f6-8572de3eaefb"
      },
      "execution_count": 63,
      "outputs": [
        {
          "output_type": "execute_result",
          "data": {
            "text/plain": [
              "                    8574.0   3086.0   5254.0   2688.0   4769.0   13808.0  \\\n",
              "p_id    EntryDate                                                          \n",
              "42198   2018-06-30     87.2      9.6  -999.00    214.0     13.4     12.4   \n",
              "1213024 2016-07-31     69.2      1.7     4.95    185.0     13.5      6.4   \n",
              "41412   2021-02-28     94.0      3.3  -999.00    242.0     22.7      9.0   \n",
              "589476  2022-03-31     93.1      7.7  -999.00    238.0     13.9     14.9   \n",
              "1204096 2015-10-31    115.3      4.9     4.27    149.0     14.1      7.3   \n",
              "...                     ...      ...      ...      ...      ...      ...   \n",
              "157674  2017-12-31   -999.0   -999.0  -999.00   -999.0   -999.0   -999.0   \n",
              "73948   2015-07-31   -999.0   -999.0  -999.00   -999.0   -999.0   -999.0   \n",
              "141211  2022-06-30     98.5      7.7     3.47   -999.0   -999.0   -999.0   \n",
              "28060   2020-07-31     91.0      9.8     4.14    160.0     13.2      7.9   \n",
              "1251984 2019-01-31    153.0     11.1     4.52    253.0     14.1      8.4   \n",
              "\n",
              "                    1675.0   2419.0   2099.0   1991.0   ...  12369.0  12365.0  \\\n",
              "p_id    EntryDate                                       ...                     \n",
              "42198   2018-06-30     4.94     89.7    0.443    151.0  ...  -999.00  -999.00   \n",
              "1213024 2016-07-31     4.92     98.4    0.484    172.0  ...     4.11     1.17   \n",
              "41412   2021-02-28     4.09     79.2    0.324     98.0  ...  -999.00  -999.00   \n",
              "589476  2022-03-31     3.99     91.7    0.366    121.0  ...  -999.00  -999.00   \n",
              "1204096 2015-10-31     4.96     91.3    0.453    150.0  ...  -999.00  -999.00   \n",
              "...                     ...      ...      ...      ...  ...      ...      ...   \n",
              "157674  2017-12-31  -999.00   -999.0 -999.000   -999.0  ...  -999.00  -999.00   \n",
              "73948   2015-07-31  -999.00   -999.0 -999.000   -999.0  ...  -999.00  -999.00   \n",
              "141211  2022-06-30  -999.00   -999.0 -999.000   -999.0  ...  -999.00  -999.00   \n",
              "28060   2020-07-31     4.65     91.2    0.424    139.0  ...  -999.00  -999.00   \n",
              "1251984 2019-01-31     4.43     88.5    0.392    129.0  ...  -999.00  -999.00   \n",
              "\n",
              "                    18029.0  18027.0  12449.0  12460.0  12483.0  12478.0  \\\n",
              "p_id    EntryDate                                                          \n",
              "42198   2018-06-30   -999.0   -999.0   -999.0   -999.0   -999.0   -999.0   \n",
              "1213024 2016-07-31   -999.0   -999.0      0.9      4.5     64.3     12.0   \n",
              "41412   2021-02-28   -999.0   -999.0   -999.0   -999.0   -999.0   -999.0   \n",
              "589476  2022-03-31   -999.0   -999.0   -999.0   -999.0   -999.0   -999.0   \n",
              "1204096 2015-10-31   -999.0   -999.0   -999.0   -999.0   -999.0   -999.0   \n",
              "...                     ...      ...      ...      ...      ...      ...   \n",
              "157674  2017-12-31   -999.0   -999.0   -999.0   -999.0   -999.0   -999.0   \n",
              "73948   2015-07-31   -999.0   -999.0   -999.0   -999.0   -999.0   -999.0   \n",
              "141211  2022-06-30   -999.0   -999.0   -999.0   -999.0   -999.0   -999.0   \n",
              "28060   2020-07-31   -999.0   -999.0   -999.0   -999.0   -999.0   -999.0   \n",
              "1251984 2019-01-31   -999.0   -999.0   -999.0   -999.0   -999.0   -999.0   \n",
              "\n",
              "                    12471.0  543.0    \n",
              "p_id    EntryDate                     \n",
              "42198   2018-06-30   -999.0     1.87  \n",
              "1213024 2016-07-31     18.3     1.40  \n",
              "41412   2021-02-28   -999.0     1.20  \n",
              "589476  2022-03-31   -999.0     1.77  \n",
              "1204096 2015-10-31   -999.0     1.14  \n",
              "...                     ...      ...  \n",
              "157674  2017-12-31   -999.0  -999.00  \n",
              "73948   2015-07-31   -999.0     1.10  \n",
              "141211  2022-06-30   -999.0  -999.00  \n",
              "28060   2020-07-31   -999.0  -999.00  \n",
              "1251984 2019-01-31   -999.0     2.33  \n",
              "\n",
              "[43520 rows x 34 columns]"
            ],
            "text/html": [
              "\n",
              "  <div id=\"df-1d88749b-364b-4b0f-91a3-ef852c6660cf\">\n",
              "    <div class=\"colab-df-container\">\n",
              "      <div>\n",
              "<style scoped>\n",
              "    .dataframe tbody tr th:only-of-type {\n",
              "        vertical-align: middle;\n",
              "    }\n",
              "\n",
              "    .dataframe tbody tr th {\n",
              "        vertical-align: top;\n",
              "    }\n",
              "\n",
              "    .dataframe thead th {\n",
              "        text-align: right;\n",
              "    }\n",
              "</style>\n",
              "<table border=\"1\" class=\"dataframe\">\n",
              "  <thead>\n",
              "    <tr style=\"text-align: right;\">\n",
              "      <th></th>\n",
              "      <th></th>\n",
              "      <th>8574.0</th>\n",
              "      <th>3086.0</th>\n",
              "      <th>5254.0</th>\n",
              "      <th>2688.0</th>\n",
              "      <th>4769.0</th>\n",
              "      <th>13808.0</th>\n",
              "      <th>1675.0</th>\n",
              "      <th>2419.0</th>\n",
              "      <th>2099.0</th>\n",
              "      <th>1991.0</th>\n",
              "      <th>...</th>\n",
              "      <th>12369.0</th>\n",
              "      <th>12365.0</th>\n",
              "      <th>18029.0</th>\n",
              "      <th>18027.0</th>\n",
              "      <th>12449.0</th>\n",
              "      <th>12460.0</th>\n",
              "      <th>12483.0</th>\n",
              "      <th>12478.0</th>\n",
              "      <th>12471.0</th>\n",
              "      <th>543.0</th>\n",
              "    </tr>\n",
              "    <tr>\n",
              "      <th>p_id</th>\n",
              "      <th>EntryDate</th>\n",
              "      <th></th>\n",
              "      <th></th>\n",
              "      <th></th>\n",
              "      <th></th>\n",
              "      <th></th>\n",
              "      <th></th>\n",
              "      <th></th>\n",
              "      <th></th>\n",
              "      <th></th>\n",
              "      <th></th>\n",
              "      <th></th>\n",
              "      <th></th>\n",
              "      <th></th>\n",
              "      <th></th>\n",
              "      <th></th>\n",
              "      <th></th>\n",
              "      <th></th>\n",
              "      <th></th>\n",
              "      <th></th>\n",
              "      <th></th>\n",
              "      <th></th>\n",
              "    </tr>\n",
              "  </thead>\n",
              "  <tbody>\n",
              "    <tr>\n",
              "      <th>42198</th>\n",
              "      <th>2018-06-30</th>\n",
              "      <td>87.2</td>\n",
              "      <td>9.6</td>\n",
              "      <td>-999.00</td>\n",
              "      <td>214.0</td>\n",
              "      <td>13.4</td>\n",
              "      <td>12.4</td>\n",
              "      <td>4.94</td>\n",
              "      <td>89.7</td>\n",
              "      <td>0.443</td>\n",
              "      <td>151.0</td>\n",
              "      <td>...</td>\n",
              "      <td>-999.00</td>\n",
              "      <td>-999.00</td>\n",
              "      <td>-999.0</td>\n",
              "      <td>-999.0</td>\n",
              "      <td>-999.0</td>\n",
              "      <td>-999.0</td>\n",
              "      <td>-999.0</td>\n",
              "      <td>-999.0</td>\n",
              "      <td>-999.0</td>\n",
              "      <td>1.87</td>\n",
              "    </tr>\n",
              "    <tr>\n",
              "      <th>1213024</th>\n",
              "      <th>2016-07-31</th>\n",
              "      <td>69.2</td>\n",
              "      <td>1.7</td>\n",
              "      <td>4.95</td>\n",
              "      <td>185.0</td>\n",
              "      <td>13.5</td>\n",
              "      <td>6.4</td>\n",
              "      <td>4.92</td>\n",
              "      <td>98.4</td>\n",
              "      <td>0.484</td>\n",
              "      <td>172.0</td>\n",
              "      <td>...</td>\n",
              "      <td>4.11</td>\n",
              "      <td>1.17</td>\n",
              "      <td>-999.0</td>\n",
              "      <td>-999.0</td>\n",
              "      <td>0.9</td>\n",
              "      <td>4.5</td>\n",
              "      <td>64.3</td>\n",
              "      <td>12.0</td>\n",
              "      <td>18.3</td>\n",
              "      <td>1.40</td>\n",
              "    </tr>\n",
              "    <tr>\n",
              "      <th>41412</th>\n",
              "      <th>2021-02-28</th>\n",
              "      <td>94.0</td>\n",
              "      <td>3.3</td>\n",
              "      <td>-999.00</td>\n",
              "      <td>242.0</td>\n",
              "      <td>22.7</td>\n",
              "      <td>9.0</td>\n",
              "      <td>4.09</td>\n",
              "      <td>79.2</td>\n",
              "      <td>0.324</td>\n",
              "      <td>98.0</td>\n",
              "      <td>...</td>\n",
              "      <td>-999.00</td>\n",
              "      <td>-999.00</td>\n",
              "      <td>-999.0</td>\n",
              "      <td>-999.0</td>\n",
              "      <td>-999.0</td>\n",
              "      <td>-999.0</td>\n",
              "      <td>-999.0</td>\n",
              "      <td>-999.0</td>\n",
              "      <td>-999.0</td>\n",
              "      <td>1.20</td>\n",
              "    </tr>\n",
              "    <tr>\n",
              "      <th>589476</th>\n",
              "      <th>2022-03-31</th>\n",
              "      <td>93.1</td>\n",
              "      <td>7.7</td>\n",
              "      <td>-999.00</td>\n",
              "      <td>238.0</td>\n",
              "      <td>13.9</td>\n",
              "      <td>14.9</td>\n",
              "      <td>3.99</td>\n",
              "      <td>91.7</td>\n",
              "      <td>0.366</td>\n",
              "      <td>121.0</td>\n",
              "      <td>...</td>\n",
              "      <td>-999.00</td>\n",
              "      <td>-999.00</td>\n",
              "      <td>-999.0</td>\n",
              "      <td>-999.0</td>\n",
              "      <td>-999.0</td>\n",
              "      <td>-999.0</td>\n",
              "      <td>-999.0</td>\n",
              "      <td>-999.0</td>\n",
              "      <td>-999.0</td>\n",
              "      <td>1.77</td>\n",
              "    </tr>\n",
              "    <tr>\n",
              "      <th>1204096</th>\n",
              "      <th>2015-10-31</th>\n",
              "      <td>115.3</td>\n",
              "      <td>4.9</td>\n",
              "      <td>4.27</td>\n",
              "      <td>149.0</td>\n",
              "      <td>14.1</td>\n",
              "      <td>7.3</td>\n",
              "      <td>4.96</td>\n",
              "      <td>91.3</td>\n",
              "      <td>0.453</td>\n",
              "      <td>150.0</td>\n",
              "      <td>...</td>\n",
              "      <td>-999.00</td>\n",
              "      <td>-999.00</td>\n",
              "      <td>-999.0</td>\n",
              "      <td>-999.0</td>\n",
              "      <td>-999.0</td>\n",
              "      <td>-999.0</td>\n",
              "      <td>-999.0</td>\n",
              "      <td>-999.0</td>\n",
              "      <td>-999.0</td>\n",
              "      <td>1.14</td>\n",
              "    </tr>\n",
              "    <tr>\n",
              "      <th>...</th>\n",
              "      <th>...</th>\n",
              "      <td>...</td>\n",
              "      <td>...</td>\n",
              "      <td>...</td>\n",
              "      <td>...</td>\n",
              "      <td>...</td>\n",
              "      <td>...</td>\n",
              "      <td>...</td>\n",
              "      <td>...</td>\n",
              "      <td>...</td>\n",
              "      <td>...</td>\n",
              "      <td>...</td>\n",
              "      <td>...</td>\n",
              "      <td>...</td>\n",
              "      <td>...</td>\n",
              "      <td>...</td>\n",
              "      <td>...</td>\n",
              "      <td>...</td>\n",
              "      <td>...</td>\n",
              "      <td>...</td>\n",
              "      <td>...</td>\n",
              "      <td>...</td>\n",
              "    </tr>\n",
              "    <tr>\n",
              "      <th>157674</th>\n",
              "      <th>2017-12-31</th>\n",
              "      <td>-999.0</td>\n",
              "      <td>-999.0</td>\n",
              "      <td>-999.00</td>\n",
              "      <td>-999.0</td>\n",
              "      <td>-999.0</td>\n",
              "      <td>-999.0</td>\n",
              "      <td>-999.00</td>\n",
              "      <td>-999.0</td>\n",
              "      <td>-999.000</td>\n",
              "      <td>-999.0</td>\n",
              "      <td>...</td>\n",
              "      <td>-999.00</td>\n",
              "      <td>-999.00</td>\n",
              "      <td>-999.0</td>\n",
              "      <td>-999.0</td>\n",
              "      <td>-999.0</td>\n",
              "      <td>-999.0</td>\n",
              "      <td>-999.0</td>\n",
              "      <td>-999.0</td>\n",
              "      <td>-999.0</td>\n",
              "      <td>-999.00</td>\n",
              "    </tr>\n",
              "    <tr>\n",
              "      <th>73948</th>\n",
              "      <th>2015-07-31</th>\n",
              "      <td>-999.0</td>\n",
              "      <td>-999.0</td>\n",
              "      <td>-999.00</td>\n",
              "      <td>-999.0</td>\n",
              "      <td>-999.0</td>\n",
              "      <td>-999.0</td>\n",
              "      <td>-999.00</td>\n",
              "      <td>-999.0</td>\n",
              "      <td>-999.000</td>\n",
              "      <td>-999.0</td>\n",
              "      <td>...</td>\n",
              "      <td>-999.00</td>\n",
              "      <td>-999.00</td>\n",
              "      <td>-999.0</td>\n",
              "      <td>-999.0</td>\n",
              "      <td>-999.0</td>\n",
              "      <td>-999.0</td>\n",
              "      <td>-999.0</td>\n",
              "      <td>-999.0</td>\n",
              "      <td>-999.0</td>\n",
              "      <td>1.10</td>\n",
              "    </tr>\n",
              "    <tr>\n",
              "      <th>141211</th>\n",
              "      <th>2022-06-30</th>\n",
              "      <td>98.5</td>\n",
              "      <td>7.7</td>\n",
              "      <td>3.47</td>\n",
              "      <td>-999.0</td>\n",
              "      <td>-999.0</td>\n",
              "      <td>-999.0</td>\n",
              "      <td>-999.00</td>\n",
              "      <td>-999.0</td>\n",
              "      <td>-999.000</td>\n",
              "      <td>-999.0</td>\n",
              "      <td>...</td>\n",
              "      <td>-999.00</td>\n",
              "      <td>-999.00</td>\n",
              "      <td>-999.0</td>\n",
              "      <td>-999.0</td>\n",
              "      <td>-999.0</td>\n",
              "      <td>-999.0</td>\n",
              "      <td>-999.0</td>\n",
              "      <td>-999.0</td>\n",
              "      <td>-999.0</td>\n",
              "      <td>-999.00</td>\n",
              "    </tr>\n",
              "    <tr>\n",
              "      <th>28060</th>\n",
              "      <th>2020-07-31</th>\n",
              "      <td>91.0</td>\n",
              "      <td>9.8</td>\n",
              "      <td>4.14</td>\n",
              "      <td>160.0</td>\n",
              "      <td>13.2</td>\n",
              "      <td>7.9</td>\n",
              "      <td>4.65</td>\n",
              "      <td>91.2</td>\n",
              "      <td>0.424</td>\n",
              "      <td>139.0</td>\n",
              "      <td>...</td>\n",
              "      <td>-999.00</td>\n",
              "      <td>-999.00</td>\n",
              "      <td>-999.0</td>\n",
              "      <td>-999.0</td>\n",
              "      <td>-999.0</td>\n",
              "      <td>-999.0</td>\n",
              "      <td>-999.0</td>\n",
              "      <td>-999.0</td>\n",
              "      <td>-999.0</td>\n",
              "      <td>-999.00</td>\n",
              "    </tr>\n",
              "    <tr>\n",
              "      <th>1251984</th>\n",
              "      <th>2019-01-31</th>\n",
              "      <td>153.0</td>\n",
              "      <td>11.1</td>\n",
              "      <td>4.52</td>\n",
              "      <td>253.0</td>\n",
              "      <td>14.1</td>\n",
              "      <td>8.4</td>\n",
              "      <td>4.43</td>\n",
              "      <td>88.5</td>\n",
              "      <td>0.392</td>\n",
              "      <td>129.0</td>\n",
              "      <td>...</td>\n",
              "      <td>-999.00</td>\n",
              "      <td>-999.00</td>\n",
              "      <td>-999.0</td>\n",
              "      <td>-999.0</td>\n",
              "      <td>-999.0</td>\n",
              "      <td>-999.0</td>\n",
              "      <td>-999.0</td>\n",
              "      <td>-999.0</td>\n",
              "      <td>-999.0</td>\n",
              "      <td>2.33</td>\n",
              "    </tr>\n",
              "  </tbody>\n",
              "</table>\n",
              "<p>43520 rows × 34 columns</p>\n",
              "</div>\n",
              "      <button class=\"colab-df-convert\" onclick=\"convertToInteractive('df-1d88749b-364b-4b0f-91a3-ef852c6660cf')\"\n",
              "              title=\"Convert this dataframe to an interactive table.\"\n",
              "              style=\"display:none;\">\n",
              "        \n",
              "  <svg xmlns=\"http://www.w3.org/2000/svg\" height=\"24px\"viewBox=\"0 0 24 24\"\n",
              "       width=\"24px\">\n",
              "    <path d=\"M0 0h24v24H0V0z\" fill=\"none\"/>\n",
              "    <path d=\"M18.56 5.44l.94 2.06.94-2.06 2.06-.94-2.06-.94-.94-2.06-.94 2.06-2.06.94zm-11 1L8.5 8.5l.94-2.06 2.06-.94-2.06-.94L8.5 2.5l-.94 2.06-2.06.94zm10 10l.94 2.06.94-2.06 2.06-.94-2.06-.94-.94-2.06-.94 2.06-2.06.94z\"/><path d=\"M17.41 7.96l-1.37-1.37c-.4-.4-.92-.59-1.43-.59-.52 0-1.04.2-1.43.59L10.3 9.45l-7.72 7.72c-.78.78-.78 2.05 0 2.83L4 21.41c.39.39.9.59 1.41.59.51 0 1.02-.2 1.41-.59l7.78-7.78 2.81-2.81c.8-.78.8-2.07 0-2.86zM5.41 20L4 18.59l7.72-7.72 1.47 1.35L5.41 20z\"/>\n",
              "  </svg>\n",
              "      </button>\n",
              "      \n",
              "  <style>\n",
              "    .colab-df-container {\n",
              "      display:flex;\n",
              "      flex-wrap:wrap;\n",
              "      gap: 12px;\n",
              "    }\n",
              "\n",
              "    .colab-df-convert {\n",
              "      background-color: #E8F0FE;\n",
              "      border: none;\n",
              "      border-radius: 50%;\n",
              "      cursor: pointer;\n",
              "      display: none;\n",
              "      fill: #1967D2;\n",
              "      height: 32px;\n",
              "      padding: 0 0 0 0;\n",
              "      width: 32px;\n",
              "    }\n",
              "\n",
              "    .colab-df-convert:hover {\n",
              "      background-color: #E2EBFA;\n",
              "      box-shadow: 0px 1px 2px rgba(60, 64, 67, 0.3), 0px 1px 3px 1px rgba(60, 64, 67, 0.15);\n",
              "      fill: #174EA6;\n",
              "    }\n",
              "\n",
              "    [theme=dark] .colab-df-convert {\n",
              "      background-color: #3B4455;\n",
              "      fill: #D2E3FC;\n",
              "    }\n",
              "\n",
              "    [theme=dark] .colab-df-convert:hover {\n",
              "      background-color: #434B5C;\n",
              "      box-shadow: 0px 1px 3px 1px rgba(0, 0, 0, 0.15);\n",
              "      filter: drop-shadow(0px 1px 2px rgba(0, 0, 0, 0.3));\n",
              "      fill: #FFFFFF;\n",
              "    }\n",
              "  </style>\n",
              "\n",
              "      <script>\n",
              "        const buttonEl =\n",
              "          document.querySelector('#df-1d88749b-364b-4b0f-91a3-ef852c6660cf button.colab-df-convert');\n",
              "        buttonEl.style.display =\n",
              "          google.colab.kernel.accessAllowed ? 'block' : 'none';\n",
              "\n",
              "        async function convertToInteractive(key) {\n",
              "          const element = document.querySelector('#df-1d88749b-364b-4b0f-91a3-ef852c6660cf');\n",
              "          const dataTable =\n",
              "            await google.colab.kernel.invokeFunction('convertToInteractive',\n",
              "                                                     [key], {});\n",
              "          if (!dataTable) return;\n",
              "\n",
              "          const docLinkHtml = 'Like what you see? Visit the ' +\n",
              "            '<a target=\"_blank\" href=https://colab.research.google.com/notebooks/data_table.ipynb>data table notebook</a>'\n",
              "            + ' to learn more about interactive tables.';\n",
              "          element.innerHTML = '';\n",
              "          dataTable['output_type'] = 'display_data';\n",
              "          await google.colab.output.renderOutput(dataTable, element);\n",
              "          const docLink = document.createElement('div');\n",
              "          docLink.innerHTML = docLinkHtml;\n",
              "          element.appendChild(docLink);\n",
              "        }\n",
              "      </script>\n",
              "    </div>\n",
              "  </div>\n",
              "  "
            ]
          },
          "metadata": {},
          "execution_count": 63
        }
      ]
    },
    {
      "cell_type": "code",
      "source": [
        "test.info()"
      ],
      "metadata": {
        "colab": {
          "base_uri": "https://localhost:8080/"
        },
        "id": "YH0_xIKg_0r0",
        "outputId": "c75ac306-75cb-4a6f-b6be-a3ca4c458135"
      },
      "execution_count": 61,
      "outputs": [
        {
          "output_type": "stream",
          "name": "stdout",
          "text": [
            "<class 'pandas.core.frame.DataFrame'>\n",
            "MultiIndex: 43520 entries, (42198, Timestamp('2018-06-30 00:00:00')) to (1251984, Timestamp('2019-01-31 00:00:00'))\n",
            "Data columns (total 35 columns):\n",
            " #   Column   Non-Null Count  Dtype  \n",
            "---  ------   --------------  -----  \n",
            " 0   8574.0   43520 non-null  float64\n",
            " 1   3086.0   43520 non-null  float64\n",
            " 2   5254.0   43520 non-null  float64\n",
            " 3   2688.0   43520 non-null  float64\n",
            " 4   4769.0   43520 non-null  float64\n",
            " 5   13808.0  43520 non-null  float64\n",
            " 6   1675.0   43520 non-null  float64\n",
            " 7   2419.0   43520 non-null  float64\n",
            " 8   2099.0   43520 non-null  float64\n",
            " 9   1991.0   43520 non-null  float64\n",
            " 10  4726.0   43520 non-null  float64\n",
            " 11  16263.0  43520 non-null  float64\n",
            " 12  18895.0  43520 non-null  float64\n",
            " 13  5272.0   43520 non-null  float64\n",
            " 14  3078.0   43520 non-null  float64\n",
            " 15  582.0    43520 non-null  float64\n",
            " 16  17339.0  43520 non-null  float64\n",
            " 17  921.0    43520 non-null  float64\n",
            " 18  1961.0   43520 non-null  float64\n",
            " 19  3410.0   43520 non-null  float64\n",
            " 20  5143.0   43520 non-null  float64\n",
            " 21  12367.0  43520 non-null  float64\n",
            " 22  12348.0  43520 non-null  float64\n",
            " 23  12347.0  43520 non-null  float64\n",
            " 24  12369.0  43520 non-null  float64\n",
            " 25  12365.0  43520 non-null  float64\n",
            " 26  18029.0  43520 non-null  float64\n",
            " 27  18027.0  43520 non-null  float64\n",
            " 28  12449.0  43520 non-null  float64\n",
            " 29  12460.0  43520 non-null  float64\n",
            " 30  12483.0  43520 non-null  float64\n",
            " 31  12478.0  43520 non-null  float64\n",
            " 32  12471.0  43520 non-null  float64\n",
            " 33  543.0    43520 non-null  float64\n",
            " 34  target   43520 non-null  int64  \n",
            "dtypes: float64(34), int64(1)\n",
            "memory usage: 12.4 MB\n"
          ]
        }
      ]
    },
    {
      "cell_type": "code",
      "source": [
        "[nclp_analytes_mapping[i] for i in train_data.columns[:-1]]"
      ],
      "metadata": {
        "colab": {
          "base_uri": "https://localhost:8080/"
        },
        "id": "fCN0JIPdmQtK",
        "outputId": "626f967c-e489-44a8-9bb8-abc80be47aa8"
      },
      "execution_count": 56,
      "outputs": [
        {
          "output_type": "execute_result",
          "data": {
            "text/plain": [
              "['S-kreatinin',\n",
              " 'S-urea',\n",
              " 'S-draslík (K)',\n",
              " 'trombo',\n",
              " 'anizo ERY-CV',\n",
              " 'Leukocyty WBC',\n",
              " 'Erytrocyty RBC',\n",
              " 'MCV (střední objem ery)',\n",
              " 'Hkt',\n",
              " 'Hemoglobin Hb',\n",
              " 'Objem dest.',\n",
              " 'B_Thr_Aniz_SD',\n",
              " 'B_Thr velké>12fl',\n",
              " 'S-sodík (Na)',\n",
              " 'S-kyselina močová\\xa0',\n",
              " 'S-ALT',\n",
              " 'eGFR-CKD-EPI',\n",
              " 'S-AST',\n",
              " 'GMT',\n",
              " 'pH moč',\n",
              " 'U_spec.hmotnost',\n",
              " 'Monocyty Abs',\n",
              " 'Eozinofily Abs',\n",
              " 'Bazofily Abs',\n",
              " 'Neutrofily Abs',\n",
              " 'Lymfocyty Abs',\n",
              " 'B_Nezr.gran.rel',\n",
              " 'B_Nezr.gran.abs',\n",
              " 'Bazofilní segmenty',\n",
              " 'Eozinofily  % 5P',\n",
              " 'Neutrofilní segmenty % 5P',\n",
              " 'Monocyty % 5P',\n",
              " 'Lymfocyty % 5P',\n",
              " 'Alkalická foshatáza (ALP)']"
            ]
          },
          "metadata": {},
          "execution_count": 56
        }
      ]
    },
    {
      "cell_type": "code",
      "source": [
        "cp ./*.gzip drive/MyDrive/ikem_hackathon/data"
      ],
      "metadata": {
        "id": "dtDebJv1wjy7",
        "colab": {
          "base_uri": "https://localhost:8080/"
        },
        "outputId": "a685c2b2-c6db-42a6-9bc2-6d0e74a10d18"
      },
      "execution_count": 57,
      "outputs": [
        {
          "output_type": "stream",
          "name": "stdout",
          "text": [
            "cp: target 'drive/MyDrive/ikem_hackathon/data' is not a directory\n"
          ]
        }
      ]
    },
    {
      "cell_type": "code",
      "source": [
        "cp ./*.pkl drive/MyDrive/ikem_hackathon/data\n"
      ],
      "metadata": {
        "id": "DPr_6yHUwuAr",
        "colab": {
          "base_uri": "https://localhost:8080/"
        },
        "outputId": "25ccbf10-0d3c-49a0-faca-fe9b5d41e850"
      },
      "execution_count": 58,
      "outputs": [
        {
          "output_type": "stream",
          "name": "stdout",
          "text": [
            "cp: cannot create regular file 'drive/MyDrive/ikem_hackathon/data': No such file or directory\n"
          ]
        }
      ]
    },
    {
      "cell_type": "code",
      "source": [
        "\n",
        "\n",
        "\n",
        "!pip install shap -q\n",
        "import shap\n",
        "explainer = shap.TreeExplainer(model)\n",
        "shap_values = explainer.shap_values(test.iloc[:,:-1])\n",
        "\n",
        "shap.summary_plot(shap_values, test.iloc[:,:-1], max_display=100, feature_names=[nclp_analytes[i] for i in train_data.columns[:-1]])"
      ],
      "metadata": {
        "colab": {
          "base_uri": "https://localhost:8080/",
          "height": 1000
        },
        "id": "wnD5RasJlkBn",
        "outputId": "40e973bd-15da-4790-c769-0f1ec4be69fb"
      },
      "execution_count": 59,
      "outputs": [
        {
          "output_type": "stream",
          "name": "stdout",
          "text": [
            "\u001b[?25l\r\u001b[K     |▋                               | 10 kB 19.4 MB/s eta 0:00:01\r\u001b[K     |█▏                              | 20 kB 5.5 MB/s eta 0:00:01\r\u001b[K     |█▊                              | 30 kB 7.9 MB/s eta 0:00:01\r\u001b[K     |██▎                             | 40 kB 4.5 MB/s eta 0:00:01\r\u001b[K     |██▉                             | 51 kB 4.7 MB/s eta 0:00:01\r\u001b[K     |███▌                            | 61 kB 5.5 MB/s eta 0:00:01\r\u001b[K     |████                            | 71 kB 5.5 MB/s eta 0:00:01\r\u001b[K     |████▋                           | 81 kB 4.3 MB/s eta 0:00:01\r\u001b[K     |█████▏                          | 92 kB 4.8 MB/s eta 0:00:01\r\u001b[K     |█████▊                          | 102 kB 5.1 MB/s eta 0:00:01\r\u001b[K     |██████▎                         | 112 kB 5.1 MB/s eta 0:00:01\r\u001b[K     |███████                         | 122 kB 5.1 MB/s eta 0:00:01\r\u001b[K     |███████▌                        | 133 kB 5.1 MB/s eta 0:00:01\r\u001b[K     |████████                        | 143 kB 5.1 MB/s eta 0:00:01\r\u001b[K     |████████▋                       | 153 kB 5.1 MB/s eta 0:00:01\r\u001b[K     |█████████▏                      | 163 kB 5.1 MB/s eta 0:00:01\r\u001b[K     |█████████▉                      | 174 kB 5.1 MB/s eta 0:00:01\r\u001b[K     |██████████▍                     | 184 kB 5.1 MB/s eta 0:00:01\r\u001b[K     |███████████                     | 194 kB 5.1 MB/s eta 0:00:01\r\u001b[K     |███████████▌                    | 204 kB 5.1 MB/s eta 0:00:01\r\u001b[K     |████████████                    | 215 kB 5.1 MB/s eta 0:00:01\r\u001b[K     |████████████▋                   | 225 kB 5.1 MB/s eta 0:00:01\r\u001b[K     |█████████████▎                  | 235 kB 5.1 MB/s eta 0:00:01\r\u001b[K     |█████████████▉                  | 245 kB 5.1 MB/s eta 0:00:01\r\u001b[K     |██████████████▍                 | 256 kB 5.1 MB/s eta 0:00:01\r\u001b[K     |███████████████                 | 266 kB 5.1 MB/s eta 0:00:01\r\u001b[K     |███████████████▌                | 276 kB 5.1 MB/s eta 0:00:01\r\u001b[K     |████████████████                | 286 kB 5.1 MB/s eta 0:00:01\r\u001b[K     |████████████████▊               | 296 kB 5.1 MB/s eta 0:00:01\r\u001b[K     |█████████████████▎              | 307 kB 5.1 MB/s eta 0:00:01\r\u001b[K     |█████████████████▉              | 317 kB 5.1 MB/s eta 0:00:01\r\u001b[K     |██████████████████▍             | 327 kB 5.1 MB/s eta 0:00:01\r\u001b[K     |███████████████████             | 337 kB 5.1 MB/s eta 0:00:01\r\u001b[K     |███████████████████▋            | 348 kB 5.1 MB/s eta 0:00:01\r\u001b[K     |████████████████████▏           | 358 kB 5.1 MB/s eta 0:00:01\r\u001b[K     |████████████████████▊           | 368 kB 5.1 MB/s eta 0:00:01\r\u001b[K     |█████████████████████▎          | 378 kB 5.1 MB/s eta 0:00:01\r\u001b[K     |█████████████████████▉          | 389 kB 5.1 MB/s eta 0:00:01\r\u001b[K     |██████████████████████▍         | 399 kB 5.1 MB/s eta 0:00:01\r\u001b[K     |███████████████████████         | 409 kB 5.1 MB/s eta 0:00:01\r\u001b[K     |███████████████████████▋        | 419 kB 5.1 MB/s eta 0:00:01\r\u001b[K     |████████████████████████▏       | 430 kB 5.1 MB/s eta 0:00:01\r\u001b[K     |████████████████████████▊       | 440 kB 5.1 MB/s eta 0:00:01\r\u001b[K     |█████████████████████████▎      | 450 kB 5.1 MB/s eta 0:00:01\r\u001b[K     |██████████████████████████      | 460 kB 5.1 MB/s eta 0:00:01\r\u001b[K     |██████████████████████████▌     | 471 kB 5.1 MB/s eta 0:00:01\r\u001b[K     |███████████████████████████     | 481 kB 5.1 MB/s eta 0:00:01\r\u001b[K     |███████████████████████████▋    | 491 kB 5.1 MB/s eta 0:00:01\r\u001b[K     |████████████████████████████▏   | 501 kB 5.1 MB/s eta 0:00:01\r\u001b[K     |████████████████████████████▊   | 512 kB 5.1 MB/s eta 0:00:01\r\u001b[K     |█████████████████████████████▍  | 522 kB 5.1 MB/s eta 0:00:01\r\u001b[K     |██████████████████████████████  | 532 kB 5.1 MB/s eta 0:00:01\r\u001b[K     |██████████████████████████████▌ | 542 kB 5.1 MB/s eta 0:00:01\r\u001b[K     |███████████████████████████████ | 552 kB 5.1 MB/s eta 0:00:01\r\u001b[K     |███████████████████████████████▋| 563 kB 5.1 MB/s eta 0:00:01\r\u001b[K     |████████████████████████████████| 569 kB 5.1 MB/s \n",
            "\u001b[?25h"
          ]
        },
        {
          "output_type": "display_data",
          "data": {
            "text/plain": [
              "<Figure size 576x1087.2 with 2 Axes>"
            ],
            "image/png": "[encoded data removed]"
          },
          "metadata": {
            "needs_background": "light"
          }
        }
      ]
    },
    {
      "cell_type": "code",
      "source": [
        "\n",
        "shap.summary_plot(shap_values, test.iloc[:,:-1], plot_type=\"bar\", feature_names = [nclp_analytes[i] for i in train_data.columns[:-1]])"
      ],
      "metadata": {
        "id": "UKXhJrDErGhJ",
        "colab": {
          "base_uri": "https://localhost:8080/",
          "height": 693
        },
        "outputId": "c5e9144c-e6e2-4848-9760-73fc362eeff9"
      },
      "execution_count": 60,
      "outputs": [
        {
          "output_type": "display_data",
          "data": {
            "text/plain": [
              "<Figure size 576x684 with 1 Axes>"
            ],
            "image/png": "[encoded data removed]"
          },
          "metadata": {
            "needs_background": "light"
          }
        }
      ]
    }
  ],
  "metadata": {
    "colab": {
      "provenance": [],
      "toc_visible": true,
      "include_colab_link": true
    },
    "kernelspec": {
      "display_name": "Python 3",
      "name": "python3"
    },
    "language_info": {
      "name": "python"
    }
  },
  "nbformat": 4,
  "nbformat_minor": 0
}