{
  "cells": [
    {
      "cell_type": "markdown",
      "metadata": {
        "id": "view-in-github",
        "colab_type": "text"
      },
      "source": [
        "<a href=\"https://colab.research.google.com/github/bsenst/LoopOfHenle/blob/main/DataExploration.ipynb\" target=\"_parent\"><img src=\"https://colab.research.google.com/assets/colab-badge.svg\" alt=\"Open In Colab\"/></a>"
      ]
    },
    {
      "cell_type": "code",
      "source": [
        "# https://colab.research.google.com/drive/1UxZ1M0LNUxjiiImYyzObPmgc7_5DE7OH?usp=sharing\n",
        "\n",
        "import pandas as pd\n",
        "import numpy as np\n",
        "! pip install simple-icd-10\n",
        "import simple_icd_10 as icd\n",
        "import matplotlib.pyplot as plt\n",
        "import seaborn as sns"
      ],
      "metadata": {
        "id": "csDXrejPSBF8",
        "colab": {
          "base_uri": "https://localhost:8080/"
        },
        "outputId": "303af972-9578-4f25-9e09-42020eef08c0"
      },
      "execution_count": 329,
      "outputs": [
        {
          "output_type": "stream",
          "name": "stdout",
          "text": [
            "Looking in indexes: https://pypi.org/simple, https://us-python.pkg.dev/colab-wheels/public/simple/\n",
            "Requirement already satisfied: simple-icd-10 in /usr/local/lib/python3.7/dist-packages (2.0.1)\n"
          ]
        }
      ]
    },
    {
      "cell_type": "markdown",
      "source": [
        "# Loading the 4 Datasets ~ 2.360k rows"
      ],
      "metadata": {
        "id": "1yzULO38sFtr"
      }
    },
    {
      "cell_type": "code",
      "execution_count": 221,
      "metadata": {
        "id": "Ut5hsgaaf9u0",
        "colab": {
          "base_uri": "https://localhost:8080/"
        },
        "outputId": "1289e576-0249-4901-e69d-6a7d599d9785"
      },
      "outputs": [
        {
          "output_type": "stream",
          "name": "stdout",
          "text": [
            "<class 'pandas.core.frame.DataFrame'>\n",
            "RangeIndex: 2017427 entries, 0 to 2017426\n",
            "Data columns (total 13 columns):\n",
            " #   Column       Dtype         \n",
            "---  ------       -----         \n",
            " 0   Patient      int64         \n",
            " 1   Report       int64         \n",
            " 2   ID           int64         \n",
            " 3   EntryDate    datetime64[ns]\n",
            " 4   EntryTime    object        \n",
            " 5   Code         object        \n",
            " 6   NCLP         object        \n",
            " 7   Analyte      object        \n",
            " 8   ValueNumber  object        \n",
            " 9   ValueText    object        \n",
            " 10  RefHigh      object        \n",
            " 11  RefLow       object        \n",
            " 12  Unit         object        \n",
            "dtypes: datetime64[ns](1), int64(3), object(9)\n",
            "memory usage: 200.1+ MB\n"
          ]
        }
      ],
      "source": [
        "dtypes = {\"Patient\":np.int64, \"Report\":np.int64, \"ID\":np.int64, \"EntryDate\":str, \"EntryTime\":str, \"Code\":object , \"NCLP\":str, \"Analyte\":str, \"ValueNumber\":str, \"ValueText\":str, \"RefHigh\":object, \"RefLow\":object, \"Unit\":str}\n",
        "lab = pd.read_csv(\"LabsALL 2015-2022.csv\", sep=\";\", dtype=dtypes, parse_dates=[\"EntryDate\", \"EntryTime\"])\n",
        "lab.info()"
      ]
    },
    {
      "cell_type": "code",
      "source": [
        "dgs = pd.read_excel(\"Dg from report.xlsx\")\n",
        "dgs['Date'] = pd.to_datetime(dgs['Date'], unit='d', origin='1899-12-30')\n",
        "dgs.info()"
      ],
      "metadata": {
        "id": "H4fyO4p6AYk0",
        "colab": {
          "base_uri": "https://localhost:8080/"
        },
        "outputId": "a3d5c2a1-ffb9-4e17-a13f-1e745f07a8c6"
      },
      "execution_count": 28,
      "outputs": [
        {
          "output_type": "stream",
          "name": "stdout",
          "text": [
            "<class 'pandas.core.frame.DataFrame'>\n",
            "RangeIndex: 138718 entries, 0 to 138717\n",
            "Data columns (total 4 columns):\n",
            " #   Column       Non-Null Count   Dtype         \n",
            "---  ------       --------------   -----         \n",
            " 0   Patient      138718 non-null  int64         \n",
            " 1   Date         138718 non-null  datetime64[ns]\n",
            " 2   mainDgCode   137984 non-null  object        \n",
            " 3   OtherDgCode  127406 non-null  object        \n",
            "dtypes: datetime64[ns](1), int64(1), object(2)\n",
            "memory usage: 4.2+ MB\n"
          ]
        }
      ]
    },
    {
      "cell_type": "code",
      "source": [
        "demogr = pd.read_excel(\"hackath 112022 - Age SEX CKD.xlsx\")\n",
        "demogr.info()"
      ],
      "metadata": {
        "id": "f9U5n-1brc4f",
        "outputId": "c7195403-9aeb-4d22-b11e-b86dca9a7529",
        "colab": {
          "base_uri": "https://localhost:8080/"
        }
      },
      "execution_count": 4,
      "outputs": [
        {
          "output_type": "stream",
          "name": "stdout",
          "text": [
            "<class 'pandas.core.frame.DataFrame'>\n",
            "RangeIndex: 15570 entries, 0 to 15569\n",
            "Data columns (total 3 columns):\n",
            " #   Column   Non-Null Count  Dtype  \n",
            "---  ------   --------------  -----  \n",
            " 0   Patient  15570 non-null  int64  \n",
            " 1   Sex      15570 non-null  object \n",
            " 2   Age      15570 non-null  float64\n",
            "dtypes: float64(1), int64(1), object(1)\n",
            "memory usage: 365.0+ KB\n"
          ]
        }
      ]
    },
    {
      "cell_type": "code",
      "source": [
        "demogr2 = pd.read_excel(\"hackath 112022 - BMI weight height CKD 1.xlsx\")\n",
        "demogr2.info()"
      ],
      "metadata": {
        "id": "DzZJyvOwrpgf",
        "colab": {
          "base_uri": "https://localhost:8080/"
        },
        "outputId": "5fa971b1-863d-4339-87a3-b0530cb38198"
      },
      "execution_count": 148,
      "outputs": [
        {
          "output_type": "stream",
          "name": "stdout",
          "text": [
            "<class 'pandas.core.frame.DataFrame'>\n",
            "RangeIndex: 153251 entries, 0 to 153250\n",
            "Data columns (total 5 columns):\n",
            " #   Column       Non-Null Count   Dtype         \n",
            "---  ------       --------------   -----         \n",
            " 0   Patient      153251 non-null  int64         \n",
            " 1   date         153251 non-null  datetime64[ns]\n",
            " 2   BMI          153251 non-null  float64       \n",
            " 3   Weight (kg)  153251 non-null  float64       \n",
            " 4   Height (cm)  11834 non-null   float64       \n",
            "dtypes: datetime64[ns](1), float64(3), int64(1)\n",
            "memory usage: 5.8 MB\n"
          ]
        }
      ]
    },
    {
      "cell_type": "markdown",
      "source": [
        "## ~15.000 Patients"
      ],
      "metadata": {
        "id": "6xhqQxY37NsF"
      }
    },
    {
      "cell_type": "code",
      "source": [
        "print(\"showing unique patients in each of the 4 tables:\", end=\" \")\n",
        "print(dgs.Patient.nunique(), lab.Patient.nunique(), demogr.Patient.nunique(), demogr2.Patient.nunique())"
      ],
      "metadata": {
        "id": "SDE4lJebCM5l",
        "colab": {
          "base_uri": "https://localhost:8080/"
        },
        "outputId": "7fd063aa-e360-42d0-ef67-71c194823ed8"
      },
      "execution_count": 149,
      "outputs": [
        {
          "output_type": "stream",
          "name": "stdout",
          "text": [
            "showing unique patients in each of the 4 tables: 15663 336 15570 14354\n"
          ]
        }
      ]
    },
    {
      "cell_type": "markdown",
      "source": [
        "# Data Exploration: unstructured Data"
      ],
      "metadata": {
        "id": "y0PgIaxPslZb"
      }
    },
    {
      "cell_type": "markdown",
      "source": [
        "## Demographic Data (2 Datasets)"
      ],
      "metadata": {
        "id": "obW094xX6_G4"
      }
    },
    {
      "cell_type": "code",
      "source": [
        "print(demogr.columns)\n",
        "print(demogr2.columns)"
      ],
      "metadata": {
        "colab": {
          "base_uri": "https://localhost:8080/"
        },
        "id": "T-kl4kl0Bhza",
        "outputId": "cc04ba3e-2be3-497d-db65-f419aa2b959e"
      },
      "execution_count": 156,
      "outputs": [
        {
          "output_type": "stream",
          "name": "stdout",
          "text": [
            "Index(['Patient', 'Sex', 'Age'], dtype='object')\n",
            "Index(['Patient', 'date', 'BMI', 'Weight (kg)', 'Height (cm)'], dtype='object')\n"
          ]
        }
      ]
    },
    {
      "cell_type": "markdown",
      "source": [
        "### Age and Gender as expected"
      ],
      "metadata": {
        "id": "KJFLf_rqBmta"
      }
    },
    {
      "cell_type": "code",
      "source": [
        "demogr.Sex.value_counts()"
      ],
      "metadata": {
        "colab": {
          "base_uri": "https://localhost:8080/"
        },
        "id": "lOSazYZt9pMF",
        "outputId": "33c1fab3-5426-41ab-ab19-eb2abf80e77d"
      },
      "execution_count": 150,
      "outputs": [
        {
          "output_type": "execute_result",
          "data": {
            "text/plain": [
              "M    8326\n",
              "F    7244\n",
              "Name: Sex, dtype: int64"
            ]
          },
          "metadata": {},
          "execution_count": 150
        }
      ]
    },
    {
      "cell_type": "code",
      "source": [
        "demogr.Age.hist()"
      ],
      "metadata": {
        "colab": {
          "base_uri": "https://localhost:8080/",
          "height": 283
        },
        "id": "Elbc6LCN-mD1",
        "outputId": "3f79d5fc-57de-453a-c16e-d18123f4f439"
      },
      "execution_count": 120,
      "outputs": [
        {
          "output_type": "execute_result",
          "data": {
            "text/plain": [
              "<matplotlib.axes._subplots.AxesSubplot at 0x7f48d4c18990>"
            ]
          },
          "metadata": {},
          "execution_count": 120
        },
        {
          "output_type": "display_data",
          "data": {
            "text/plain": [
              "<Figure size 432x288 with 1 Axes>"
            ],
            "image/png": "[encoded data removed]"
          },
          "metadata": {
            "needs_background": "light"
          }
        }
      ]
    },
    {
      "cell_type": "markdown",
      "source": [
        "### Increased BMI"
      ],
      "metadata": {
        "id": "qurYpUJmBwRV"
      }
    },
    {
      "cell_type": "code",
      "source": [
        "demogr2[[\"BMI\", \"Weight (kg)\", \"Height (cm)\"]].describe()\n",
        "# BMI outlier"
      ],
      "metadata": {
        "colab": {
          "base_uri": "https://localhost:8080/",
          "height": 300
        },
        "id": "Xf3V6XJT-sU7",
        "outputId": "f8f29b8b-c552-4d8e-8fa1-1b45bb588544"
      },
      "execution_count": 159,
      "outputs": [
        {
          "output_type": "execute_result",
          "data": {
            "text/plain": [
              "                 BMI    Weight (kg)   Height (cm)\n",
              "count  153191.000000  153191.000000  11804.000000\n",
              "mean       28.815533      86.179338    172.396306\n",
              "std         5.427697      18.961507     19.211378\n",
              "min         0.300000       0.800000    104.000000\n",
              "25%        25.100000      73.000000    165.000000\n",
              "50%        28.300000      85.000000    172.000000\n",
              "75%        31.900000      97.700000    179.000000\n",
              "max       100.000000     227.000000   1667.000000"
            ],
            "text/html": [
              "\n",
              "  <div id=\"df-3a564754-cb3f-45f0-8ba2-ce054aa17a06\">\n",
              "    <div class=\"colab-df-container\">\n",
              "      <div>\n",
              "<style scoped>\n",
              "    .dataframe tbody tr th:only-of-type {\n",
              "        vertical-align: middle;\n",
              "    }\n",
              "\n",
              "    .dataframe tbody tr th {\n",
              "        vertical-align: top;\n",
              "    }\n",
              "\n",
              "    .dataframe thead th {\n",
              "        text-align: right;\n",
              "    }\n",
              "</style>\n",
              "<table border=\"1\" class=\"dataframe\">\n",
              "  <thead>\n",
              "    <tr style=\"text-align: right;\">\n",
              "      <th></th>\n",
              "      <th>BMI</th>\n",
              "      <th>Weight (kg)</th>\n",
              "      <th>Height (cm)</th>\n",
              "    </tr>\n",
              "  </thead>\n",
              "  <tbody>\n",
              "    <tr>\n",
              "      <th>count</th>\n",
              "      <td>153191.000000</td>\n",
              "      <td>153191.000000</td>\n",
              "      <td>11804.000000</td>\n",
              "    </tr>\n",
              "    <tr>\n",
              "      <th>mean</th>\n",
              "      <td>28.815533</td>\n",
              "      <td>86.179338</td>\n",
              "      <td>172.396306</td>\n",
              "    </tr>\n",
              "    <tr>\n",
              "      <th>std</th>\n",
              "      <td>5.427697</td>\n",
              "      <td>18.961507</td>\n",
              "      <td>19.211378</td>\n",
              "    </tr>\n",
              "    <tr>\n",
              "      <th>min</th>\n",
              "      <td>0.300000</td>\n",
              "      <td>0.800000</td>\n",
              "      <td>104.000000</td>\n",
              "    </tr>\n",
              "    <tr>\n",
              "      <th>25%</th>\n",
              "      <td>25.100000</td>\n",
              "      <td>73.000000</td>\n",
              "      <td>165.000000</td>\n",
              "    </tr>\n",
              "    <tr>\n",
              "      <th>50%</th>\n",
              "      <td>28.300000</td>\n",
              "      <td>85.000000</td>\n",
              "      <td>172.000000</td>\n",
              "    </tr>\n",
              "    <tr>\n",
              "      <th>75%</th>\n",
              "      <td>31.900000</td>\n",
              "      <td>97.700000</td>\n",
              "      <td>179.000000</td>\n",
              "    </tr>\n",
              "    <tr>\n",
              "      <th>max</th>\n",
              "      <td>100.000000</td>\n",
              "      <td>227.000000</td>\n",
              "      <td>1667.000000</td>\n",
              "    </tr>\n",
              "  </tbody>\n",
              "</table>\n",
              "</div>\n",
              "      <button class=\"colab-df-convert\" onclick=\"convertToInteractive('df-3a564754-cb3f-45f0-8ba2-ce054aa17a06')\"\n",
              "              title=\"Convert this dataframe to an interactive table.\"\n",
              "              style=\"display:none;\">\n",
              "        \n",
              "  <svg xmlns=\"http://www.w3.org/2000/svg\" height=\"24px\"viewBox=\"0 0 24 24\"\n",
              "       width=\"24px\">\n",
              "    <path d=\"M0 0h24v24H0V0z\" fill=\"none\"/>\n",
              "    <path d=\"M18.56 5.44l.94 2.06.94-2.06 2.06-.94-2.06-.94-.94-2.06-.94 2.06-2.06.94zm-11 1L8.5 8.5l.94-2.06 2.06-.94-2.06-.94L8.5 2.5l-.94 2.06-2.06.94zm10 10l.94 2.06.94-2.06 2.06-.94-2.06-.94-.94-2.06-.94 2.06-2.06.94z\"/><path d=\"M17.41 7.96l-1.37-1.37c-.4-.4-.92-.59-1.43-.59-.52 0-1.04.2-1.43.59L10.3 9.45l-7.72 7.72c-.78.78-.78 2.05 0 2.83L4 21.41c.39.39.9.59 1.41.59.51 0 1.02-.2 1.41-.59l7.78-7.78 2.81-2.81c.8-.78.8-2.07 0-2.86zM5.41 20L4 18.59l7.72-7.72 1.47 1.35L5.41 20z\"/>\n",
              "  </svg>\n",
              "      </button>\n",
              "      \n",
              "  <style>\n",
              "    .colab-df-container {\n",
              "      display:flex;\n",
              "      flex-wrap:wrap;\n",
              "      gap: 12px;\n",
              "    }\n",
              "\n",
              "    .colab-df-convert {\n",
              "      background-color: #E8F0FE;\n",
              "      border: none;\n",
              "      border-radius: 50%;\n",
              "      cursor: pointer;\n",
              "      display: none;\n",
              "      fill: #1967D2;\n",
              "      height: 32px;\n",
              "      padding: 0 0 0 0;\n",
              "      width: 32px;\n",
              "    }\n",
              "\n",
              "    .colab-df-convert:hover {\n",
              "      background-color: #E2EBFA;\n",
              "      box-shadow: 0px 1px 2px rgba(60, 64, 67, 0.3), 0px 1px 3px 1px rgba(60, 64, 67, 0.15);\n",
              "      fill: #174EA6;\n",
              "    }\n",
              "\n",
              "    [theme=dark] .colab-df-convert {\n",
              "      background-color: #3B4455;\n",
              "      fill: #D2E3FC;\n",
              "    }\n",
              "\n",
              "    [theme=dark] .colab-df-convert:hover {\n",
              "      background-color: #434B5C;\n",
              "      box-shadow: 0px 1px 3px 1px rgba(0, 0, 0, 0.15);\n",
              "      filter: drop-shadow(0px 1px 2px rgba(0, 0, 0, 0.3));\n",
              "      fill: #FFFFFF;\n",
              "    }\n",
              "  </style>\n",
              "\n",
              "      <script>\n",
              "        const buttonEl =\n",
              "          document.querySelector('#df-3a564754-cb3f-45f0-8ba2-ce054aa17a06 button.colab-df-convert');\n",
              "        buttonEl.style.display =\n",
              "          google.colab.kernel.accessAllowed ? 'block' : 'none';\n",
              "\n",
              "        async function convertToInteractive(key) {\n",
              "          const element = document.querySelector('#df-3a564754-cb3f-45f0-8ba2-ce054aa17a06');\n",
              "          const dataTable =\n",
              "            await google.colab.kernel.invokeFunction('convertToInteractive',\n",
              "                                                     [key], {});\n",
              "          if (!dataTable) return;\n",
              "\n",
              "          const docLinkHtml = 'Like what you see? Visit the ' +\n",
              "            '<a target=\"_blank\" href=https://colab.research.google.com/notebooks/data_table.ipynb>data table notebook</a>'\n",
              "            + ' to learn more about interactive tables.';\n",
              "          element.innerHTML = '';\n",
              "          dataTable['output_type'] = 'display_data';\n",
              "          await google.colab.output.renderOutput(dataTable, element);\n",
              "          const docLink = document.createElement('div');\n",
              "          docLink.innerHTML = docLinkHtml;\n",
              "          element.appendChild(docLink);\n",
              "        }\n",
              "      </script>\n",
              "    </div>\n",
              "  </div>\n",
              "  "
            ]
          },
          "metadata": {},
          "execution_count": 159
        }
      ]
    },
    {
      "cell_type": "code",
      "source": [
        "demogr2.boxplot(column=[\"BMI\"])\n",
        "# many outliers when size or weight are not documented or random placeholder are used"
      ],
      "metadata": {
        "colab": {
          "base_uri": "https://localhost:8080/",
          "height": 283
        },
        "id": "eJIx1OdO_HgG",
        "outputId": "41f70c6b-c2f8-4548-a19e-276a06c64abe"
      },
      "execution_count": 155,
      "outputs": [
        {
          "output_type": "execute_result",
          "data": {
            "text/plain": [
              "<matplotlib.axes._subplots.AxesSubplot at 0x7f48d53f8e90>"
            ]
          },
          "metadata": {},
          "execution_count": 155
        },
        {
          "output_type": "display_data",
          "data": {
            "text/plain": [
              "<Figure size 432x288 with 1 Axes>"
            ],
            "image/png": "[encoded data removed]"
          },
          "metadata": {
            "needs_background": "light"
          }
        }
      ]
    },
    {
      "cell_type": "markdown",
      "source": [
        "## Diagnoses"
      ],
      "metadata": {
        "id": "ph7YGcQcuPE_"
      }
    },
    {
      "cell_type": "code",
      "source": [
        "dgs.head()"
      ],
      "metadata": {
        "colab": {
          "base_uri": "https://localhost:8080/",
          "height": 206
        },
        "id": "6ULpv_uZuqMU",
        "outputId": "f8a79a87-f164-499b-a127-425684ad0c24"
      },
      "execution_count": 29,
      "outputs": [
        {
          "output_type": "execute_result",
          "data": {
            "text/plain": [
              "   Patient       Date                                         mainDgCode  \\\n",
              "0   209536 2015-01-29                    E06.3: Autoimunitní tyroiditida   \n",
              "1     8451 2015-01-08  E10.9: Diabetes mellitus 1. typu, léč. intenzi...   \n",
              "2     8451 2015-01-08  E10.9: Diabetes mellitus 1. typu, léč. intenzi...   \n",
              "3     8451 2015-01-08  E10.9: Diabetes mellitus 1. typu, léč. intenzi...   \n",
              "4     8451 2015-01-08  E10.9: Diabetes mellitus 1. typu, léč. intenzi...   \n",
              "\n",
              "                                         OtherDgCode  \n",
              "0                  E78.0: Čistá hypercholesterolemie  \n",
              "1                            Autoimunní thyreoiditis  \n",
              "2                                 Perniciózní anemie  \n",
              "3                     Surditas vlevo, tinnitus vlevo  \n",
              "4  Difuzní jaterní léze - steatóza až incipientní...  "
            ],
            "text/html": [
              "\n",
              "  <div id=\"df-fe5b023d-653b-4751-b67e-fced00477e6c\">\n",
              "    <div class=\"colab-df-container\">\n",
              "      <div>\n",
              "<style scoped>\n",
              "    .dataframe tbody tr th:only-of-type {\n",
              "        vertical-align: middle;\n",
              "    }\n",
              "\n",
              "    .dataframe tbody tr th {\n",
              "        vertical-align: top;\n",
              "    }\n",
              "\n",
              "    .dataframe thead th {\n",
              "        text-align: right;\n",
              "    }\n",
              "</style>\n",
              "<table border=\"1\" class=\"dataframe\">\n",
              "  <thead>\n",
              "    <tr style=\"text-align: right;\">\n",
              "      <th></th>\n",
              "      <th>Patient</th>\n",
              "      <th>Date</th>\n",
              "      <th>mainDgCode</th>\n",
              "      <th>OtherDgCode</th>\n",
              "    </tr>\n",
              "  </thead>\n",
              "  <tbody>\n",
              "    <tr>\n",
              "      <th>0</th>\n",
              "      <td>209536</td>\n",
              "      <td>2015-01-29</td>\n",
              "      <td>E06.3: Autoimunitní tyroiditida</td>\n",
              "      <td>E78.0: Čistá hypercholesterolemie</td>\n",
              "    </tr>\n",
              "    <tr>\n",
              "      <th>1</th>\n",
              "      <td>8451</td>\n",
              "      <td>2015-01-08</td>\n",
              "      <td>E10.9: Diabetes mellitus 1. typu, léč. intenzi...</td>\n",
              "      <td>Autoimunní thyreoiditis</td>\n",
              "    </tr>\n",
              "    <tr>\n",
              "      <th>2</th>\n",
              "      <td>8451</td>\n",
              "      <td>2015-01-08</td>\n",
              "      <td>E10.9: Diabetes mellitus 1. typu, léč. intenzi...</td>\n",
              "      <td>Perniciózní anemie</td>\n",
              "    </tr>\n",
              "    <tr>\n",
              "      <th>3</th>\n",
              "      <td>8451</td>\n",
              "      <td>2015-01-08</td>\n",
              "      <td>E10.9: Diabetes mellitus 1. typu, léč. intenzi...</td>\n",
              "      <td>Surditas vlevo, tinnitus vlevo</td>\n",
              "    </tr>\n",
              "    <tr>\n",
              "      <th>4</th>\n",
              "      <td>8451</td>\n",
              "      <td>2015-01-08</td>\n",
              "      <td>E10.9: Diabetes mellitus 1. typu, léč. intenzi...</td>\n",
              "      <td>Difuzní jaterní léze - steatóza až incipientní...</td>\n",
              "    </tr>\n",
              "  </tbody>\n",
              "</table>\n",
              "</div>\n",
              "      <button class=\"colab-df-convert\" onclick=\"convertToInteractive('df-fe5b023d-653b-4751-b67e-fced00477e6c')\"\n",
              "              title=\"Convert this dataframe to an interactive table.\"\n",
              "              style=\"display:none;\">\n",
              "        \n",
              "  <svg xmlns=\"http://www.w3.org/2000/svg\" height=\"24px\"viewBox=\"0 0 24 24\"\n",
              "       width=\"24px\">\n",
              "    <path d=\"M0 0h24v24H0V0z\" fill=\"none\"/>\n",
              "    <path d=\"M18.56 5.44l.94 2.06.94-2.06 2.06-.94-2.06-.94-.94-2.06-.94 2.06-2.06.94zm-11 1L8.5 8.5l.94-2.06 2.06-.94-2.06-.94L8.5 2.5l-.94 2.06-2.06.94zm10 10l.94 2.06.94-2.06 2.06-.94-2.06-.94-.94-2.06-.94 2.06-2.06.94z\"/><path d=\"M17.41 7.96l-1.37-1.37c-.4-.4-.92-.59-1.43-.59-.52 0-1.04.2-1.43.59L10.3 9.45l-7.72 7.72c-.78.78-.78 2.05 0 2.83L4 21.41c.39.39.9.59 1.41.59.51 0 1.02-.2 1.41-.59l7.78-7.78 2.81-2.81c.8-.78.8-2.07 0-2.86zM5.41 20L4 18.59l7.72-7.72 1.47 1.35L5.41 20z\"/>\n",
              "  </svg>\n",
              "      </button>\n",
              "      \n",
              "  <style>\n",
              "    .colab-df-container {\n",
              "      display:flex;\n",
              "      flex-wrap:wrap;\n",
              "      gap: 12px;\n",
              "    }\n",
              "\n",
              "    .colab-df-convert {\n",
              "      background-color: #E8F0FE;\n",
              "      border: none;\n",
              "      border-radius: 50%;\n",
              "      cursor: pointer;\n",
              "      display: none;\n",
              "      fill: #1967D2;\n",
              "      height: 32px;\n",
              "      padding: 0 0 0 0;\n",
              "      width: 32px;\n",
              "    }\n",
              "\n",
              "    .colab-df-convert:hover {\n",
              "      background-color: #E2EBFA;\n",
              "      box-shadow: 0px 1px 2px rgba(60, 64, 67, 0.3), 0px 1px 3px 1px rgba(60, 64, 67, 0.15);\n",
              "      fill: #174EA6;\n",
              "    }\n",
              "\n",
              "    [theme=dark] .colab-df-convert {\n",
              "      background-color: #3B4455;\n",
              "      fill: #D2E3FC;\n",
              "    }\n",
              "\n",
              "    [theme=dark] .colab-df-convert:hover {\n",
              "      background-color: #434B5C;\n",
              "      box-shadow: 0px 1px 3px 1px rgba(0, 0, 0, 0.15);\n",
              "      filter: drop-shadow(0px 1px 2px rgba(0, 0, 0, 0.3));\n",
              "      fill: #FFFFFF;\n",
              "    }\n",
              "  </style>\n",
              "\n",
              "      <script>\n",
              "        const buttonEl =\n",
              "          document.querySelector('#df-fe5b023d-653b-4751-b67e-fced00477e6c button.colab-df-convert');\n",
              "        buttonEl.style.display =\n",
              "          google.colab.kernel.accessAllowed ? 'block' : 'none';\n",
              "\n",
              "        async function convertToInteractive(key) {\n",
              "          const element = document.querySelector('#df-fe5b023d-653b-4751-b67e-fced00477e6c');\n",
              "          const dataTable =\n",
              "            await google.colab.kernel.invokeFunction('convertToInteractive',\n",
              "                                                     [key], {});\n",
              "          if (!dataTable) return;\n",
              "\n",
              "          const docLinkHtml = 'Like what you see? Visit the ' +\n",
              "            '<a target=\"_blank\" href=https://colab.research.google.com/notebooks/data_table.ipynb>data table notebook</a>'\n",
              "            + ' to learn more about interactive tables.';\n",
              "          element.innerHTML = '';\n",
              "          dataTable['output_type'] = 'display_data';\n",
              "          await google.colab.output.renderOutput(dataTable, element);\n",
              "          const docLink = document.createElement('div');\n",
              "          docLink.innerHTML = docLinkHtml;\n",
              "          element.appendChild(docLink);\n",
              "        }\n",
              "      </script>\n",
              "    </div>\n",
              "  </div>\n",
              "  "
            ]
          },
          "metadata": {},
          "execution_count": 29
        }
      ]
    },
    {
      "cell_type": "code",
      "source": [
        "icd = [str(i).split(\":\")[0] for i in dgs.mainDgCode]\n",
        "# listing the frequency of diseases\n",
        "dgs[\"icd\"] = icd"
      ],
      "metadata": {
        "id": "2-r708egMWu0"
      },
      "execution_count": 31,
      "outputs": []
    },
    {
      "cell_type": "code",
      "source": [
        "dgs = dgs[[\"Patient\", \"Date\", \"icd\"]]"
      ],
      "metadata": {
        "id": "652Yql-_yRRG"
      },
      "execution_count": 32,
      "outputs": []
    },
    {
      "cell_type": "code",
      "source": [
        "for dg in dgs[\"icd\"][dgs.Patient==8451].unique():\n",
        "  print(icd.get_description(dg))\n",
        "# One Patient with ID 8451 has Entries at four dates."
      ],
      "metadata": {
        "colab": {
          "base_uri": "https://localhost:8080/"
        },
        "id": "b7KH22naMiCC",
        "outputId": "46e9edf1-5df1-4ce9-82c7-9699d4358b1f"
      },
      "execution_count": 44,
      "outputs": [
        {
          "output_type": "stream",
          "name": "stdout",
          "text": [
            "Type 1 diabetes mellitus without complications\n",
            "Autoimmune thyroiditis\n",
            "Calculus of gallbladder with other cholecystitis\n"
          ]
        }
      ]
    },
    {
      "cell_type": "code",
      "source": [
        "ckd = [ckd for ckd in dgs[\"icd\"] if \"N18\" in ckd]\n",
        "len(ckd)\n",
        "# number of diagnoses N18"
      ],
      "metadata": {
        "colab": {
          "base_uri": "https://localhost:8080/"
        },
        "id": "tXlXmF2wz8hY",
        "outputId": "1f7340ce-f57a-462f-8252-68fc20fa96c8"
      },
      "execution_count": 181,
      "outputs": [
        {
          "output_type": "execute_result",
          "data": {
            "text/plain": [
              "455"
            ]
          },
          "metadata": {},
          "execution_count": 181
        }
      ]
    },
    {
      "cell_type": "code",
      "source": [
        "dgs[\"ckd\"] = [1 if \"N18\" in ckd else 0 for ckd in dgs.icd]\n",
        "len(demogr.Patient.unique()) / (len(dgs[\"Patient\"][dgs.ckd==1].unique()) * 100)"
      ],
      "metadata": {
        "colab": {
          "base_uri": "https://localhost:8080/"
        },
        "id": "NZJXfTgXGOmo",
        "outputId": "541439e2-85dd-4fd8-b9c0-2c0921fc919b"
      },
      "execution_count": 182,
      "outputs": [
        {
          "output_type": "execute_result",
          "data": {
            "text/plain": [
              "2.0486842105263157"
            ]
          },
          "metadata": {},
          "execution_count": 182
        }
      ]
    },
    {
      "cell_type": "markdown",
      "source": [
        "### 2% suffering from N18"
      ],
      "metadata": {
        "id": "H7mR4aoh2q5w"
      }
    },
    {
      "cell_type": "code",
      "source": [
        "dgs[dgs.ckd==1].drop_duplicates()"
      ],
      "metadata": {
        "colab": {
          "base_uri": "https://localhost:8080/",
          "height": 423
        },
        "id": "j6oBQ8xwGz-S",
        "outputId": "dea6a719-4220-422e-a46c-c0bd76cef2a7"
      },
      "execution_count": 189,
      "outputs": [
        {
          "output_type": "execute_result",
          "data": {
            "text/plain": [
              "        Patient       Date    icd  ckd\n",
              "60943   1229879 2022-01-05  N18.5    1\n",
              "62303     14324 2022-01-07  N18.4    1\n",
              "62498     68164 2022-01-07  N18.4    1\n",
              "63058     43841 2022-01-10  N18.4    1\n",
              "63259    111929 2022-01-10  N18.4    1\n",
              "...         ...        ...    ...  ...\n",
              "133182    16447 2022-10-10  N18.4    1\n",
              "135309   174983 2022-10-25  N18.4    1\n",
              "135955  1254969 2022-11-01  N18.2    1\n",
              "136502   185245 2022-11-15  N18.4    1\n",
              "138197    16447 2022-11-22  N18.3    1\n",
              "\n",
              "[97 rows x 4 columns]"
            ],
            "text/html": [
              "\n",
              "  <div id=\"df-d18a61b1-4520-43f9-8263-7d089668f8ed\">\n",
              "    <div class=\"colab-df-container\">\n",
              "      <div>\n",
              "<style scoped>\n",
              "    .dataframe tbody tr th:only-of-type {\n",
              "        vertical-align: middle;\n",
              "    }\n",
              "\n",
              "    .dataframe tbody tr th {\n",
              "        vertical-align: top;\n",
              "    }\n",
              "\n",
              "    .dataframe thead th {\n",
              "        text-align: right;\n",
              "    }\n",
              "</style>\n",
              "<table border=\"1\" class=\"dataframe\">\n",
              "  <thead>\n",
              "    <tr style=\"text-align: right;\">\n",
              "      <th></th>\n",
              "      <th>Patient</th>\n",
              "      <th>Date</th>\n",
              "      <th>icd</th>\n",
              "      <th>ckd</th>\n",
              "    </tr>\n",
              "  </thead>\n",
              "  <tbody>\n",
              "    <tr>\n",
              "      <th>60943</th>\n",
              "      <td>1229879</td>\n",
              "      <td>2022-01-05</td>\n",
              "      <td>N18.5</td>\n",
              "      <td>1</td>\n",
              "    </tr>\n",
              "    <tr>\n",
              "      <th>62303</th>\n",
              "      <td>14324</td>\n",
              "      <td>2022-01-07</td>\n",
              "      <td>N18.4</td>\n",
              "      <td>1</td>\n",
              "    </tr>\n",
              "    <tr>\n",
              "      <th>62498</th>\n",
              "      <td>68164</td>\n",
              "      <td>2022-01-07</td>\n",
              "      <td>N18.4</td>\n",
              "      <td>1</td>\n",
              "    </tr>\n",
              "    <tr>\n",
              "      <th>63058</th>\n",
              "      <td>43841</td>\n",
              "      <td>2022-01-10</td>\n",
              "      <td>N18.4</td>\n",
              "      <td>1</td>\n",
              "    </tr>\n",
              "    <tr>\n",
              "      <th>63259</th>\n",
              "      <td>111929</td>\n",
              "      <td>2022-01-10</td>\n",
              "      <td>N18.4</td>\n",
              "      <td>1</td>\n",
              "    </tr>\n",
              "    <tr>\n",
              "      <th>...</th>\n",
              "      <td>...</td>\n",
              "      <td>...</td>\n",
              "      <td>...</td>\n",
              "      <td>...</td>\n",
              "    </tr>\n",
              "    <tr>\n",
              "      <th>133182</th>\n",
              "      <td>16447</td>\n",
              "      <td>2022-10-10</td>\n",
              "      <td>N18.4</td>\n",
              "      <td>1</td>\n",
              "    </tr>\n",
              "    <tr>\n",
              "      <th>135309</th>\n",
              "      <td>174983</td>\n",
              "      <td>2022-10-25</td>\n",
              "      <td>N18.4</td>\n",
              "      <td>1</td>\n",
              "    </tr>\n",
              "    <tr>\n",
              "      <th>135955</th>\n",
              "      <td>1254969</td>\n",
              "      <td>2022-11-01</td>\n",
              "      <td>N18.2</td>\n",
              "      <td>1</td>\n",
              "    </tr>\n",
              "    <tr>\n",
              "      <th>136502</th>\n",
              "      <td>185245</td>\n",
              "      <td>2022-11-15</td>\n",
              "      <td>N18.4</td>\n",
              "      <td>1</td>\n",
              "    </tr>\n",
              "    <tr>\n",
              "      <th>138197</th>\n",
              "      <td>16447</td>\n",
              "      <td>2022-11-22</td>\n",
              "      <td>N18.3</td>\n",
              "      <td>1</td>\n",
              "    </tr>\n",
              "  </tbody>\n",
              "</table>\n",
              "<p>97 rows × 4 columns</p>\n",
              "</div>\n",
              "      <button class=\"colab-df-convert\" onclick=\"convertToInteractive('df-d18a61b1-4520-43f9-8263-7d089668f8ed')\"\n",
              "              title=\"Convert this dataframe to an interactive table.\"\n",
              "              style=\"display:none;\">\n",
              "        \n",
              "  <svg xmlns=\"http://www.w3.org/2000/svg\" height=\"24px\"viewBox=\"0 0 24 24\"\n",
              "       width=\"24px\">\n",
              "    <path d=\"M0 0h24v24H0V0z\" fill=\"none\"/>\n",
              "    <path d=\"M18.56 5.44l.94 2.06.94-2.06 2.06-.94-2.06-.94-.94-2.06-.94 2.06-2.06.94zm-11 1L8.5 8.5l.94-2.06 2.06-.94-2.06-.94L8.5 2.5l-.94 2.06-2.06.94zm10 10l.94 2.06.94-2.06 2.06-.94-2.06-.94-.94-2.06-.94 2.06-2.06.94z\"/><path d=\"M17.41 7.96l-1.37-1.37c-.4-.4-.92-.59-1.43-.59-.52 0-1.04.2-1.43.59L10.3 9.45l-7.72 7.72c-.78.78-.78 2.05 0 2.83L4 21.41c.39.39.9.59 1.41.59.51 0 1.02-.2 1.41-.59l7.78-7.78 2.81-2.81c.8-.78.8-2.07 0-2.86zM5.41 20L4 18.59l7.72-7.72 1.47 1.35L5.41 20z\"/>\n",
              "  </svg>\n",
              "      </button>\n",
              "      \n",
              "  <style>\n",
              "    .colab-df-container {\n",
              "      display:flex;\n",
              "      flex-wrap:wrap;\n",
              "      gap: 12px;\n",
              "    }\n",
              "\n",
              "    .colab-df-convert {\n",
              "      background-color: #E8F0FE;\n",
              "      border: none;\n",
              "      border-radius: 50%;\n",
              "      cursor: pointer;\n",
              "      display: none;\n",
              "      fill: #1967D2;\n",
              "      height: 32px;\n",
              "      padding: 0 0 0 0;\n",
              "      width: 32px;\n",
              "    }\n",
              "\n",
              "    .colab-df-convert:hover {\n",
              "      background-color: #E2EBFA;\n",
              "      box-shadow: 0px 1px 2px rgba(60, 64, 67, 0.3), 0px 1px 3px 1px rgba(60, 64, 67, 0.15);\n",
              "      fill: #174EA6;\n",
              "    }\n",
              "\n",
              "    [theme=dark] .colab-df-convert {\n",
              "      background-color: #3B4455;\n",
              "      fill: #D2E3FC;\n",
              "    }\n",
              "\n",
              "    [theme=dark] .colab-df-convert:hover {\n",
              "      background-color: #434B5C;\n",
              "      box-shadow: 0px 1px 3px 1px rgba(0, 0, 0, 0.15);\n",
              "      filter: drop-shadow(0px 1px 2px rgba(0, 0, 0, 0.3));\n",
              "      fill: #FFFFFF;\n",
              "    }\n",
              "  </style>\n",
              "\n",
              "      <script>\n",
              "        const buttonEl =\n",
              "          document.querySelector('#df-d18a61b1-4520-43f9-8263-7d089668f8ed button.colab-df-convert');\n",
              "        buttonEl.style.display =\n",
              "          google.colab.kernel.accessAllowed ? 'block' : 'none';\n",
              "\n",
              "        async function convertToInteractive(key) {\n",
              "          const element = document.querySelector('#df-d18a61b1-4520-43f9-8263-7d089668f8ed');\n",
              "          const dataTable =\n",
              "            await google.colab.kernel.invokeFunction('convertToInteractive',\n",
              "                                                     [key], {});\n",
              "          if (!dataTable) return;\n",
              "\n",
              "          const docLinkHtml = 'Like what you see? Visit the ' +\n",
              "            '<a target=\"_blank\" href=https://colab.research.google.com/notebooks/data_table.ipynb>data table notebook</a>'\n",
              "            + ' to learn more about interactive tables.';\n",
              "          element.innerHTML = '';\n",
              "          dataTable['output_type'] = 'display_data';\n",
              "          await google.colab.output.renderOutput(dataTable, element);\n",
              "          const docLink = document.createElement('div');\n",
              "          docLink.innerHTML = docLinkHtml;\n",
              "          element.appendChild(docLink);\n",
              "        }\n",
              "      </script>\n",
              "    </div>\n",
              "  </div>\n",
              "  "
            ]
          },
          "metadata": {},
          "execution_count": 189
        }
      ]
    },
    {
      "cell_type": "code",
      "source": [
        "ckd_pdframe = dgs[dgs.ckd==1].drop_duplicates()\n",
        "ckd_pdseries = ckd_pdframe.icd.value_counts()\n",
        "print(ckd_pdseries)\n",
        "plt.pie(ckd_pdseries.values, labels=list(ckd_pdseries.index))\n",
        "plt.show()"
      ],
      "metadata": {
        "colab": {
          "base_uri": "https://localhost:8080/",
          "height": 377
        },
        "id": "hTZyK1vR0NRx",
        "outputId": "61e6e99c-ce35-4b8a-c8bc-8f4fd1935165"
      },
      "execution_count": 191,
      "outputs": [
        {
          "output_type": "stream",
          "name": "stdout",
          "text": [
            "N18.3    39\n",
            "N18.4    30\n",
            "N18.2    11\n",
            "N18.5    10\n",
            "N18.1     4\n",
            "N18.9     3\n",
            "Name: icd, dtype: int64\n"
          ]
        },
        {
          "output_type": "display_data",
          "data": {
            "text/plain": [
              "<Figure size 432x288 with 1 Axes>"
            ],
            "image/png": "[encoded data removed]"
          },
          "metadata": {}
        }
      ]
    },
    {
      "cell_type": "markdown",
      "source": [
        "### HTN, CAD, DM, DCM, AFib, CHF most common"
      ],
      "metadata": {
        "id": "6ZN4XjeR6tO5"
      }
    },
    {
      "cell_type": "code",
      "source": [
        "commonicd = dgs.icd.value_counts()[:40]\n",
        "for i, c in commonicd.items():\n",
        "  # print(i, icd.get_description(i), c)\n",
        "  print(str(c).ljust(8), i, icd.get_description(i))"
      ],
      "metadata": {
        "colab": {
          "base_uri": "https://localhost:8080/"
        },
        "id": "dx8ss-oz2pgu",
        "outputId": "103a5459-bf7d-4610-f213-7f3d7f16588c"
      },
      "execution_count": 91,
      "outputs": [
        {
          "output_type": "stream",
          "name": "stdout",
          "text": [
            "19526    I10 Essential (primary) hypertension\n",
            "7256     I25.9 Chronic ischaemic heart disease, unspecified\n",
            "4771     E11.9 Type 2 diabetes mellitus without complications\n",
            "4607     E10.7 Type 1 diabetes mellitus with multiple complications\n",
            "3700     E11.7 Type 2 diabetes mellitus with multiple complications\n",
            "3402     I42.0 Dilated cardiomyopathy\n",
            "3144     I48.1 Persistent atrial fibrillation\n",
            "3109     E78.2 Mixed hyperlipidaemia\n",
            "3095     I50.0 Congestive heart failure\n",
            "2918     I25.8 Other forms of chronic ischaemic heart disease\n",
            "2692     I48.0 Paroxysmal atrial fibrillation\n",
            "2331     E10.9 Type 1 diabetes mellitus without complications\n",
            "2097     E06.3 Autoimmune thyroiditis\n",
            "1987     I34.0 Mitral (valve) insufficiency\n",
            "1811     I50.1 Left ventricular failure\n",
            "1730     E11.8 Type 2 diabetes mellitus with unspecified complications\n",
            "1555     E78.0 Pure hypercholesterolaemia\n",
            "1358     E78.9 Disorder of lipoprotein metabolism, unspecified\n",
            "1304     Z95.0 Presence of electronic cardiac devices\n",
            "1284     I35.0 Aortic (valve) stenosis\n",
            "1138     I49.5 Sick sinus syndrome\n",
            "1133     I48.9 Atrial fibrillation and atrial flutter, unspecified\n",
            "963      I25.0 Atherosclerotic cardiovascular disease, so described\n",
            "937      I47.2 Ventricular tachycardia\n",
            "920      I25.1 Atherosclerotic heart disease\n",
            "918      K76.0 Fatty (change of) liver, not elsewhere classified\n",
            "916      E04.2 Nontoxic multinodular goitre\n",
            "903      K30 Functional dyspepsia\n",
            "892      I50.9 Heart failure, unspecified\n",
            "879      I48.2 Chronic atrial fibrillation\n",
            "877      I35.1 Aortic (valve) insufficiency\n",
            "838      J45.0 Predominantly allergic asthma\n",
            "833      E11.4 Type 2 diabetes mellitus with neurological complications\n",
            "833      E11.5 Type 2 diabetes mellitus with peripheral circulatory complications\n",
            "831      Z95.2 Presence of prosthetic heart valve\n",
            "831      I25.2 Old myocardial infarction\n",
            "815      K76.8 Other specified diseases of liver\n",
            "811      I44.2 Atrioventricular block, complete\n",
            "738      I25.5 Ischaemic cardiomyopathy\n",
            "735      E10.3 Type 1 diabetes mellitus with ophthalmic complications\n"
          ]
        }
      ]
    },
    {
      "cell_type": "markdown",
      "source": [
        "### Circulatory and Metabolic Medicine"
      ],
      "metadata": {
        "id": "NuQI80cs6jSX"
      }
    },
    {
      "cell_type": "code",
      "source": [
        "specialty = list()\n",
        "for i in dgs.icd:\n",
        "  try:\n",
        "    sg = icd.get_parent(i[:3])\n",
        "    s = icd.get_parent(sg)\n",
        "    specialty.append((icd.get_description(s), sg[0]))\n",
        "  except:\n",
        "    pass\n",
        "pd.Series(specialty).value_counts()"
      ],
      "metadata": {
        "colab": {
          "base_uri": "https://localhost:8080/"
        },
        "id": "za1K_gXI4AN5",
        "outputId": "916f253e-6db2-4306-d70c-fec4a41bef1a"
      },
      "execution_count": 112,
      "outputs": [
        {
          "output_type": "execute_result",
          "data": {
            "text/plain": [
              "(Diseases of the circulatory system, I)                                                                                                  70734\n",
              "(Endocrine, nutritional and metabolic diseases, E)                                                                                       34231\n",
              "(Diseases of the digestive system, K)                                                                                                    12447\n",
              "(Factors influencing health status and contact with health services, Z)                                                                   4279\n",
              "(Diseases of the respiratory system, J)                                                                                                   2610\n",
              "(Diseases of the blood and blood-forming organs and certain disorders involving the immune mechanism, D)                                  1893\n",
              "(Symptoms, signs and abnormal clinical and laboratory findings, not elsewhere classified, R)                                              1723\n",
              "(Certain infectious and parasitic diseases, B)                                                                                            1317\n",
              "(Dorsopathies, M)                                                                                                                         1266\n",
              "(Neoplasms, D)                                                                                                                            1173\n",
              "(Congenital malformations, deformations and chromosomal abnormalities, Q)                                                                 1085\n",
              "(Diseases of the genitourinary system, N)                                                                                                  978\n",
              "(Malignant neoplasms, stated or presumed to be primary, of specified sites, except of lymphoid, haematopoietic and related tissue, C)      897\n",
              "(Diseases of the skin and subcutaneous tissue, L)                                                                                          693\n",
              "(Osteopathies and chondropathies, M)                                                                                                       506\n",
              "(Diseases of the nervous system, G)                                                                                                        399\n",
              "(Arthropathies, M)                                                                                                                         364\n",
              "(Diseases of the musculoskeletal system and connective tissue, M)                                                                          333\n",
              "(Soft tissue disorders, M)                                                                                                                 182\n",
              "(Malignant neoplasms, C)                                                                                                                   169\n",
              "(Injury, poisoning and certain other consequences of external causes, T)                                                                   163\n",
              "(Mental and behavioural disorders, F)                                                                                                      130\n",
              "(Certain infectious and parasitic diseases, A)                                                                                             122\n",
              "(Injury, poisoning and certain other consequences of external causes, S)                                                                    92\n",
              "(Codes for special purposes, U)                                                                                                             82\n",
              "(Diseases of the ear and mastoid process, H)                                                                                                54\n",
              "(Diseases of the eye and adnexa, H)                                                                                                         33\n",
              "(Pregnancy, childbirth and the puerperium, O)                                                                                                6\n",
              "(Burns and corrosions, T)                                                                                                                    2\n",
              "dtype: int64"
            ]
          },
          "metadata": {},
          "execution_count": 112
        }
      ]
    },
    {
      "cell_type": "code",
      "source": [
        "demogr.Sex.value_counts()"
      ],
      "metadata": {
        "colab": {
          "base_uri": "https://localhost:8080/"
        },
        "id": "y5yJ5YVV7Bu5",
        "outputId": "10d563fb-3399-41a4-bcf0-6d7b0e0a47a2"
      },
      "execution_count": 115,
      "outputs": [
        {
          "output_type": "execute_result",
          "data": {
            "text/plain": [
              "M    8326\n",
              "F    7244\n",
              "Name: Sex, dtype: int64"
            ]
          },
          "metadata": {},
          "execution_count": 115
        }
      ]
    },
    {
      "cell_type": "markdown",
      "source": [
        "## Laboratory Data"
      ],
      "metadata": {
        "id": "mi0Vx_XmtqA5"
      }
    },
    {
      "cell_type": "code",
      "source": [
        "print(list(lab.columns))\n",
        "lab.shape"
      ],
      "metadata": {
        "colab": {
          "base_uri": "https://localhost:8080/"
        },
        "id": "F3DVs8KWQ4lO",
        "outputId": "d1fc8316-20de-4273-e239-1b31fd2f463f"
      },
      "execution_count": 225,
      "outputs": [
        {
          "output_type": "stream",
          "name": "stdout",
          "text": [
            "['Patient', 'Report', 'ID', 'EntryDate', 'EntryTime', 'Code', 'NCLP', 'Analyte', 'ValueNumber', 'ValueText', 'RefHigh', 'RefLow', 'Unit', 'ckd']\n"
          ]
        },
        {
          "output_type": "execute_result",
          "data": {
            "text/plain": [
              "(2017427, 14)"
            ]
          },
          "metadata": {},
          "execution_count": 225
        }
      ]
    },
    {
      "cell_type": "code",
      "source": [
        "lab.head()"
      ],
      "metadata": {
        "colab": {
          "base_uri": "https://localhost:8080/",
          "height": 374
        },
        "id": "rtvHVjQYC5y0",
        "outputId": "34eec54c-b4e7-4c5e-d6fa-a7e1d7ab0962"
      },
      "execution_count": 223,
      "outputs": [
        {
          "output_type": "execute_result",
          "data": {
            "text/plain": [
              "   Patient    Report         ID  EntryDate           EntryTime  \\\n",
              "0   324729  27200171  154214712 2022-09-30  30.12.1899 7:42:00   \n",
              "1   324729  27200171  154214720 2022-09-30  30.12.1899 7:42:00   \n",
              "2   324729   1453155   18244355 2015-04-16  30.12.1899 7:31:00   \n",
              "3   324729   1453155   18244356 2015-04-16  30.12.1899 7:31:00   \n",
              "4   324729   1453155   18244357 2015-04-16  30.12.1899 7:31:00   \n",
              "\n",
              "              Code   NCLP                      Analyte ValueNumber ValueText  \\\n",
              "0  SZU-HEP_0004__R    NaN             HBsAg konfirmace         NaN   externě   \n",
              "1   ZU-OKM_0024__R    NaN  Rotaviry + Noroviry stolice         NaN     odběr   \n",
              "2              NaN  03482               s_vápník celk.        2.37       NaN   \n",
              "3              NaN  02618                     s_fosfor        1.32       NaN   \n",
              "4              NaN  03940                     s_hořčík        0.75       NaN   \n",
              "\n",
              "  RefHigh RefLow    Unit  \n",
              "0     NaN    NaN     NaN  \n",
              "1     NaN    NaN     NaN  \n",
              "2    2.55   2.15  mmol/l  \n",
              "3    1.23   0.71  mmol/l  \n",
              "4    0.94   0.71  mmol/l  "
            ],
            "text/html": [
              "\n",
              "  <div id=\"df-fd64302b-9e73-407b-a677-fe3890ad26a2\">\n",
              "    <div class=\"colab-df-container\">\n",
              "      <div>\n",
              "<style scoped>\n",
              "    .dataframe tbody tr th:only-of-type {\n",
              "        vertical-align: middle;\n",
              "    }\n",
              "\n",
              "    .dataframe tbody tr th {\n",
              "        vertical-align: top;\n",
              "    }\n",
              "\n",
              "    .dataframe thead th {\n",
              "        text-align: right;\n",
              "    }\n",
              "</style>\n",
              "<table border=\"1\" class=\"dataframe\">\n",
              "  <thead>\n",
              "    <tr style=\"text-align: right;\">\n",
              "      <th></th>\n",
              "      <th>Patient</th>\n",
              "      <th>Report</th>\n",
              "      <th>ID</th>\n",
              "      <th>EntryDate</th>\n",
              "      <th>EntryTime</th>\n",
              "      <th>Code</th>\n",
              "      <th>NCLP</th>\n",
              "      <th>Analyte</th>\n",
              "      <th>ValueNumber</th>\n",
              "      <th>ValueText</th>\n",
              "      <th>RefHigh</th>\n",
              "      <th>RefLow</th>\n",
              "      <th>Unit</th>\n",
              "    </tr>\n",
              "  </thead>\n",
              "  <tbody>\n",
              "    <tr>\n",
              "      <th>0</th>\n",
              "      <td>324729</td>\n",
              "      <td>27200171</td>\n",
              "      <td>154214712</td>\n",
              "      <td>2022-09-30</td>\n",
              "      <td>30.12.1899 7:42:00</td>\n",
              "      <td>SZU-HEP_0004__R</td>\n",
              "      <td>NaN</td>\n",
              "      <td>HBsAg konfirmace</td>\n",
              "      <td>NaN</td>\n",
              "      <td>externě</td>\n",
              "      <td>NaN</td>\n",
              "      <td>NaN</td>\n",
              "      <td>NaN</td>\n",
              "    </tr>\n",
              "    <tr>\n",
              "      <th>1</th>\n",
              "      <td>324729</td>\n",
              "      <td>27200171</td>\n",
              "      <td>154214720</td>\n",
              "      <td>2022-09-30</td>\n",
              "      <td>30.12.1899 7:42:00</td>\n",
              "      <td>ZU-OKM_0024__R</td>\n",
              "      <td>NaN</td>\n",
              "      <td>Rotaviry + Noroviry stolice</td>\n",
              "      <td>NaN</td>\n",
              "      <td>odběr</td>\n",
              "      <td>NaN</td>\n",
              "      <td>NaN</td>\n",
              "      <td>NaN</td>\n",
              "    </tr>\n",
              "    <tr>\n",
              "      <th>2</th>\n",
              "      <td>324729</td>\n",
              "      <td>1453155</td>\n",
              "      <td>18244355</td>\n",
              "      <td>2015-04-16</td>\n",
              "      <td>30.12.1899 7:31:00</td>\n",
              "      <td>NaN</td>\n",
              "      <td>03482</td>\n",
              "      <td>s_vápník celk.</td>\n",
              "      <td>2.37</td>\n",
              "      <td>NaN</td>\n",
              "      <td>2.55</td>\n",
              "      <td>2.15</td>\n",
              "      <td>mmol/l</td>\n",
              "    </tr>\n",
              "    <tr>\n",
              "      <th>3</th>\n",
              "      <td>324729</td>\n",
              "      <td>1453155</td>\n",
              "      <td>18244356</td>\n",
              "      <td>2015-04-16</td>\n",
              "      <td>30.12.1899 7:31:00</td>\n",
              "      <td>NaN</td>\n",
              "      <td>02618</td>\n",
              "      <td>s_fosfor</td>\n",
              "      <td>1.32</td>\n",
              "      <td>NaN</td>\n",
              "      <td>1.23</td>\n",
              "      <td>0.71</td>\n",
              "      <td>mmol/l</td>\n",
              "    </tr>\n",
              "    <tr>\n",
              "      <th>4</th>\n",
              "      <td>324729</td>\n",
              "      <td>1453155</td>\n",
              "      <td>18244357</td>\n",
              "      <td>2015-04-16</td>\n",
              "      <td>30.12.1899 7:31:00</td>\n",
              "      <td>NaN</td>\n",
              "      <td>03940</td>\n",
              "      <td>s_hořčík</td>\n",
              "      <td>0.75</td>\n",
              "      <td>NaN</td>\n",
              "      <td>0.94</td>\n",
              "      <td>0.71</td>\n",
              "      <td>mmol/l</td>\n",
              "    </tr>\n",
              "  </tbody>\n",
              "</table>\n",
              "</div>\n",
              "      <button class=\"colab-df-convert\" onclick=\"convertToInteractive('df-fd64302b-9e73-407b-a677-fe3890ad26a2')\"\n",
              "              title=\"Convert this dataframe to an interactive table.\"\n",
              "              style=\"display:none;\">\n",
              "        \n",
              "  <svg xmlns=\"http://www.w3.org/2000/svg\" height=\"24px\"viewBox=\"0 0 24 24\"\n",
              "       width=\"24px\">\n",
              "    <path d=\"M0 0h24v24H0V0z\" fill=\"none\"/>\n",
              "    <path d=\"M18.56 5.44l.94 2.06.94-2.06 2.06-.94-2.06-.94-.94-2.06-.94 2.06-2.06.94zm-11 1L8.5 8.5l.94-2.06 2.06-.94-2.06-.94L8.5 2.5l-.94 2.06-2.06.94zm10 10l.94 2.06.94-2.06 2.06-.94-2.06-.94-.94-2.06-.94 2.06-2.06.94z\"/><path d=\"M17.41 7.96l-1.37-1.37c-.4-.4-.92-.59-1.43-.59-.52 0-1.04.2-1.43.59L10.3 9.45l-7.72 7.72c-.78.78-.78 2.05 0 2.83L4 21.41c.39.39.9.59 1.41.59.51 0 1.02-.2 1.41-.59l7.78-7.78 2.81-2.81c.8-.78.8-2.07 0-2.86zM5.41 20L4 18.59l7.72-7.72 1.47 1.35L5.41 20z\"/>\n",
              "  </svg>\n",
              "      </button>\n",
              "      \n",
              "  <style>\n",
              "    .colab-df-container {\n",
              "      display:flex;\n",
              "      flex-wrap:wrap;\n",
              "      gap: 12px;\n",
              "    }\n",
              "\n",
              "    .colab-df-convert {\n",
              "      background-color: #E8F0FE;\n",
              "      border: none;\n",
              "      border-radius: 50%;\n",
              "      cursor: pointer;\n",
              "      display: none;\n",
              "      fill: #1967D2;\n",
              "      height: 32px;\n",
              "      padding: 0 0 0 0;\n",
              "      width: 32px;\n",
              "    }\n",
              "\n",
              "    .colab-df-convert:hover {\n",
              "      background-color: #E2EBFA;\n",
              "      box-shadow: 0px 1px 2px rgba(60, 64, 67, 0.3), 0px 1px 3px 1px rgba(60, 64, 67, 0.15);\n",
              "      fill: #174EA6;\n",
              "    }\n",
              "\n",
              "    [theme=dark] .colab-df-convert {\n",
              "      background-color: #3B4455;\n",
              "      fill: #D2E3FC;\n",
              "    }\n",
              "\n",
              "    [theme=dark] .colab-df-convert:hover {\n",
              "      background-color: #434B5C;\n",
              "      box-shadow: 0px 1px 3px 1px rgba(0, 0, 0, 0.15);\n",
              "      filter: drop-shadow(0px 1px 2px rgba(0, 0, 0, 0.3));\n",
              "      fill: #FFFFFF;\n",
              "    }\n",
              "  </style>\n",
              "\n",
              "      <script>\n",
              "        const buttonEl =\n",
              "          document.querySelector('#df-fd64302b-9e73-407b-a677-fe3890ad26a2 button.colab-df-convert');\n",
              "        buttonEl.style.display =\n",
              "          google.colab.kernel.accessAllowed ? 'block' : 'none';\n",
              "\n",
              "        async function convertToInteractive(key) {\n",
              "          const element = document.querySelector('#df-fd64302b-9e73-407b-a677-fe3890ad26a2');\n",
              "          const dataTable =\n",
              "            await google.colab.kernel.invokeFunction('convertToInteractive',\n",
              "                                                     [key], {});\n",
              "          if (!dataTable) return;\n",
              "\n",
              "          const docLinkHtml = 'Like what you see? Visit the ' +\n",
              "            '<a target=\"_blank\" href=https://colab.research.google.com/notebooks/data_table.ipynb>data table notebook</a>'\n",
              "            + ' to learn more about interactive tables.';\n",
              "          element.innerHTML = '';\n",
              "          dataTable['output_type'] = 'display_data';\n",
              "          await google.colab.output.renderOutput(dataTable, element);\n",
              "          const docLink = document.createElement('div');\n",
              "          docLink.innerHTML = docLinkHtml;\n",
              "          element.appendChild(docLink);\n",
              "        }\n",
              "      </script>\n",
              "    </div>\n",
              "  </div>\n",
              "  "
            ]
          },
          "metadata": {},
          "execution_count": 223
        }
      ]
    },
    {
      "cell_type": "code",
      "source": [
        "ckd_lab_label = []\n",
        "for p in lab.Patient:\n",
        "  if p in set(ckd_pdframe.Patient):\n",
        "    ckd_lab_label.append(1)\n",
        "  else:\n",
        "    ckd_lab_label.append(0)\n",
        "lab[\"ckd\"] = ckd_lab_label\n",
        "lab[lab[\"ckd\"]==1]"
      ],
      "metadata": {
        "colab": {
          "base_uri": "https://localhost:8080/",
          "height": 661
        },
        "id": "1BLWZQSRDpTV",
        "outputId": "d4e035ca-4da6-4ba5-f3bc-e45f08b0760b"
      },
      "execution_count": 224,
      "outputs": [
        {
          "output_type": "execute_result",
          "data": {
            "text/plain": [
              "         Patient    Report         ID  EntryDate           EntryTime  \\\n",
              "12076      43841  27069845  151902046 2022-01-12  30.12.1899 7:00:00   \n",
              "12077      43841  27069845  151902047 2022-01-12  30.12.1899 7:00:00   \n",
              "12078      43841  27069845  151902048 2022-01-12  30.12.1899 7:00:00   \n",
              "12079      43841  27069845  151902049 2022-01-12  30.12.1899 7:00:00   \n",
              "12080      43841  27069845  151902050 2022-01-12  30.12.1899 7:00:00   \n",
              "...          ...       ...        ...        ...                 ...   \n",
              "1896087    10304  27445638  159106886 2022-04-10  30.12.1899 7:43:00   \n",
              "1896088    10304  27445638  159106887 2022-04-10  30.12.1899 7:43:00   \n",
              "1896089    10304  27445638  159106888 2022-04-10  30.12.1899 7:43:00   \n",
              "1896090    10304  27445638  159106889 2022-04-10  30.12.1899 7:43:00   \n",
              "1896091    10304  27445638  159106890 2022-04-10  30.12.1899 7:43:00   \n",
              "\n",
              "                     Code   NCLP            Analyte ValueNumber ValueText  \\\n",
              "12076    IKEM-PLM_0332__R    NaN  B-CrossLaps(mass)         NaN  ordinace   \n",
              "12077    IKEM-PLM_0325__R    NaN               P1NP         NaN  ordinace   \n",
              "12078    IKEM-ISS_0017__R    NaN           25(OH)D3         NaN  ordinace   \n",
              "12079    IKEM-ISS_0016__R    NaN         1,25(OH)D3         NaN  ordinace   \n",
              "12080    IKEM-PLM_0852__R    NaN                TSH         NaN  ordinace   \n",
              "...                   ...    ...                ...         ...       ...   \n",
              "1896087               NaN  12374              s_TAG        1.74       NaN   \n",
              "1896088               NaN  02036     s_HDL cholest.        0.88       NaN   \n",
              "1896089               NaN  01522              s_CRP        13.5       NaN   \n",
              "1896090               NaN  17357   non HDL cholest.         3.8       NaN   \n",
              "1896091               NaN  19338              s_AFP         4.9       NaN   \n",
              "\n",
              "        RefHigh RefLow    Unit  ckd  \n",
              "12076       NaN    NaN     NaN    1  \n",
              "12077       NaN    NaN     NaN    1  \n",
              "12078       NaN    NaN     NaN    1  \n",
              "12079       NaN    NaN     NaN    1  \n",
              "12080       NaN    NaN     NaN    1  \n",
              "...         ...    ...     ...  ...  \n",
              "1896087    1.69   0.50  mmol/l    1  \n",
              "1896088    2.70   1.20  mmol/l    1  \n",
              "1896089     5.0    0.0    mg/l    1  \n",
              "1896090     3.8    2.0  mmol/l    1  \n",
              "1896091     7.0    0.0    µg/l    1  \n",
              "\n",
              "[27555 rows x 14 columns]"
            ],
            "text/html": [
              "\n",
              "  <div id=\"df-fc81746a-a285-4e4d-8f8c-7bd34aa3fcc4\">\n",
              "    <div class=\"colab-df-container\">\n",
              "      <div>\n",
              "<style scoped>\n",
              "    .dataframe tbody tr th:only-of-type {\n",
              "        vertical-align: middle;\n",
              "    }\n",
              "\n",
              "    .dataframe tbody tr th {\n",
              "        vertical-align: top;\n",
              "    }\n",
              "\n",
              "    .dataframe thead th {\n",
              "        text-align: right;\n",
              "    }\n",
              "</style>\n",
              "<table border=\"1\" class=\"dataframe\">\n",
              "  <thead>\n",
              "    <tr style=\"text-align: right;\">\n",
              "      <th></th>\n",
              "      <th>Patient</th>\n",
              "      <th>Report</th>\n",
              "      <th>ID</th>\n",
              "      <th>EntryDate</th>\n",
              "      <th>EntryTime</th>\n",
              "      <th>Code</th>\n",
              "      <th>NCLP</th>\n",
              "      <th>Analyte</th>\n",
              "      <th>ValueNumber</th>\n",
              "      <th>ValueText</th>\n",
              "      <th>RefHigh</th>\n",
              "      <th>RefLow</th>\n",
              "      <th>Unit</th>\n",
              "      <th>ckd</th>\n",
              "    </tr>\n",
              "  </thead>\n",
              "  <tbody>\n",
              "    <tr>\n",
              "      <th>12076</th>\n",
              "      <td>43841</td>\n",
              "      <td>27069845</td>\n",
              "      <td>151902046</td>\n",
              "      <td>2022-01-12</td>\n",
              "      <td>30.12.1899 7:00:00</td>\n",
              "      <td>IKEM-PLM_0332__R</td>\n",
              "      <td>NaN</td>\n",
              "      <td>B-CrossLaps(mass)</td>\n",
              "      <td>NaN</td>\n",
              "      <td>ordinace</td>\n",
              "      <td>NaN</td>\n",
              "      <td>NaN</td>\n",
              "      <td>NaN</td>\n",
              "      <td>1</td>\n",
              "    </tr>\n",
              "    <tr>\n",
              "      <th>12077</th>\n",
              "      <td>43841</td>\n",
              "      <td>27069845</td>\n",
              "      <td>151902047</td>\n",
              "      <td>2022-01-12</td>\n",
              "      <td>30.12.1899 7:00:00</td>\n",
              "      <td>IKEM-PLM_0325__R</td>\n",
              "      <td>NaN</td>\n",
              "      <td>P1NP</td>\n",
              "      <td>NaN</td>\n",
              "      <td>ordinace</td>\n",
              "      <td>NaN</td>\n",
              "      <td>NaN</td>\n",
              "      <td>NaN</td>\n",
              "      <td>1</td>\n",
              "    </tr>\n",
              "    <tr>\n",
              "      <th>12078</th>\n",
              "      <td>43841</td>\n",
              "      <td>27069845</td>\n",
              "      <td>151902048</td>\n",
              "      <td>2022-01-12</td>\n",
              "      <td>30.12.1899 7:00:00</td>\n",
              "      <td>IKEM-ISS_0017__R</td>\n",
              "      <td>NaN</td>\n",
              "      <td>25(OH)D3</td>\n",
              "      <td>NaN</td>\n",
              "      <td>ordinace</td>\n",
              "      <td>NaN</td>\n",
              "      <td>NaN</td>\n",
              "      <td>NaN</td>\n",
              "      <td>1</td>\n",
              "    </tr>\n",
              "    <tr>\n",
              "      <th>12079</th>\n",
              "      <td>43841</td>\n",
              "      <td>27069845</td>\n",
              "      <td>151902049</td>\n",
              "      <td>2022-01-12</td>\n",
              "      <td>30.12.1899 7:00:00</td>\n",
              "      <td>IKEM-ISS_0016__R</td>\n",
              "      <td>NaN</td>\n",
              "      <td>1,25(OH)D3</td>\n",
              "      <td>NaN</td>\n",
              "      <td>ordinace</td>\n",
              "      <td>NaN</td>\n",
              "      <td>NaN</td>\n",
              "      <td>NaN</td>\n",
              "      <td>1</td>\n",
              "    </tr>\n",
              "    <tr>\n",
              "      <th>12080</th>\n",
              "      <td>43841</td>\n",
              "      <td>27069845</td>\n",
              "      <td>151902050</td>\n",
              "      <td>2022-01-12</td>\n",
              "      <td>30.12.1899 7:00:00</td>\n",
              "      <td>IKEM-PLM_0852__R</td>\n",
              "      <td>NaN</td>\n",
              "      <td>TSH</td>\n",
              "      <td>NaN</td>\n",
              "      <td>ordinace</td>\n",
              "      <td>NaN</td>\n",
              "      <td>NaN</td>\n",
              "      <td>NaN</td>\n",
              "      <td>1</td>\n",
              "    </tr>\n",
              "    <tr>\n",
              "      <th>...</th>\n",
              "      <td>...</td>\n",
              "      <td>...</td>\n",
              "      <td>...</td>\n",
              "      <td>...</td>\n",
              "      <td>...</td>\n",
              "      <td>...</td>\n",
              "      <td>...</td>\n",
              "      <td>...</td>\n",
              "      <td>...</td>\n",
              "      <td>...</td>\n",
              "      <td>...</td>\n",
              "      <td>...</td>\n",
              "      <td>...</td>\n",
              "      <td>...</td>\n",
              "    </tr>\n",
              "    <tr>\n",
              "      <th>1896087</th>\n",
              "      <td>10304</td>\n",
              "      <td>27445638</td>\n",
              "      <td>159106886</td>\n",
              "      <td>2022-04-10</td>\n",
              "      <td>30.12.1899 7:43:00</td>\n",
              "      <td>NaN</td>\n",
              "      <td>12374</td>\n",
              "      <td>s_TAG</td>\n",
              "      <td>1.74</td>\n",
              "      <td>NaN</td>\n",
              "      <td>1.69</td>\n",
              "      <td>0.50</td>\n",
              "      <td>mmol/l</td>\n",
              "      <td>1</td>\n",
              "    </tr>\n",
              "    <tr>\n",
              "      <th>1896088</th>\n",
              "      <td>10304</td>\n",
              "      <td>27445638</td>\n",
              "      <td>159106887</td>\n",
              "      <td>2022-04-10</td>\n",
              "      <td>30.12.1899 7:43:00</td>\n",
              "      <td>NaN</td>\n",
              "      <td>02036</td>\n",
              "      <td>s_HDL cholest.</td>\n",
              "      <td>0.88</td>\n",
              "      <td>NaN</td>\n",
              "      <td>2.70</td>\n",
              "      <td>1.20</td>\n",
              "      <td>mmol/l</td>\n",
              "      <td>1</td>\n",
              "    </tr>\n",
              "    <tr>\n",
              "      <th>1896089</th>\n",
              "      <td>10304</td>\n",
              "      <td>27445638</td>\n",
              "      <td>159106888</td>\n",
              "      <td>2022-04-10</td>\n",
              "      <td>30.12.1899 7:43:00</td>\n",
              "      <td>NaN</td>\n",
              "      <td>01522</td>\n",
              "      <td>s_CRP</td>\n",
              "      <td>13.5</td>\n",
              "      <td>NaN</td>\n",
              "      <td>5.0</td>\n",
              "      <td>0.0</td>\n",
              "      <td>mg/l</td>\n",
              "      <td>1</td>\n",
              "    </tr>\n",
              "    <tr>\n",
              "      <th>1896090</th>\n",
              "      <td>10304</td>\n",
              "      <td>27445638</td>\n",
              "      <td>159106889</td>\n",
              "      <td>2022-04-10</td>\n",
              "      <td>30.12.1899 7:43:00</td>\n",
              "      <td>NaN</td>\n",
              "      <td>17357</td>\n",
              "      <td>non HDL cholest.</td>\n",
              "      <td>3.8</td>\n",
              "      <td>NaN</td>\n",
              "      <td>3.8</td>\n",
              "      <td>2.0</td>\n",
              "      <td>mmol/l</td>\n",
              "      <td>1</td>\n",
              "    </tr>\n",
              "    <tr>\n",
              "      <th>1896091</th>\n",
              "      <td>10304</td>\n",
              "      <td>27445638</td>\n",
              "      <td>159106890</td>\n",
              "      <td>2022-04-10</td>\n",
              "      <td>30.12.1899 7:43:00</td>\n",
              "      <td>NaN</td>\n",
              "      <td>19338</td>\n",
              "      <td>s_AFP</td>\n",
              "      <td>4.9</td>\n",
              "      <td>NaN</td>\n",
              "      <td>7.0</td>\n",
              "      <td>0.0</td>\n",
              "      <td>µg/l</td>\n",
              "      <td>1</td>\n",
              "    </tr>\n",
              "  </tbody>\n",
              "</table>\n",
              "<p>27555 rows × 14 columns</p>\n",
              "</div>\n",
              "      <button class=\"colab-df-convert\" onclick=\"convertToInteractive('df-fc81746a-a285-4e4d-8f8c-7bd34aa3fcc4')\"\n",
              "              title=\"Convert this dataframe to an interactive table.\"\n",
              "              style=\"display:none;\">\n",
              "        \n",
              "  <svg xmlns=\"http://www.w3.org/2000/svg\" height=\"24px\"viewBox=\"0 0 24 24\"\n",
              "       width=\"24px\">\n",
              "    <path d=\"M0 0h24v24H0V0z\" fill=\"none\"/>\n",
              "    <path d=\"M18.56 5.44l.94 2.06.94-2.06 2.06-.94-2.06-.94-.94-2.06-.94 2.06-2.06.94zm-11 1L8.5 8.5l.94-2.06 2.06-.94-2.06-.94L8.5 2.5l-.94 2.06-2.06.94zm10 10l.94 2.06.94-2.06 2.06-.94-2.06-.94-.94-2.06-.94 2.06-2.06.94z\"/><path d=\"M17.41 7.96l-1.37-1.37c-.4-.4-.92-.59-1.43-.59-.52 0-1.04.2-1.43.59L10.3 9.45l-7.72 7.72c-.78.78-.78 2.05 0 2.83L4 21.41c.39.39.9.59 1.41.59.51 0 1.02-.2 1.41-.59l7.78-7.78 2.81-2.81c.8-.78.8-2.07 0-2.86zM5.41 20L4 18.59l7.72-7.72 1.47 1.35L5.41 20z\"/>\n",
              "  </svg>\n",
              "      </button>\n",
              "      \n",
              "  <style>\n",
              "    .colab-df-container {\n",
              "      display:flex;\n",
              "      flex-wrap:wrap;\n",
              "      gap: 12px;\n",
              "    }\n",
              "\n",
              "    .colab-df-convert {\n",
              "      background-color: #E8F0FE;\n",
              "      border: none;\n",
              "      border-radius: 50%;\n",
              "      cursor: pointer;\n",
              "      display: none;\n",
              "      fill: #1967D2;\n",
              "      height: 32px;\n",
              "      padding: 0 0 0 0;\n",
              "      width: 32px;\n",
              "    }\n",
              "\n",
              "    .colab-df-convert:hover {\n",
              "      background-color: #E2EBFA;\n",
              "      box-shadow: 0px 1px 2px rgba(60, 64, 67, 0.3), 0px 1px 3px 1px rgba(60, 64, 67, 0.15);\n",
              "      fill: #174EA6;\n",
              "    }\n",
              "\n",
              "    [theme=dark] .colab-df-convert {\n",
              "      background-color: #3B4455;\n",
              "      fill: #D2E3FC;\n",
              "    }\n",
              "\n",
              "    [theme=dark] .colab-df-convert:hover {\n",
              "      background-color: #434B5C;\n",
              "      box-shadow: 0px 1px 3px 1px rgba(0, 0, 0, 0.15);\n",
              "      filter: drop-shadow(0px 1px 2px rgba(0, 0, 0, 0.3));\n",
              "      fill: #FFFFFF;\n",
              "    }\n",
              "  </style>\n",
              "\n",
              "      <script>\n",
              "        const buttonEl =\n",
              "          document.querySelector('#df-fc81746a-a285-4e4d-8f8c-7bd34aa3fcc4 button.colab-df-convert');\n",
              "        buttonEl.style.display =\n",
              "          google.colab.kernel.accessAllowed ? 'block' : 'none';\n",
              "\n",
              "        async function convertToInteractive(key) {\n",
              "          const element = document.querySelector('#df-fc81746a-a285-4e4d-8f8c-7bd34aa3fcc4');\n",
              "          const dataTable =\n",
              "            await google.colab.kernel.invokeFunction('convertToInteractive',\n",
              "                                                     [key], {});\n",
              "          if (!dataTable) return;\n",
              "\n",
              "          const docLinkHtml = 'Like what you see? Visit the ' +\n",
              "            '<a target=\"_blank\" href=https://colab.research.google.com/notebooks/data_table.ipynb>data table notebook</a>'\n",
              "            + ' to learn more about interactive tables.';\n",
              "          element.innerHTML = '';\n",
              "          dataTable['output_type'] = 'display_data';\n",
              "          await google.colab.output.renderOutput(dataTable, element);\n",
              "          const docLink = document.createElement('div');\n",
              "          docLink.innerHTML = docLinkHtml;\n",
              "          element.appendChild(docLink);\n",
              "        }\n",
              "      </script>\n",
              "    </div>\n",
              "  </div>\n",
              "  "
            ]
          },
          "metadata": {},
          "execution_count": 224
        }
      ]
    },
    {
      "cell_type": "markdown",
      "source": [
        "### common 500 (Crea, ALT, Urea, Chol, ...)"
      ],
      "metadata": {
        "id": "ildTWrFsKUAB"
      }
    },
    {
      "cell_type": "code",
      "source": [
        "print(\"there are 1244 unique NCLP\", len(lab.NCLP.dropna().unique()))\n",
        "lab500_series = (lab.NCLP.value_counts()[lab.NCLP.value_counts()>55])\n",
        "print(\"NCLP  Frequency  Analyte\")\n",
        "print(\"most common 500\")\n",
        "for index in lab500_series.index[:10]:\n",
        "  print(index, lab500_series[index], end=\"      \")\n",
        "  print(*lab.Analyte[lab.NCLP==index].unique(), sep=\" \")\n",
        "print(\"last common 500\")\n",
        "for index in lab500_series.index[-10:]:\n",
        "  print(index, lab500_series[index], end=\"         \")\n",
        "  print(*lab.Analyte[lab.NCLP==index].unique(), sep=\" \")"
      ],
      "metadata": {
        "colab": {
          "base_uri": "https://localhost:8080/"
        },
        "id": "DTN0z8ucJOSq",
        "outputId": "289f5462-2b3f-4fc1-d1bc-99befbbf724f"
      },
      "execution_count": 304,
      "outputs": [
        {
          "output_type": "stream",
          "name": "stdout",
          "text": [
            "there are 1244 unique NCLP 1244\n",
            "NCLP  Frequency  Analyte\n",
            "most common 500\n",
            "08574 36706      s_kreatinin kreatinin S-kreatinin\n",
            "00582 32883      s_ALT Alaninaminotransferáza S ALT ALT S-ALT\n",
            "03086 31295      s_urea Urea urea S_Urea S-urea\n",
            "01350 31251      s_cholesterol Cholesterol cholesterol S Cholesterol S_Cholesterol Cholesterol celkový S-cholesterol\n",
            "12374 30986      s_TAG Triacylglyceroly S-triglyceridy\n",
            "05254 30879      s_draslík K S Kalium S_K Draslík Kalium - draslík\n",
            "01961 30736      s_GGT Gamma-glutamyltransferáza GGT S-GGT\n",
            "01675 30220      B_Erytrocyty Erytrocyty Ery\n",
            "02688 30208      B_Trombocyty Ttrombo Trombocyty Desticky\n",
            "01991 30206      B_Hemoglobin Hb Hemoglobin\n",
            "last common 500\n",
            "04781 58         s_a-kardiol.IgG\n",
            "04785 58         s_a-kardiol.IgM\n",
            "16535 57         p_aPTT-LA_1:1\n",
            "19536 57         s_C peptid\n",
            "12054 57         p_aPTTnecit_rat\n",
            "16537 57         p_aPTT-LA1:1-RI\n",
            "06732 56         CD5 Lymfocyty CD5+\n",
            "02447 56         Metanefrin\n",
            "02543 56         Normetanefrin\n",
            "16538 56         p_aPTT_scr/konf\n"
          ]
        }
      ]
    },
    {
      "cell_type": "code",
      "source": [
        "lab.Analyte[lab.NCLP==\"08574\"].unique()\n",
        "# when working on the lab values go for the NCLP code it is the standard in CZECH - worldwide LOINC is used."
      ],
      "metadata": {
        "colab": {
          "base_uri": "https://localhost:8080/"
        },
        "id": "wtSk-4AKJftR",
        "outputId": "dadded28-6e91-454f-8dc5-cd062e9e022b"
      },
      "execution_count": 229,
      "outputs": [
        {
          "output_type": "execute_result",
          "data": {
            "text/plain": [
              "array(['s_kreatinin', 'kreatinin', 'S-kreatinin'], dtype=object)"
            ]
          },
          "metadata": {},
          "execution_count": 229
        }
      ]
    },
    {
      "cell_type": "code",
      "source": [
        "lab.Analyte[lab.NCLP==\"00582\"].unique()"
      ],
      "metadata": {
        "colab": {
          "base_uri": "https://localhost:8080/"
        },
        "id": "6WjI2dDfKcNC",
        "outputId": "b3f3f346-4cdb-467a-86a2-dbf7ce1daf33"
      },
      "execution_count": 230,
      "outputs": [
        {
          "output_type": "execute_result",
          "data": {
            "text/plain": [
              "array(['s_ALT', 'Alaninaminotransferáza', 'S ALT', 'ALT', 'S-ALT'],\n",
              "      dtype=object)"
            ]
          },
          "metadata": {},
          "execution_count": 230
        }
      ]
    },
    {
      "cell_type": "markdown",
      "source": [
        "# CKD vs non-CKD"
      ],
      "metadata": {
        "id": "Ohwwgb8fX84X"
      }
    },
    {
      "cell_type": "markdown",
      "source": [
        "## CKD = 3 kg more weight, 5 years older and male\n",
        "\n"
      ],
      "metadata": {
        "id": "0GDV0LPDcrcJ"
      }
    },
    {
      "cell_type": "code",
      "source": [
        "ckd_demogr_label = []\n",
        "for p in demogr.Patient:\n",
        "  if p in set(ckd_pdframe.Patient):\n",
        "    ckd_demogr_label.append(1)\n",
        "  else:\n",
        "    ckd_demogr_label.append(0)\n",
        "demogr[\"ckd\"] = ckd_demogr_label\n",
        "demogr[\"Sex_encoded\"] = [1 if s == \"M\" else 0 for s in demogr.Sex]"
      ],
      "metadata": {
        "id": "vQ8CHoCCcvNY"
      },
      "execution_count": 336,
      "outputs": []
    },
    {
      "cell_type": "code",
      "source": [
        "demogr[[\"Age\", \"Sex_encoded\", \"ckd\"]].groupby(\"ckd\").mean()"
      ],
      "metadata": {
        "colab": {
          "base_uri": "https://localhost:8080/",
          "height": 143
        },
        "id": "9GqEvNFrdEMI",
        "outputId": "1613ca9d-3bc3-416d-9043-ab3e4b30d1ca"
      },
      "execution_count": 342,
      "outputs": [
        {
          "output_type": "execute_result",
          "data": {
            "text/plain": [
              "           Age  Sex_encoded\n",
              "ckd                        \n",
              "0    64.398084     0.534426\n",
              "1    69.721918     0.602740"
            ],
            "text/html": [
              "\n",
              "  <div id=\"df-92303008-2c06-4c53-98e8-a93e9ab0d891\">\n",
              "    <div class=\"colab-df-container\">\n",
              "      <div>\n",
              "<style scoped>\n",
              "    .dataframe tbody tr th:only-of-type {\n",
              "        vertical-align: middle;\n",
              "    }\n",
              "\n",
              "    .dataframe tbody tr th {\n",
              "        vertical-align: top;\n",
              "    }\n",
              "\n",
              "    .dataframe thead th {\n",
              "        text-align: right;\n",
              "    }\n",
              "</style>\n",
              "<table border=\"1\" class=\"dataframe\">\n",
              "  <thead>\n",
              "    <tr style=\"text-align: right;\">\n",
              "      <th></th>\n",
              "      <th>Age</th>\n",
              "      <th>Sex_encoded</th>\n",
              "    </tr>\n",
              "    <tr>\n",
              "      <th>ckd</th>\n",
              "      <th></th>\n",
              "      <th></th>\n",
              "    </tr>\n",
              "  </thead>\n",
              "  <tbody>\n",
              "    <tr>\n",
              "      <th>0</th>\n",
              "      <td>64.398084</td>\n",
              "      <td>0.534426</td>\n",
              "    </tr>\n",
              "    <tr>\n",
              "      <th>1</th>\n",
              "      <td>69.721918</td>\n",
              "      <td>0.602740</td>\n",
              "    </tr>\n",
              "  </tbody>\n",
              "</table>\n",
              "</div>\n",
              "      <button class=\"colab-df-convert\" onclick=\"convertToInteractive('df-92303008-2c06-4c53-98e8-a93e9ab0d891')\"\n",
              "              title=\"Convert this dataframe to an interactive table.\"\n",
              "              style=\"display:none;\">\n",
              "        \n",
              "  <svg xmlns=\"http://www.w3.org/2000/svg\" height=\"24px\"viewBox=\"0 0 24 24\"\n",
              "       width=\"24px\">\n",
              "    <path d=\"M0 0h24v24H0V0z\" fill=\"none\"/>\n",
              "    <path d=\"M18.56 5.44l.94 2.06.94-2.06 2.06-.94-2.06-.94-.94-2.06-.94 2.06-2.06.94zm-11 1L8.5 8.5l.94-2.06 2.06-.94-2.06-.94L8.5 2.5l-.94 2.06-2.06.94zm10 10l.94 2.06.94-2.06 2.06-.94-2.06-.94-.94-2.06-.94 2.06-2.06.94z\"/><path d=\"M17.41 7.96l-1.37-1.37c-.4-.4-.92-.59-1.43-.59-.52 0-1.04.2-1.43.59L10.3 9.45l-7.72 7.72c-.78.78-.78 2.05 0 2.83L4 21.41c.39.39.9.59 1.41.59.51 0 1.02-.2 1.41-.59l7.78-7.78 2.81-2.81c.8-.78.8-2.07 0-2.86zM5.41 20L4 18.59l7.72-7.72 1.47 1.35L5.41 20z\"/>\n",
              "  </svg>\n",
              "      </button>\n",
              "      \n",
              "  <style>\n",
              "    .colab-df-container {\n",
              "      display:flex;\n",
              "      flex-wrap:wrap;\n",
              "      gap: 12px;\n",
              "    }\n",
              "\n",
              "    .colab-df-convert {\n",
              "      background-color: #E8F0FE;\n",
              "      border: none;\n",
              "      border-radius: 50%;\n",
              "      cursor: pointer;\n",
              "      display: none;\n",
              "      fill: #1967D2;\n",
              "      height: 32px;\n",
              "      padding: 0 0 0 0;\n",
              "      width: 32px;\n",
              "    }\n",
              "\n",
              "    .colab-df-convert:hover {\n",
              "      background-color: #E2EBFA;\n",
              "      box-shadow: 0px 1px 2px rgba(60, 64, 67, 0.3), 0px 1px 3px 1px rgba(60, 64, 67, 0.15);\n",
              "      fill: #174EA6;\n",
              "    }\n",
              "\n",
              "    [theme=dark] .colab-df-convert {\n",
              "      background-color: #3B4455;\n",
              "      fill: #D2E3FC;\n",
              "    }\n",
              "\n",
              "    [theme=dark] .colab-df-convert:hover {\n",
              "      background-color: #434B5C;\n",
              "      box-shadow: 0px 1px 3px 1px rgba(0, 0, 0, 0.15);\n",
              "      filter: drop-shadow(0px 1px 2px rgba(0, 0, 0, 0.3));\n",
              "      fill: #FFFFFF;\n",
              "    }\n",
              "  </style>\n",
              "\n",
              "      <script>\n",
              "        const buttonEl =\n",
              "          document.querySelector('#df-92303008-2c06-4c53-98e8-a93e9ab0d891 button.colab-df-convert');\n",
              "        buttonEl.style.display =\n",
              "          google.colab.kernel.accessAllowed ? 'block' : 'none';\n",
              "\n",
              "        async function convertToInteractive(key) {\n",
              "          const element = document.querySelector('#df-92303008-2c06-4c53-98e8-a93e9ab0d891');\n",
              "          const dataTable =\n",
              "            await google.colab.kernel.invokeFunction('convertToInteractive',\n",
              "                                                     [key], {});\n",
              "          if (!dataTable) return;\n",
              "\n",
              "          const docLinkHtml = 'Like what you see? Visit the ' +\n",
              "            '<a target=\"_blank\" href=https://colab.research.google.com/notebooks/data_table.ipynb>data table notebook</a>'\n",
              "            + ' to learn more about interactive tables.';\n",
              "          element.innerHTML = '';\n",
              "          dataTable['output_type'] = 'display_data';\n",
              "          await google.colab.output.renderOutput(dataTable, element);\n",
              "          const docLink = document.createElement('div');\n",
              "          docLink.innerHTML = docLinkHtml;\n",
              "          element.appendChild(docLink);\n",
              "        }\n",
              "      </script>\n",
              "    </div>\n",
              "  </div>\n",
              "  "
            ]
          },
          "metadata": {},
          "execution_count": 342
        }
      ]
    },
    {
      "cell_type": "code",
      "source": [
        "ckd_demogr2_label = []\n",
        "for p in demogr2.Patient:\n",
        "  if p in set(ckd_pdframe.Patient):\n",
        "    ckd_demogr2_label.append(1)\n",
        "  else:\n",
        "    ckd_demogr2_label.append(0)\n",
        "demogr2[\"ckd\"] = ckd_demogr2_label\n",
        "demogr2.groupby(\"ckd\").mean()"
      ],
      "metadata": {
        "colab": {
          "base_uri": "https://localhost:8080/",
          "height": 143
        },
        "id": "R2YnAce5efGQ",
        "outputId": "61a76cee-7573-4241-b544-84f2913648a7"
      },
      "execution_count": 344,
      "outputs": [
        {
          "output_type": "execute_result",
          "data": {
            "text/plain": [
              "           Patient        BMI  Weight (kg)  Height (cm)\n",
              "ckd                                                    \n",
              "0    446386.073731  28.804626    86.144115   172.391762\n",
              "1    353706.619545  29.831530    89.460479   172.817460"
            ],
            "text/html": [
              "\n",
              "  <div id=\"df-3b672644-92c2-4fed-b6b7-5097cc334a59\">\n",
              "    <div class=\"colab-df-container\">\n",
              "      <div>\n",
              "<style scoped>\n",
              "    .dataframe tbody tr th:only-of-type {\n",
              "        vertical-align: middle;\n",
              "    }\n",
              "\n",
              "    .dataframe tbody tr th {\n",
              "        vertical-align: top;\n",
              "    }\n",
              "\n",
              "    .dataframe thead th {\n",
              "        text-align: right;\n",
              "    }\n",
              "</style>\n",
              "<table border=\"1\" class=\"dataframe\">\n",
              "  <thead>\n",
              "    <tr style=\"text-align: right;\">\n",
              "      <th></th>\n",
              "      <th>Patient</th>\n",
              "      <th>BMI</th>\n",
              "      <th>Weight (kg)</th>\n",
              "      <th>Height (cm)</th>\n",
              "    </tr>\n",
              "    <tr>\n",
              "      <th>ckd</th>\n",
              "      <th></th>\n",
              "      <th></th>\n",
              "      <th></th>\n",
              "      <th></th>\n",
              "    </tr>\n",
              "  </thead>\n",
              "  <tbody>\n",
              "    <tr>\n",
              "      <th>0</th>\n",
              "      <td>446386.073731</td>\n",
              "      <td>28.804626</td>\n",
              "      <td>86.144115</td>\n",
              "      <td>172.391762</td>\n",
              "    </tr>\n",
              "    <tr>\n",
              "      <th>1</th>\n",
              "      <td>353706.619545</td>\n",
              "      <td>29.831530</td>\n",
              "      <td>89.460479</td>\n",
              "      <td>172.817460</td>\n",
              "    </tr>\n",
              "  </tbody>\n",
              "</table>\n",
              "</div>\n",
              "      <button class=\"colab-df-convert\" onclick=\"convertToInteractive('df-3b672644-92c2-4fed-b6b7-5097cc334a59')\"\n",
              "              title=\"Convert this dataframe to an interactive table.\"\n",
              "              style=\"display:none;\">\n",
              "        \n",
              "  <svg xmlns=\"http://www.w3.org/2000/svg\" height=\"24px\"viewBox=\"0 0 24 24\"\n",
              "       width=\"24px\">\n",
              "    <path d=\"M0 0h24v24H0V0z\" fill=\"none\"/>\n",
              "    <path d=\"M18.56 5.44l.94 2.06.94-2.06 2.06-.94-2.06-.94-.94-2.06-.94 2.06-2.06.94zm-11 1L8.5 8.5l.94-2.06 2.06-.94-2.06-.94L8.5 2.5l-.94 2.06-2.06.94zm10 10l.94 2.06.94-2.06 2.06-.94-2.06-.94-.94-2.06-.94 2.06-2.06.94z\"/><path d=\"M17.41 7.96l-1.37-1.37c-.4-.4-.92-.59-1.43-.59-.52 0-1.04.2-1.43.59L10.3 9.45l-7.72 7.72c-.78.78-.78 2.05 0 2.83L4 21.41c.39.39.9.59 1.41.59.51 0 1.02-.2 1.41-.59l7.78-7.78 2.81-2.81c.8-.78.8-2.07 0-2.86zM5.41 20L4 18.59l7.72-7.72 1.47 1.35L5.41 20z\"/>\n",
              "  </svg>\n",
              "      </button>\n",
              "      \n",
              "  <style>\n",
              "    .colab-df-container {\n",
              "      display:flex;\n",
              "      flex-wrap:wrap;\n",
              "      gap: 12px;\n",
              "    }\n",
              "\n",
              "    .colab-df-convert {\n",
              "      background-color: #E8F0FE;\n",
              "      border: none;\n",
              "      border-radius: 50%;\n",
              "      cursor: pointer;\n",
              "      display: none;\n",
              "      fill: #1967D2;\n",
              "      height: 32px;\n",
              "      padding: 0 0 0 0;\n",
              "      width: 32px;\n",
              "    }\n",
              "\n",
              "    .colab-df-convert:hover {\n",
              "      background-color: #E2EBFA;\n",
              "      box-shadow: 0px 1px 2px rgba(60, 64, 67, 0.3), 0px 1px 3px 1px rgba(60, 64, 67, 0.15);\n",
              "      fill: #174EA6;\n",
              "    }\n",
              "\n",
              "    [theme=dark] .colab-df-convert {\n",
              "      background-color: #3B4455;\n",
              "      fill: #D2E3FC;\n",
              "    }\n",
              "\n",
              "    [theme=dark] .colab-df-convert:hover {\n",
              "      background-color: #434B5C;\n",
              "      box-shadow: 0px 1px 3px 1px rgba(0, 0, 0, 0.15);\n",
              "      filter: drop-shadow(0px 1px 2px rgba(0, 0, 0, 0.3));\n",
              "      fill: #FFFFFF;\n",
              "    }\n",
              "  </style>\n",
              "\n",
              "      <script>\n",
              "        const buttonEl =\n",
              "          document.querySelector('#df-3b672644-92c2-4fed-b6b7-5097cc334a59 button.colab-df-convert');\n",
              "        buttonEl.style.display =\n",
              "          google.colab.kernel.accessAllowed ? 'block' : 'none';\n",
              "\n",
              "        async function convertToInteractive(key) {\n",
              "          const element = document.querySelector('#df-3b672644-92c2-4fed-b6b7-5097cc334a59');\n",
              "          const dataTable =\n",
              "            await google.colab.kernel.invokeFunction('convertToInteractive',\n",
              "                                                     [key], {});\n",
              "          if (!dataTable) return;\n",
              "\n",
              "          const docLinkHtml = 'Like what you see? Visit the ' +\n",
              "            '<a target=\"_blank\" href=https://colab.research.google.com/notebooks/data_table.ipynb>data table notebook</a>'\n",
              "            + ' to learn more about interactive tables.';\n",
              "          element.innerHTML = '';\n",
              "          dataTable['output_type'] = 'display_data';\n",
              "          await google.colab.output.renderOutput(dataTable, element);\n",
              "          const docLink = document.createElement('div');\n",
              "          docLink.innerHTML = docLinkHtml;\n",
              "          element.appendChild(docLink);\n",
              "        }\n",
              "      </script>\n",
              "    </div>\n",
              "  </div>\n",
              "  "
            ]
          },
          "metadata": {},
          "execution_count": 344
        }
      ]
    },
    {
      "cell_type": "markdown",
      "source": [
        "## Lab test differences"
      ],
      "metadata": {
        "id": "j9qX3bMcYymu"
      }
    },
    {
      "cell_type": "code",
      "source": [
        "ratio_NCLP_CKD = []\n",
        "for index in lab500_series.index:\n",
        "  try:\n",
        "    mean1 = np.mean([float(x) for x in lab.loc[(lab['ckd']==1) & (lab.NCLP==index)].ValueNumber.dropna()])\n",
        "    mean2 = np.mean([float(x) for x in lab.loc[(lab['ckd']==0) & (lab.NCLP==index)].ValueNumber.dropna()])\n",
        "    mean_ratio = mean1/mean2\n",
        "    if mean_ratio > 1.2 or mean_ratio < 0.8:\n",
        "      ratio_NCLP_CKD.append((mean_ratio, index))\n",
        "  except:\n",
        "    pass"
      ],
      "metadata": {
        "colab": {
          "base_uri": "https://localhost:8080/"
        },
        "id": "1QbBEUVYMTD5",
        "outputId": "4c174e02-9f69-46de-a3d8-60f421b5b1b3"
      },
      "execution_count": 339,
      "outputs": [
        {
          "output_type": "stream",
          "name": "stderr",
          "text": [
            "/usr/local/lib/python3.7/dist-packages/numpy/core/fromnumeric.py:3441: RuntimeWarning: Mean of empty slice.\n",
            "  out=out, **kwargs)\n",
            "/usr/local/lib/python3.7/dist-packages/numpy/core/_methods.py:189: RuntimeWarning: invalid value encountered in double_scalars\n",
            "  ret = ret.dtype.type(ret / rcount)\n",
            "/usr/local/lib/python3.7/dist-packages/ipykernel_launcher.py:6: RuntimeWarning: invalid value encountered in double_scalars\n",
            "  \n"
          ]
        }
      ]
    },
    {
      "cell_type": "code",
      "source": [
        "for t in sorted(ratio_NCLP_CKD, reverse=True):\n",
        "  print(round(t[0], 3), t[1], end=\" \")\n",
        "  print(*lab.Analyte[lab.NCLP==t[1]].unique())"
      ],
      "metadata": {
        "colab": {
          "base_uri": "https://localhost:8080/"
        },
        "id": "zqycRPCAZgvW",
        "outputId": "4974fd75-c9da-483c-d1c7-24fd7cff7f2e"
      },
      "execution_count": 350,
      "outputs": [
        {
          "output_type": "stream",
          "name": "stdout",
          "text": [
            "7.163 02395 s_lipáza\n",
            "4.569 02393 p_lipáza\n",
            "4.565 19712 s_PSA\n",
            "4.507 00580 p_ALT ALT\n",
            "4.389 11447 U_albumin/kreat. V_Index MIAL/U_KRE ACR - albumin/kreatinin v moči U-alb/U-krea ACR = U-albumin / U-kreatinin ACR (Albumin/kreatinin) Albumin/Kreatinin\n",
            "3.897 03297 U_válce hyalinní U-válce nepatologické\n",
            "3.712 00919 p_AST AST\n",
            "3.557 17747 CVVH-vápník ion.\n",
            "3.229 11596 U_protein/kreat.\n",
            "3.081 03355 U_erytrocyty Hamburger-ery Erytrocyty erytrocyty U_ery (M sed.) U-erytrocyty\n",
            "3.063 16337 s_HE4\n",
            "2.848 19714 s_fPSA\n",
            "2.843 00513 U_albumin ranní U_Mikroalbumin Albumin v moči Mikroalbuminurie Albuminurie\n",
            "2.779 14809 s_PSA\n",
            "2.771 18238 s_parathormon s_PTH(1-84)\n",
            "2.615 17412 ROMA\n",
            "2.457 12233 p_prokalcitonin s_prokalcitonin\n",
            "2.435 00642 p_AMS pankreat.\n",
            "2.422 16701 U_protein ranní\n",
            "2.318 00921 s_AST Aspartátaminotransferáza AST S-AST\n",
            "2.184 08574 s_kreatinin kreatinin S-kreatinin\n",
            "2.114 14810 s_fPSA\n",
            "2.036 11519 s_b-2-mikroglob.\n",
            "2.036 03086 s_urea Urea urea S_Urea S-urea\n",
            "2.006 08572 p_kreatinin\n",
            "1.909 14421 s_CMV IgG\n",
            "1.878 19361 s_a-HBs\n",
            "1.867 00582 s_ALT Alaninaminotransferáza S ALT ALT S-ALT\n",
            "1.821 00509 U_albumin sběr U-mikroalb.\n",
            "1.816 03084 p_urea Urea\n",
            "1.734 05119 s_parathormon\n",
            "1.725 03599 B_Monocyty Monocyty\n",
            "1.724 01154 s_bilirubin celk Bilirubin Bilirubin celkový\n",
            "1.715 19703 s_propeptid prokolagenu 1\n",
            "1.674 17344 s_B12 aktivní\n",
            "1.627 09189 U_válce hyalinní UF\n",
            "1.61 00634 s_AMS Amyláza\n",
            "1.609 12137 s_cystatin C\n",
            "1.554 18047 B_CD16 + 56\n",
            "1.538 08234 p_DDi_kvantit.\n",
            "1.537 03142 objem sbír Moč sběr - objem objem moče - sběr Moč neupravená Objem Množství moče\n",
            "1.536 02753 dU_protein celk. Bílkovina odpad\n",
            "1.535 19519 s_CEA\n",
            "1.532 01362 s_CIK\n",
            "1.523 01959 p_GGT GGT\n",
            "1.51 02286 p_LDH\n",
            "1.504 16474 U_albuminurie\n",
            "1.479 17345 s_B12 aktivní\n",
            "1.472 03631 B_Segmenty Neutrofilní segmenty\n",
            "1.469 04959 s_CA 19-9\n",
            "1.452 00476 dU_albumin Mikroalbuminurie/den\n",
            "1.45 04956 s_CA 15-3\n",
            "1.434 01896 p_glukóza (NaF) Glukóza v plazmě Glukoza NaF Glykémie\n",
            "1.365 00541 p_ALP ALP\n",
            "1.356 01961 s_GGT Gamma-glutamyltransferáza GGT S-GGT\n",
            "1.338 16411 v_laktát\n",
            "1.323 11251 p_LMWH_(anti-Xa)\n",
            "1.318 08017 čas sběru\n",
            "1.261 12355 s_glukóza Glukóza v séru glykémie S Glukosa S_Glukosa Glukóza v séru (žilní) Glukosa Glukóza S-glukóza\n",
            "1.259 19504 s_CA 19-9\n",
            "1.252 15194 B_HbA1c Glykovaný hemoglobin HbA1c BE-glykovaný hemoglobin\n",
            "1.243 00543 s_ALP Alkalická fosfatáza ALP S_ALP Alkalická fosfatáza (ALP) S-ALP\n",
            "1.233 12348 B_Eosinofily_abs Eozinofily ap 5P\n",
            "1.23 51802 p_glukóza (NaF)\n",
            "1.228 02616 p_fosfor\n",
            "1.206 01207 s_C4\n",
            "1.202 02759 U_protein celk.\n",
            "0.798 12370 B_RTC_abs.počet\n",
            "0.789 06632 B_CD8\n",
            "0.786 02510 U_sodík\n",
            "0.784 00555 kALP\n",
            "0.778 02543 Normetanefrin\n",
            "0.776 02620 U_fosfor\n",
            "0.774 14802 s_Listová kys.\n",
            "0.762 02034 p_HDL cholest. HDL cholest. Cholesterol HDL\n",
            "0.734 14060 B_RTC_nezr.frakc\n",
            "0.727 02499 dU_sodík\n",
            "0.7 19764 s_TSH\n",
            "0.699 01228 U_vápník celk.\n",
            "0.664 52681 s_bilirubin celk\n",
            "0.663 01451 GFR-KR\n",
            "0.659 01352 p_CHE\n",
            "0.651 15172 U_epitelie jiné\n",
            "0.646 08553 GFR-KRKOR\n",
            "0.629 19587 s_Listová kys.\n",
            "0.616 02596 s_osteocalcin Osteokalcin\n",
            "0.615 02614 dU_fosfor\n",
            "0.61 14845 GFR-MDRD-1P MDRD 1P\n",
            "0.604 05117 s_fPSA/PSA V_index fPSA/PSA index fPSA/PSA Poměr FPSA/PSA\n",
            "0.601 16689 U_kreatinin ran.\n",
            "0.594 04973 GFR-KRKOR\n",
            "0.585 14152 sTfR/F\n",
            "0.571 13821 B_NRBC_abs.počet\n",
            "0.568 17347 B_leukocyty\n",
            "0.566 01450 GFR-KR Clearance kreat.\n",
            "0.551 03080 U_kys.močová\n",
            "0.547 07146 p_Aldosteron\n",
            "0.543 06610 B_CD4 abs.počet\n",
            "0.535 03072 dU_kys.močová\n",
            "0.52 05214 1.25 vitamin 1.25(OH)D\n",
            "0.518 14058 B_RTC mladé\n",
            "0.481 12630 s_b-CrossLaps\n",
            "0.475 14850 GFR-CYSTC\n",
            "0.458 01220 dU_vápník celk.\n",
            "0.457 16434 p_DDi_kvantit.\n",
            "0.454 16223 s_hs-Troponin T\n",
            "0.453 06458 B_CD3 abs.počet\n",
            "0.448 14691 GFR-MDRD-3P\n",
            "0.434 17339 CKD-EPI eGF (CKD-EPI) GF CKD-EPI CKD-EPI pro kreatinin Výp.GFR dle CKD-EPI eGFR (CKD-EPI) GF odhad dle CKD EPI Glomerul. filtrace (CKD-EPI)\n",
            "0.416 14600 s_a-MPO CIA s_a-MPO ELISA\n",
            "0.404 14010 U_epitelie dlaž. U_epitelie dlaž.UD U-epitelie dlaždicové\n",
            "0.401 06314 B_CD19\n",
            "0.392 09238 U_erytrocyty UF\n",
            "0.391 17341 GFR-MDRD-1P MDRD\n",
            "0.388 18066 GFR-MDRD-3P\n",
            "0.373 06629 B_CD8 abs.počet\n",
            "0.358 13820 NRBCau technická B_NRBCaut/100Leu NORMOBLASTY aut.\n",
            "0.326 03384 U_leukocyty Hamburger-leuko U_Leu (M sed.) U-leukocyty\n",
            "0.308 03594 B_Lymfocyty Lymfocyty\n",
            "0.257 09322 U_leukocyty UF Leukocyty\n",
            "0.25 17989 f_hemoglobin f_hemogl. korig.\n",
            "0.196 18005 s_lipoprotein(a)\n",
            "0.185 19511 s_CA 72-4\n",
            "0.179 06311 B_CD19 abs.počet\n",
            "0.142 02785 p_Renin\n",
            "0.108 19338 s_AFP\n",
            "0.108 16344 f_hemoglobin\n",
            "0.106 19697 s_prokalcitonin\n",
            "0.07 14678 s_anti-TG Anti tyreoglobulin\n",
            "0.018 12356 U_glukóza\n",
            "0.007 00380 s_a-HBs\n",
            "0.0 09362 B_NRBC/100Leu\n",
            "0.0 09191 U_válce patolog. U_válce patol. UD\n",
            "0.0 08528 U_válce patol. UF\n",
            "0.0 03473 B_Basofily Bazofily\n",
            "0.0 03386 U_shluky leukocytů UF Leukocyty U_Leukocyty\n"
          ]
        }
      ]
    },
    {
      "cell_type": "markdown",
      "source": [
        "When comparing CKD vs non-CKD patients these lab values differ to a great extend between these two groups. Among them some which are known to be indicating CKD such as GFR CystatinC ACR Creatinine. Some of them are a consequence of CKD such as Vitamin D deficiency, Anemia, Hyperphophatemia and increased Troponine."
      ],
      "metadata": {
        "id": "3spmPN_2jRJm"
      }
    }
  ],
  "metadata": {
    "colab": {
      "provenance": [],
      "toc_visible": true,
      "include_colab_link": true
    },
    "kernelspec": {
      "display_name": "Python 3",
      "name": "python3"
    },
    "language_info": {
      "name": "python"
    }
  },
  "nbformat": 4,
  "nbformat_minor": 0
}