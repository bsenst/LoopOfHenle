{
  "cells": [
    {
      "cell_type": "markdown",
      "metadata": {
        "id": "view-in-github",
        "colab_type": "text"
      },
      "source": [
        "<a href=\"https://colab.research.google.com/github/bsenst/LoopOfHenle/blob/main/DataExploration.ipynb\" target=\"_parent\"><img src=\"https://colab.research.google.com/assets/colab-badge.svg\" alt=\"Open In Colab\"/></a>"
      ]
    },
    {
      "cell_type": "code",
      "source": [
        "import pandas as pd\n",
        "import numpy as np\n",
        "! pip install simple-icd-10\n",
        "import simple_icd_10 as icd\n",
        "import matplotlib.pyplot as plt\n",
        "import seaborn as sns"
      ],
      "metadata": {
        "id": "csDXrejPSBF8",
        "colab": {
          "base_uri": "https://localhost:8080/"
        },
        "outputId": "5513599c-472d-405c-eb88-1a0c5a9abc16"
      },
      "execution_count": 20,
      "outputs": [
        {
          "output_type": "stream",
          "name": "stdout",
          "text": [
            "Looking in indexes: https://pypi.org/simple, https://us-python.pkg.dev/colab-wheels/public/simple/\n",
            "Requirement already satisfied: simple-icd-10 in /usr/local/lib/python3.7/dist-packages (2.0.1)\n"
          ]
        }
      ]
    },
    {
      "cell_type": "markdown",
      "source": [
        "# Loading the 4 Datasets ~ almost 9 Mio Entries"
      ],
      "metadata": {
        "id": "1yzULO38sFtr"
      }
    },
    {
      "cell_type": "code",
      "source": [
        "# https://colab.research.google.com/drive/1UxZ1M0LNUxjiiImYyzObPmgc7_5DE7OH?usp=sharing\n",
        "\n",
        "!wget https://owncloud.ikem.cz/index.php/s/mFPJKwbgsOOFBsW/download\n",
        "!7za x download\n",
        "# upload demogr (hackath 112022 - Age SEX CKD.xlsx) and demogr2 (hackath 112022 - BMI weight height CKD 1.xlsx)"
      ],
      "metadata": {
        "id": "V9cAki3CqzsV"
      },
      "execution_count": null,
      "outputs": []
    },
    {
      "cell_type": "code",
      "execution_count": 2,
      "metadata": {
        "id": "Ut5hsgaaf9u0",
        "colab": {
          "base_uri": "https://localhost:8080/"
        },
        "outputId": "68438918-e242-470a-d136-b8ff676c61b7"
      },
      "outputs": [
        {
          "output_type": "stream",
          "name": "stdout",
          "text": [
            "<class 'pandas.core.frame.DataFrame'>\n",
            "RangeIndex: 8679298 entries, 0 to 8679297\n",
            "Data columns (total 13 columns):\n",
            " #   Column       Dtype         \n",
            "---  ------       -----         \n",
            " 0   Patient      int64         \n",
            " 1   Report       int64         \n",
            " 2   ID           int64         \n",
            " 3   EntryDate    datetime64[ns]\n",
            " 4   EntryTime    datetime64[ns]\n",
            " 5   Code         object        \n",
            " 6   NCLP         object        \n",
            " 7   Analyte      object        \n",
            " 8   ValueNumber  object        \n",
            " 9   ValueText    object        \n",
            " 10  RefHigh      object        \n",
            " 11  RefLow       object        \n",
            " 12  Unit         object        \n",
            "dtypes: datetime64[ns](2), int64(3), object(8)\n",
            "memory usage: 860.8+ MB\n"
          ]
        }
      ],
      "source": [
        "dtypes = {\"Patient\":np.int64, \"Report\":np.int64, \"ID\":np.int64, \"EntryDate\":str, \"EntryTime\":str, \"Code\":object , \"NCLP\":str, \"Analyte\":str, \"ValueNumber\":str, \"ValueText\":str, \"RefHigh\":object, \"RefLow\":object, \"Unit\":str}\n",
        "lab = pd.read_csv(\"LabsALL 2015-2022.csv\", sep=\";\", dtype=dtypes, parse_dates=[\"EntryDate\", \"EntryTime\"])\n",
        "lab.info()"
      ]
    },
    {
      "cell_type": "code",
      "source": [
        "dgs = pd.read_excel(\"Dg from report.xlsx\")\n",
        "# dgs['Date'] = pd.to_datetime(dgs['Date'], unit='d', origin='1899-12-30')\n",
        "dgs.info()"
      ],
      "metadata": {
        "id": "H4fyO4p6AYk0",
        "colab": {
          "base_uri": "https://localhost:8080/"
        },
        "outputId": "4a5c0609-e179-452c-fb45-2bd29569cbaf"
      },
      "execution_count": 22,
      "outputs": [
        {
          "output_type": "stream",
          "name": "stdout",
          "text": [
            "<class 'pandas.core.frame.DataFrame'>\n",
            "RangeIndex: 138718 entries, 0 to 138717\n",
            "Data columns (total 4 columns):\n",
            " #   Column       Non-Null Count   Dtype         \n",
            "---  ------       --------------   -----         \n",
            " 0   Patient      138718 non-null  int64         \n",
            " 1   Date         138718 non-null  datetime64[ns]\n",
            " 2   mainDgCode   137984 non-null  object        \n",
            " 3   OtherDgCode  127406 non-null  object        \n",
            "dtypes: datetime64[ns](1), int64(1), object(2)\n",
            "memory usage: 4.2+ MB\n"
          ]
        }
      ]
    },
    {
      "cell_type": "code",
      "source": [
        "demogr = pd.read_excel(\"hackath 112022 - Age SEX CKD.xlsx\")\n",
        "demogr.info()"
      ],
      "metadata": {
        "id": "f9U5n-1brc4f",
        "outputId": "7c4c8dae-7755-4cc4-862a-6d33e685e8b7",
        "colab": {
          "base_uri": "https://localhost:8080/"
        }
      },
      "execution_count": 5,
      "outputs": [
        {
          "output_type": "stream",
          "name": "stdout",
          "text": [
            "<class 'pandas.core.frame.DataFrame'>\n",
            "RangeIndex: 15570 entries, 0 to 15569\n",
            "Data columns (total 3 columns):\n",
            " #   Column   Non-Null Count  Dtype  \n",
            "---  ------   --------------  -----  \n",
            " 0   Patient  15570 non-null  int64  \n",
            " 1   Sex      15570 non-null  object \n",
            " 2   Age      15570 non-null  float64\n",
            "dtypes: float64(1), int64(1), object(1)\n",
            "memory usage: 365.0+ KB\n"
          ]
        }
      ]
    },
    {
      "cell_type": "code",
      "source": [
        "demogr2 = pd.read_excel(\"hackath 112022 - BMI weight height CKD 1.xlsx\")\n",
        "demogr2.info()"
      ],
      "metadata": {
        "id": "DzZJyvOwrpgf",
        "colab": {
          "base_uri": "https://localhost:8080/"
        },
        "outputId": "033a4504-c83a-4a17-d9db-85eb1e4154fb"
      },
      "execution_count": 6,
      "outputs": [
        {
          "output_type": "stream",
          "name": "stdout",
          "text": [
            "<class 'pandas.core.frame.DataFrame'>\n",
            "RangeIndex: 153251 entries, 0 to 153250\n",
            "Data columns (total 5 columns):\n",
            " #   Column       Non-Null Count   Dtype         \n",
            "---  ------       --------------   -----         \n",
            " 0   Patient      153251 non-null  int64         \n",
            " 1   date         153251 non-null  datetime64[ns]\n",
            " 2   BMI          153251 non-null  float64       \n",
            " 3   Weight (kg)  153251 non-null  float64       \n",
            " 4   Height (cm)  11834 non-null   float64       \n",
            "dtypes: datetime64[ns](1), float64(3), int64(1)\n",
            "memory usage: 5.8 MB\n"
          ]
        }
      ]
    },
    {
      "cell_type": "markdown",
      "source": [
        "## ~15.000 Patients"
      ],
      "metadata": {
        "id": "6xhqQxY37NsF"
      }
    },
    {
      "cell_type": "code",
      "source": [
        "print(\"showing unique patients in each of the 4 tables:\", end=\" \")\n",
        "print(dgs.Patient.nunique(), lab.Patient.nunique(), demogr.Patient.nunique(), demogr2.Patient.nunique())"
      ],
      "metadata": {
        "id": "SDE4lJebCM5l",
        "colab": {
          "base_uri": "https://localhost:8080/"
        },
        "outputId": "3ab68b6c-9357-4f45-a422-079557ef82de"
      },
      "execution_count": 7,
      "outputs": [
        {
          "output_type": "stream",
          "name": "stdout",
          "text": [
            "showing unique patients in each of the 4 tables: 15663 14158 15570 14354\n"
          ]
        }
      ]
    },
    {
      "cell_type": "markdown",
      "source": [
        "# Data Exploration: unstructured Data"
      ],
      "metadata": {
        "id": "y0PgIaxPslZb"
      }
    },
    {
      "cell_type": "markdown",
      "source": [
        "## Demographic Data (2 Datasets)"
      ],
      "metadata": {
        "id": "obW094xX6_G4"
      }
    },
    {
      "cell_type": "code",
      "source": [
        "print(demogr.columns)\n",
        "print(demogr2.columns)"
      ],
      "metadata": {
        "colab": {
          "base_uri": "https://localhost:8080/"
        },
        "id": "T-kl4kl0Bhza",
        "outputId": "a0fa01e4-0fe0-4bd3-950a-1ce456febb20"
      },
      "execution_count": 8,
      "outputs": [
        {
          "output_type": "stream",
          "name": "stdout",
          "text": [
            "Index(['Patient', 'Sex', 'Age'], dtype='object')\n",
            "Index(['Patient', 'date', 'BMI', 'Weight (kg)', 'Height (cm)'], dtype='object')\n"
          ]
        }
      ]
    },
    {
      "cell_type": "markdown",
      "source": [
        "### Age and Gender as expected"
      ],
      "metadata": {
        "id": "KJFLf_rqBmta"
      }
    },
    {
      "cell_type": "code",
      "source": [
        "demogr.Sex.value_counts()"
      ],
      "metadata": {
        "colab": {
          "base_uri": "https://localhost:8080/"
        },
        "id": "lOSazYZt9pMF",
        "outputId": "db9bab6b-6a1e-4f39-f0e2-afa4c0cc9bb3"
      },
      "execution_count": 9,
      "outputs": [
        {
          "output_type": "execute_result",
          "data": {
            "text/plain": [
              "M    8326\n",
              "F    7244\n",
              "Name: Sex, dtype: int64"
            ]
          },
          "metadata": {},
          "execution_count": 9
        }
      ]
    },
    {
      "cell_type": "code",
      "source": [
        "demogr.Age.hist()"
      ],
      "metadata": {
        "colab": {
          "base_uri": "https://localhost:8080/",
          "height": 282
        },
        "id": "Elbc6LCN-mD1",
        "outputId": "72913b83-95ac-48bb-ed75-080eb47255ac"
      },
      "execution_count": 10,
      "outputs": [
        {
          "output_type": "execute_result",
          "data": {
            "text/plain": [
              "<matplotlib.axes._subplots.AxesSubplot at 0x7fb1ca08d890>"
            ]
          },
          "metadata": {},
          "execution_count": 10
        },
        {
          "output_type": "display_data",
          "data": {
            "text/plain": [
              "<Figure size 432x288 with 1 Axes>"
            ],
            "image/png": "[encoded data removed]"
          },
          "metadata": {
            "needs_background": "light"
          }
        }
      ]
    },
    {
      "cell_type": "markdown",
      "source": [
        "### Increased BMI"
      ],
      "metadata": {
        "id": "qurYpUJmBwRV"
      }
    },
    {
      "cell_type": "code",
      "source": [
        "demogr2[[\"BMI\", \"Weight (kg)\", \"Height (cm)\"]].describe()\n",
        "# BMI outlier"
      ],
      "metadata": {
        "colab": {
          "base_uri": "https://localhost:8080/",
          "height": 300
        },
        "id": "Xf3V6XJT-sU7",
        "outputId": "797e8a7a-e387-467f-9941-732643e51beb"
      },
      "execution_count": 11,
      "outputs": [
        {
          "output_type": "execute_result",
          "data": {
            "text/plain": [
              "                 BMI    Weight (kg)   Height (cm)\n",
              "count  153251.000000  153251.000000  11834.000000\n",
              "mean       40.267628      86.749529    172.172300\n",
              "std      3107.354490     210.468094     19.760388\n",
              "min         0.300000       0.800000      1.000000\n",
              "25%        25.100000      73.000000    165.000000\n",
              "50%        28.300000      85.000000    172.000000\n",
              "75%        31.900000      97.700000    179.000000\n",
              "max    860000.000000   82127.000000   1667.000000"
            ],
            "text/html": [
              "\n",
              "  <div id=\"df-63a4bb4b-1422-4a16-97ed-55801e7692c4\">\n",
              "    <div class=\"colab-df-container\">\n",
              "      <div>\n",
              "<style scoped>\n",
              "    .dataframe tbody tr th:only-of-type {\n",
              "        vertical-align: middle;\n",
              "    }\n",
              "\n",
              "    .dataframe tbody tr th {\n",
              "        vertical-align: top;\n",
              "    }\n",
              "\n",
              "    .dataframe thead th {\n",
              "        text-align: right;\n",
              "    }\n",
              "</style>\n",
              "<table border=\"1\" class=\"dataframe\">\n",
              "  <thead>\n",
              "    <tr style=\"text-align: right;\">\n",
              "      <th></th>\n",
              "      <th>BMI</th>\n",
              "      <th>Weight (kg)</th>\n",
              "      <th>Height (cm)</th>\n",
              "    </tr>\n",
              "  </thead>\n",
              "  <tbody>\n",
              "    <tr>\n",
              "      <th>count</th>\n",
              "      <td>153251.000000</td>\n",
              "      <td>153251.000000</td>\n",
              "      <td>11834.000000</td>\n",
              "    </tr>\n",
              "    <tr>\n",
              "      <th>mean</th>\n",
              "      <td>40.267628</td>\n",
              "      <td>86.749529</td>\n",
              "      <td>172.172300</td>\n",
              "    </tr>\n",
              "    <tr>\n",
              "      <th>std</th>\n",
              "      <td>3107.354490</td>\n",
              "      <td>210.468094</td>\n",
              "      <td>19.760388</td>\n",
              "    </tr>\n",
              "    <tr>\n",
              "      <th>min</th>\n",
              "      <td>0.300000</td>\n",
              "      <td>0.800000</td>\n",
              "      <td>1.000000</td>\n",
              "    </tr>\n",
              "    <tr>\n",
              "      <th>25%</th>\n",
              "      <td>25.100000</td>\n",
              "      <td>73.000000</td>\n",
              "      <td>165.000000</td>\n",
              "    </tr>\n",
              "    <tr>\n",
              "      <th>50%</th>\n",
              "      <td>28.300000</td>\n",
              "      <td>85.000000</td>\n",
              "      <td>172.000000</td>\n",
              "    </tr>\n",
              "    <tr>\n",
              "      <th>75%</th>\n",
              "      <td>31.900000</td>\n",
              "      <td>97.700000</td>\n",
              "      <td>179.000000</td>\n",
              "    </tr>\n",
              "    <tr>\n",
              "      <th>max</th>\n",
              "      <td>860000.000000</td>\n",
              "      <td>82127.000000</td>\n",
              "      <td>1667.000000</td>\n",
              "    </tr>\n",
              "  </tbody>\n",
              "</table>\n",
              "</div>\n",
              "      <button class=\"colab-df-convert\" onclick=\"convertToInteractive('df-63a4bb4b-1422-4a16-97ed-55801e7692c4')\"\n",
              "              title=\"Convert this dataframe to an interactive table.\"\n",
              "              style=\"display:none;\">\n",
              "        \n",
              "  <svg xmlns=\"http://www.w3.org/2000/svg\" height=\"24px\"viewBox=\"0 0 24 24\"\n",
              "       width=\"24px\">\n",
              "    <path d=\"M0 0h24v24H0V0z\" fill=\"none\"/>\n",
              "    <path d=\"M18.56 5.44l.94 2.06.94-2.06 2.06-.94-2.06-.94-.94-2.06-.94 2.06-2.06.94zm-11 1L8.5 8.5l.94-2.06 2.06-.94-2.06-.94L8.5 2.5l-.94 2.06-2.06.94zm10 10l.94 2.06.94-2.06 2.06-.94-2.06-.94-.94-2.06-.94 2.06-2.06.94z\"/><path d=\"M17.41 7.96l-1.37-1.37c-.4-.4-.92-.59-1.43-.59-.52 0-1.04.2-1.43.59L10.3 9.45l-7.72 7.72c-.78.78-.78 2.05 0 2.83L4 21.41c.39.39.9.59 1.41.59.51 0 1.02-.2 1.41-.59l7.78-7.78 2.81-2.81c.8-.78.8-2.07 0-2.86zM5.41 20L4 18.59l7.72-7.72 1.47 1.35L5.41 20z\"/>\n",
              "  </svg>\n",
              "      </button>\n",
              "      \n",
              "  <style>\n",
              "    .colab-df-container {\n",
              "      display:flex;\n",
              "      flex-wrap:wrap;\n",
              "      gap: 12px;\n",
              "    }\n",
              "\n",
              "    .colab-df-convert {\n",
              "      background-color: #E8F0FE;\n",
              "      border: none;\n",
              "      border-radius: 50%;\n",
              "      cursor: pointer;\n",
              "      display: none;\n",
              "      fill: #1967D2;\n",
              "      height: 32px;\n",
              "      padding: 0 0 0 0;\n",
              "      width: 32px;\n",
              "    }\n",
              "\n",
              "    .colab-df-convert:hover {\n",
              "      background-color: #E2EBFA;\n",
              "      box-shadow: 0px 1px 2px rgba(60, 64, 67, 0.3), 0px 1px 3px 1px rgba(60, 64, 67, 0.15);\n",
              "      fill: #174EA6;\n",
              "    }\n",
              "\n",
              "    [theme=dark] .colab-df-convert {\n",
              "      background-color: #3B4455;\n",
              "      fill: #D2E3FC;\n",
              "    }\n",
              "\n",
              "    [theme=dark] .colab-df-convert:hover {\n",
              "      background-color: #434B5C;\n",
              "      box-shadow: 0px 1px 3px 1px rgba(0, 0, 0, 0.15);\n",
              "      filter: drop-shadow(0px 1px 2px rgba(0, 0, 0, 0.3));\n",
              "      fill: #FFFFFF;\n",
              "    }\n",
              "  </style>\n",
              "\n",
              "      <script>\n",
              "        const buttonEl =\n",
              "          document.querySelector('#df-63a4bb4b-1422-4a16-97ed-55801e7692c4 button.colab-df-convert');\n",
              "        buttonEl.style.display =\n",
              "          google.colab.kernel.accessAllowed ? 'block' : 'none';\n",
              "\n",
              "        async function convertToInteractive(key) {\n",
              "          const element = document.querySelector('#df-63a4bb4b-1422-4a16-97ed-55801e7692c4');\n",
              "          const dataTable =\n",
              "            await google.colab.kernel.invokeFunction('convertToInteractive',\n",
              "                                                     [key], {});\n",
              "          if (!dataTable) return;\n",
              "\n",
              "          const docLinkHtml = 'Like what you see? Visit the ' +\n",
              "            '<a target=\"_blank\" href=https://colab.research.google.com/notebooks/data_table.ipynb>data table notebook</a>'\n",
              "            + ' to learn more about interactive tables.';\n",
              "          element.innerHTML = '';\n",
              "          dataTable['output_type'] = 'display_data';\n",
              "          await google.colab.output.renderOutput(dataTable, element);\n",
              "          const docLink = document.createElement('div');\n",
              "          docLink.innerHTML = docLinkHtml;\n",
              "          element.appendChild(docLink);\n",
              "        }\n",
              "      </script>\n",
              "    </div>\n",
              "  </div>\n",
              "  "
            ]
          },
          "metadata": {},
          "execution_count": 11
        }
      ]
    },
    {
      "cell_type": "code",
      "source": [
        "demogr2[(demogr2.BMI > 10) & (demogr2.BMI < 100)].boxplot(column=[\"BMI\"])\n",
        "# many outliers when size or weight are not documented or random placeholder are used"
      ],
      "metadata": {
        "colab": {
          "base_uri": "https://localhost:8080/",
          "height": 282
        },
        "id": "eJIx1OdO_HgG",
        "outputId": "2752eeba-146d-4fc3-eeac-ffe3523435bc"
      },
      "execution_count": 15,
      "outputs": [
        {
          "output_type": "execute_result",
          "data": {
            "text/plain": [
              "<matplotlib.axes._subplots.AxesSubplot at 0x7fb1b2740e90>"
            ]
          },
          "metadata": {},
          "execution_count": 15
        },
        {
          "output_type": "display_data",
          "data": {
            "text/plain": [
              "<Figure size 432x288 with 1 Axes>"
            ],
            "image/png": "[encoded data removed]"
          },
          "metadata": {
            "needs_background": "light"
          }
        }
      ]
    },
    {
      "cell_type": "markdown",
      "source": [
        "## Diagnoses"
      ],
      "metadata": {
        "id": "ph7YGcQcuPE_"
      }
    },
    {
      "cell_type": "code",
      "source": [
        "dgs.head()"
      ],
      "metadata": {
        "colab": {
          "base_uri": "https://localhost:8080/",
          "height": 206
        },
        "id": "6ULpv_uZuqMU",
        "outputId": "aaabfa96-2a15-4e2f-81c6-a00fd880af2e"
      },
      "execution_count": 16,
      "outputs": [
        {
          "output_type": "execute_result",
          "data": {
            "text/plain": [
              "   Patient       Date                                         mainDgCode  \\\n",
              "0   209536 2015-01-29                    E06.3: Autoimunitní tyroiditida   \n",
              "1     8451 2015-01-08  E10.9: Diabetes mellitus 1. typu, léč. intenzi...   \n",
              "2     8451 2015-01-08  E10.9: Diabetes mellitus 1. typu, léč. intenzi...   \n",
              "3     8451 2015-01-08  E10.9: Diabetes mellitus 1. typu, léč. intenzi...   \n",
              "4     8451 2015-01-08  E10.9: Diabetes mellitus 1. typu, léč. intenzi...   \n",
              "\n",
              "                                         OtherDgCode  \n",
              "0                  E78.0: Čistá hypercholesterolemie  \n",
              "1                            Autoimunní thyreoiditis  \n",
              "2                                 Perniciózní anemie  \n",
              "3                     Surditas vlevo, tinnitus vlevo  \n",
              "4  Difuzní jaterní léze - steatóza až incipientní...  "
            ],
            "text/html": [
              "\n",
              "  <div id=\"df-065cc6cf-5918-41cf-90da-c12caf303dc4\">\n",
              "    <div class=\"colab-df-container\">\n",
              "      <div>\n",
              "<style scoped>\n",
              "    .dataframe tbody tr th:only-of-type {\n",
              "        vertical-align: middle;\n",
              "    }\n",
              "\n",
              "    .dataframe tbody tr th {\n",
              "        vertical-align: top;\n",
              "    }\n",
              "\n",
              "    .dataframe thead th {\n",
              "        text-align: right;\n",
              "    }\n",
              "</style>\n",
              "<table border=\"1\" class=\"dataframe\">\n",
              "  <thead>\n",
              "    <tr style=\"text-align: right;\">\n",
              "      <th></th>\n",
              "      <th>Patient</th>\n",
              "      <th>Date</th>\n",
              "      <th>mainDgCode</th>\n",
              "      <th>OtherDgCode</th>\n",
              "    </tr>\n",
              "  </thead>\n",
              "  <tbody>\n",
              "    <tr>\n",
              "      <th>0</th>\n",
              "      <td>209536</td>\n",
              "      <td>2015-01-29</td>\n",
              "      <td>E06.3: Autoimunitní tyroiditida</td>\n",
              "      <td>E78.0: Čistá hypercholesterolemie</td>\n",
              "    </tr>\n",
              "    <tr>\n",
              "      <th>1</th>\n",
              "      <td>8451</td>\n",
              "      <td>2015-01-08</td>\n",
              "      <td>E10.9: Diabetes mellitus 1. typu, léč. intenzi...</td>\n",
              "      <td>Autoimunní thyreoiditis</td>\n",
              "    </tr>\n",
              "    <tr>\n",
              "      <th>2</th>\n",
              "      <td>8451</td>\n",
              "      <td>2015-01-08</td>\n",
              "      <td>E10.9: Diabetes mellitus 1. typu, léč. intenzi...</td>\n",
              "      <td>Perniciózní anemie</td>\n",
              "    </tr>\n",
              "    <tr>\n",
              "      <th>3</th>\n",
              "      <td>8451</td>\n",
              "      <td>2015-01-08</td>\n",
              "      <td>E10.9: Diabetes mellitus 1. typu, léč. intenzi...</td>\n",
              "      <td>Surditas vlevo, tinnitus vlevo</td>\n",
              "    </tr>\n",
              "    <tr>\n",
              "      <th>4</th>\n",
              "      <td>8451</td>\n",
              "      <td>2015-01-08</td>\n",
              "      <td>E10.9: Diabetes mellitus 1. typu, léč. intenzi...</td>\n",
              "      <td>Difuzní jaterní léze - steatóza až incipientní...</td>\n",
              "    </tr>\n",
              "  </tbody>\n",
              "</table>\n",
              "</div>\n",
              "      <button class=\"colab-df-convert\" onclick=\"convertToInteractive('df-065cc6cf-5918-41cf-90da-c12caf303dc4')\"\n",
              "              title=\"Convert this dataframe to an interactive table.\"\n",
              "              style=\"display:none;\">\n",
              "        \n",
              "  <svg xmlns=\"http://www.w3.org/2000/svg\" height=\"24px\"viewBox=\"0 0 24 24\"\n",
              "       width=\"24px\">\n",
              "    <path d=\"M0 0h24v24H0V0z\" fill=\"none\"/>\n",
              "    <path d=\"M18.56 5.44l.94 2.06.94-2.06 2.06-.94-2.06-.94-.94-2.06-.94 2.06-2.06.94zm-11 1L8.5 8.5l.94-2.06 2.06-.94-2.06-.94L8.5 2.5l-.94 2.06-2.06.94zm10 10l.94 2.06.94-2.06 2.06-.94-2.06-.94-.94-2.06-.94 2.06-2.06.94z\"/><path d=\"M17.41 7.96l-1.37-1.37c-.4-.4-.92-.59-1.43-.59-.52 0-1.04.2-1.43.59L10.3 9.45l-7.72 7.72c-.78.78-.78 2.05 0 2.83L4 21.41c.39.39.9.59 1.41.59.51 0 1.02-.2 1.41-.59l7.78-7.78 2.81-2.81c.8-.78.8-2.07 0-2.86zM5.41 20L4 18.59l7.72-7.72 1.47 1.35L5.41 20z\"/>\n",
              "  </svg>\n",
              "      </button>\n",
              "      \n",
              "  <style>\n",
              "    .colab-df-container {\n",
              "      display:flex;\n",
              "      flex-wrap:wrap;\n",
              "      gap: 12px;\n",
              "    }\n",
              "\n",
              "    .colab-df-convert {\n",
              "      background-color: #E8F0FE;\n",
              "      border: none;\n",
              "      border-radius: 50%;\n",
              "      cursor: pointer;\n",
              "      display: none;\n",
              "      fill: #1967D2;\n",
              "      height: 32px;\n",
              "      padding: 0 0 0 0;\n",
              "      width: 32px;\n",
              "    }\n",
              "\n",
              "    .colab-df-convert:hover {\n",
              "      background-color: #E2EBFA;\n",
              "      box-shadow: 0px 1px 2px rgba(60, 64, 67, 0.3), 0px 1px 3px 1px rgba(60, 64, 67, 0.15);\n",
              "      fill: #174EA6;\n",
              "    }\n",
              "\n",
              "    [theme=dark] .colab-df-convert {\n",
              "      background-color: #3B4455;\n",
              "      fill: #D2E3FC;\n",
              "    }\n",
              "\n",
              "    [theme=dark] .colab-df-convert:hover {\n",
              "      background-color: #434B5C;\n",
              "      box-shadow: 0px 1px 3px 1px rgba(0, 0, 0, 0.15);\n",
              "      filter: drop-shadow(0px 1px 2px rgba(0, 0, 0, 0.3));\n",
              "      fill: #FFFFFF;\n",
              "    }\n",
              "  </style>\n",
              "\n",
              "      <script>\n",
              "        const buttonEl =\n",
              "          document.querySelector('#df-065cc6cf-5918-41cf-90da-c12caf303dc4 button.colab-df-convert');\n",
              "        buttonEl.style.display =\n",
              "          google.colab.kernel.accessAllowed ? 'block' : 'none';\n",
              "\n",
              "        async function convertToInteractive(key) {\n",
              "          const element = document.querySelector('#df-065cc6cf-5918-41cf-90da-c12caf303dc4');\n",
              "          const dataTable =\n",
              "            await google.colab.kernel.invokeFunction('convertToInteractive',\n",
              "                                                     [key], {});\n",
              "          if (!dataTable) return;\n",
              "\n",
              "          const docLinkHtml = 'Like what you see? Visit the ' +\n",
              "            '<a target=\"_blank\" href=https://colab.research.google.com/notebooks/data_table.ipynb>data table notebook</a>'\n",
              "            + ' to learn more about interactive tables.';\n",
              "          element.innerHTML = '';\n",
              "          dataTable['output_type'] = 'display_data';\n",
              "          await google.colab.output.renderOutput(dataTable, element);\n",
              "          const docLink = document.createElement('div');\n",
              "          docLink.innerHTML = docLinkHtml;\n",
              "          element.appendChild(docLink);\n",
              "        }\n",
              "      </script>\n",
              "    </div>\n",
              "  </div>\n",
              "  "
            ]
          },
          "metadata": {},
          "execution_count": 16
        }
      ]
    },
    {
      "cell_type": "code",
      "source": [
        "dgs_icd = [str(i).split(\":\")[0] for i in dgs.mainDgCode]\n",
        "# listing the frequency of diseases\n",
        "dgs[\"icd\"] = dgs_icd"
      ],
      "metadata": {
        "id": "2-r708egMWu0"
      },
      "execution_count": 23,
      "outputs": []
    },
    {
      "cell_type": "code",
      "source": [
        "dgs = dgs[[\"Patient\", \"Date\", \"icd\"]]"
      ],
      "metadata": {
        "id": "652Yql-_yRRG"
      },
      "execution_count": 24,
      "outputs": []
    },
    {
      "cell_type": "code",
      "source": [
        "for dg in dgs[\"icd\"][dgs.Patient==8451].unique():\n",
        "  print(icd.get_description(dg))\n",
        "# One Patient with ID 8451 has Entries at four dates."
      ],
      "metadata": {
        "colab": {
          "base_uri": "https://localhost:8080/"
        },
        "id": "b7KH22naMiCC",
        "outputId": "d2121d87-3403-4058-d29a-148bdbf8969b"
      },
      "execution_count": 25,
      "outputs": [
        {
          "output_type": "stream",
          "name": "stdout",
          "text": [
            "Type 1 diabetes mellitus without complications\n",
            "Autoimmune thyroiditis\n",
            "Calculus of gallbladder with other cholecystitis\n"
          ]
        }
      ]
    },
    {
      "cell_type": "code",
      "source": [
        "ckd = [ckd for ckd in dgs[\"icd\"] if \"N18\" in ckd]\n",
        "len(ckd)\n",
        "# number of diagnoses N18"
      ],
      "metadata": {
        "colab": {
          "base_uri": "https://localhost:8080/"
        },
        "id": "tXlXmF2wz8hY",
        "outputId": "9653cfd4-a7c5-4d5e-b36d-7cbc93ca784b"
      },
      "execution_count": 26,
      "outputs": [
        {
          "output_type": "execute_result",
          "data": {
            "text/plain": [
              "455"
            ]
          },
          "metadata": {},
          "execution_count": 26
        }
      ]
    },
    {
      "cell_type": "code",
      "source": [
        "dgs[\"ckd\"] = [1 if \"N18\" in ckd else 0 for ckd in dgs.icd]\n",
        "len(demogr.Patient.unique()) / (len(dgs[\"Patient\"][dgs.ckd==1].unique()) * 100)"
      ],
      "metadata": {
        "colab": {
          "base_uri": "https://localhost:8080/"
        },
        "id": "NZJXfTgXGOmo",
        "outputId": "2d098830-75e2-4ff2-de0d-bb9a8965ed19"
      },
      "execution_count": 27,
      "outputs": [
        {
          "output_type": "execute_result",
          "data": {
            "text/plain": [
              "2.0486842105263157"
            ]
          },
          "metadata": {},
          "execution_count": 27
        }
      ]
    },
    {
      "cell_type": "markdown",
      "source": [
        "### 2% suffering from N18"
      ],
      "metadata": {
        "id": "H7mR4aoh2q5w"
      }
    },
    {
      "cell_type": "code",
      "source": [
        "dgs[dgs.ckd==1].drop_duplicates()"
      ],
      "metadata": {
        "colab": {
          "base_uri": "https://localhost:8080/",
          "height": 424
        },
        "id": "j6oBQ8xwGz-S",
        "outputId": "e0504a2d-ab6d-4540-d691-df11be81dfad"
      },
      "execution_count": 28,
      "outputs": [
        {
          "output_type": "execute_result",
          "data": {
            "text/plain": [
              "        Patient       Date    icd  ckd\n",
              "60943   1229879 2022-01-05  N18.5    1\n",
              "62303     14324 2022-01-07  N18.4    1\n",
              "62498     68164 2022-01-07  N18.4    1\n",
              "63058     43841 2022-01-10  N18.4    1\n",
              "63259    111929 2022-01-10  N18.4    1\n",
              "...         ...        ...    ...  ...\n",
              "133182    16447 2022-10-10  N18.4    1\n",
              "135309   174983 2022-10-25  N18.4    1\n",
              "135955  1254969 2022-11-01  N18.2    1\n",
              "136502   185245 2022-11-15  N18.4    1\n",
              "138197    16447 2022-11-22  N18.3    1\n",
              "\n",
              "[97 rows x 4 columns]"
            ],
            "text/html": [
              "\n",
              "  <div id=\"df-ffd79ada-cbb2-4cf2-b501-3f77654ccaef\">\n",
              "    <div class=\"colab-df-container\">\n",
              "      <div>\n",
              "<style scoped>\n",
              "    .dataframe tbody tr th:only-of-type {\n",
              "        vertical-align: middle;\n",
              "    }\n",
              "\n",
              "    .dataframe tbody tr th {\n",
              "        vertical-align: top;\n",
              "    }\n",
              "\n",
              "    .dataframe thead th {\n",
              "        text-align: right;\n",
              "    }\n",
              "</style>\n",
              "<table border=\"1\" class=\"dataframe\">\n",
              "  <thead>\n",
              "    <tr style=\"text-align: right;\">\n",
              "      <th></th>\n",
              "      <th>Patient</th>\n",
              "      <th>Date</th>\n",
              "      <th>icd</th>\n",
              "      <th>ckd</th>\n",
              "    </tr>\n",
              "  </thead>\n",
              "  <tbody>\n",
              "    <tr>\n",
              "      <th>60943</th>\n",
              "      <td>1229879</td>\n",
              "      <td>2022-01-05</td>\n",
              "      <td>N18.5</td>\n",
              "      <td>1</td>\n",
              "    </tr>\n",
              "    <tr>\n",
              "      <th>62303</th>\n",
              "      <td>14324</td>\n",
              "      <td>2022-01-07</td>\n",
              "      <td>N18.4</td>\n",
              "      <td>1</td>\n",
              "    </tr>\n",
              "    <tr>\n",
              "      <th>62498</th>\n",
              "      <td>68164</td>\n",
              "      <td>2022-01-07</td>\n",
              "      <td>N18.4</td>\n",
              "      <td>1</td>\n",
              "    </tr>\n",
              "    <tr>\n",
              "      <th>63058</th>\n",
              "      <td>43841</td>\n",
              "      <td>2022-01-10</td>\n",
              "      <td>N18.4</td>\n",
              "      <td>1</td>\n",
              "    </tr>\n",
              "    <tr>\n",
              "      <th>63259</th>\n",
              "      <td>111929</td>\n",
              "      <td>2022-01-10</td>\n",
              "      <td>N18.4</td>\n",
              "      <td>1</td>\n",
              "    </tr>\n",
              "    <tr>\n",
              "      <th>...</th>\n",
              "      <td>...</td>\n",
              "      <td>...</td>\n",
              "      <td>...</td>\n",
              "      <td>...</td>\n",
              "    </tr>\n",
              "    <tr>\n",
              "      <th>133182</th>\n",
              "      <td>16447</td>\n",
              "      <td>2022-10-10</td>\n",
              "      <td>N18.4</td>\n",
              "      <td>1</td>\n",
              "    </tr>\n",
              "    <tr>\n",
              "      <th>135309</th>\n",
              "      <td>174983</td>\n",
              "      <td>2022-10-25</td>\n",
              "      <td>N18.4</td>\n",
              "      <td>1</td>\n",
              "    </tr>\n",
              "    <tr>\n",
              "      <th>135955</th>\n",
              "      <td>1254969</td>\n",
              "      <td>2022-11-01</td>\n",
              "      <td>N18.2</td>\n",
              "      <td>1</td>\n",
              "    </tr>\n",
              "    <tr>\n",
              "      <th>136502</th>\n",
              "      <td>185245</td>\n",
              "      <td>2022-11-15</td>\n",
              "      <td>N18.4</td>\n",
              "      <td>1</td>\n",
              "    </tr>\n",
              "    <tr>\n",
              "      <th>138197</th>\n",
              "      <td>16447</td>\n",
              "      <td>2022-11-22</td>\n",
              "      <td>N18.3</td>\n",
              "      <td>1</td>\n",
              "    </tr>\n",
              "  </tbody>\n",
              "</table>\n",
              "<p>97 rows × 4 columns</p>\n",
              "</div>\n",
              "      <button class=\"colab-df-convert\" onclick=\"convertToInteractive('df-ffd79ada-cbb2-4cf2-b501-3f77654ccaef')\"\n",
              "              title=\"Convert this dataframe to an interactive table.\"\n",
              "              style=\"display:none;\">\n",
              "        \n",
              "  <svg xmlns=\"http://www.w3.org/2000/svg\" height=\"24px\"viewBox=\"0 0 24 24\"\n",
              "       width=\"24px\">\n",
              "    <path d=\"M0 0h24v24H0V0z\" fill=\"none\"/>\n",
              "    <path d=\"M18.56 5.44l.94 2.06.94-2.06 2.06-.94-2.06-.94-.94-2.06-.94 2.06-2.06.94zm-11 1L8.5 8.5l.94-2.06 2.06-.94-2.06-.94L8.5 2.5l-.94 2.06-2.06.94zm10 10l.94 2.06.94-2.06 2.06-.94-2.06-.94-.94-2.06-.94 2.06-2.06.94z\"/><path d=\"M17.41 7.96l-1.37-1.37c-.4-.4-.92-.59-1.43-.59-.52 0-1.04.2-1.43.59L10.3 9.45l-7.72 7.72c-.78.78-.78 2.05 0 2.83L4 21.41c.39.39.9.59 1.41.59.51 0 1.02-.2 1.41-.59l7.78-7.78 2.81-2.81c.8-.78.8-2.07 0-2.86zM5.41 20L4 18.59l7.72-7.72 1.47 1.35L5.41 20z\"/>\n",
              "  </svg>\n",
              "      </button>\n",
              "      \n",
              "  <style>\n",
              "    .colab-df-container {\n",
              "      display:flex;\n",
              "      flex-wrap:wrap;\n",
              "      gap: 12px;\n",
              "    }\n",
              "\n",
              "    .colab-df-convert {\n",
              "      background-color: #E8F0FE;\n",
              "      border: none;\n",
              "      border-radius: 50%;\n",
              "      cursor: pointer;\n",
              "      display: none;\n",
              "      fill: #1967D2;\n",
              "      height: 32px;\n",
              "      padding: 0 0 0 0;\n",
              "      width: 32px;\n",
              "    }\n",
              "\n",
              "    .colab-df-convert:hover {\n",
              "      background-color: #E2EBFA;\n",
              "      box-shadow: 0px 1px 2px rgba(60, 64, 67, 0.3), 0px 1px 3px 1px rgba(60, 64, 67, 0.15);\n",
              "      fill: #174EA6;\n",
              "    }\n",
              "\n",
              "    [theme=dark] .colab-df-convert {\n",
              "      background-color: #3B4455;\n",
              "      fill: #D2E3FC;\n",
              "    }\n",
              "\n",
              "    [theme=dark] .colab-df-convert:hover {\n",
              "      background-color: #434B5C;\n",
              "      box-shadow: 0px 1px 3px 1px rgba(0, 0, 0, 0.15);\n",
              "      filter: drop-shadow(0px 1px 2px rgba(0, 0, 0, 0.3));\n",
              "      fill: #FFFFFF;\n",
              "    }\n",
              "  </style>\n",
              "\n",
              "      <script>\n",
              "        const buttonEl =\n",
              "          document.querySelector('#df-ffd79ada-cbb2-4cf2-b501-3f77654ccaef button.colab-df-convert');\n",
              "        buttonEl.style.display =\n",
              "          google.colab.kernel.accessAllowed ? 'block' : 'none';\n",
              "\n",
              "        async function convertToInteractive(key) {\n",
              "          const element = document.querySelector('#df-ffd79ada-cbb2-4cf2-b501-3f77654ccaef');\n",
              "          const dataTable =\n",
              "            await google.colab.kernel.invokeFunction('convertToInteractive',\n",
              "                                                     [key], {});\n",
              "          if (!dataTable) return;\n",
              "\n",
              "          const docLinkHtml = 'Like what you see? Visit the ' +\n",
              "            '<a target=\"_blank\" href=https://colab.research.google.com/notebooks/data_table.ipynb>data table notebook</a>'\n",
              "            + ' to learn more about interactive tables.';\n",
              "          element.innerHTML = '';\n",
              "          dataTable['output_type'] = 'display_data';\n",
              "          await google.colab.output.renderOutput(dataTable, element);\n",
              "          const docLink = document.createElement('div');\n",
              "          docLink.innerHTML = docLinkHtml;\n",
              "          element.appendChild(docLink);\n",
              "        }\n",
              "      </script>\n",
              "    </div>\n",
              "  </div>\n",
              "  "
            ]
          },
          "metadata": {},
          "execution_count": 28
        }
      ]
    },
    {
      "cell_type": "code",
      "source": [
        "ckd_pdframe = dgs[dgs.ckd==1].drop_duplicates()\n",
        "ckd_pdseries = ckd_pdframe.icd.value_counts()\n",
        "print(ckd_pdseries)\n",
        "plt.pie(ckd_pdseries.values, labels=list(ckd_pdseries.index))\n",
        "plt.show()"
      ],
      "metadata": {
        "colab": {
          "base_uri": "https://localhost:8080/",
          "height": 370
        },
        "id": "hTZyK1vR0NRx",
        "outputId": "80c71824-4566-4cbc-a6e2-eb1aaea31fcf"
      },
      "execution_count": 29,
      "outputs": [
        {
          "output_type": "stream",
          "name": "stdout",
          "text": [
            "N18.3    39\n",
            "N18.4    30\n",
            "N18.2    11\n",
            "N18.5    10\n",
            "N18.1     4\n",
            "N18.9     3\n",
            "Name: icd, dtype: int64\n"
          ]
        },
        {
          "output_type": "display_data",
          "data": {
            "text/plain": [
              "<Figure size 432x288 with 1 Axes>"
            ],
            "image/png": "[encoded data removed]"
          },
          "metadata": {}
        }
      ]
    },
    {
      "cell_type": "markdown",
      "source": [
        "### HTN, CAD, DM, DCM, AFib, CHF most common"
      ],
      "metadata": {
        "id": "6ZN4XjeR6tO5"
      }
    },
    {
      "cell_type": "code",
      "source": [
        "commonicd = dgs.icd.value_counts()[:40]\n",
        "for i, c in commonicd.items():\n",
        "  # print(i, icd.get_description(i), c)\n",
        "  print(str(c).ljust(8), i, icd.get_description(i))"
      ],
      "metadata": {
        "colab": {
          "base_uri": "https://localhost:8080/"
        },
        "id": "dx8ss-oz2pgu",
        "outputId": "d211e221-69d9-4e66-b1b3-8842dc029157"
      },
      "execution_count": 30,
      "outputs": [
        {
          "output_type": "stream",
          "name": "stdout",
          "text": [
            "19526    I10 Essential (primary) hypertension\n",
            "7256     I25.9 Chronic ischaemic heart disease, unspecified\n",
            "4771     E11.9 Type 2 diabetes mellitus without complications\n",
            "4607     E10.7 Type 1 diabetes mellitus with multiple complications\n",
            "3700     E11.7 Type 2 diabetes mellitus with multiple complications\n",
            "3402     I42.0 Dilated cardiomyopathy\n",
            "3144     I48.1 Persistent atrial fibrillation\n",
            "3109     E78.2 Mixed hyperlipidaemia\n",
            "3095     I50.0 Congestive heart failure\n",
            "2918     I25.8 Other forms of chronic ischaemic heart disease\n",
            "2692     I48.0 Paroxysmal atrial fibrillation\n",
            "2331     E10.9 Type 1 diabetes mellitus without complications\n",
            "2097     E06.3 Autoimmune thyroiditis\n",
            "1987     I34.0 Mitral (valve) insufficiency\n",
            "1811     I50.1 Left ventricular failure\n",
            "1730     E11.8 Type 2 diabetes mellitus with unspecified complications\n",
            "1555     E78.0 Pure hypercholesterolaemia\n",
            "1358     E78.9 Disorder of lipoprotein metabolism, unspecified\n",
            "1304     Z95.0 Presence of electronic cardiac devices\n",
            "1284     I35.0 Aortic (valve) stenosis\n",
            "1138     I49.5 Sick sinus syndrome\n",
            "1133     I48.9 Atrial fibrillation and atrial flutter, unspecified\n",
            "963      I25.0 Atherosclerotic cardiovascular disease, so described\n",
            "937      I47.2 Ventricular tachycardia\n",
            "920      I25.1 Atherosclerotic heart disease\n",
            "918      K76.0 Fatty (change of) liver, not elsewhere classified\n",
            "916      E04.2 Nontoxic multinodular goitre\n",
            "903      K30 Functional dyspepsia\n",
            "892      I50.9 Heart failure, unspecified\n",
            "879      I48.2 Chronic atrial fibrillation\n",
            "877      I35.1 Aortic (valve) insufficiency\n",
            "838      J45.0 Predominantly allergic asthma\n",
            "833      E11.4 Type 2 diabetes mellitus with neurological complications\n",
            "833      E11.5 Type 2 diabetes mellitus with peripheral circulatory complications\n",
            "831      Z95.2 Presence of prosthetic heart valve\n",
            "831      I25.2 Old myocardial infarction\n",
            "815      K76.8 Other specified diseases of liver\n",
            "811      I44.2 Atrioventricular block, complete\n",
            "738      I25.5 Ischaemic cardiomyopathy\n",
            "735      E10.3 Type 1 diabetes mellitus with ophthalmic complications\n"
          ]
        }
      ]
    },
    {
      "cell_type": "markdown",
      "source": [
        "### Circulatory and Metabolic Medicine"
      ],
      "metadata": {
        "id": "NuQI80cs6jSX"
      }
    },
    {
      "cell_type": "code",
      "source": [
        "specialty = list()\n",
        "for i in dgs.icd:\n",
        "  try:\n",
        "    sg = icd.get_parent(i[:3])\n",
        "    s = icd.get_parent(sg)\n",
        "    specialty.append((icd.get_description(s), sg[0]))\n",
        "  except:\n",
        "    pass\n",
        "pd.Series(specialty).value_counts()"
      ],
      "metadata": {
        "colab": {
          "base_uri": "https://localhost:8080/"
        },
        "id": "za1K_gXI4AN5",
        "outputId": "fb8cc92b-39fa-435f-c462-a4f0c0d177d4"
      },
      "execution_count": 31,
      "outputs": [
        {
          "output_type": "execute_result",
          "data": {
            "text/plain": [
              "(Diseases of the circulatory system, I)                                                                                                  70734\n",
              "(Endocrine, nutritional and metabolic diseases, E)                                                                                       34231\n",
              "(Diseases of the digestive system, K)                                                                                                    12447\n",
              "(Factors influencing health status and contact with health services, Z)                                                                   4279\n",
              "(Diseases of the respiratory system, J)                                                                                                   2610\n",
              "(Diseases of the blood and blood-forming organs and certain disorders involving the immune mechanism, D)                                  1893\n",
              "(Symptoms, signs and abnormal clinical and laboratory findings, not elsewhere classified, R)                                              1723\n",
              "(Certain infectious and parasitic diseases, B)                                                                                            1317\n",
              "(Dorsopathies, M)                                                                                                                         1266\n",
              "(Neoplasms, D)                                                                                                                            1173\n",
              "(Congenital malformations, deformations and chromosomal abnormalities, Q)                                                                 1085\n",
              "(Diseases of the genitourinary system, N)                                                                                                  978\n",
              "(Malignant neoplasms, stated or presumed to be primary, of specified sites, except of lymphoid, haematopoietic and related tissue, C)      897\n",
              "(Diseases of the skin and subcutaneous tissue, L)                                                                                          693\n",
              "(Osteopathies and chondropathies, M)                                                                                                       506\n",
              "(Diseases of the nervous system, G)                                                                                                        399\n",
              "(Arthropathies, M)                                                                                                                         364\n",
              "(Diseases of the musculoskeletal system and connective tissue, M)                                                                          333\n",
              "(Soft tissue disorders, M)                                                                                                                 182\n",
              "(Malignant neoplasms, C)                                                                                                                   169\n",
              "(Injury, poisoning and certain other consequences of external causes, T)                                                                   163\n",
              "(Mental and behavioural disorders, F)                                                                                                      130\n",
              "(Certain infectious and parasitic diseases, A)                                                                                             122\n",
              "(Injury, poisoning and certain other consequences of external causes, S)                                                                    92\n",
              "(Codes for special purposes, U)                                                                                                             82\n",
              "(Diseases of the ear and mastoid process, H)                                                                                                54\n",
              "(Diseases of the eye and adnexa, H)                                                                                                         33\n",
              "(Pregnancy, childbirth and the puerperium, O)                                                                                                6\n",
              "(Burns and corrosions, T)                                                                                                                    2\n",
              "dtype: int64"
            ]
          },
          "metadata": {},
          "execution_count": 31
        }
      ]
    },
    {
      "cell_type": "code",
      "source": [
        "demogr.Sex.value_counts()"
      ],
      "metadata": {
        "colab": {
          "base_uri": "https://localhost:8080/"
        },
        "id": "y5yJ5YVV7Bu5",
        "outputId": "ce27b586-b6e8-4cda-b3dd-7c9d7469348f"
      },
      "execution_count": 32,
      "outputs": [
        {
          "output_type": "execute_result",
          "data": {
            "text/plain": [
              "M    8326\n",
              "F    7244\n",
              "Name: Sex, dtype: int64"
            ]
          },
          "metadata": {},
          "execution_count": 32
        }
      ]
    },
    {
      "cell_type": "markdown",
      "source": [
        "## Laboratory Data"
      ],
      "metadata": {
        "id": "mi0Vx_XmtqA5"
      }
    },
    {
      "cell_type": "code",
      "source": [
        "print(list(lab.columns))\n",
        "lab.shape"
      ],
      "metadata": {
        "colab": {
          "base_uri": "https://localhost:8080/"
        },
        "id": "F3DVs8KWQ4lO",
        "outputId": "db9fc433-21d1-4ea2-dffc-534d251cef25"
      },
      "execution_count": 33,
      "outputs": [
        {
          "output_type": "stream",
          "name": "stdout",
          "text": [
            "['Patient', 'Report', 'ID', 'EntryDate', 'EntryTime', 'Code', 'NCLP', 'Analyte', 'ValueNumber', 'ValueText', 'RefHigh', 'RefLow', 'Unit']\n"
          ]
        },
        {
          "output_type": "execute_result",
          "data": {
            "text/plain": [
              "(8679298, 13)"
            ]
          },
          "metadata": {},
          "execution_count": 33
        }
      ]
    },
    {
      "cell_type": "code",
      "source": [
        "lab.head()"
      ],
      "metadata": {
        "colab": {
          "base_uri": "https://localhost:8080/",
          "height": 444
        },
        "id": "rtvHVjQYC5y0",
        "outputId": "a12c0fa1-0224-4117-eaa5-6da795d94e88"
      },
      "execution_count": 34,
      "outputs": [
        {
          "output_type": "execute_result",
          "data": {
            "text/plain": [
              "   Patient    Report         ID  EntryDate           EntryTime  \\\n",
              "0   324729  27200171  154214712 2022-09-30 1899-12-30 07:42:00   \n",
              "1   324729  27200171  154214720 2022-09-30 1899-12-30 07:42:00   \n",
              "2   324729   1453155   18244355 2015-04-16 1899-12-30 07:31:00   \n",
              "3   324729   1453155   18244356 2015-04-16 1899-12-30 07:31:00   \n",
              "4   324729   1453155   18244357 2015-04-16 1899-12-30 07:31:00   \n",
              "\n",
              "              Code   NCLP                      Analyte ValueNumber ValueText  \\\n",
              "0  SZU-HEP_0004__R    NaN             HBsAg konfirmace         NaN   externě   \n",
              "1   ZU-OKM_0024__R    NaN  Rotaviry + Noroviry stolice         NaN     odběr   \n",
              "2              NaN  03482               s_vápník celk.        2.37       NaN   \n",
              "3              NaN  02618                     s_fosfor        1.32       NaN   \n",
              "4              NaN  03940                     s_hořčík        0.75       NaN   \n",
              "\n",
              "  RefHigh RefLow    Unit  \n",
              "0     NaN    NaN     NaN  \n",
              "1     NaN    NaN     NaN  \n",
              "2    2.55   2.15  mmol/l  \n",
              "3    1.23   0.71  mmol/l  \n",
              "4    0.94   0.71  mmol/l  "
            ],
            "text/html": [
              "\n",
              "  <div id=\"df-91a32ad4-8f60-4bf0-bfce-56ae9af21f98\">\n",
              "    <div class=\"colab-df-container\">\n",
              "      <div>\n",
              "<style scoped>\n",
              "    .dataframe tbody tr th:only-of-type {\n",
              "        vertical-align: middle;\n",
              "    }\n",
              "\n",
              "    .dataframe tbody tr th {\n",
              "        vertical-align: top;\n",
              "    }\n",
              "\n",
              "    .dataframe thead th {\n",
              "        text-align: right;\n",
              "    }\n",
              "</style>\n",
              "<table border=\"1\" class=\"dataframe\">\n",
              "  <thead>\n",
              "    <tr style=\"text-align: right;\">\n",
              "      <th></th>\n",
              "      <th>Patient</th>\n",
              "      <th>Report</th>\n",
              "      <th>ID</th>\n",
              "      <th>EntryDate</th>\n",
              "      <th>EntryTime</th>\n",
              "      <th>Code</th>\n",
              "      <th>NCLP</th>\n",
              "      <th>Analyte</th>\n",
              "      <th>ValueNumber</th>\n",
              "      <th>ValueText</th>\n",
              "      <th>RefHigh</th>\n",
              "      <th>RefLow</th>\n",
              "      <th>Unit</th>\n",
              "    </tr>\n",
              "  </thead>\n",
              "  <tbody>\n",
              "    <tr>\n",
              "      <th>0</th>\n",
              "      <td>324729</td>\n",
              "      <td>27200171</td>\n",
              "      <td>154214712</td>\n",
              "      <td>2022-09-30</td>\n",
              "      <td>1899-12-30 07:42:00</td>\n",
              "      <td>SZU-HEP_0004__R</td>\n",
              "      <td>NaN</td>\n",
              "      <td>HBsAg konfirmace</td>\n",
              "      <td>NaN</td>\n",
              "      <td>externě</td>\n",
              "      <td>NaN</td>\n",
              "      <td>NaN</td>\n",
              "      <td>NaN</td>\n",
              "    </tr>\n",
              "    <tr>\n",
              "      <th>1</th>\n",
              "      <td>324729</td>\n",
              "      <td>27200171</td>\n",
              "      <td>154214720</td>\n",
              "      <td>2022-09-30</td>\n",
              "      <td>1899-12-30 07:42:00</td>\n",
              "      <td>ZU-OKM_0024__R</td>\n",
              "      <td>NaN</td>\n",
              "      <td>Rotaviry + Noroviry stolice</td>\n",
              "      <td>NaN</td>\n",
              "      <td>odběr</td>\n",
              "      <td>NaN</td>\n",
              "      <td>NaN</td>\n",
              "      <td>NaN</td>\n",
              "    </tr>\n",
              "    <tr>\n",
              "      <th>2</th>\n",
              "      <td>324729</td>\n",
              "      <td>1453155</td>\n",
              "      <td>18244355</td>\n",
              "      <td>2015-04-16</td>\n",
              "      <td>1899-12-30 07:31:00</td>\n",
              "      <td>NaN</td>\n",
              "      <td>03482</td>\n",
              "      <td>s_vápník celk.</td>\n",
              "      <td>2.37</td>\n",
              "      <td>NaN</td>\n",
              "      <td>2.55</td>\n",
              "      <td>2.15</td>\n",
              "      <td>mmol/l</td>\n",
              "    </tr>\n",
              "    <tr>\n",
              "      <th>3</th>\n",
              "      <td>324729</td>\n",
              "      <td>1453155</td>\n",
              "      <td>18244356</td>\n",
              "      <td>2015-04-16</td>\n",
              "      <td>1899-12-30 07:31:00</td>\n",
              "      <td>NaN</td>\n",
              "      <td>02618</td>\n",
              "      <td>s_fosfor</td>\n",
              "      <td>1.32</td>\n",
              "      <td>NaN</td>\n",
              "      <td>1.23</td>\n",
              "      <td>0.71</td>\n",
              "      <td>mmol/l</td>\n",
              "    </tr>\n",
              "    <tr>\n",
              "      <th>4</th>\n",
              "      <td>324729</td>\n",
              "      <td>1453155</td>\n",
              "      <td>18244357</td>\n",
              "      <td>2015-04-16</td>\n",
              "      <td>1899-12-30 07:31:00</td>\n",
              "      <td>NaN</td>\n",
              "      <td>03940</td>\n",
              "      <td>s_hořčík</td>\n",
              "      <td>0.75</td>\n",
              "      <td>NaN</td>\n",
              "      <td>0.94</td>\n",
              "      <td>0.71</td>\n",
              "      <td>mmol/l</td>\n",
              "    </tr>\n",
              "  </tbody>\n",
              "</table>\n",
              "</div>\n",
              "      <button class=\"colab-df-convert\" onclick=\"convertToInteractive('df-91a32ad4-8f60-4bf0-bfce-56ae9af21f98')\"\n",
              "              title=\"Convert this dataframe to an interactive table.\"\n",
              "              style=\"display:none;\">\n",
              "        \n",
              "  <svg xmlns=\"http://www.w3.org/2000/svg\" height=\"24px\"viewBox=\"0 0 24 24\"\n",
              "       width=\"24px\">\n",
              "    <path d=\"M0 0h24v24H0V0z\" fill=\"none\"/>\n",
              "    <path d=\"M18.56 5.44l.94 2.06.94-2.06 2.06-.94-2.06-.94-.94-2.06-.94 2.06-2.06.94zm-11 1L8.5 8.5l.94-2.06 2.06-.94-2.06-.94L8.5 2.5l-.94 2.06-2.06.94zm10 10l.94 2.06.94-2.06 2.06-.94-2.06-.94-.94-2.06-.94 2.06-2.06.94z\"/><path d=\"M17.41 7.96l-1.37-1.37c-.4-.4-.92-.59-1.43-.59-.52 0-1.04.2-1.43.59L10.3 9.45l-7.72 7.72c-.78.78-.78 2.05 0 2.83L4 21.41c.39.39.9.59 1.41.59.51 0 1.02-.2 1.41-.59l7.78-7.78 2.81-2.81c.8-.78.8-2.07 0-2.86zM5.41 20L4 18.59l7.72-7.72 1.47 1.35L5.41 20z\"/>\n",
              "  </svg>\n",
              "      </button>\n",
              "      \n",
              "  <style>\n",
              "    .colab-df-container {\n",
              "      display:flex;\n",
              "      flex-wrap:wrap;\n",
              "      gap: 12px;\n",
              "    }\n",
              "\n",
              "    .colab-df-convert {\n",
              "      background-color: #E8F0FE;\n",
              "      border: none;\n",
              "      border-radius: 50%;\n",
              "      cursor: pointer;\n",
              "      display: none;\n",
              "      fill: #1967D2;\n",
              "      height: 32px;\n",
              "      padding: 0 0 0 0;\n",
              "      width: 32px;\n",
              "    }\n",
              "\n",
              "    .colab-df-convert:hover {\n",
              "      background-color: #E2EBFA;\n",
              "      box-shadow: 0px 1px 2px rgba(60, 64, 67, 0.3), 0px 1px 3px 1px rgba(60, 64, 67, 0.15);\n",
              "      fill: #174EA6;\n",
              "    }\n",
              "\n",
              "    [theme=dark] .colab-df-convert {\n",
              "      background-color: #3B4455;\n",
              "      fill: #D2E3FC;\n",
              "    }\n",
              "\n",
              "    [theme=dark] .colab-df-convert:hover {\n",
              "      background-color: #434B5C;\n",
              "      box-shadow: 0px 1px 3px 1px rgba(0, 0, 0, 0.15);\n",
              "      filter: drop-shadow(0px 1px 2px rgba(0, 0, 0, 0.3));\n",
              "      fill: #FFFFFF;\n",
              "    }\n",
              "  </style>\n",
              "\n",
              "      <script>\n",
              "        const buttonEl =\n",
              "          document.querySelector('#df-91a32ad4-8f60-4bf0-bfce-56ae9af21f98 button.colab-df-convert');\n",
              "        buttonEl.style.display =\n",
              "          google.colab.kernel.accessAllowed ? 'block' : 'none';\n",
              "\n",
              "        async function convertToInteractive(key) {\n",
              "          const element = document.querySelector('#df-91a32ad4-8f60-4bf0-bfce-56ae9af21f98');\n",
              "          const dataTable =\n",
              "            await google.colab.kernel.invokeFunction('convertToInteractive',\n",
              "                                                     [key], {});\n",
              "          if (!dataTable) return;\n",
              "\n",
              "          const docLinkHtml = 'Like what you see? Visit the ' +\n",
              "            '<a target=\"_blank\" href=https://colab.research.google.com/notebooks/data_table.ipynb>data table notebook</a>'\n",
              "            + ' to learn more about interactive tables.';\n",
              "          element.innerHTML = '';\n",
              "          dataTable['output_type'] = 'display_data';\n",
              "          await google.colab.output.renderOutput(dataTable, element);\n",
              "          const docLink = document.createElement('div');\n",
              "          docLink.innerHTML = docLinkHtml;\n",
              "          element.appendChild(docLink);\n",
              "        }\n",
              "      </script>\n",
              "    </div>\n",
              "  </div>\n",
              "  "
            ]
          },
          "metadata": {},
          "execution_count": 34
        }
      ]
    },
    {
      "cell_type": "code",
      "source": [
        "ckd_lab_label = []\n",
        "for p in lab.Patient:\n",
        "  if p in set(ckd_pdframe.Patient):\n",
        "    ckd_lab_label.append(1)\n",
        "  else:\n",
        "    ckd_lab_label.append(0)\n",
        "lab[\"ckd\"] = ckd_lab_label\n",
        "lab[lab[\"ckd\"]==1]"
      ],
      "metadata": {
        "colab": {
          "base_uri": "https://localhost:8080/",
          "height": 835
        },
        "id": "1BLWZQSRDpTV",
        "outputId": "59194e92-a36c-4d9d-aeae-dc0002bc398d"
      },
      "execution_count": 35,
      "outputs": [
        {
          "output_type": "execute_result",
          "data": {
            "text/plain": [
              "         Patient    Report         ID  EntryDate           EntryTime  \\\n",
              "12076      43841  27069845  151902046 2022-01-12 1899-12-30 07:00:00   \n",
              "12077      43841  27069845  151902047 2022-01-12 1899-12-30 07:00:00   \n",
              "12078      43841  27069845  151902048 2022-01-12 1899-12-30 07:00:00   \n",
              "12079      43841  27069845  151902049 2022-01-12 1899-12-30 07:00:00   \n",
              "12080      43841  27069845  151902050 2022-01-12 1899-12-30 07:00:00   \n",
              "...          ...       ...        ...        ...                 ...   \n",
              "8637711    68164  27548267  160925962 2022-10-20 1899-12-30 07:00:00   \n",
              "8637712    68164  27548267  160925963 2022-10-20 1899-12-30 07:00:00   \n",
              "8637713    68164  27548267  160925964 2022-10-20 1899-12-30 07:00:00   \n",
              "8637714    68164  27548267  160925965 2022-10-20 1899-12-30 07:00:00   \n",
              "8637715    68164  27548267  160925966 2022-10-20 1899-12-30 07:00:00   \n",
              "\n",
              "                     Code NCLP                         Analyte ValueNumber  \\\n",
              "12076    IKEM-PLM_0332__R  NaN               B-CrossLaps(mass)         NaN   \n",
              "12077    IKEM-PLM_0325__R  NaN                            P1NP         NaN   \n",
              "12078    IKEM-ISS_0017__R  NaN                        25(OH)D3         NaN   \n",
              "12079    IKEM-ISS_0016__R  NaN                      1,25(OH)D3         NaN   \n",
              "12080    IKEM-PLM_0852__R  NaN                             TSH         NaN   \n",
              "...                   ...  ...                             ...         ...   \n",
              "8637711  IKEM-OIG_0006__R  NaN                      Luminex WL         NaN   \n",
              "8637712  IKEM-OIG_0009__R  NaN                            %PRA         NaN   \n",
              "8637713  IKEM-OIG_0004__R  NaN  HLA typizace A,B,DR - příjemce         NaN   \n",
              "8637714  IKEM-OIG_0031__R  NaN          izolace buněk příjemce         NaN   \n",
              "8637715  IKEM-OIG_0001__R  NaN                  CDC crossmatch         NaN   \n",
              "\n",
              "        ValueText RefHigh RefLow Unit  ckd  \n",
              "12076    ordinace     NaN    NaN  NaN    1  \n",
              "12077    ordinace     NaN    NaN  NaN    1  \n",
              "12078    ordinace     NaN    NaN  NaN    1  \n",
              "12079    ordinace     NaN    NaN  NaN    1  \n",
              "12080    ordinace     NaN    NaN  NaN    1  \n",
              "...           ...     ...    ...  ...  ...  \n",
              "8637711     odběr     NaN    NaN  NaN    1  \n",
              "8637712     odběr     NaN    NaN  NaN    1  \n",
              "8637713     odběr     NaN    NaN  NaN    1  \n",
              "8637714     odběr     NaN    NaN  NaN    1  \n",
              "8637715     odběr     NaN    NaN  NaN    1  \n",
              "\n",
              "[138553 rows x 14 columns]"
            ],
            "text/html": [
              "\n",
              "  <div id=\"df-79bb910b-3e37-43fb-9e93-4b960f5439a7\">\n",
              "    <div class=\"colab-df-container\">\n",
              "      <div>\n",
              "<style scoped>\n",
              "    .dataframe tbody tr th:only-of-type {\n",
              "        vertical-align: middle;\n",
              "    }\n",
              "\n",
              "    .dataframe tbody tr th {\n",
              "        vertical-align: top;\n",
              "    }\n",
              "\n",
              "    .dataframe thead th {\n",
              "        text-align: right;\n",
              "    }\n",
              "</style>\n",
              "<table border=\"1\" class=\"dataframe\">\n",
              "  <thead>\n",
              "    <tr style=\"text-align: right;\">\n",
              "      <th></th>\n",
              "      <th>Patient</th>\n",
              "      <th>Report</th>\n",
              "      <th>ID</th>\n",
              "      <th>EntryDate</th>\n",
              "      <th>EntryTime</th>\n",
              "      <th>Code</th>\n",
              "      <th>NCLP</th>\n",
              "      <th>Analyte</th>\n",
              "      <th>ValueNumber</th>\n",
              "      <th>ValueText</th>\n",
              "      <th>RefHigh</th>\n",
              "      <th>RefLow</th>\n",
              "      <th>Unit</th>\n",
              "      <th>ckd</th>\n",
              "    </tr>\n",
              "  </thead>\n",
              "  <tbody>\n",
              "    <tr>\n",
              "      <th>12076</th>\n",
              "      <td>43841</td>\n",
              "      <td>27069845</td>\n",
              "      <td>151902046</td>\n",
              "      <td>2022-01-12</td>\n",
              "      <td>1899-12-30 07:00:00</td>\n",
              "      <td>IKEM-PLM_0332__R</td>\n",
              "      <td>NaN</td>\n",
              "      <td>B-CrossLaps(mass)</td>\n",
              "      <td>NaN</td>\n",
              "      <td>ordinace</td>\n",
              "      <td>NaN</td>\n",
              "      <td>NaN</td>\n",
              "      <td>NaN</td>\n",
              "      <td>1</td>\n",
              "    </tr>\n",
              "    <tr>\n",
              "      <th>12077</th>\n",
              "      <td>43841</td>\n",
              "      <td>27069845</td>\n",
              "      <td>151902047</td>\n",
              "      <td>2022-01-12</td>\n",
              "      <td>1899-12-30 07:00:00</td>\n",
              "      <td>IKEM-PLM_0325__R</td>\n",
              "      <td>NaN</td>\n",
              "      <td>P1NP</td>\n",
              "      <td>NaN</td>\n",
              "      <td>ordinace</td>\n",
              "      <td>NaN</td>\n",
              "      <td>NaN</td>\n",
              "      <td>NaN</td>\n",
              "      <td>1</td>\n",
              "    </tr>\n",
              "    <tr>\n",
              "      <th>12078</th>\n",
              "      <td>43841</td>\n",
              "      <td>27069845</td>\n",
              "      <td>151902048</td>\n",
              "      <td>2022-01-12</td>\n",
              "      <td>1899-12-30 07:00:00</td>\n",
              "      <td>IKEM-ISS_0017__R</td>\n",
              "      <td>NaN</td>\n",
              "      <td>25(OH)D3</td>\n",
              "      <td>NaN</td>\n",
              "      <td>ordinace</td>\n",
              "      <td>NaN</td>\n",
              "      <td>NaN</td>\n",
              "      <td>NaN</td>\n",
              "      <td>1</td>\n",
              "    </tr>\n",
              "    <tr>\n",
              "      <th>12079</th>\n",
              "      <td>43841</td>\n",
              "      <td>27069845</td>\n",
              "      <td>151902049</td>\n",
              "      <td>2022-01-12</td>\n",
              "      <td>1899-12-30 07:00:00</td>\n",
              "      <td>IKEM-ISS_0016__R</td>\n",
              "      <td>NaN</td>\n",
              "      <td>1,25(OH)D3</td>\n",
              "      <td>NaN</td>\n",
              "      <td>ordinace</td>\n",
              "      <td>NaN</td>\n",
              "      <td>NaN</td>\n",
              "      <td>NaN</td>\n",
              "      <td>1</td>\n",
              "    </tr>\n",
              "    <tr>\n",
              "      <th>12080</th>\n",
              "      <td>43841</td>\n",
              "      <td>27069845</td>\n",
              "      <td>151902050</td>\n",
              "      <td>2022-01-12</td>\n",
              "      <td>1899-12-30 07:00:00</td>\n",
              "      <td>IKEM-PLM_0852__R</td>\n",
              "      <td>NaN</td>\n",
              "      <td>TSH</td>\n",
              "      <td>NaN</td>\n",
              "      <td>ordinace</td>\n",
              "      <td>NaN</td>\n",
              "      <td>NaN</td>\n",
              "      <td>NaN</td>\n",
              "      <td>1</td>\n",
              "    </tr>\n",
              "    <tr>\n",
              "      <th>...</th>\n",
              "      <td>...</td>\n",
              "      <td>...</td>\n",
              "      <td>...</td>\n",
              "      <td>...</td>\n",
              "      <td>...</td>\n",
              "      <td>...</td>\n",
              "      <td>...</td>\n",
              "      <td>...</td>\n",
              "      <td>...</td>\n",
              "      <td>...</td>\n",
              "      <td>...</td>\n",
              "      <td>...</td>\n",
              "      <td>...</td>\n",
              "      <td>...</td>\n",
              "    </tr>\n",
              "    <tr>\n",
              "      <th>8637711</th>\n",
              "      <td>68164</td>\n",
              "      <td>27548267</td>\n",
              "      <td>160925962</td>\n",
              "      <td>2022-10-20</td>\n",
              "      <td>1899-12-30 07:00:00</td>\n",
              "      <td>IKEM-OIG_0006__R</td>\n",
              "      <td>NaN</td>\n",
              "      <td>Luminex WL</td>\n",
              "      <td>NaN</td>\n",
              "      <td>odběr</td>\n",
              "      <td>NaN</td>\n",
              "      <td>NaN</td>\n",
              "      <td>NaN</td>\n",
              "      <td>1</td>\n",
              "    </tr>\n",
              "    <tr>\n",
              "      <th>8637712</th>\n",
              "      <td>68164</td>\n",
              "      <td>27548267</td>\n",
              "      <td>160925963</td>\n",
              "      <td>2022-10-20</td>\n",
              "      <td>1899-12-30 07:00:00</td>\n",
              "      <td>IKEM-OIG_0009__R</td>\n",
              "      <td>NaN</td>\n",
              "      <td>%PRA</td>\n",
              "      <td>NaN</td>\n",
              "      <td>odběr</td>\n",
              "      <td>NaN</td>\n",
              "      <td>NaN</td>\n",
              "      <td>NaN</td>\n",
              "      <td>1</td>\n",
              "    </tr>\n",
              "    <tr>\n",
              "      <th>8637713</th>\n",
              "      <td>68164</td>\n",
              "      <td>27548267</td>\n",
              "      <td>160925964</td>\n",
              "      <td>2022-10-20</td>\n",
              "      <td>1899-12-30 07:00:00</td>\n",
              "      <td>IKEM-OIG_0004__R</td>\n",
              "      <td>NaN</td>\n",
              "      <td>HLA typizace A,B,DR - příjemce</td>\n",
              "      <td>NaN</td>\n",
              "      <td>odběr</td>\n",
              "      <td>NaN</td>\n",
              "      <td>NaN</td>\n",
              "      <td>NaN</td>\n",
              "      <td>1</td>\n",
              "    </tr>\n",
              "    <tr>\n",
              "      <th>8637714</th>\n",
              "      <td>68164</td>\n",
              "      <td>27548267</td>\n",
              "      <td>160925965</td>\n",
              "      <td>2022-10-20</td>\n",
              "      <td>1899-12-30 07:00:00</td>\n",
              "      <td>IKEM-OIG_0031__R</td>\n",
              "      <td>NaN</td>\n",
              "      <td>izolace buněk příjemce</td>\n",
              "      <td>NaN</td>\n",
              "      <td>odběr</td>\n",
              "      <td>NaN</td>\n",
              "      <td>NaN</td>\n",
              "      <td>NaN</td>\n",
              "      <td>1</td>\n",
              "    </tr>\n",
              "    <tr>\n",
              "      <th>8637715</th>\n",
              "      <td>68164</td>\n",
              "      <td>27548267</td>\n",
              "      <td>160925966</td>\n",
              "      <td>2022-10-20</td>\n",
              "      <td>1899-12-30 07:00:00</td>\n",
              "      <td>IKEM-OIG_0001__R</td>\n",
              "      <td>NaN</td>\n",
              "      <td>CDC crossmatch</td>\n",
              "      <td>NaN</td>\n",
              "      <td>odběr</td>\n",
              "      <td>NaN</td>\n",
              "      <td>NaN</td>\n",
              "      <td>NaN</td>\n",
              "      <td>1</td>\n",
              "    </tr>\n",
              "  </tbody>\n",
              "</table>\n",
              "<p>138553 rows × 14 columns</p>\n",
              "</div>\n",
              "      <button class=\"colab-df-convert\" onclick=\"convertToInteractive('df-79bb910b-3e37-43fb-9e93-4b960f5439a7')\"\n",
              "              title=\"Convert this dataframe to an interactive table.\"\n",
              "              style=\"display:none;\">\n",
              "        \n",
              "  <svg xmlns=\"http://www.w3.org/2000/svg\" height=\"24px\"viewBox=\"0 0 24 24\"\n",
              "       width=\"24px\">\n",
              "    <path d=\"M0 0h24v24H0V0z\" fill=\"none\"/>\n",
              "    <path d=\"M18.56 5.44l.94 2.06.94-2.06 2.06-.94-2.06-.94-.94-2.06-.94 2.06-2.06.94zm-11 1L8.5 8.5l.94-2.06 2.06-.94-2.06-.94L8.5 2.5l-.94 2.06-2.06.94zm10 10l.94 2.06.94-2.06 2.06-.94-2.06-.94-.94-2.06-.94 2.06-2.06.94z\"/><path d=\"M17.41 7.96l-1.37-1.37c-.4-.4-.92-.59-1.43-.59-.52 0-1.04.2-1.43.59L10.3 9.45l-7.72 7.72c-.78.78-.78 2.05 0 2.83L4 21.41c.39.39.9.59 1.41.59.51 0 1.02-.2 1.41-.59l7.78-7.78 2.81-2.81c.8-.78.8-2.07 0-2.86zM5.41 20L4 18.59l7.72-7.72 1.47 1.35L5.41 20z\"/>\n",
              "  </svg>\n",
              "      </button>\n",
              "      \n",
              "  <style>\n",
              "    .colab-df-container {\n",
              "      display:flex;\n",
              "      flex-wrap:wrap;\n",
              "      gap: 12px;\n",
              "    }\n",
              "\n",
              "    .colab-df-convert {\n",
              "      background-color: #E8F0FE;\n",
              "      border: none;\n",
              "      border-radius: 50%;\n",
              "      cursor: pointer;\n",
              "      display: none;\n",
              "      fill: #1967D2;\n",
              "      height: 32px;\n",
              "      padding: 0 0 0 0;\n",
              "      width: 32px;\n",
              "    }\n",
              "\n",
              "    .colab-df-convert:hover {\n",
              "      background-color: #E2EBFA;\n",
              "      box-shadow: 0px 1px 2px rgba(60, 64, 67, 0.3), 0px 1px 3px 1px rgba(60, 64, 67, 0.15);\n",
              "      fill: #174EA6;\n",
              "    }\n",
              "\n",
              "    [theme=dark] .colab-df-convert {\n",
              "      background-color: #3B4455;\n",
              "      fill: #D2E3FC;\n",
              "    }\n",
              "\n",
              "    [theme=dark] .colab-df-convert:hover {\n",
              "      background-color: #434B5C;\n",
              "      box-shadow: 0px 1px 3px 1px rgba(0, 0, 0, 0.15);\n",
              "      filter: drop-shadow(0px 1px 2px rgba(0, 0, 0, 0.3));\n",
              "      fill: #FFFFFF;\n",
              "    }\n",
              "  </style>\n",
              "\n",
              "      <script>\n",
              "        const buttonEl =\n",
              "          document.querySelector('#df-79bb910b-3e37-43fb-9e93-4b960f5439a7 button.colab-df-convert');\n",
              "        buttonEl.style.display =\n",
              "          google.colab.kernel.accessAllowed ? 'block' : 'none';\n",
              "\n",
              "        async function convertToInteractive(key) {\n",
              "          const element = document.querySelector('#df-79bb910b-3e37-43fb-9e93-4b960f5439a7');\n",
              "          const dataTable =\n",
              "            await google.colab.kernel.invokeFunction('convertToInteractive',\n",
              "                                                     [key], {});\n",
              "          if (!dataTable) return;\n",
              "\n",
              "          const docLinkHtml = 'Like what you see? Visit the ' +\n",
              "            '<a target=\"_blank\" href=https://colab.research.google.com/notebooks/data_table.ipynb>data table notebook</a>'\n",
              "            + ' to learn more about interactive tables.';\n",
              "          element.innerHTML = '';\n",
              "          dataTable['output_type'] = 'display_data';\n",
              "          await google.colab.output.renderOutput(dataTable, element);\n",
              "          const docLink = document.createElement('div');\n",
              "          docLink.innerHTML = docLinkHtml;\n",
              "          element.appendChild(docLink);\n",
              "        }\n",
              "      </script>\n",
              "    </div>\n",
              "  </div>\n",
              "  "
            ]
          },
          "metadata": {},
          "execution_count": 35
        }
      ]
    },
    {
      "cell_type": "markdown",
      "source": [
        "### common 500 (Crea, ALT, Urea, Chol, ...)"
      ],
      "metadata": {
        "id": "ildTWrFsKUAB"
      }
    },
    {
      "cell_type": "code",
      "source": [
        "print(\"unique NCLP:\", len(lab.NCLP.dropna().unique()))\n",
        "lab500_series = (lab.NCLP.value_counts()[lab.NCLP.value_counts()>55])\n",
        "print(\"NCLP  Frequency  Analyte\")\n",
        "print(\"most common 500\")\n",
        "for index in lab500_series.index[:10]:\n",
        "  print(index, lab500_series[index], end=\"      \")\n",
        "  print(*lab.Analyte[lab.NCLP==index].unique(), sep=\" \")\n",
        "print(\"last common 500\")\n",
        "for index in lab500_series.index[-10:]:\n",
        "  print(index, lab500_series[index], end=\"         \")\n",
        "  print(*lab.Analyte[lab.NCLP==index].unique(), sep=\" \")"
      ],
      "metadata": {
        "colab": {
          "base_uri": "https://localhost:8080/"
        },
        "id": "DTN0z8ucJOSq",
        "outputId": "37af8cf9-7e66-4e52-f6d6-de6bcb8d89d8"
      },
      "execution_count": 37,
      "outputs": [
        {
          "output_type": "stream",
          "name": "stdout",
          "text": [
            "unique NCLP: 1619\n",
            "NCLP  Frequency  Analyte\n",
            "most common 500\n",
            "08574 144122      s_kreatinin kreatinin S-kreatinin\n",
            "01675 134565      B_Erytrocyty Erytrocyty Ery Erytrocyty RBC\n",
            "02688 134542      B_Trombocyty Ttrombo Trombocyty Desticky Trombocyty PLT trombo\n",
            "01991 134540      B_Hemoglobin Hb Hemoglobin Hemoglobin Hb\n",
            "13808 134536      B_Leukocyty Leu Leukocyty leukocyty Leukocyty WBC\n",
            "02099 134488      B_Hematokrit Hkt Hematokrit\n",
            "02419 134484      B_MCV MCV Objem ery MCV (střední objem ery)\n",
            "04726 134482      B_Thr objem Objem dest. MPV\n",
            "04769 134480      B_RDW anizo ERY-CV\n",
            "16263 134308      B_Thr_Aniz_SD\n",
            "last common 500\n",
            "10586 59         CD19 Buňky CD19+\n",
            "05487 58         s_Chl.tr.IgA s_Chlam.trach.IgA\n",
            "11569 58         p_homocystein\n",
            "15294 58         s_burské oříšky\n",
            "15396 58         s_FX2-ryby,moř.p\n",
            "00201 58         s_Chl.tr.IgG s_Chlam.trach.IgG\n",
            "16500 57         p-Glukoza 60min OGTT-Glukóza 60\n",
            "07520 56         S-free PSA\n",
            "19276 56         s_a-dsDNA CIA\n",
            "07091 56         TcR g/d Lymfocyty TCR-g/delt+\n"
          ]
        }
      ]
    },
    {
      "cell_type": "code",
      "source": [
        "lab.Analyte[lab.NCLP==\"08574\"].unique()\n",
        "# when working on the lab values go for the NCLP code it is the standard in CZECH - worldwide LOINC is used."
      ],
      "metadata": {
        "colab": {
          "base_uri": "https://localhost:8080/"
        },
        "id": "wtSk-4AKJftR",
        "outputId": "dc4688f4-62de-466b-9f99-c98b0d594c46"
      },
      "execution_count": 38,
      "outputs": [
        {
          "output_type": "execute_result",
          "data": {
            "text/plain": [
              "array(['s_kreatinin', 'kreatinin', 'S-kreatinin'], dtype=object)"
            ]
          },
          "metadata": {},
          "execution_count": 38
        }
      ]
    },
    {
      "cell_type": "code",
      "source": [
        "lab.Analyte[lab.NCLP==\"00582\"].unique()"
      ],
      "metadata": {
        "colab": {
          "base_uri": "https://localhost:8080/"
        },
        "id": "6WjI2dDfKcNC",
        "outputId": "0c31913d-03c8-4676-efe3-51043cea0524"
      },
      "execution_count": 39,
      "outputs": [
        {
          "output_type": "execute_result",
          "data": {
            "text/plain": [
              "array(['s_ALT', 'Alaninaminotransferáza', 'S ALT', 'ALT', 'S-ALT'],\n",
              "      dtype=object)"
            ]
          },
          "metadata": {},
          "execution_count": 39
        }
      ]
    },
    {
      "cell_type": "markdown",
      "source": [
        "# CKD vs non-CKD"
      ],
      "metadata": {
        "id": "Ohwwgb8fX84X"
      }
    },
    {
      "cell_type": "markdown",
      "source": [
        "## CKD = 3 kg more weight, 5 years older and male\n",
        "\n"
      ],
      "metadata": {
        "id": "0GDV0LPDcrcJ"
      }
    },
    {
      "cell_type": "code",
      "source": [
        "ckd_demogr_label = []\n",
        "for p in demogr.Patient:\n",
        "  if p in set(ckd_pdframe.Patient):\n",
        "    ckd_demogr_label.append(1)\n",
        "  else:\n",
        "    ckd_demogr_label.append(0)\n",
        "demogr[\"ckd\"] = ckd_demogr_label\n",
        "demogr[\"Sex_encoded\"] = [1 if s == \"M\" else 0 for s in demogr.Sex]"
      ],
      "metadata": {
        "id": "vQ8CHoCCcvNY"
      },
      "execution_count": 40,
      "outputs": []
    },
    {
      "cell_type": "code",
      "source": [
        "demogr[[\"Age\", \"Sex_encoded\", \"ckd\"]].groupby(\"ckd\").mean()"
      ],
      "metadata": {
        "colab": {
          "base_uri": "https://localhost:8080/",
          "height": 143
        },
        "id": "9GqEvNFrdEMI",
        "outputId": "ace43800-b27b-4b69-dffc-50df83f97ca4"
      },
      "execution_count": 41,
      "outputs": [
        {
          "output_type": "execute_result",
          "data": {
            "text/plain": [
              "           Age  Sex_encoded\n",
              "ckd                        \n",
              "0    64.398084     0.534426\n",
              "1    69.721918     0.602740"
            ],
            "text/html": [
              "\n",
              "  <div id=\"df-c456ebf7-f251-4755-8a20-511a2f474b8b\">\n",
              "    <div class=\"colab-df-container\">\n",
              "      <div>\n",
              "<style scoped>\n",
              "    .dataframe tbody tr th:only-of-type {\n",
              "        vertical-align: middle;\n",
              "    }\n",
              "\n",
              "    .dataframe tbody tr th {\n",
              "        vertical-align: top;\n",
              "    }\n",
              "\n",
              "    .dataframe thead th {\n",
              "        text-align: right;\n",
              "    }\n",
              "</style>\n",
              "<table border=\"1\" class=\"dataframe\">\n",
              "  <thead>\n",
              "    <tr style=\"text-align: right;\">\n",
              "      <th></th>\n",
              "      <th>Age</th>\n",
              "      <th>Sex_encoded</th>\n",
              "    </tr>\n",
              "    <tr>\n",
              "      <th>ckd</th>\n",
              "      <th></th>\n",
              "      <th></th>\n",
              "    </tr>\n",
              "  </thead>\n",
              "  <tbody>\n",
              "    <tr>\n",
              "      <th>0</th>\n",
              "      <td>64.398084</td>\n",
              "      <td>0.534426</td>\n",
              "    </tr>\n",
              "    <tr>\n",
              "      <th>1</th>\n",
              "      <td>69.721918</td>\n",
              "      <td>0.602740</td>\n",
              "    </tr>\n",
              "  </tbody>\n",
              "</table>\n",
              "</div>\n",
              "      <button class=\"colab-df-convert\" onclick=\"convertToInteractive('df-c456ebf7-f251-4755-8a20-511a2f474b8b')\"\n",
              "              title=\"Convert this dataframe to an interactive table.\"\n",
              "              style=\"display:none;\">\n",
              "        \n",
              "  <svg xmlns=\"http://www.w3.org/2000/svg\" height=\"24px\"viewBox=\"0 0 24 24\"\n",
              "       width=\"24px\">\n",
              "    <path d=\"M0 0h24v24H0V0z\" fill=\"none\"/>\n",
              "    <path d=\"M18.56 5.44l.94 2.06.94-2.06 2.06-.94-2.06-.94-.94-2.06-.94 2.06-2.06.94zm-11 1L8.5 8.5l.94-2.06 2.06-.94-2.06-.94L8.5 2.5l-.94 2.06-2.06.94zm10 10l.94 2.06.94-2.06 2.06-.94-2.06-.94-.94-2.06-.94 2.06-2.06.94z\"/><path d=\"M17.41 7.96l-1.37-1.37c-.4-.4-.92-.59-1.43-.59-.52 0-1.04.2-1.43.59L10.3 9.45l-7.72 7.72c-.78.78-.78 2.05 0 2.83L4 21.41c.39.39.9.59 1.41.59.51 0 1.02-.2 1.41-.59l7.78-7.78 2.81-2.81c.8-.78.8-2.07 0-2.86zM5.41 20L4 18.59l7.72-7.72 1.47 1.35L5.41 20z\"/>\n",
              "  </svg>\n",
              "      </button>\n",
              "      \n",
              "  <style>\n",
              "    .colab-df-container {\n",
              "      display:flex;\n",
              "      flex-wrap:wrap;\n",
              "      gap: 12px;\n",
              "    }\n",
              "\n",
              "    .colab-df-convert {\n",
              "      background-color: #E8F0FE;\n",
              "      border: none;\n",
              "      border-radius: 50%;\n",
              "      cursor: pointer;\n",
              "      display: none;\n",
              "      fill: #1967D2;\n",
              "      height: 32px;\n",
              "      padding: 0 0 0 0;\n",
              "      width: 32px;\n",
              "    }\n",
              "\n",
              "    .colab-df-convert:hover {\n",
              "      background-color: #E2EBFA;\n",
              "      box-shadow: 0px 1px 2px rgba(60, 64, 67, 0.3), 0px 1px 3px 1px rgba(60, 64, 67, 0.15);\n",
              "      fill: #174EA6;\n",
              "    }\n",
              "\n",
              "    [theme=dark] .colab-df-convert {\n",
              "      background-color: #3B4455;\n",
              "      fill: #D2E3FC;\n",
              "    }\n",
              "\n",
              "    [theme=dark] .colab-df-convert:hover {\n",
              "      background-color: #434B5C;\n",
              "      box-shadow: 0px 1px 3px 1px rgba(0, 0, 0, 0.15);\n",
              "      filter: drop-shadow(0px 1px 2px rgba(0, 0, 0, 0.3));\n",
              "      fill: #FFFFFF;\n",
              "    }\n",
              "  </style>\n",
              "\n",
              "      <script>\n",
              "        const buttonEl =\n",
              "          document.querySelector('#df-c456ebf7-f251-4755-8a20-511a2f474b8b button.colab-df-convert');\n",
              "        buttonEl.style.display =\n",
              "          google.colab.kernel.accessAllowed ? 'block' : 'none';\n",
              "\n",
              "        async function convertToInteractive(key) {\n",
              "          const element = document.querySelector('#df-c456ebf7-f251-4755-8a20-511a2f474b8b');\n",
              "          const dataTable =\n",
              "            await google.colab.kernel.invokeFunction('convertToInteractive',\n",
              "                                                     [key], {});\n",
              "          if (!dataTable) return;\n",
              "\n",
              "          const docLinkHtml = 'Like what you see? Visit the ' +\n",
              "            '<a target=\"_blank\" href=https://colab.research.google.com/notebooks/data_table.ipynb>data table notebook</a>'\n",
              "            + ' to learn more about interactive tables.';\n",
              "          element.innerHTML = '';\n",
              "          dataTable['output_type'] = 'display_data';\n",
              "          await google.colab.output.renderOutput(dataTable, element);\n",
              "          const docLink = document.createElement('div');\n",
              "          docLink.innerHTML = docLinkHtml;\n",
              "          element.appendChild(docLink);\n",
              "        }\n",
              "      </script>\n",
              "    </div>\n",
              "  </div>\n",
              "  "
            ]
          },
          "metadata": {},
          "execution_count": 41
        }
      ]
    },
    {
      "cell_type": "code",
      "source": [
        "ckd_demogr2_label = []\n",
        "for p in demogr2.Patient:\n",
        "  if p in set(ckd_pdframe.Patient):\n",
        "    ckd_demogr2_label.append(1)\n",
        "  else:\n",
        "    ckd_demogr2_label.append(0)\n",
        "demogr2[\"ckd\"] = ckd_demogr2_label\n",
        "demogr2.groupby(\"ckd\").mean()"
      ],
      "metadata": {
        "colab": {
          "base_uri": "https://localhost:8080/",
          "height": 143
        },
        "id": "R2YnAce5efGQ",
        "outputId": "3863bc8b-a51b-44b9-a0ff-c57eb1f6e578"
      },
      "execution_count": 42,
      "outputs": [
        {
          "output_type": "execute_result",
          "data": {
            "text/plain": [
              "           Patient        BMI  Weight (kg)  Height (cm)\n",
              "ckd                                                    \n",
              "0    446478.695908  40.378314    86.720761   172.165357\n",
              "1    353317.252302  29.965316    89.427133   172.817460"
            ],
            "text/html": [
              "\n",
              "  <div id=\"df-03bba135-7c03-44d9-be54-713bdfcc148f\">\n",
              "    <div class=\"colab-df-container\">\n",
              "      <div>\n",
              "<style scoped>\n",
              "    .dataframe tbody tr th:only-of-type {\n",
              "        vertical-align: middle;\n",
              "    }\n",
              "\n",
              "    .dataframe tbody tr th {\n",
              "        vertical-align: top;\n",
              "    }\n",
              "\n",
              "    .dataframe thead th {\n",
              "        text-align: right;\n",
              "    }\n",
              "</style>\n",
              "<table border=\"1\" class=\"dataframe\">\n",
              "  <thead>\n",
              "    <tr style=\"text-align: right;\">\n",
              "      <th></th>\n",
              "      <th>Patient</th>\n",
              "      <th>BMI</th>\n",
              "      <th>Weight (kg)</th>\n",
              "      <th>Height (cm)</th>\n",
              "    </tr>\n",
              "    <tr>\n",
              "      <th>ckd</th>\n",
              "      <th></th>\n",
              "      <th></th>\n",
              "      <th></th>\n",
              "      <th></th>\n",
              "    </tr>\n",
              "  </thead>\n",
              "  <tbody>\n",
              "    <tr>\n",
              "      <th>0</th>\n",
              "      <td>446478.695908</td>\n",
              "      <td>40.378314</td>\n",
              "      <td>86.720761</td>\n",
              "      <td>172.165357</td>\n",
              "    </tr>\n",
              "    <tr>\n",
              "      <th>1</th>\n",
              "      <td>353317.252302</td>\n",
              "      <td>29.965316</td>\n",
              "      <td>89.427133</td>\n",
              "      <td>172.817460</td>\n",
              "    </tr>\n",
              "  </tbody>\n",
              "</table>\n",
              "</div>\n",
              "      <button class=\"colab-df-convert\" onclick=\"convertToInteractive('df-03bba135-7c03-44d9-be54-713bdfcc148f')\"\n",
              "              title=\"Convert this dataframe to an interactive table.\"\n",
              "              style=\"display:none;\">\n",
              "        \n",
              "  <svg xmlns=\"http://www.w3.org/2000/svg\" height=\"24px\"viewBox=\"0 0 24 24\"\n",
              "       width=\"24px\">\n",
              "    <path d=\"M0 0h24v24H0V0z\" fill=\"none\"/>\n",
              "    <path d=\"M18.56 5.44l.94 2.06.94-2.06 2.06-.94-2.06-.94-.94-2.06-.94 2.06-2.06.94zm-11 1L8.5 8.5l.94-2.06 2.06-.94-2.06-.94L8.5 2.5l-.94 2.06-2.06.94zm10 10l.94 2.06.94-2.06 2.06-.94-2.06-.94-.94-2.06-.94 2.06-2.06.94z\"/><path d=\"M17.41 7.96l-1.37-1.37c-.4-.4-.92-.59-1.43-.59-.52 0-1.04.2-1.43.59L10.3 9.45l-7.72 7.72c-.78.78-.78 2.05 0 2.83L4 21.41c.39.39.9.59 1.41.59.51 0 1.02-.2 1.41-.59l7.78-7.78 2.81-2.81c.8-.78.8-2.07 0-2.86zM5.41 20L4 18.59l7.72-7.72 1.47 1.35L5.41 20z\"/>\n",
              "  </svg>\n",
              "      </button>\n",
              "      \n",
              "  <style>\n",
              "    .colab-df-container {\n",
              "      display:flex;\n",
              "      flex-wrap:wrap;\n",
              "      gap: 12px;\n",
              "    }\n",
              "\n",
              "    .colab-df-convert {\n",
              "      background-color: #E8F0FE;\n",
              "      border: none;\n",
              "      border-radius: 50%;\n",
              "      cursor: pointer;\n",
              "      display: none;\n",
              "      fill: #1967D2;\n",
              "      height: 32px;\n",
              "      padding: 0 0 0 0;\n",
              "      width: 32px;\n",
              "    }\n",
              "\n",
              "    .colab-df-convert:hover {\n",
              "      background-color: #E2EBFA;\n",
              "      box-shadow: 0px 1px 2px rgba(60, 64, 67, 0.3), 0px 1px 3px 1px rgba(60, 64, 67, 0.15);\n",
              "      fill: #174EA6;\n",
              "    }\n",
              "\n",
              "    [theme=dark] .colab-df-convert {\n",
              "      background-color: #3B4455;\n",
              "      fill: #D2E3FC;\n",
              "    }\n",
              "\n",
              "    [theme=dark] .colab-df-convert:hover {\n",
              "      background-color: #434B5C;\n",
              "      box-shadow: 0px 1px 3px 1px rgba(0, 0, 0, 0.15);\n",
              "      filter: drop-shadow(0px 1px 2px rgba(0, 0, 0, 0.3));\n",
              "      fill: #FFFFFF;\n",
              "    }\n",
              "  </style>\n",
              "\n",
              "      <script>\n",
              "        const buttonEl =\n",
              "          document.querySelector('#df-03bba135-7c03-44d9-be54-713bdfcc148f button.colab-df-convert');\n",
              "        buttonEl.style.display =\n",
              "          google.colab.kernel.accessAllowed ? 'block' : 'none';\n",
              "\n",
              "        async function convertToInteractive(key) {\n",
              "          const element = document.querySelector('#df-03bba135-7c03-44d9-be54-713bdfcc148f');\n",
              "          const dataTable =\n",
              "            await google.colab.kernel.invokeFunction('convertToInteractive',\n",
              "                                                     [key], {});\n",
              "          if (!dataTable) return;\n",
              "\n",
              "          const docLinkHtml = 'Like what you see? Visit the ' +\n",
              "            '<a target=\"_blank\" href=https://colab.research.google.com/notebooks/data_table.ipynb>data table notebook</a>'\n",
              "            + ' to learn more about interactive tables.';\n",
              "          element.innerHTML = '';\n",
              "          dataTable['output_type'] = 'display_data';\n",
              "          await google.colab.output.renderOutput(dataTable, element);\n",
              "          const docLink = document.createElement('div');\n",
              "          docLink.innerHTML = docLinkHtml;\n",
              "          element.appendChild(docLink);\n",
              "        }\n",
              "      </script>\n",
              "    </div>\n",
              "  </div>\n",
              "  "
            ]
          },
          "metadata": {},
          "execution_count": 42
        }
      ]
    },
    {
      "cell_type": "markdown",
      "source": [
        "## Lab test differences"
      ],
      "metadata": {
        "id": "j9qX3bMcYymu"
      }
    },
    {
      "cell_type": "code",
      "source": [
        "ratio_NCLP_CKD = []\n",
        "for index in lab500_series.index:\n",
        "  try:\n",
        "    mean1 = np.mean([float(x) for x in lab.loc[(lab['ckd']==1) & (lab.NCLP==index)].ValueNumber.dropna()])\n",
        "    mean2 = np.mean([float(x) for x in lab.loc[(lab['ckd']==0) & (lab.NCLP==index)].ValueNumber.dropna()])\n",
        "    mean_ratio = mean1/mean2\n",
        "    if mean_ratio > 1.2 or mean_ratio < 0.8:\n",
        "      ratio_NCLP_CKD.append((mean_ratio, index))\n",
        "  except:\n",
        "    pass"
      ],
      "metadata": {
        "colab": {
          "base_uri": "https://localhost:8080/"
        },
        "id": "1QbBEUVYMTD5",
        "outputId": "e447c51f-a231-453b-f5fc-b8762b66084b"
      },
      "execution_count": 43,
      "outputs": [
        {
          "output_type": "stream",
          "name": "stderr",
          "text": [
            "/usr/local/lib/python3.7/dist-packages/numpy/core/fromnumeric.py:3441: RuntimeWarning: Mean of empty slice.\n",
            "  out=out, **kwargs)\n",
            "/usr/local/lib/python3.7/dist-packages/numpy/core/_methods.py:189: RuntimeWarning: invalid value encountered in double_scalars\n",
            "  ret = ret.dtype.type(ret / rcount)\n",
            "/usr/local/lib/python3.7/dist-packages/ipykernel_launcher.py:6: RuntimeWarning: invalid value encountered in double_scalars\n",
            "  \n"
          ]
        }
      ]
    },
    {
      "cell_type": "code",
      "source": [
        "for t in sorted(ratio_NCLP_CKD, reverse=True):\n",
        "  print(round(t[0], 3), t[1], end=\" \")\n",
        "  print(*lab.Analyte[lab.NCLP==t[1]].unique())"
      ],
      "metadata": {
        "colab": {
          "base_uri": "https://localhost:8080/"
        },
        "id": "zqycRPCAZgvW",
        "outputId": "f32e4a89-dca4-4d78-f2b7-d6ab418493cc"
      },
      "execution_count": 44,
      "outputs": [
        {
          "output_type": "stream",
          "name": "stdout",
          "text": [
            "36.7 09712 s_a-b-2GPI IgG\n",
            "34.973 04781 s_a-kardiol.IgG\n",
            "8.881 16449 s_a-PS IgM\n",
            "7.296 14901 s_anti PI IgM\n",
            "6.122 09716 s_a-b-2GPI IgM\n",
            "5.855 04785 s_a-kardiol.IgM\n",
            "5.545 11575 s_total IgE s_Total IgE\n",
            "5.239 16586 DNA-A HLA-A (DNA) (Pt; HLA genotyp [-] PCR) HLA-A\n",
            "4.753 14678 s_anti-TG Anti tyreoglobulin\n",
            "4.6 01821 S_FSH\n",
            "4.595 14897 s_anti PI IgG\n",
            "4.25 03690 anti TETANUS IgG\n",
            "4.179 11447 U_albumin/kreat. V_Index MIAL/U_KRE ACR - albumin/kreatinin v moči U-alb/U-krea ACR = U-albumin / U-kreatinin ACR (Albumin/kreatinin) Albumin/Kreatinin ACR ACR- albumin/kreatinin ratio v moči Alb/krea v moči U-albumin/kreatinin (ACR) ACR- albumin/kreatinin v moči Albumin/kreatinin\n",
            "4.12 04713 S_LH\n",
            "3.992 11519 s_b-2-mikroglob.\n",
            "3.889 03297 U_válce hyalinní U-válce nepatologické\n",
            "3.813 14600 s_a-MPO CIA s_a-MPO ELISA\n",
            "3.632 03371 U_krev Hemoglobin Krev Krev - hemoglobin U_krev (M chem.) Krev-hemoglobin chemicky moč KREV krev\n",
            "3.518 17747 CVVH-vápník ion.\n",
            "3.476 00513 U_albumin ranní U_Mikroalbumin Albumin v moči Mikroalbuminurie Albuminurie Mikroalbumin U-albumin, ranní moč\n",
            "3.472 07877 p_DRVVT_pacient\n",
            "3.47 09191 U_válce patolog. U_válce patol. UD\n",
            "3.458 08528 U_válce patol. UF\n",
            "3.429 02395 s_lipáza Lipáza Lipasa\n",
            "3.305 14568 s_anti-TPO\n",
            "3.172 19494 s_CA 125\n",
            "3.021 11596 U_protein/kreat.\n",
            "2.993 17412 ROMA\n",
            "2.909 17745 s_HBsAg kvantita\n",
            "2.885 12414 s_anti-tTG IgG\n",
            "2.703 07310 s_ferritin Ferritin\n",
            "2.637 16701 U_protein ranní\n",
            "2.57 16554 p_DRVVT-sc1:1-RI\n",
            "2.516 18238 s_parathormon s_PTH(1-84)\n",
            "2.42 03085 Urea S_Urea - močovina Urea - močovina UREA\n",
            "2.379 16555 p_DRVVT_ratio\n",
            "2.357 03355 U_erytrocyty Hamburger-ery Erytrocyty erytrocyty U_ery (M sed.) U-erytrocyty Hamburgerův sediment - ery\n",
            "2.324 09469 p_aPTT-LA_pacien\n",
            "2.314 10858 p_aPTT-LA_ratio\n",
            "2.282 16337 s_HE4\n",
            "2.239 08574 s_kreatinin kreatinin S-kreatinin\n",
            "2.237 02725 S_Prolaktin\n",
            "2.236 09189 U_válce hyalinní UF\n",
            "2.215 19536 s_C peptid\n",
            "2.207 12163 p_aPTT-konf.hex.\n",
            "2.197 00219 s_CMV IgM\n",
            "2.166 14331 s_propeptid prokolagenu 1 s_P1NP\n",
            "2.149 01790 x_Frakční exkrece vody Frakč.exkreceH2O\n",
            "2.147 04954 s_CA 125\n",
            "2.146 16538 p_aPTT_scr/konf\n",
            "2.092 18047 B_CD16 + 56\n",
            "2.075 01511 Kreatinin S_Kreatinin KREA\n",
            "2.036 03086 s_urea Urea urea S_Urea S-urea\n",
            "2.027 12142 p_DRVVT_pacient\n",
            "1.979 08572 p_kreatinin P-kreatinin\n",
            "1.967 01671 Erytropoietin Erytrocyty\n",
            "1.92 16537 p_aPTT-LA1:1-RI\n",
            "1.911 14459 s_EBNA IgG\n",
            "1.91 16553 p_DRVVT scr/konf\n",
            "1.882 14465 s_EBV VCA IgG\n",
            "1.856 12289 p_DRVVT_scr_1:1\n",
            "1.849 19712 s_PSA\n",
            "1.845 16486 p_BNP\n",
            "1.833 19392 p_Aldosteron\n",
            "1.83 14317 s_b-CrossLaps\n",
            "1.824 17344 s_B12 aktivní\n",
            "1.824 03084 p_urea Urea P-urea\n",
            "1.784 03444 s_ferritin Ferritin S_Ferritin\n",
            "1.779 00407 s_Herpes IgG\n",
            "1.741 16474 U_albuminurie\n",
            "1.731 02286 p_LDH LDH\n",
            "1.726 16434 p_DDi_kvantit.\n",
            "1.72 04983 s_Kortizol Kortisol (dopoledne)\n",
            "1.715 02753 dU_protein celk. Bílkovina odpad U_odpady protein./24h Proteinurie odpad\n",
            "1.687 05004 s_FSH\n",
            "1.665 16535 p_aPTT-LA_1:1\n",
            "1.646 19499 s_CA 15-3\n",
            "1.626 00476 dU_albumin Mikroalbuminurie/den\n",
            "1.599 12137 s_cystatin C\n",
            "1.554 02759 U_protein celk. Bílkovina v moči\n",
            "1.514 07146 p_Aldosteron\n",
            "1.503 03625 B_Tyče Neutrofilní tyče Tyč-mikr.\n",
            "1.494 17292 B_NK abs.počet\n",
            "1.451 17345 s_B12 aktivní\n",
            "1.45 05119 s_parathormon Parathormon PTH\n",
            "1.448 19583 s_ferritin\n",
            "1.425 04956 s_CA 15-3\n",
            "1.39 11779 s_prolaktin\n",
            "1.388 01493 s_ceruloplasmin\n",
            "1.387 16525 s_ASCA IgG\n",
            "1.37 17347 B_leukocyty\n",
            "1.365 10604 Kappa+CD19+ Buňky CD19+/kappa+\n",
            "1.357 03356 U_erytrocyty UD U_Erytrocyty elementy Erytrocyty mikroskopicky\n",
            "1.333 06314 B_CD19\n",
            "1.318 00509 U_albumin sběr U-mikroalb. U_Albumin v ranní moči MALB Albumin\n",
            "1.316 03656 p_PT_ratio PT-ratio Protrombinový test - ratio PT - ratio PT (Quick) - ratio P_Protrombinový test - ratio PT - Ratio PT (ratio) PT-poměr PT- ratio\n",
            "1.316 19714 s_fPSA\n",
            "1.315 03649 p_PT_pacient\n",
            "1.314 00919 p_AST AST P-AST\n",
            "1.306 03142 objem sbír Moč sběr - objem objem moče - sběr Moč neupravená Objem Množství moče mnozstvi 1 Moč neupravená - objem moč-sběr\n",
            "1.303 03795 B_CD16 + 56\n",
            "1.294 01680 B_Sedimentace/1h FW / 1h FW za 1 h.\n",
            "1.288 02616 p_fosfor Fosfor\n",
            "1.287 10849 p_amoniak\n",
            "1.287 03631 B_Segmenty Neutrofilní segmenty Segment-mikr.\n",
            "1.282 14453 s_EBV EA IgG\n",
            "1.282 17294 B_poměr CD4/CD8\n",
            "1.279 00380 s_a-HBs\n",
            "1.275 12054 p_aPTTnecit_rat\n",
            "1.273 14810 s_fPSA\n",
            "1.272 02073 p_homocystein\n",
            "1.27 00634 s_AMS Amyláza Alfa-amylasa v séru\n",
            "1.259 00580 p_ALT ALT P-ALT\n",
            "1.257 16552 p_DRVVTkonf_rati\n",
            "1.257 01602 p_Digoxin\n",
            "1.254 03627 B_Metamyelocyty Metamyelocyty\n",
            "1.252 06354 CD20 Lymfocyty CD20+\n",
            "1.244 51802 p_glukóza (NaF)\n",
            "1.242 05464 s_Chl.pn.IgM\n",
            "1.236 07882 p_DRVVTkonf_paci\n",
            "1.227 03571 p_PT_INR INR PT INR Protrombinový test - INR Quick test Protrombinový test - INR (PT) Quick INR PT (Quick) - INR PT - INR P_Protrombinový test - INR Quick PT Quick Protromb. test (Quick): INR_ Protrombinový test (Quick) PT (antikoag. léčba) INR. PT- INR\n",
            "1.225 19703 s_propeptid prokolagenu 1\n",
            "1.203 00054 s_a1 antitrypsin\n",
            "0.799 16210 p_Faktor XII\n",
            "0.798 18945 B_takrolimus\n",
            "0.798 01480 s_Kortizol S_Kortizol\n",
            "0.798 14058 B_RTC mladé\n",
            "0.793 16551 p_PT_%\n",
            "0.792 14467 s_EBV VCA IgM\n",
            "0.791 17269 B_ASPIRIN_VERIFY p_ASPIRIN_VERIFY\n",
            "0.786 52685 s_bilirubin přím\n",
            "0.777 12233 p_prokalcitonin s_prokalcitonin\n",
            "0.777 12365 B_Lymfocyty_abs Lymfocyty ap 5P Lymfocyty abs. Lymfocyty Abs\n",
            "0.776 02510 U_sodík\n",
            "0.772 12326 U_kreatinin\n",
            "0.769 06312 CD19 Lymfocyty CD19+\n",
            "0.766 12471 B_Lymfocyty Lymfocyty % 5P Lymfocyty\n",
            "0.765 01780 p_železo Železo\n",
            "0.765 19524 s_CIK vazbou C1q\n",
            "0.765 10407 s_anti-tTG IgA\n",
            "0.764 01584 1.25(OH)D\n",
            "0.745 12324 dU_kreatinin\n",
            "0.739 01438 U_chloridy\n",
            "0.735 15172 U_epitelie jiné\n",
            "0.728 17466 p_Gentamicin\n",
            "0.726 01959 p_GGT GGT\n",
            "0.725 14728 p_transfer. sat.\n",
            "0.72 12299 s_CA 72-4\n",
            "0.717 03026 S-triacylglyc. S_Triacylglyceroly\n",
            "0.712 16689 U_kreatinin ran.\n",
            "0.711 05458 s_Chl.pn.IgG\n",
            "0.71 00791 s_ApoC-III\n",
            "0.709 52681 s_bilirubin celk\n",
            "0.704 02768 S-PSA PSA PSA celkový\n",
            "0.7 03384 U_leukocyty Hamburger-leuko U_Leu (M sed.) U-leukocyty Hamburgerův sediment - leuko Leukocyty\n",
            "0.696 02393 p_lipáza\n",
            "0.691 07967 Vitamin D Total Vitamín D Vitamin D 25-OH vitamin D total B_Vitamin D total (25-OH) S-25-OH-vitaminD 25-hydroxyvitamin D Vitamin D total\n",
            "0.691 16351 p_NT-proBNP\n",
            "0.689 16588 DNA-B HLA-B (DNA) (Pt; HLA genotyp [-] PCR) HLA-B\n",
            "0.687 16201 p_Faktor VIII\n",
            "0.685 02226 s_IgM\n",
            "0.68 08035 s_anti-TSH rec. TRAK (anti TSH recep.)\n",
            "0.679 19361 s_a-HBs\n",
            "0.669 03080 U_kys.močová U-kyselina močová\n",
            "0.662 06610 B_CD4 abs.počet\n",
            "0.661 02620 U_fosfor U-fosfor (P)\n",
            "0.661 02196 s_IgG2\n",
            "0.66 18685 p_Digoxin\n",
            "0.653 03298 U_válce hyalinní UD Válce hyalinní\n",
            "0.652 02543 Normetanefrin\n",
            "0.647 06458 B_CD3 abs.počet\n",
            "0.646 07277 DHEAS\n",
            "0.646 52680 p_bilirubin celk\n",
            "0.639 06629 B_CD8 abs.počet\n",
            "0.638 14691 GFR-MDRD-3P\n",
            "0.63 17989 f_hemoglobin f_hemogl. korig. f_Hemoglobin korigovaný\n",
            "0.628 02274 U_draslík\n",
            "0.618 16223 s_hs-Troponin T\n",
            "0.602 02204 s_IgG3\n",
            "0.598 05266 s_LH\n",
            "0.589 01220 dU_vápník celk. dU-vápník/24h\n",
            "0.578 14845 GFR-MDRD-1P MDRD 1P GFR-MDRD eGFR(MDRD-1P)\n",
            "0.576 00630 p_AMS Amyláza\n",
            "0.576 18063 GFR-CYSTC-K\n",
            "0.575 04973 GFR-KRKOR Clearance/1.73 Clearance kreatininu / 1.73m2 Glom.filtr.korig\n",
            "0.575 03088 U_urea\n",
            "0.572 00644 s_AMS pankreat.\n",
            "0.565 01228 U_vápník celk. U-vápník (Ca)\n",
            "0.564 19939 s_COVID-19 IgG CLIA s_COVID-19 IgG\n",
            "0.559 08480 dr_bilirub. celk\n",
            "0.559 00642 p_AMS pankreat.\n",
            "0.547 01450 GFR-KR Clearance kreat. Clearance kreatininu (GF) Glom.filtrace\n",
            "0.543 14850 GFR-CYSTC\n",
            "0.532 03594 B_Lymfocyty Lymfocyty Lymfocyty (relativní počet) Lymfocyt-mikr.\n",
            "0.53 01156 p_bilirubin přím\n",
            "0.525 13821 B_NRBC_abs.počet\n",
            "0.522 03082 dU_urea\n",
            "0.506 14221 s_a-gliadin IgA Gliadin IgA\n",
            "0.505 19697 s_prokalcitonin\n",
            "0.504 03702 C PEPTID C-peptid\n",
            "0.502 19265 s_CMV IgM\n",
            "0.485 14152 sTfR/F\n",
            "0.479 15328 s_Dermat.farinae\n",
            "0.477 08079 NEESTER. MK\n",
            "0.457 17339 CKD-EPI eGF (CKD-EPI) GF CKD-EPI CKD-EPI pro kreatinin Výp.GFR dle CKD-EPI eGFR (CKD-EPI) GF odhad dle CKD EPI Glomerul. filtrace (CKD-EPI) Odhad GF dle CKD-EPI eGFR-CKD-EPI GF dle CKD-EPI\n",
            "0.454 16699 U_OSM okamžitá\n",
            "0.453 17977 s_Degradace histaminu\n",
            "0.449 02595 U_OSM sběr\n",
            "0.447 14925 s_anti-virus hepatitidy E IgM\n",
            "0.444 08553 GFR-KRKOR\n",
            "0.443 17341 GFR-MDRD-1P MDRD S_Odhad GF dle CKD-EPI Odhad GF dle CKD-EPI\n",
            "0.44 14826 s_a-HBs\n",
            "0.432 06311 B_CD19 abs.počet\n",
            "0.43 07520 S-free PSA\n",
            "0.429 11478 s_ASLO ASLO Antistreptolyzin O S_ASLO\n",
            "0.419 16445 s_a-PS IgG\n",
            "0.419 14360 s_Borrelia IgG\n",
            "0.415 01451 GFR-KR\n",
            "0.411 07231 dU-kortizol volný/24 h U-kortisol volny\n",
            "0.408 00682 s_ANA IF ANA IgG\n",
            "0.406 13820 NRBCau technická B_NRBCaut/100Leu NORMOBLASTY aut. B_NRBC – relativně\n",
            "0.392 01390 p_CK\n",
            "0.38 18066 GFR-MDRD-3P\n",
            "0.375 14238 p_CMV qRT PCR\n",
            "0.351 00275 s_a-dsDNA CIA s_a-dsDNA ELISA\n",
            "0.34 00413 s_Herpes IgM\n",
            "0.338 12630 s_b-CrossLaps B_Beta-Crosslaps beta CrossLaps\n",
            "0.337 17987 p_Apixaban\n",
            "0.329 19338 s_AFP\n",
            "0.308 19696 p_prokalcitonin\n",
            "0.305 16453 s_Chl.sp.IgA Anti CHLAMYDIE LPS IgA ELISA\n",
            "0.302 14594 s_Mycop.pneu.IgM\n",
            "0.294 19511 s_CA 72-4\n",
            "0.287 14225 s_a-gliadin IgG Gliadin IgG\n",
            "0.281 52684 p_bilirubin přím\n",
            "0.278 12413 s_anti-tTG IgG\n",
            "0.271 15103 s_CIK vazbou C1q\n",
            "0.257 14012 U_epitelie přechodné UD U-epitelie kulaté\n",
            "0.245 02786 p_Renin\n",
            "0.228 12451 dr_bilirub. přím\n",
            "0.223 07454 P-myoglobin\n",
            "0.221 16469 s_Chl.sp.IgM Anti CHLAMYDIE LPS IgM ELISA\n",
            "0.206 16344 f_hemoglobin\n",
            "0.199 16561 v_3-OH-butyrát\n",
            "0.194 18005 s_lipoprotein(a)\n",
            "0.189 50877 s_a-MPO CIA\n",
            "0.179 19268 p_ACTH\n",
            "0.174 19276 s_a-dsDNA CIA\n",
            "0.164 14646 s_ASCA IgA\n",
            "0.143 10586 CD19 Buňky CD19+\n",
            "0.136 02785 p_Renin\n",
            "0.134 14284 s_testosteron\n",
            "0.128 15422 s_GX1-trávy rané\n",
            "0.123 05206 s_C peptid\n",
            "0.114 15428 s_GX4-trávy poz.\n",
            "0.098 16030 s_WX1-plevely s.\n",
            "0.058 14598 s_a-PR3 CIA s_a-PR3 ELISA\n",
            "0.045 19629 s_total IgE s_Total IgE\n",
            "0.04 08412 GAD M\n",
            "0.034 10406 s_anti-tTG IgA\n",
            "0.03 16005 s_TX10-stromy s.\n",
            "0.027 50869 s_a-PR3 CIA\n",
            "0.017 15943 s_pes\n",
            "0.016 12356 U_glukóza Glukóza\n",
            "0.014 15332 s_Dermatoph.pter\n",
            "0.012 15999 s_TX6-stromy sm.\n",
            "0.011 15558 s_kočka\n",
            "0.0 19153 s_TX10-stromy s.\n",
            "0.0 17599 s_rBetv2 profil. s_rBet v2\n",
            "0.0 16565 PRADTT Protilátky Anti-HLA (panel 30)* (S; num. podíl [%] test cytotoxický) PRA s DTT\n",
            "0.0 16564 PRA Protilátky Anti-HLA (panel 30)* (S; num. podíl [%] *) PRA\n",
            "0.0 12334 U_hlen U_hlen UD Hlen U_Hlen HLEN\n",
            "0.0 12333 U_hlen UF Hlen v sedimentu moče Hlen Hlenová vlákna U_Hlen\n",
            "0.0 04809 s_a-nukleosomy\n",
            "0.0 03386 U_shluky leukocytů UF Leukocyty U_Leukocyty ULEUK\n",
            "0.0 03271 U_bakterie U_bakterie UF Bakterie U_Bakterie BACT U_bakterie (M sed.)\n"
          ]
        }
      ]
    },
    {
      "cell_type": "markdown",
      "source": [
        "When comparing CKD vs non-CKD patients these lab values differ to a great extend between these two groups. Among them some which are known to be indicating CKD such as GFR CystatinC ACR Creatinine. Some of them are a consequence of CKD such as Vitamin D deficiency, Anemia, Hyperphophatemia and increased Troponine.\n",
        "\n",
        "**Deranged lab values: Urinary, Immunology, Retention parameters (GFR,  Drug elimination), Eletrolytes, Coagulation, Albumine loss, Blood cell count**"
      ],
      "metadata": {
        "id": "3spmPN_2jRJm"
      }
    }
  ],
  "metadata": {
    "colab": {
      "provenance": [],
      "toc_visible": true,
      "include_colab_link": true
    },
    "kernelspec": {
      "display_name": "Python 3",
      "name": "python3"
    },
    "language_info": {
      "name": "python"
    }
  },
  "nbformat": 4,
  "nbformat_minor": 0
}