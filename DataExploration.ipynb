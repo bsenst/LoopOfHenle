{
  "cells": [
    {
      "cell_type": "markdown",
      "metadata": {
        "id": "view-in-github",
        "colab_type": "text"
      },
      "source": [
        "<a href=\"https://colab.research.google.com/github/bsenst/LoopOfHenle/blob/main/DataExploration.ipynb\" target=\"_parent\"><img src=\"https://colab.research.google.com/assets/colab-badge.svg\" alt=\"Open In Colab\"/></a>"
      ]
    },
    {
      "cell_type": "code",
      "source": [
        "# https://colab.research.google.com/drive/1UxZ1M0LNUxjiiImYyzObPmgc7_5DE7OH?usp=sharing\n",
        "\n",
        "import pandas as pd\n",
        "import numpy as np\n",
        "! pip install simple-icd-10\n",
        "import simple_icd_10 as icd\n",
        "import matplotlib.pyplot as plt"
      ],
      "metadata": {
        "id": "csDXrejPSBF8",
        "colab": {
          "base_uri": "https://localhost:8080/"
        },
        "outputId": "3d2698ec-44fc-4c84-fee9-36006da75266"
      },
      "execution_count": 51,
      "outputs": [
        {
          "output_type": "stream",
          "name": "stdout",
          "text": [
            "Looking in indexes: https://pypi.org/simple, https://us-python.pkg.dev/colab-wheels/public/simple/\n",
            "Requirement already satisfied: simple-icd-10 in /usr/local/lib/python3.7/dist-packages (2.0.1)\n"
          ]
        }
      ]
    },
    {
      "cell_type": "markdown",
      "source": [
        "# Loading the Data"
      ],
      "metadata": {
        "id": "1yzULO38sFtr"
      }
    },
    {
      "cell_type": "code",
      "execution_count": 2,
      "metadata": {
        "id": "Ut5hsgaaf9u0",
        "colab": {
          "base_uri": "https://localhost:8080/"
        },
        "outputId": "0d1dabf5-772f-4939-bf9c-e9d99bf1fd2f"
      },
      "outputs": [
        {
          "output_type": "stream",
          "name": "stdout",
          "text": [
            "<class 'pandas.core.frame.DataFrame'>\n",
            "RangeIndex: 142170 entries, 0 to 142169\n",
            "Data columns (total 13 columns):\n",
            " #   Column       Non-Null Count   Dtype  \n",
            "---  ------       --------------   -----  \n",
            " 0   Patient      142170 non-null  int64  \n",
            " 1   Report       142170 non-null  int64  \n",
            " 2   ID           142170 non-null  int64  \n",
            " 3   EntryDate    142169 non-null  object \n",
            " 4   EntryTime    142169 non-null  object \n",
            " 5   Code         10709 non-null   object \n",
            " 6   NCLP         131448 non-null  float64\n",
            " 7   Analyte      142169 non-null  object \n",
            " 8   ValueNumber  122844 non-null  object \n",
            " 9   ValueText    19325 non-null   object \n",
            " 10  RefHigh      113498 non-null  float64\n",
            " 11  RefLow       113498 non-null  object \n",
            " 12  Unit         121699 non-null  object \n",
            "dtypes: float64(2), int64(3), object(8)\n",
            "memory usage: 14.1+ MB\n"
          ]
        }
      ],
      "source": [
        "lab = pd.read_csv(\"LabsALL 2015-2022.csv\", sep=\";\")\n",
        "lab.info()"
      ]
    },
    {
      "cell_type": "code",
      "source": [
        "dgs = pd.read_excel(\"Dg from report.xlsx\")\n",
        "dgs['Date'] = pd.to_datetime(dgs['Date'], unit='d', origin='1899-12-30')\n",
        "dgs.info()"
      ],
      "metadata": {
        "id": "H4fyO4p6AYk0",
        "colab": {
          "base_uri": "https://localhost:8080/"
        },
        "outputId": "a3d5c2a1-ffb9-4e17-a13f-1e745f07a8c6"
      },
      "execution_count": 28,
      "outputs": [
        {
          "output_type": "stream",
          "name": "stdout",
          "text": [
            "<class 'pandas.core.frame.DataFrame'>\n",
            "RangeIndex: 138718 entries, 0 to 138717\n",
            "Data columns (total 4 columns):\n",
            " #   Column       Non-Null Count   Dtype         \n",
            "---  ------       --------------   -----         \n",
            " 0   Patient      138718 non-null  int64         \n",
            " 1   Date         138718 non-null  datetime64[ns]\n",
            " 2   mainDgCode   137984 non-null  object        \n",
            " 3   OtherDgCode  127406 non-null  object        \n",
            "dtypes: datetime64[ns](1), int64(1), object(2)\n",
            "memory usage: 4.2+ MB\n"
          ]
        }
      ]
    },
    {
      "cell_type": "code",
      "source": [
        "demogr = pd.read_excel(\"hackath 112022 - Age SEX CKD.xlsx\")\n",
        "demogr.info()"
      ],
      "metadata": {
        "id": "f9U5n-1brc4f",
        "outputId": "c7195403-9aeb-4d22-b11e-b86dca9a7529",
        "colab": {
          "base_uri": "https://localhost:8080/"
        }
      },
      "execution_count": 4,
      "outputs": [
        {
          "output_type": "stream",
          "name": "stdout",
          "text": [
            "<class 'pandas.core.frame.DataFrame'>\n",
            "RangeIndex: 15570 entries, 0 to 15569\n",
            "Data columns (total 3 columns):\n",
            " #   Column   Non-Null Count  Dtype  \n",
            "---  ------   --------------  -----  \n",
            " 0   Patient  15570 non-null  int64  \n",
            " 1   Sex      15570 non-null  object \n",
            " 2   Age      15570 non-null  float64\n",
            "dtypes: float64(1), int64(1), object(1)\n",
            "memory usage: 365.0+ KB\n"
          ]
        }
      ]
    },
    {
      "cell_type": "code",
      "source": [
        "demogr2 = pd.read_excel(\"hackath 112022 - BMI weight height CKD 1.xlsx\")\n",
        "demogr2.info()"
      ],
      "metadata": {
        "id": "DzZJyvOwrpgf",
        "colab": {
          "base_uri": "https://localhost:8080/"
        },
        "outputId": "55c375fe-e3f5-45b2-f15f-ad13f4f022ec"
      },
      "execution_count": 5,
      "outputs": [
        {
          "output_type": "stream",
          "name": "stdout",
          "text": [
            "<class 'pandas.core.frame.DataFrame'>\n",
            "RangeIndex: 153251 entries, 0 to 153250\n",
            "Data columns (total 5 columns):\n",
            " #   Column       Non-Null Count   Dtype         \n",
            "---  ------       --------------   -----         \n",
            " 0   Patient      153251 non-null  int64         \n",
            " 1   date         153251 non-null  datetime64[ns]\n",
            " 2   BMI          153251 non-null  float64       \n",
            " 3   Weight (kg)  153251 non-null  float64       \n",
            " 4   Height (cm)  11834 non-null   float64       \n",
            "dtypes: datetime64[ns](1), float64(3), int64(1)\n",
            "memory usage: 5.8 MB\n"
          ]
        }
      ]
    },
    {
      "cell_type": "markdown",
      "source": [
        "## ~15000 Patients"
      ],
      "metadata": {
        "id": "6xhqQxY37NsF"
      }
    },
    {
      "cell_type": "code",
      "source": [
        "print(\"showing unique patients in each of the 4 tables:\", end=\" \")\n",
        "print(dgs.Patient.nunique(), lab.Patient.nunique(), demogr.Patient.nunique(), demogr2.Patient.nunique())"
      ],
      "metadata": {
        "id": "SDE4lJebCM5l",
        "colab": {
          "base_uri": "https://localhost:8080/"
        },
        "outputId": "b31b8e87-d73b-4af5-f85b-c331259ee435"
      },
      "execution_count": 6,
      "outputs": [
        {
          "output_type": "stream",
          "name": "stdout",
          "text": [
            "showing unique patients in each of the 4 tables: 15663 336 15570 14354\n"
          ]
        }
      ]
    },
    {
      "cell_type": "markdown",
      "source": [
        "# Data Exploration"
      ],
      "metadata": {
        "id": "y0PgIaxPslZb"
      }
    },
    {
      "cell_type": "markdown",
      "source": [
        "## Demographic Data"
      ],
      "metadata": {
        "id": "obW094xX6_G4"
      }
    },
    {
      "cell_type": "code",
      "source": [],
      "metadata": {
        "id": "lOSazYZt9pMF"
      },
      "execution_count": null,
      "outputs": []
    },
    {
      "cell_type": "markdown",
      "source": [
        "## Diagnoses"
      ],
      "metadata": {
        "id": "ph7YGcQcuPE_"
      }
    },
    {
      "cell_type": "code",
      "source": [
        "dgs.head()"
      ],
      "metadata": {
        "colab": {
          "base_uri": "https://localhost:8080/",
          "height": 206
        },
        "id": "6ULpv_uZuqMU",
        "outputId": "f8a79a87-f164-499b-a127-425684ad0c24"
      },
      "execution_count": 29,
      "outputs": [
        {
          "output_type": "execute_result",
          "data": {
            "text/plain": [
              "   Patient       Date                                         mainDgCode  \\\n",
              "0   209536 2015-01-29                    E06.3: Autoimunitní tyroiditida   \n",
              "1     8451 2015-01-08  E10.9: Diabetes mellitus 1. typu, léč. intenzi...   \n",
              "2     8451 2015-01-08  E10.9: Diabetes mellitus 1. typu, léč. intenzi...   \n",
              "3     8451 2015-01-08  E10.9: Diabetes mellitus 1. typu, léč. intenzi...   \n",
              "4     8451 2015-01-08  E10.9: Diabetes mellitus 1. typu, léč. intenzi...   \n",
              "\n",
              "                                         OtherDgCode  \n",
              "0                  E78.0: Čistá hypercholesterolemie  \n",
              "1                            Autoimunní thyreoiditis  \n",
              "2                                 Perniciózní anemie  \n",
              "3                     Surditas vlevo, tinnitus vlevo  \n",
              "4  Difuzní jaterní léze - steatóza až incipientní...  "
            ],
            "text/html": [
              "\n",
              "  <div id=\"df-fe5b023d-653b-4751-b67e-fced00477e6c\">\n",
              "    <div class=\"colab-df-container\">\n",
              "      <div>\n",
              "<style scoped>\n",
              "    .dataframe tbody tr th:only-of-type {\n",
              "        vertical-align: middle;\n",
              "    }\n",
              "\n",
              "    .dataframe tbody tr th {\n",
              "        vertical-align: top;\n",
              "    }\n",
              "\n",
              "    .dataframe thead th {\n",
              "        text-align: right;\n",
              "    }\n",
              "</style>\n",
              "<table border=\"1\" class=\"dataframe\">\n",
              "  <thead>\n",
              "    <tr style=\"text-align: right;\">\n",
              "      <th></th>\n",
              "      <th>Patient</th>\n",
              "      <th>Date</th>\n",
              "      <th>mainDgCode</th>\n",
              "      <th>OtherDgCode</th>\n",
              "    </tr>\n",
              "  </thead>\n",
              "  <tbody>\n",
              "    <tr>\n",
              "      <th>0</th>\n",
              "      <td>209536</td>\n",
              "      <td>2015-01-29</td>\n",
              "      <td>E06.3: Autoimunitní tyroiditida</td>\n",
              "      <td>E78.0: Čistá hypercholesterolemie</td>\n",
              "    </tr>\n",
              "    <tr>\n",
              "      <th>1</th>\n",
              "      <td>8451</td>\n",
              "      <td>2015-01-08</td>\n",
              "      <td>E10.9: Diabetes mellitus 1. typu, léč. intenzi...</td>\n",
              "      <td>Autoimunní thyreoiditis</td>\n",
              "    </tr>\n",
              "    <tr>\n",
              "      <th>2</th>\n",
              "      <td>8451</td>\n",
              "      <td>2015-01-08</td>\n",
              "      <td>E10.9: Diabetes mellitus 1. typu, léč. intenzi...</td>\n",
              "      <td>Perniciózní anemie</td>\n",
              "    </tr>\n",
              "    <tr>\n",
              "      <th>3</th>\n",
              "      <td>8451</td>\n",
              "      <td>2015-01-08</td>\n",
              "      <td>E10.9: Diabetes mellitus 1. typu, léč. intenzi...</td>\n",
              "      <td>Surditas vlevo, tinnitus vlevo</td>\n",
              "    </tr>\n",
              "    <tr>\n",
              "      <th>4</th>\n",
              "      <td>8451</td>\n",
              "      <td>2015-01-08</td>\n",
              "      <td>E10.9: Diabetes mellitus 1. typu, léč. intenzi...</td>\n",
              "      <td>Difuzní jaterní léze - steatóza až incipientní...</td>\n",
              "    </tr>\n",
              "  </tbody>\n",
              "</table>\n",
              "</div>\n",
              "      <button class=\"colab-df-convert\" onclick=\"convertToInteractive('df-fe5b023d-653b-4751-b67e-fced00477e6c')\"\n",
              "              title=\"Convert this dataframe to an interactive table.\"\n",
              "              style=\"display:none;\">\n",
              "        \n",
              "  <svg xmlns=\"http://www.w3.org/2000/svg\" height=\"24px\"viewBox=\"0 0 24 24\"\n",
              "       width=\"24px\">\n",
              "    <path d=\"M0 0h24v24H0V0z\" fill=\"none\"/>\n",
              "    <path d=\"M18.56 5.44l.94 2.06.94-2.06 2.06-.94-2.06-.94-.94-2.06-.94 2.06-2.06.94zm-11 1L8.5 8.5l.94-2.06 2.06-.94-2.06-.94L8.5 2.5l-.94 2.06-2.06.94zm10 10l.94 2.06.94-2.06 2.06-.94-2.06-.94-.94-2.06-.94 2.06-2.06.94z\"/><path d=\"M17.41 7.96l-1.37-1.37c-.4-.4-.92-.59-1.43-.59-.52 0-1.04.2-1.43.59L10.3 9.45l-7.72 7.72c-.78.78-.78 2.05 0 2.83L4 21.41c.39.39.9.59 1.41.59.51 0 1.02-.2 1.41-.59l7.78-7.78 2.81-2.81c.8-.78.8-2.07 0-2.86zM5.41 20L4 18.59l7.72-7.72 1.47 1.35L5.41 20z\"/>\n",
              "  </svg>\n",
              "      </button>\n",
              "      \n",
              "  <style>\n",
              "    .colab-df-container {\n",
              "      display:flex;\n",
              "      flex-wrap:wrap;\n",
              "      gap: 12px;\n",
              "    }\n",
              "\n",
              "    .colab-df-convert {\n",
              "      background-color: #E8F0FE;\n",
              "      border: none;\n",
              "      border-radius: 50%;\n",
              "      cursor: pointer;\n",
              "      display: none;\n",
              "      fill: #1967D2;\n",
              "      height: 32px;\n",
              "      padding: 0 0 0 0;\n",
              "      width: 32px;\n",
              "    }\n",
              "\n",
              "    .colab-df-convert:hover {\n",
              "      background-color: #E2EBFA;\n",
              "      box-shadow: 0px 1px 2px rgba(60, 64, 67, 0.3), 0px 1px 3px 1px rgba(60, 64, 67, 0.15);\n",
              "      fill: #174EA6;\n",
              "    }\n",
              "\n",
              "    [theme=dark] .colab-df-convert {\n",
              "      background-color: #3B4455;\n",
              "      fill: #D2E3FC;\n",
              "    }\n",
              "\n",
              "    [theme=dark] .colab-df-convert:hover {\n",
              "      background-color: #434B5C;\n",
              "      box-shadow: 0px 1px 3px 1px rgba(0, 0, 0, 0.15);\n",
              "      filter: drop-shadow(0px 1px 2px rgba(0, 0, 0, 0.3));\n",
              "      fill: #FFFFFF;\n",
              "    }\n",
              "  </style>\n",
              "\n",
              "      <script>\n",
              "        const buttonEl =\n",
              "          document.querySelector('#df-fe5b023d-653b-4751-b67e-fced00477e6c button.colab-df-convert');\n",
              "        buttonEl.style.display =\n",
              "          google.colab.kernel.accessAllowed ? 'block' : 'none';\n",
              "\n",
              "        async function convertToInteractive(key) {\n",
              "          const element = document.querySelector('#df-fe5b023d-653b-4751-b67e-fced00477e6c');\n",
              "          const dataTable =\n",
              "            await google.colab.kernel.invokeFunction('convertToInteractive',\n",
              "                                                     [key], {});\n",
              "          if (!dataTable) return;\n",
              "\n",
              "          const docLinkHtml = 'Like what you see? Visit the ' +\n",
              "            '<a target=\"_blank\" href=https://colab.research.google.com/notebooks/data_table.ipynb>data table notebook</a>'\n",
              "            + ' to learn more about interactive tables.';\n",
              "          element.innerHTML = '';\n",
              "          dataTable['output_type'] = 'display_data';\n",
              "          await google.colab.output.renderOutput(dataTable, element);\n",
              "          const docLink = document.createElement('div');\n",
              "          docLink.innerHTML = docLinkHtml;\n",
              "          element.appendChild(docLink);\n",
              "        }\n",
              "      </script>\n",
              "    </div>\n",
              "  </div>\n",
              "  "
            ]
          },
          "metadata": {},
          "execution_count": 29
        }
      ]
    },
    {
      "cell_type": "code",
      "source": [
        "icd = [str(i).split(\":\")[0] for i in dgs.mainDgCode]\n",
        "# listing the frequency of diseases\n",
        "dgs[\"icd\"] = icd"
      ],
      "metadata": {
        "id": "2-r708egMWu0"
      },
      "execution_count": 31,
      "outputs": []
    },
    {
      "cell_type": "code",
      "source": [
        "dgs = dgs[[\"Patient\", \"Date\", \"icd\"]]"
      ],
      "metadata": {
        "id": "652Yql-_yRRG"
      },
      "execution_count": 32,
      "outputs": []
    },
    {
      "cell_type": "code",
      "source": [
        "for dg in dgs[\"icd\"][dgs.Patient==8451].unique():\n",
        "  print(icd.get_description(dg))\n",
        "# One Patient with ID 8451 has Entries at four dates."
      ],
      "metadata": {
        "colab": {
          "base_uri": "https://localhost:8080/"
        },
        "id": "b7KH22naMiCC",
        "outputId": "46e9edf1-5df1-4ce9-82c7-9699d4358b1f"
      },
      "execution_count": 44,
      "outputs": [
        {
          "output_type": "stream",
          "name": "stdout",
          "text": [
            "Type 1 diabetes mellitus without complications\n",
            "Autoimmune thyroiditis\n",
            "Calculus of gallbladder with other cholecystitis\n"
          ]
        }
      ]
    },
    {
      "cell_type": "code",
      "source": [
        "ckd = [ckd for ckd in dgs[\"icd\"] if \"N18\" in ckd]\n",
        "len(ckd)\n",
        "# number of patients with chronic kidney disease as diagnosis"
      ],
      "metadata": {
        "colab": {
          "base_uri": "https://localhost:8080/"
        },
        "id": "tXlXmF2wz8hY",
        "outputId": "6f3a38ad-cd1a-4561-99c2-4a5338b61357"
      },
      "execution_count": 49,
      "outputs": [
        {
          "output_type": "execute_result",
          "data": {
            "text/plain": [
              "455"
            ]
          },
          "metadata": {},
          "execution_count": 49
        }
      ]
    },
    {
      "cell_type": "markdown",
      "source": [
        "### 3% suffering from N18"
      ],
      "metadata": {
        "id": "H7mR4aoh2q5w"
      }
    },
    {
      "cell_type": "code",
      "source": [
        "# ckd = pd.Series(ckd).value_counts()\n",
        "print(ckd)\n",
        "plt.pie(ckd.values, labels=list(ckd.index))\n",
        "plt.show()"
      ],
      "metadata": {
        "colab": {
          "base_uri": "https://localhost:8080/",
          "height": 377
        },
        "id": "hTZyK1vR0NRx",
        "outputId": "4d7bef4a-160c-404c-80cf-5c7100feb5f0"
      },
      "execution_count": 74,
      "outputs": [
        {
          "output_type": "stream",
          "name": "stdout",
          "text": [
            "N18.3    192\n",
            "N18.4    154\n",
            "N18.5     52\n",
            "N18.2     34\n",
            "N18.9     12\n",
            "N18.1     11\n",
            "dtype: int64\n"
          ]
        },
        {
          "output_type": "display_data",
          "data": {
            "text/plain": [
              "<Figure size 432x288 with 1 Axes>"
            ],
            "image/png": "[encoded data removed]"
          },
          "metadata": {}
        }
      ]
    },
    {
      "cell_type": "markdown",
      "source": [
        "### HTN, CAD, DM, DCM, AFib, CHF most common"
      ],
      "metadata": {
        "id": "6ZN4XjeR6tO5"
      }
    },
    {
      "cell_type": "code",
      "source": [
        "commonicd = dgs.icd.value_counts()[:40]\n",
        "for i, c in commonicd.items():\n",
        "  # print(i, icd.get_description(i), c)\n",
        "  print(str(c).ljust(8), i, icd.get_description(i))"
      ],
      "metadata": {
        "colab": {
          "base_uri": "https://localhost:8080/"
        },
        "id": "dx8ss-oz2pgu",
        "outputId": "103a5459-bf7d-4610-f213-7f3d7f16588c"
      },
      "execution_count": 91,
      "outputs": [
        {
          "output_type": "stream",
          "name": "stdout",
          "text": [
            "19526    I10 Essential (primary) hypertension\n",
            "7256     I25.9 Chronic ischaemic heart disease, unspecified\n",
            "4771     E11.9 Type 2 diabetes mellitus without complications\n",
            "4607     E10.7 Type 1 diabetes mellitus with multiple complications\n",
            "3700     E11.7 Type 2 diabetes mellitus with multiple complications\n",
            "3402     I42.0 Dilated cardiomyopathy\n",
            "3144     I48.1 Persistent atrial fibrillation\n",
            "3109     E78.2 Mixed hyperlipidaemia\n",
            "3095     I50.0 Congestive heart failure\n",
            "2918     I25.8 Other forms of chronic ischaemic heart disease\n",
            "2692     I48.0 Paroxysmal atrial fibrillation\n",
            "2331     E10.9 Type 1 diabetes mellitus without complications\n",
            "2097     E06.3 Autoimmune thyroiditis\n",
            "1987     I34.0 Mitral (valve) insufficiency\n",
            "1811     I50.1 Left ventricular failure\n",
            "1730     E11.8 Type 2 diabetes mellitus with unspecified complications\n",
            "1555     E78.0 Pure hypercholesterolaemia\n",
            "1358     E78.9 Disorder of lipoprotein metabolism, unspecified\n",
            "1304     Z95.0 Presence of electronic cardiac devices\n",
            "1284     I35.0 Aortic (valve) stenosis\n",
            "1138     I49.5 Sick sinus syndrome\n",
            "1133     I48.9 Atrial fibrillation and atrial flutter, unspecified\n",
            "963      I25.0 Atherosclerotic cardiovascular disease, so described\n",
            "937      I47.2 Ventricular tachycardia\n",
            "920      I25.1 Atherosclerotic heart disease\n",
            "918      K76.0 Fatty (change of) liver, not elsewhere classified\n",
            "916      E04.2 Nontoxic multinodular goitre\n",
            "903      K30 Functional dyspepsia\n",
            "892      I50.9 Heart failure, unspecified\n",
            "879      I48.2 Chronic atrial fibrillation\n",
            "877      I35.1 Aortic (valve) insufficiency\n",
            "838      J45.0 Predominantly allergic asthma\n",
            "833      E11.4 Type 2 diabetes mellitus with neurological complications\n",
            "833      E11.5 Type 2 diabetes mellitus with peripheral circulatory complications\n",
            "831      Z95.2 Presence of prosthetic heart valve\n",
            "831      I25.2 Old myocardial infarction\n",
            "815      K76.8 Other specified diseases of liver\n",
            "811      I44.2 Atrioventricular block, complete\n",
            "738      I25.5 Ischaemic cardiomyopathy\n",
            "735      E10.3 Type 1 diabetes mellitus with ophthalmic complications\n"
          ]
        }
      ]
    },
    {
      "cell_type": "markdown",
      "source": [
        "### Circulatory and Metabolic Medicine"
      ],
      "metadata": {
        "id": "NuQI80cs6jSX"
      }
    },
    {
      "cell_type": "code",
      "source": [
        "specialty = list()\n",
        "for i in dgs.icd:\n",
        "  try:\n",
        "    sg = icd.get_parent(i[:3])\n",
        "    s = icd.get_parent(sg)\n",
        "    specialty.append((icd.get_description(s), sg[0]))\n",
        "  except:\n",
        "    pass\n",
        "pd.Series(specialty).value_counts()"
      ],
      "metadata": {
        "colab": {
          "base_uri": "https://localhost:8080/"
        },
        "id": "za1K_gXI4AN5",
        "outputId": "916f253e-6db2-4306-d70c-fec4a41bef1a"
      },
      "execution_count": 112,
      "outputs": [
        {
          "output_type": "execute_result",
          "data": {
            "text/plain": [
              "(Diseases of the circulatory system, I)                                                                                                  70734\n",
              "(Endocrine, nutritional and metabolic diseases, E)                                                                                       34231\n",
              "(Diseases of the digestive system, K)                                                                                                    12447\n",
              "(Factors influencing health status and contact with health services, Z)                                                                   4279\n",
              "(Diseases of the respiratory system, J)                                                                                                   2610\n",
              "(Diseases of the blood and blood-forming organs and certain disorders involving the immune mechanism, D)                                  1893\n",
              "(Symptoms, signs and abnormal clinical and laboratory findings, not elsewhere classified, R)                                              1723\n",
              "(Certain infectious and parasitic diseases, B)                                                                                            1317\n",
              "(Dorsopathies, M)                                                                                                                         1266\n",
              "(Neoplasms, D)                                                                                                                            1173\n",
              "(Congenital malformations, deformations and chromosomal abnormalities, Q)                                                                 1085\n",
              "(Diseases of the genitourinary system, N)                                                                                                  978\n",
              "(Malignant neoplasms, stated or presumed to be primary, of specified sites, except of lymphoid, haematopoietic and related tissue, C)      897\n",
              "(Diseases of the skin and subcutaneous tissue, L)                                                                                          693\n",
              "(Osteopathies and chondropathies, M)                                                                                                       506\n",
              "(Diseases of the nervous system, G)                                                                                                        399\n",
              "(Arthropathies, M)                                                                                                                         364\n",
              "(Diseases of the musculoskeletal system and connective tissue, M)                                                                          333\n",
              "(Soft tissue disorders, M)                                                                                                                 182\n",
              "(Malignant neoplasms, C)                                                                                                                   169\n",
              "(Injury, poisoning and certain other consequences of external causes, T)                                                                   163\n",
              "(Mental and behavioural disorders, F)                                                                                                      130\n",
              "(Certain infectious and parasitic diseases, A)                                                                                             122\n",
              "(Injury, poisoning and certain other consequences of external causes, S)                                                                    92\n",
              "(Codes for special purposes, U)                                                                                                             82\n",
              "(Diseases of the ear and mastoid process, H)                                                                                                54\n",
              "(Diseases of the eye and adnexa, H)                                                                                                         33\n",
              "(Pregnancy, childbirth and the puerperium, O)                                                                                                6\n",
              "(Burns and corrosions, T)                                                                                                                    2\n",
              "dtype: int64"
            ]
          },
          "metadata": {},
          "execution_count": 112
        }
      ]
    },
    {
      "cell_type": "code",
      "source": [
        "demogr.Sex.value_counts()"
      ],
      "metadata": {
        "colab": {
          "base_uri": "https://localhost:8080/"
        },
        "id": "y5yJ5YVV7Bu5",
        "outputId": "10d563fb-3399-41a4-bcf0-6d7b0e0a47a2"
      },
      "execution_count": 115,
      "outputs": [
        {
          "output_type": "execute_result",
          "data": {
            "text/plain": [
              "M    8326\n",
              "F    7244\n",
              "Name: Sex, dtype: int64"
            ]
          },
          "metadata": {},
          "execution_count": 115
        }
      ]
    },
    {
      "cell_type": "markdown",
      "source": [
        "## Laboratory Data"
      ],
      "metadata": {
        "id": "mi0Vx_XmtqA5"
      }
    },
    {
      "cell_type": "code",
      "source": [
        "lab.columns"
      ],
      "metadata": {
        "colab": {
          "base_uri": "https://localhost:8080/"
        },
        "id": "F3DVs8KWQ4lO",
        "outputId": "6d79d660-4495-49d2-9618-2e76a9bb71f1"
      },
      "execution_count": 7,
      "outputs": [
        {
          "output_type": "execute_result",
          "data": {
            "text/plain": [
              "Index(['Patient', 'Report', 'ID', 'EntryDate', 'EntryTime', 'Code', 'NCLP',\n",
              "       'Analyte', 'ValueNumber', 'ValueText', 'RefHigh', 'RefLow', 'Unit'],\n",
              "      dtype='object')"
            ]
          },
          "metadata": {},
          "execution_count": 7
        }
      ]
    },
    {
      "cell_type": "code",
      "source": [
        "# drop some of the lab columns\n",
        "lab = lab.drop([\"Report\", \"ID\", \"EntryTime\", \"Code\", \"NCLP\", \"RefHigh\", \"RefLow\"], axis=1)\n",
        "lab.head()"
      ],
      "metadata": {
        "colab": {
          "base_uri": "https://localhost:8080/",
          "height": 0
        },
        "id": "ToKMkZNaRKPA",
        "outputId": "75a3a5fc-d18e-42f5-bda2-6669feb1f6b3"
      },
      "execution_count": 8,
      "outputs": [
        {
          "output_type": "execute_result",
          "data": {
            "text/plain": [
              "   Patient   EntryDate                      Analyte ValueNumber ValueText  \\\n",
              "0   324729  30.09.2022             HBsAg konfirmace         NaN   externě   \n",
              "1   324729  30.09.2022  Rotaviry + Noroviry stolice         NaN     odběr   \n",
              "2   324729  16.04.2015               s_vápník celk.        2.37       NaN   \n",
              "3   324729  16.04.2015                     s_fosfor        1.32       NaN   \n",
              "4   324729  16.04.2015                     s_hořčík        0.75       NaN   \n",
              "\n",
              "     Unit  \n",
              "0     NaN  \n",
              "1     NaN  \n",
              "2  mmol/l  \n",
              "3  mmol/l  \n",
              "4  mmol/l  "
            ],
            "text/html": [
              "\n",
              "  <div id=\"df-de193025-1327-44b0-8c65-11ea459cfaed\">\n",
              "    <div class=\"colab-df-container\">\n",
              "      <div>\n",
              "<style scoped>\n",
              "    .dataframe tbody tr th:only-of-type {\n",
              "        vertical-align: middle;\n",
              "    }\n",
              "\n",
              "    .dataframe tbody tr th {\n",
              "        vertical-align: top;\n",
              "    }\n",
              "\n",
              "    .dataframe thead th {\n",
              "        text-align: right;\n",
              "    }\n",
              "</style>\n",
              "<table border=\"1\" class=\"dataframe\">\n",
              "  <thead>\n",
              "    <tr style=\"text-align: right;\">\n",
              "      <th></th>\n",
              "      <th>Patient</th>\n",
              "      <th>EntryDate</th>\n",
              "      <th>Analyte</th>\n",
              "      <th>ValueNumber</th>\n",
              "      <th>ValueText</th>\n",
              "      <th>Unit</th>\n",
              "    </tr>\n",
              "  </thead>\n",
              "  <tbody>\n",
              "    <tr>\n",
              "      <th>0</th>\n",
              "      <td>324729</td>\n",
              "      <td>30.09.2022</td>\n",
              "      <td>HBsAg konfirmace</td>\n",
              "      <td>NaN</td>\n",
              "      <td>externě</td>\n",
              "      <td>NaN</td>\n",
              "    </tr>\n",
              "    <tr>\n",
              "      <th>1</th>\n",
              "      <td>324729</td>\n",
              "      <td>30.09.2022</td>\n",
              "      <td>Rotaviry + Noroviry stolice</td>\n",
              "      <td>NaN</td>\n",
              "      <td>odběr</td>\n",
              "      <td>NaN</td>\n",
              "    </tr>\n",
              "    <tr>\n",
              "      <th>2</th>\n",
              "      <td>324729</td>\n",
              "      <td>16.04.2015</td>\n",
              "      <td>s_vápník celk.</td>\n",
              "      <td>2.37</td>\n",
              "      <td>NaN</td>\n",
              "      <td>mmol/l</td>\n",
              "    </tr>\n",
              "    <tr>\n",
              "      <th>3</th>\n",
              "      <td>324729</td>\n",
              "      <td>16.04.2015</td>\n",
              "      <td>s_fosfor</td>\n",
              "      <td>1.32</td>\n",
              "      <td>NaN</td>\n",
              "      <td>mmol/l</td>\n",
              "    </tr>\n",
              "    <tr>\n",
              "      <th>4</th>\n",
              "      <td>324729</td>\n",
              "      <td>16.04.2015</td>\n",
              "      <td>s_hořčík</td>\n",
              "      <td>0.75</td>\n",
              "      <td>NaN</td>\n",
              "      <td>mmol/l</td>\n",
              "    </tr>\n",
              "  </tbody>\n",
              "</table>\n",
              "</div>\n",
              "      <button class=\"colab-df-convert\" onclick=\"convertToInteractive('df-de193025-1327-44b0-8c65-11ea459cfaed')\"\n",
              "              title=\"Convert this dataframe to an interactive table.\"\n",
              "              style=\"display:none;\">\n",
              "        \n",
              "  <svg xmlns=\"http://www.w3.org/2000/svg\" height=\"24px\"viewBox=\"0 0 24 24\"\n",
              "       width=\"24px\">\n",
              "    <path d=\"M0 0h24v24H0V0z\" fill=\"none\"/>\n",
              "    <path d=\"M18.56 5.44l.94 2.06.94-2.06 2.06-.94-2.06-.94-.94-2.06-.94 2.06-2.06.94zm-11 1L8.5 8.5l.94-2.06 2.06-.94-2.06-.94L8.5 2.5l-.94 2.06-2.06.94zm10 10l.94 2.06.94-2.06 2.06-.94-2.06-.94-.94-2.06-.94 2.06-2.06.94z\"/><path d=\"M17.41 7.96l-1.37-1.37c-.4-.4-.92-.59-1.43-.59-.52 0-1.04.2-1.43.59L10.3 9.45l-7.72 7.72c-.78.78-.78 2.05 0 2.83L4 21.41c.39.39.9.59 1.41.59.51 0 1.02-.2 1.41-.59l7.78-7.78 2.81-2.81c.8-.78.8-2.07 0-2.86zM5.41 20L4 18.59l7.72-7.72 1.47 1.35L5.41 20z\"/>\n",
              "  </svg>\n",
              "      </button>\n",
              "      \n",
              "  <style>\n",
              "    .colab-df-container {\n",
              "      display:flex;\n",
              "      flex-wrap:wrap;\n",
              "      gap: 12px;\n",
              "    }\n",
              "\n",
              "    .colab-df-convert {\n",
              "      background-color: #E8F0FE;\n",
              "      border: none;\n",
              "      border-radius: 50%;\n",
              "      cursor: pointer;\n",
              "      display: none;\n",
              "      fill: #1967D2;\n",
              "      height: 32px;\n",
              "      padding: 0 0 0 0;\n",
              "      width: 32px;\n",
              "    }\n",
              "\n",
              "    .colab-df-convert:hover {\n",
              "      background-color: #E2EBFA;\n",
              "      box-shadow: 0px 1px 2px rgba(60, 64, 67, 0.3), 0px 1px 3px 1px rgba(60, 64, 67, 0.15);\n",
              "      fill: #174EA6;\n",
              "    }\n",
              "\n",
              "    [theme=dark] .colab-df-convert {\n",
              "      background-color: #3B4455;\n",
              "      fill: #D2E3FC;\n",
              "    }\n",
              "\n",
              "    [theme=dark] .colab-df-convert:hover {\n",
              "      background-color: #434B5C;\n",
              "      box-shadow: 0px 1px 3px 1px rgba(0, 0, 0, 0.15);\n",
              "      filter: drop-shadow(0px 1px 2px rgba(0, 0, 0, 0.3));\n",
              "      fill: #FFFFFF;\n",
              "    }\n",
              "  </style>\n",
              "\n",
              "      <script>\n",
              "        const buttonEl =\n",
              "          document.querySelector('#df-de193025-1327-44b0-8c65-11ea459cfaed button.colab-df-convert');\n",
              "        buttonEl.style.display =\n",
              "          google.colab.kernel.accessAllowed ? 'block' : 'none';\n",
              "\n",
              "        async function convertToInteractive(key) {\n",
              "          const element = document.querySelector('#df-de193025-1327-44b0-8c65-11ea459cfaed');\n",
              "          const dataTable =\n",
              "            await google.colab.kernel.invokeFunction('convertToInteractive',\n",
              "                                                     [key], {});\n",
              "          if (!dataTable) return;\n",
              "\n",
              "          const docLinkHtml = 'Like what you see? Visit the ' +\n",
              "            '<a target=\"_blank\" href=https://colab.research.google.com/notebooks/data_table.ipynb>data table notebook</a>'\n",
              "            + ' to learn more about interactive tables.';\n",
              "          element.innerHTML = '';\n",
              "          dataTable['output_type'] = 'display_data';\n",
              "          await google.colab.output.renderOutput(dataTable, element);\n",
              "          const docLink = document.createElement('div');\n",
              "          docLink.innerHTML = docLinkHtml;\n",
              "          element.appendChild(docLink);\n",
              "        }\n",
              "      </script>\n",
              "    </div>\n",
              "  </div>\n",
              "  "
            ]
          },
          "metadata": {},
          "execution_count": 8
        }
      ]
    },
    {
      "cell_type": "code",
      "source": [
        "lab.isna().sum()\n",
        "# the lab data is messy"
      ],
      "metadata": {
        "colab": {
          "base_uri": "https://localhost:8080/"
        },
        "id": "l23LAJafLHbl",
        "outputId": "f0343831-fa67-4f54-ef5d-fc6662861949"
      },
      "execution_count": 9,
      "outputs": [
        {
          "output_type": "execute_result",
          "data": {
            "text/plain": [
              "Patient             0\n",
              "EntryDate           1\n",
              "Analyte             1\n",
              "ValueNumber     19326\n",
              "ValueText      122845\n",
              "Unit            20471\n",
              "dtype: int64"
            ]
          },
          "metadata": {},
          "execution_count": 9
        }
      ]
    }
  ],
  "metadata": {
    "colab": {
      "provenance": [],
      "toc_visible": true,
      "include_colab_link": true
    },
    "kernelspec": {
      "display_name": "Python 3",
      "name": "python3"
    },
    "language_info": {
      "name": "python"
    }
  },
  "nbformat": 4,
  "nbformat_minor": 0
}