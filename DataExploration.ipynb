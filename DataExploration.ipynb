{
  "cells": [
    {
      "cell_type": "markdown",
      "metadata": {
        "id": "view-in-github",
        "colab_type": "text"
      },
      "source": [
        "<a href=\"https://colab.research.google.com/github/bsenst/LoopOfHenle/blob/main/DataExploration.ipynb\" target=\"_parent\"><img src=\"https://colab.research.google.com/assets/colab-badge.svg\" alt=\"Open In Colab\"/></a>"
      ]
    },
    {
      "cell_type": "code",
      "source": [
        "# https://colab.research.google.com/drive/1UxZ1M0LNUxjiiImYyzObPmgc7_5DE7OH?usp=sharing"
      ],
      "metadata": {
        "id": "csDXrejPSBF8"
      },
      "execution_count": null,
      "outputs": []
    },
    {
      "cell_type": "code",
      "source": [
        "import pandas as pd"
      ],
      "metadata": {
        "id": "FlAqc2KIPmbF"
      },
      "execution_count": 50,
      "outputs": []
    },
    {
      "cell_type": "code",
      "execution_count": 49,
      "metadata": {
        "id": "Ut5hsgaaf9u0",
        "colab": {
          "base_uri": "https://localhost:8080/"
        },
        "outputId": "c8d657c8-3267-4013-afe8-55d484bcd28e"
      },
      "outputs": [
        {
          "output_type": "stream",
          "name": "stderr",
          "text": [
            "/usr/local/lib/python3.7/dist-packages/IPython/core/interactiveshell.py:3326: DtypeWarning: Columns (10,11) have mixed types.Specify dtype option on import or set low_memory=False.\n",
            "  exec(code_obj, self.user_global_ns, self.user_ns)\n"
          ]
        },
        {
          "output_type": "stream",
          "name": "stdout",
          "text": [
            "<class 'pandas.core.frame.DataFrame'>\n",
            "RangeIndex: 8679298 entries, 0 to 8679297\n",
            "Data columns (total 13 columns):\n",
            " #   Column       Dtype  \n",
            "---  ------       -----  \n",
            " 0   Patient      int64  \n",
            " 1   Report       int64  \n",
            " 2   ID           int64  \n",
            " 3   EntryDate    object \n",
            " 4   EntryTime    object \n",
            " 5   Code         object \n",
            " 6   NCLP         float64\n",
            " 7   Analyte      object \n",
            " 8   ValueNumber  object \n",
            " 9   ValueText    object \n",
            " 10  RefHigh      object \n",
            " 11  RefLow       object \n",
            " 12  Unit         object \n",
            "dtypes: float64(1), int64(3), object(9)\n",
            "memory usage: 860.8+ MB\n"
          ]
        }
      ],
      "source": [
        "lab = pd.read_csv(\"LabsALL 2015-2022.csv\", sep=\";\")\n",
        "lab.info()"
      ]
    },
    {
      "cell_type": "code",
      "source": [
        "dgs = pd.read_excel(\"Dg from report.xlsx\")\n",
        "dgs.info()"
      ],
      "metadata": {
        "id": "H4fyO4p6AYk0",
        "colab": {
          "base_uri": "https://localhost:8080/"
        },
        "outputId": "aaf29e48-9f08-4881-8be7-99c79d8b58e1"
      },
      "execution_count": 51,
      "outputs": [
        {
          "output_type": "stream",
          "name": "stdout",
          "text": [
            "<class 'pandas.core.frame.DataFrame'>\n",
            "RangeIndex: 138718 entries, 0 to 138717\n",
            "Data columns (total 4 columns):\n",
            " #   Column       Non-Null Count   Dtype         \n",
            "---  ------       --------------   -----         \n",
            " 0   Patient      138718 non-null  int64         \n",
            " 1   Date         138718 non-null  datetime64[ns]\n",
            " 2   mainDgCode   137984 non-null  object        \n",
            " 3   OtherDgCode  127406 non-null  object        \n",
            "dtypes: datetime64[ns](1), int64(1), object(2)\n",
            "memory usage: 4.2+ MB\n"
          ]
        }
      ]
    },
    {
      "cell_type": "code",
      "source": [
        "print(dgs.Patient.nunique(), lab.Patient.nunique())"
      ],
      "metadata": {
        "id": "SDE4lJebCM5l",
        "colab": {
          "base_uri": "https://localhost:8080/"
        },
        "outputId": "67c6ad8c-5857-42d3-8317-6eea05fc0147"
      },
      "execution_count": 59,
      "outputs": [
        {
          "output_type": "stream",
          "name": "stdout",
          "text": [
            "15663 14158\n"
          ]
        }
      ]
    },
    {
      "cell_type": "code",
      "source": [
        "print(dgs.Patient.unique()[:10])\n",
        "print(lab.Patient.unique()[:10])"
      ],
      "metadata": {
        "colab": {
          "base_uri": "https://localhost:8080/"
        },
        "id": "n6eaWq-vQD4j",
        "outputId": "06534540-2c3f-4040-a816-da66e0baa444"
      },
      "execution_count": 60,
      "outputs": [
        {
          "output_type": "stream",
          "name": "stdout",
          "text": [
            "[ 209536    8451  107968  179366  189733 1178721  598938    3024 1202159\n",
            "  110877]\n",
            "[ 324729 1188371 1186803  235302  592170  196613  195042  223112  103484\n",
            "   40544]\n"
          ]
        }
      ]
    },
    {
      "cell_type": "markdown",
      "source": [],
      "metadata": {
        "id": "BHUlJnBsQBWd"
      }
    },
    {
      "cell_type": "code",
      "source": [
        "lab.isna().sum()"
      ],
      "metadata": {
        "colab": {
          "base_uri": "https://localhost:8080/"
        },
        "id": "l23LAJafLHbl",
        "outputId": "c726199a-6d9c-45b6-c6fe-5929f554bcc3"
      },
      "execution_count": 64,
      "outputs": [
        {
          "output_type": "execute_result",
          "data": {
            "text/plain": [
              "Patient              0\n",
              "Report               0\n",
              "ID                   0\n",
              "EntryDate            0\n",
              "EntryTime            0\n",
              "Code           8106112\n",
              "NCLP            573524\n",
              "Analyte           1923\n",
              "ValueNumber    1338881\n",
              "ValueText      7340434\n",
              "RefHigh        1747017\n",
              "RefLow         1747253\n",
              "Unit           1383102\n",
              "dtype: int64"
            ]
          },
          "metadata": {},
          "execution_count": 64
        }
      ]
    },
    {
      "cell_type": "code",
      "source": [
        "lab.shape"
      ],
      "metadata": {
        "colab": {
          "base_uri": "https://localhost:8080/"
        },
        "id": "VRzMI7zWQwSS",
        "outputId": "8b5e3180-bc89-4f7e-ad6b-ce2b0f33070a"
      },
      "execution_count": 65,
      "outputs": [
        {
          "output_type": "execute_result",
          "data": {
            "text/plain": [
              "(8679298, 13)"
            ]
          },
          "metadata": {},
          "execution_count": 65
        }
      ]
    },
    {
      "cell_type": "code",
      "source": [
        "lab.columns"
      ],
      "metadata": {
        "colab": {
          "base_uri": "https://localhost:8080/"
        },
        "id": "F3DVs8KWQ4lO",
        "outputId": "f7baa120-b6c5-418e-d46a-c3816ddfc366"
      },
      "execution_count": 66,
      "outputs": [
        {
          "output_type": "execute_result",
          "data": {
            "text/plain": [
              "Index(['Patient', 'Report', 'ID', 'EntryDate', 'EntryTime', 'Code', 'NCLP',\n",
              "       'Analyte', 'ValueNumber', 'ValueText', 'RefHigh', 'RefLow', 'Unit'],\n",
              "      dtype='object')"
            ]
          },
          "metadata": {},
          "execution_count": 66
        }
      ]
    },
    {
      "cell_type": "code",
      "source": [
        "lab.head()"
      ],
      "metadata": {
        "colab": {
          "base_uri": "https://localhost:8080/",
          "height": 354
        },
        "id": "zC2UsCI_Q7cn",
        "outputId": "b64ccae4-f872-4c0c-e05b-539184e578b8"
      },
      "execution_count": 69,
      "outputs": [
        {
          "output_type": "execute_result",
          "data": {
            "text/plain": [
              "   Patient    Report         ID   EntryDate           EntryTime  \\\n",
              "0   324729  27200171  154214712  30.09.2022  30.12.1899 7:42:00   \n",
              "1   324729  27200171  154214720  30.09.2022  30.12.1899 7:42:00   \n",
              "2   324729   1453155   18244355  16.04.2015  30.12.1899 7:31:00   \n",
              "3   324729   1453155   18244356  16.04.2015  30.12.1899 7:31:00   \n",
              "4   324729   1453155   18244357  16.04.2015  30.12.1899 7:31:00   \n",
              "\n",
              "              Code    NCLP                      Analyte ValueNumber ValueText  \\\n",
              "0  SZU-HEP_0004__R     NaN             HBsAg konfirmace         NaN   externě   \n",
              "1   ZU-OKM_0024__R     NaN  Rotaviry + Noroviry stolice         NaN     odběr   \n",
              "2              NaN  3482.0               s_vápník celk.        2.37       NaN   \n",
              "3              NaN  2618.0                     s_fosfor        1.32       NaN   \n",
              "4              NaN  3940.0                     s_hořčík        0.75       NaN   \n",
              "\n",
              "  RefHigh RefLow    Unit  \n",
              "0     NaN    NaN     NaN  \n",
              "1     NaN    NaN     NaN  \n",
              "2    2.55   2.15  mmol/l  \n",
              "3    1.23   0.71  mmol/l  \n",
              "4    0.94   0.71  mmol/l  "
            ],
            "text/html": [
              "\n",
              "  <div id=\"df-a105258f-7e4a-4a2a-8f26-c7b5c5668b76\">\n",
              "    <div class=\"colab-df-container\">\n",
              "      <div>\n",
              "<style scoped>\n",
              "    .dataframe tbody tr th:only-of-type {\n",
              "        vertical-align: middle;\n",
              "    }\n",
              "\n",
              "    .dataframe tbody tr th {\n",
              "        vertical-align: top;\n",
              "    }\n",
              "\n",
              "    .dataframe thead th {\n",
              "        text-align: right;\n",
              "    }\n",
              "</style>\n",
              "<table border=\"1\" class=\"dataframe\">\n",
              "  <thead>\n",
              "    <tr style=\"text-align: right;\">\n",
              "      <th></th>\n",
              "      <th>Patient</th>\n",
              "      <th>Report</th>\n",
              "      <th>ID</th>\n",
              "      <th>EntryDate</th>\n",
              "      <th>EntryTime</th>\n",
              "      <th>Code</th>\n",
              "      <th>NCLP</th>\n",
              "      <th>Analyte</th>\n",
              "      <th>ValueNumber</th>\n",
              "      <th>ValueText</th>\n",
              "      <th>RefHigh</th>\n",
              "      <th>RefLow</th>\n",
              "      <th>Unit</th>\n",
              "    </tr>\n",
              "  </thead>\n",
              "  <tbody>\n",
              "    <tr>\n",
              "      <th>0</th>\n",
              "      <td>324729</td>\n",
              "      <td>27200171</td>\n",
              "      <td>154214712</td>\n",
              "      <td>30.09.2022</td>\n",
              "      <td>30.12.1899 7:42:00</td>\n",
              "      <td>SZU-HEP_0004__R</td>\n",
              "      <td>NaN</td>\n",
              "      <td>HBsAg konfirmace</td>\n",
              "      <td>NaN</td>\n",
              "      <td>externě</td>\n",
              "      <td>NaN</td>\n",
              "      <td>NaN</td>\n",
              "      <td>NaN</td>\n",
              "    </tr>\n",
              "    <tr>\n",
              "      <th>1</th>\n",
              "      <td>324729</td>\n",
              "      <td>27200171</td>\n",
              "      <td>154214720</td>\n",
              "      <td>30.09.2022</td>\n",
              "      <td>30.12.1899 7:42:00</td>\n",
              "      <td>ZU-OKM_0024__R</td>\n",
              "      <td>NaN</td>\n",
              "      <td>Rotaviry + Noroviry stolice</td>\n",
              "      <td>NaN</td>\n",
              "      <td>odběr</td>\n",
              "      <td>NaN</td>\n",
              "      <td>NaN</td>\n",
              "      <td>NaN</td>\n",
              "    </tr>\n",
              "    <tr>\n",
              "      <th>2</th>\n",
              "      <td>324729</td>\n",
              "      <td>1453155</td>\n",
              "      <td>18244355</td>\n",
              "      <td>16.04.2015</td>\n",
              "      <td>30.12.1899 7:31:00</td>\n",
              "      <td>NaN</td>\n",
              "      <td>3482.0</td>\n",
              "      <td>s_vápník celk.</td>\n",
              "      <td>2.37</td>\n",
              "      <td>NaN</td>\n",
              "      <td>2.55</td>\n",
              "      <td>2.15</td>\n",
              "      <td>mmol/l</td>\n",
              "    </tr>\n",
              "    <tr>\n",
              "      <th>3</th>\n",
              "      <td>324729</td>\n",
              "      <td>1453155</td>\n",
              "      <td>18244356</td>\n",
              "      <td>16.04.2015</td>\n",
              "      <td>30.12.1899 7:31:00</td>\n",
              "      <td>NaN</td>\n",
              "      <td>2618.0</td>\n",
              "      <td>s_fosfor</td>\n",
              "      <td>1.32</td>\n",
              "      <td>NaN</td>\n",
              "      <td>1.23</td>\n",
              "      <td>0.71</td>\n",
              "      <td>mmol/l</td>\n",
              "    </tr>\n",
              "    <tr>\n",
              "      <th>4</th>\n",
              "      <td>324729</td>\n",
              "      <td>1453155</td>\n",
              "      <td>18244357</td>\n",
              "      <td>16.04.2015</td>\n",
              "      <td>30.12.1899 7:31:00</td>\n",
              "      <td>NaN</td>\n",
              "      <td>3940.0</td>\n",
              "      <td>s_hořčík</td>\n",
              "      <td>0.75</td>\n",
              "      <td>NaN</td>\n",
              "      <td>0.94</td>\n",
              "      <td>0.71</td>\n",
              "      <td>mmol/l</td>\n",
              "    </tr>\n",
              "  </tbody>\n",
              "</table>\n",
              "</div>\n",
              "      <button class=\"colab-df-convert\" onclick=\"convertToInteractive('df-a105258f-7e4a-4a2a-8f26-c7b5c5668b76')\"\n",
              "              title=\"Convert this dataframe to an interactive table.\"\n",
              "              style=\"display:none;\">\n",
              "        \n",
              "  <svg xmlns=\"http://www.w3.org/2000/svg\" height=\"24px\"viewBox=\"0 0 24 24\"\n",
              "       width=\"24px\">\n",
              "    <path d=\"M0 0h24v24H0V0z\" fill=\"none\"/>\n",
              "    <path d=\"M18.56 5.44l.94 2.06.94-2.06 2.06-.94-2.06-.94-.94-2.06-.94 2.06-2.06.94zm-11 1L8.5 8.5l.94-2.06 2.06-.94-2.06-.94L8.5 2.5l-.94 2.06-2.06.94zm10 10l.94 2.06.94-2.06 2.06-.94-2.06-.94-.94-2.06-.94 2.06-2.06.94z\"/><path d=\"M17.41 7.96l-1.37-1.37c-.4-.4-.92-.59-1.43-.59-.52 0-1.04.2-1.43.59L10.3 9.45l-7.72 7.72c-.78.78-.78 2.05 0 2.83L4 21.41c.39.39.9.59 1.41.59.51 0 1.02-.2 1.41-.59l7.78-7.78 2.81-2.81c.8-.78.8-2.07 0-2.86zM5.41 20L4 18.59l7.72-7.72 1.47 1.35L5.41 20z\"/>\n",
              "  </svg>\n",
              "      </button>\n",
              "      \n",
              "  <style>\n",
              "    .colab-df-container {\n",
              "      display:flex;\n",
              "      flex-wrap:wrap;\n",
              "      gap: 12px;\n",
              "    }\n",
              "\n",
              "    .colab-df-convert {\n",
              "      background-color: #E8F0FE;\n",
              "      border: none;\n",
              "      border-radius: 50%;\n",
              "      cursor: pointer;\n",
              "      display: none;\n",
              "      fill: #1967D2;\n",
              "      height: 32px;\n",
              "      padding: 0 0 0 0;\n",
              "      width: 32px;\n",
              "    }\n",
              "\n",
              "    .colab-df-convert:hover {\n",
              "      background-color: #E2EBFA;\n",
              "      box-shadow: 0px 1px 2px rgba(60, 64, 67, 0.3), 0px 1px 3px 1px rgba(60, 64, 67, 0.15);\n",
              "      fill: #174EA6;\n",
              "    }\n",
              "\n",
              "    [theme=dark] .colab-df-convert {\n",
              "      background-color: #3B4455;\n",
              "      fill: #D2E3FC;\n",
              "    }\n",
              "\n",
              "    [theme=dark] .colab-df-convert:hover {\n",
              "      background-color: #434B5C;\n",
              "      box-shadow: 0px 1px 3px 1px rgba(0, 0, 0, 0.15);\n",
              "      filter: drop-shadow(0px 1px 2px rgba(0, 0, 0, 0.3));\n",
              "      fill: #FFFFFF;\n",
              "    }\n",
              "  </style>\n",
              "\n",
              "      <script>\n",
              "        const buttonEl =\n",
              "          document.querySelector('#df-a105258f-7e4a-4a2a-8f26-c7b5c5668b76 button.colab-df-convert');\n",
              "        buttonEl.style.display =\n",
              "          google.colab.kernel.accessAllowed ? 'block' : 'none';\n",
              "\n",
              "        async function convertToInteractive(key) {\n",
              "          const element = document.querySelector('#df-a105258f-7e4a-4a2a-8f26-c7b5c5668b76');\n",
              "          const dataTable =\n",
              "            await google.colab.kernel.invokeFunction('convertToInteractive',\n",
              "                                                     [key], {});\n",
              "          if (!dataTable) return;\n",
              "\n",
              "          const docLinkHtml = 'Like what you see? Visit the ' +\n",
              "            '<a target=\"_blank\" href=https://colab.research.google.com/notebooks/data_table.ipynb>data table notebook</a>'\n",
              "            + ' to learn more about interactive tables.';\n",
              "          element.innerHTML = '';\n",
              "          dataTable['output_type'] = 'display_data';\n",
              "          await google.colab.output.renderOutput(dataTable, element);\n",
              "          const docLink = document.createElement('div');\n",
              "          docLink.innerHTML = docLinkHtml;\n",
              "          element.appendChild(docLink);\n",
              "        }\n",
              "      </script>\n",
              "    </div>\n",
              "  </div>\n",
              "  "
            ]
          },
          "metadata": {},
          "execution_count": 69
        }
      ]
    },
    {
      "cell_type": "code",
      "source": [
        "lab[lab.Analyte==\"s_fosfor\"]"
      ],
      "metadata": {
        "colab": {
          "base_uri": "https://localhost:8080/",
          "height": 467
        },
        "id": "ToKMkZNaRKPA",
        "outputId": "1fa98f9d-ab24-4f30-9fd0-294f79c247dc"
      },
      "execution_count": 70,
      "outputs": [
        {
          "output_type": "execute_result",
          "data": {
            "text/plain": [
              "         Patient    Report         ID   EntryDate           EntryTime Code  \\\n",
              "3         324729   1453155   18244356  16.04.2015  30.12.1899 7:31:00  NaN   \n",
              "62        324729   9644427  106786641  24.03.2016  30.12.1899 7:42:00  NaN   \n",
              "2544      235302   1253711   15585285  09.01.2015  30.12.1899 6:30:00  NaN   \n",
              "5047        5440   1577843   19777681  20.05.2015  30.12.1899 6:38:00  NaN   \n",
              "5066        5440   2133493   26550291  03.11.2015  30.12.1899 6:34:00  NaN   \n",
              "...          ...       ...        ...         ...                 ...  ...   \n",
              "8678823   335472  20271526   36331324  31.10.2018  30.12.1899 7:58:00  NaN   \n",
              "8678988   335472  18126720   11831050  21.04.2017  30.12.1899 7:17:00  NaN   \n",
              "8679070   335472  21822233   55133092  06.11.2019  30.12.1899 7:59:00  NaN   \n",
              "8679152   335472  23506430   86633984  20.11.2020  30.12.1899 7:18:00  NaN   \n",
              "8679260   335472  26490462  140942814  13.05.2022  30.12.1899 6:47:00  NaN   \n",
              "\n",
              "           NCLP   Analyte ValueNumber ValueText RefHigh RefLow    Unit  \n",
              "3        2618.0  s_fosfor        1.32       NaN    1.23   0.71  mmol/l  \n",
              "62       2618.0  s_fosfor        1.11       NaN    1.23   0.71  mmol/l  \n",
              "2544     2618.0  s_fosfor        1.14       NaN    1.41   0.76  mmol/l  \n",
              "5047     2618.0  s_fosfor        1.02       NaN    1.41   0.76  mmol/l  \n",
              "5066     2618.0  s_fosfor        1.13       NaN    1.41   0.76  mmol/l  \n",
              "...         ...       ...         ...       ...     ...    ...     ...  \n",
              "8678823  2618.0  s_fosfor        0.85       NaN    1.53   0.71  mmol/l  \n",
              "8678988  2618.0  s_fosfor        1.07       NaN    1.53   0.71  mmol/l  \n",
              "8679070  2618.0  s_fosfor        1.13       NaN    1.53   0.71  mmol/l  \n",
              "8679152  2618.0  s_fosfor         0.8       NaN    1.53   0.71  mmol/l  \n",
              "8679260  2618.0  s_fosfor        1.12       NaN    1.53   0.71  mmol/l  \n",
              "\n",
              "[23732 rows x 13 columns]"
            ],
            "text/html": [
              "\n",
              "  <div id=\"df-b8039d1c-4eb7-4122-b2e8-4e9155bcd76c\">\n",
              "    <div class=\"colab-df-container\">\n",
              "      <div>\n",
              "<style scoped>\n",
              "    .dataframe tbody tr th:only-of-type {\n",
              "        vertical-align: middle;\n",
              "    }\n",
              "\n",
              "    .dataframe tbody tr th {\n",
              "        vertical-align: top;\n",
              "    }\n",
              "\n",
              "    .dataframe thead th {\n",
              "        text-align: right;\n",
              "    }\n",
              "</style>\n",
              "<table border=\"1\" class=\"dataframe\">\n",
              "  <thead>\n",
              "    <tr style=\"text-align: right;\">\n",
              "      <th></th>\n",
              "      <th>Patient</th>\n",
              "      <th>Report</th>\n",
              "      <th>ID</th>\n",
              "      <th>EntryDate</th>\n",
              "      <th>EntryTime</th>\n",
              "      <th>Code</th>\n",
              "      <th>NCLP</th>\n",
              "      <th>Analyte</th>\n",
              "      <th>ValueNumber</th>\n",
              "      <th>ValueText</th>\n",
              "      <th>RefHigh</th>\n",
              "      <th>RefLow</th>\n",
              "      <th>Unit</th>\n",
              "    </tr>\n",
              "  </thead>\n",
              "  <tbody>\n",
              "    <tr>\n",
              "      <th>3</th>\n",
              "      <td>324729</td>\n",
              "      <td>1453155</td>\n",
              "      <td>18244356</td>\n",
              "      <td>16.04.2015</td>\n",
              "      <td>30.12.1899 7:31:00</td>\n",
              "      <td>NaN</td>\n",
              "      <td>2618.0</td>\n",
              "      <td>s_fosfor</td>\n",
              "      <td>1.32</td>\n",
              "      <td>NaN</td>\n",
              "      <td>1.23</td>\n",
              "      <td>0.71</td>\n",
              "      <td>mmol/l</td>\n",
              "    </tr>\n",
              "    <tr>\n",
              "      <th>62</th>\n",
              "      <td>324729</td>\n",
              "      <td>9644427</td>\n",
              "      <td>106786641</td>\n",
              "      <td>24.03.2016</td>\n",
              "      <td>30.12.1899 7:42:00</td>\n",
              "      <td>NaN</td>\n",
              "      <td>2618.0</td>\n",
              "      <td>s_fosfor</td>\n",
              "      <td>1.11</td>\n",
              "      <td>NaN</td>\n",
              "      <td>1.23</td>\n",
              "      <td>0.71</td>\n",
              "      <td>mmol/l</td>\n",
              "    </tr>\n",
              "    <tr>\n",
              "      <th>2544</th>\n",
              "      <td>235302</td>\n",
              "      <td>1253711</td>\n",
              "      <td>15585285</td>\n",
              "      <td>09.01.2015</td>\n",
              "      <td>30.12.1899 6:30:00</td>\n",
              "      <td>NaN</td>\n",
              "      <td>2618.0</td>\n",
              "      <td>s_fosfor</td>\n",
              "      <td>1.14</td>\n",
              "      <td>NaN</td>\n",
              "      <td>1.41</td>\n",
              "      <td>0.76</td>\n",
              "      <td>mmol/l</td>\n",
              "    </tr>\n",
              "    <tr>\n",
              "      <th>5047</th>\n",
              "      <td>5440</td>\n",
              "      <td>1577843</td>\n",
              "      <td>19777681</td>\n",
              "      <td>20.05.2015</td>\n",
              "      <td>30.12.1899 6:38:00</td>\n",
              "      <td>NaN</td>\n",
              "      <td>2618.0</td>\n",
              "      <td>s_fosfor</td>\n",
              "      <td>1.02</td>\n",
              "      <td>NaN</td>\n",
              "      <td>1.41</td>\n",
              "      <td>0.76</td>\n",
              "      <td>mmol/l</td>\n",
              "    </tr>\n",
              "    <tr>\n",
              "      <th>5066</th>\n",
              "      <td>5440</td>\n",
              "      <td>2133493</td>\n",
              "      <td>26550291</td>\n",
              "      <td>03.11.2015</td>\n",
              "      <td>30.12.1899 6:34:00</td>\n",
              "      <td>NaN</td>\n",
              "      <td>2618.0</td>\n",
              "      <td>s_fosfor</td>\n",
              "      <td>1.13</td>\n",
              "      <td>NaN</td>\n",
              "      <td>1.41</td>\n",
              "      <td>0.76</td>\n",
              "      <td>mmol/l</td>\n",
              "    </tr>\n",
              "    <tr>\n",
              "      <th>...</th>\n",
              "      <td>...</td>\n",
              "      <td>...</td>\n",
              "      <td>...</td>\n",
              "      <td>...</td>\n",
              "      <td>...</td>\n",
              "      <td>...</td>\n",
              "      <td>...</td>\n",
              "      <td>...</td>\n",
              "      <td>...</td>\n",
              "      <td>...</td>\n",
              "      <td>...</td>\n",
              "      <td>...</td>\n",
              "      <td>...</td>\n",
              "    </tr>\n",
              "    <tr>\n",
              "      <th>8678823</th>\n",
              "      <td>335472</td>\n",
              "      <td>20271526</td>\n",
              "      <td>36331324</td>\n",
              "      <td>31.10.2018</td>\n",
              "      <td>30.12.1899 7:58:00</td>\n",
              "      <td>NaN</td>\n",
              "      <td>2618.0</td>\n",
              "      <td>s_fosfor</td>\n",
              "      <td>0.85</td>\n",
              "      <td>NaN</td>\n",
              "      <td>1.53</td>\n",
              "      <td>0.71</td>\n",
              "      <td>mmol/l</td>\n",
              "    </tr>\n",
              "    <tr>\n",
              "      <th>8678988</th>\n",
              "      <td>335472</td>\n",
              "      <td>18126720</td>\n",
              "      <td>11831050</td>\n",
              "      <td>21.04.2017</td>\n",
              "      <td>30.12.1899 7:17:00</td>\n",
              "      <td>NaN</td>\n",
              "      <td>2618.0</td>\n",
              "      <td>s_fosfor</td>\n",
              "      <td>1.07</td>\n",
              "      <td>NaN</td>\n",
              "      <td>1.53</td>\n",
              "      <td>0.71</td>\n",
              "      <td>mmol/l</td>\n",
              "    </tr>\n",
              "    <tr>\n",
              "      <th>8679070</th>\n",
              "      <td>335472</td>\n",
              "      <td>21822233</td>\n",
              "      <td>55133092</td>\n",
              "      <td>06.11.2019</td>\n",
              "      <td>30.12.1899 7:59:00</td>\n",
              "      <td>NaN</td>\n",
              "      <td>2618.0</td>\n",
              "      <td>s_fosfor</td>\n",
              "      <td>1.13</td>\n",
              "      <td>NaN</td>\n",
              "      <td>1.53</td>\n",
              "      <td>0.71</td>\n",
              "      <td>mmol/l</td>\n",
              "    </tr>\n",
              "    <tr>\n",
              "      <th>8679152</th>\n",
              "      <td>335472</td>\n",
              "      <td>23506430</td>\n",
              "      <td>86633984</td>\n",
              "      <td>20.11.2020</td>\n",
              "      <td>30.12.1899 7:18:00</td>\n",
              "      <td>NaN</td>\n",
              "      <td>2618.0</td>\n",
              "      <td>s_fosfor</td>\n",
              "      <td>0.8</td>\n",
              "      <td>NaN</td>\n",
              "      <td>1.53</td>\n",
              "      <td>0.71</td>\n",
              "      <td>mmol/l</td>\n",
              "    </tr>\n",
              "    <tr>\n",
              "      <th>8679260</th>\n",
              "      <td>335472</td>\n",
              "      <td>26490462</td>\n",
              "      <td>140942814</td>\n",
              "      <td>13.05.2022</td>\n",
              "      <td>30.12.1899 6:47:00</td>\n",
              "      <td>NaN</td>\n",
              "      <td>2618.0</td>\n",
              "      <td>s_fosfor</td>\n",
              "      <td>1.12</td>\n",
              "      <td>NaN</td>\n",
              "      <td>1.53</td>\n",
              "      <td>0.71</td>\n",
              "      <td>mmol/l</td>\n",
              "    </tr>\n",
              "  </tbody>\n",
              "</table>\n",
              "<p>23732 rows × 13 columns</p>\n",
              "</div>\n",
              "      <button class=\"colab-df-convert\" onclick=\"convertToInteractive('df-b8039d1c-4eb7-4122-b2e8-4e9155bcd76c')\"\n",
              "              title=\"Convert this dataframe to an interactive table.\"\n",
              "              style=\"display:none;\">\n",
              "        \n",
              "  <svg xmlns=\"http://www.w3.org/2000/svg\" height=\"24px\"viewBox=\"0 0 24 24\"\n",
              "       width=\"24px\">\n",
              "    <path d=\"M0 0h24v24H0V0z\" fill=\"none\"/>\n",
              "    <path d=\"M18.56 5.44l.94 2.06.94-2.06 2.06-.94-2.06-.94-.94-2.06-.94 2.06-2.06.94zm-11 1L8.5 8.5l.94-2.06 2.06-.94-2.06-.94L8.5 2.5l-.94 2.06-2.06.94zm10 10l.94 2.06.94-2.06 2.06-.94-2.06-.94-.94-2.06-.94 2.06-2.06.94z\"/><path d=\"M17.41 7.96l-1.37-1.37c-.4-.4-.92-.59-1.43-.59-.52 0-1.04.2-1.43.59L10.3 9.45l-7.72 7.72c-.78.78-.78 2.05 0 2.83L4 21.41c.39.39.9.59 1.41.59.51 0 1.02-.2 1.41-.59l7.78-7.78 2.81-2.81c.8-.78.8-2.07 0-2.86zM5.41 20L4 18.59l7.72-7.72 1.47 1.35L5.41 20z\"/>\n",
              "  </svg>\n",
              "      </button>\n",
              "      \n",
              "  <style>\n",
              "    .colab-df-container {\n",
              "      display:flex;\n",
              "      flex-wrap:wrap;\n",
              "      gap: 12px;\n",
              "    }\n",
              "\n",
              "    .colab-df-convert {\n",
              "      background-color: #E8F0FE;\n",
              "      border: none;\n",
              "      border-radius: 50%;\n",
              "      cursor: pointer;\n",
              "      display: none;\n",
              "      fill: #1967D2;\n",
              "      height: 32px;\n",
              "      padding: 0 0 0 0;\n",
              "      width: 32px;\n",
              "    }\n",
              "\n",
              "    .colab-df-convert:hover {\n",
              "      background-color: #E2EBFA;\n",
              "      box-shadow: 0px 1px 2px rgba(60, 64, 67, 0.3), 0px 1px 3px 1px rgba(60, 64, 67, 0.15);\n",
              "      fill: #174EA6;\n",
              "    }\n",
              "\n",
              "    [theme=dark] .colab-df-convert {\n",
              "      background-color: #3B4455;\n",
              "      fill: #D2E3FC;\n",
              "    }\n",
              "\n",
              "    [theme=dark] .colab-df-convert:hover {\n",
              "      background-color: #434B5C;\n",
              "      box-shadow: 0px 1px 3px 1px rgba(0, 0, 0, 0.15);\n",
              "      filter: drop-shadow(0px 1px 2px rgba(0, 0, 0, 0.3));\n",
              "      fill: #FFFFFF;\n",
              "    }\n",
              "  </style>\n",
              "\n",
              "      <script>\n",
              "        const buttonEl =\n",
              "          document.querySelector('#df-b8039d1c-4eb7-4122-b2e8-4e9155bcd76c button.colab-df-convert');\n",
              "        buttonEl.style.display =\n",
              "          google.colab.kernel.accessAllowed ? 'block' : 'none';\n",
              "\n",
              "        async function convertToInteractive(key) {\n",
              "          const element = document.querySelector('#df-b8039d1c-4eb7-4122-b2e8-4e9155bcd76c');\n",
              "          const dataTable =\n",
              "            await google.colab.kernel.invokeFunction('convertToInteractive',\n",
              "                                                     [key], {});\n",
              "          if (!dataTable) return;\n",
              "\n",
              "          const docLinkHtml = 'Like what you see? Visit the ' +\n",
              "            '<a target=\"_blank\" href=https://colab.research.google.com/notebooks/data_table.ipynb>data table notebook</a>'\n",
              "            + ' to learn more about interactive tables.';\n",
              "          element.innerHTML = '';\n",
              "          dataTable['output_type'] = 'display_data';\n",
              "          await google.colab.output.renderOutput(dataTable, element);\n",
              "          const docLink = document.createElement('div');\n",
              "          docLink.innerHTML = docLinkHtml;\n",
              "          element.appendChild(docLink);\n",
              "        }\n",
              "      </script>\n",
              "    </div>\n",
              "  </div>\n",
              "  "
            ]
          },
          "metadata": {},
          "execution_count": 70
        }
      ]
    },
    {
      "cell_type": "code",
      "source": [
        "dgs.mainDgCode.value_counts()"
      ],
      "metadata": {
        "colab": {
          "base_uri": "https://localhost:8080/"
        },
        "id": "2-r708egMWu0",
        "outputId": "50cade1a-a45e-443c-bcec-f9156fb7536d"
      },
      "execution_count": 71,
      "outputs": [
        {
          "output_type": "execute_result",
          "data": {
            "text/plain": [
              "I10: Esenciální (primární) hypertenze                                                      12697\n",
              "E11.9: Diabetes mellitus 2. typu bez komplikací                                             2232\n",
              "E78.2: Smíšená hyperlipidemie                                                               2011\n",
              "I25.9: Chronická ischemická choroba srdeční NS                                              1955\n",
              "E11.7: Diabetes mellitus 2. typu s mnohočetnými komplikacemi                                1804\n",
              "                                                                                           ...  \n",
              "H46: Zánět zrakového nervu - neuritis nervi optici                                             1\n",
              "B00.2: Herpetická gingivostomatitida a faryngotonsilitida původce: virus Herpes simplex        1\n",
              "I25.5: Ischemická kardiomyopatie, st.p. impl. 2D ICD ze sek. prevence                          1\n",
              "Z85.0: St.p. Ca rekta.                                                                         1\n",
              "K76.9: Přechodná elevace jaterních testů v.s. po ATB (2010)                                    1\n",
              "Name: mainDgCode, Length: 17384, dtype: int64"
            ]
          },
          "metadata": {},
          "execution_count": 71
        }
      ]
    },
    {
      "cell_type": "code",
      "source": [
        "dgs.Date[dgs.Patient==8451].value_counts()"
      ],
      "metadata": {
        "colab": {
          "base_uri": "https://localhost:8080/"
        },
        "id": "b7KH22naMiCC",
        "outputId": "c4562b8a-9609-4972-dd5c-79daac28fb64"
      },
      "execution_count": 85,
      "outputs": [
        {
          "output_type": "execute_result",
          "data": {
            "text/plain": [
              "2022-01-27    23\n",
              "2015-01-08    21\n",
              "2022-08-08    13\n",
              "2022-03-21     1\n",
              "Name: Date, dtype: int64"
            ]
          },
          "metadata": {},
          "execution_count": 85
        }
      ]
    }
  ],
  "metadata": {
    "colab": {
      "provenance": [],
      "include_colab_link": true
    },
    "kernelspec": {
      "display_name": "Python 3",
      "name": "python3"
    },
    "language_info": {
      "name": "python"
    }
  },
  "nbformat": 4,
  "nbformat_minor": 0
}