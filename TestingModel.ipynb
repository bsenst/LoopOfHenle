{
  "nbformat": 4,
  "nbformat_minor": 0,
  "metadata": {
    "colab": {
      "provenance": [],
      "authorship_tag": "ABX9TyOdd6PVcU1ZFIyHZ/p0t26H",
      "include_colab_link": true
    },
    "kernelspec": {
      "name": "python3",
      "display_name": "Python 3"
    },
    "language_info": {
      "name": "python"
    }
  },
  "cells": [
    {
      "cell_type": "markdown",
      "metadata": {
        "id": "view-in-github",
        "colab_type": "text"
      },
      "source": [
        "<a href=\"https://colab.research.google.com/github/bsenst/LoopOfHenle/blob/main/TestingModel.ipynb\" target=\"_parent\"><img src=\"https://colab.research.google.com/assets/colab-badge.svg\" alt=\"Open In Colab\"/></a>"
      ]
    },
    {
      "cell_type": "code",
      "execution_count": 1,
      "metadata": {
        "id": "OAp-ctYxvVqn"
      },
      "outputs": [],
      "source": [
        "import xgboost as xgb\n",
        "import pickle"
      ]
    },
    {
      "cell_type": "markdown",
      "source": [
        "### Loading the datasets"
      ],
      "metadata": {
        "id": "fRK3NNSzFudU"
      }
    },
    {
      "cell_type": "code",
      "source": [
        "loaded_model = pickle.load(open(\"/content/model_weighted.pkl\", 'rb'))\n",
        "\n",
        "\"\"\"x = [2.3]\n",
        "for i in range(40):\n",
        "  print(len(x), end=\" \")\n",
        "  try:\n",
        "    print(loaded_model.score(x, [0]))\n",
        "  except Exception as e:\n",
        "    x.append(4.5)\n",
        "    print(e)\n",
        "    pass\"\"\"\n",
        "\n",
        "features = [2688.0, 5143.0, 4726.0, 1961.0, 16263.0, 1675.0, 3086.0, 18027.0, 2419.0, 4769.0, 5254.0, 13808.0, 12483.0, 5272.0, 12367.0, 12449.0, 12471.0, 1991.0, 12365.0, 12460.0, 543.0, 582.0, 12369.0, 12348.0, 12347.0, 2099.0, 17339.0, 8574.0, 3410.0, 921.0, 12478.0, 18895.0, 3078.0, 18029.0]\n",
        "print(len(features))\n",
        "\n",
        "test = dict(zip(features, [3.5]*34))\n",
        "print(test)\n",
        "\n",
        "# loaded_model.predict(test)\n",
        "loaded_model.get_params()"
      ],
      "metadata": {
        "colab": {
          "base_uri": "https://localhost:8080/"
        },
        "id": "wgGXFEl8v1pu",
        "outputId": "398fd99f-52be-4121-8d79-249580fa04f9"
      },
      "execution_count": 2,
      "outputs": [
        {
          "output_type": "stream",
          "name": "stdout",
          "text": [
            "34\n",
            "{2688.0: 3.5, 5143.0: 3.5, 4726.0: 3.5, 1961.0: 3.5, 16263.0: 3.5, 1675.0: 3.5, 3086.0: 3.5, 18027.0: 3.5, 2419.0: 3.5, 4769.0: 3.5, 5254.0: 3.5, 13808.0: 3.5, 12483.0: 3.5, 5272.0: 3.5, 12367.0: 3.5, 12449.0: 3.5, 12471.0: 3.5, 1991.0: 3.5, 12365.0: 3.5, 12460.0: 3.5, 543.0: 3.5, 582.0: 3.5, 12369.0: 3.5, 12348.0: 3.5, 12347.0: 3.5, 2099.0: 3.5, 17339.0: 3.5, 8574.0: 3.5, 3410.0: 3.5, 921.0: 3.5, 12478.0: 3.5, 18895.0: 3.5, 3078.0: 3.5, 18029.0: 3.5}\n"
          ]
        },
        {
          "output_type": "execute_result",
          "data": {
            "text/plain": [
              "{'base_score': 0.5,\n",
              " 'booster': 'gbtree',\n",
              " 'colsample_bylevel': 1,\n",
              " 'colsample_bynode': 1,\n",
              " 'colsample_bytree': 1,\n",
              " 'gamma': 0,\n",
              " 'learning_rate': 0.1,\n",
              " 'max_delta_step': 0,\n",
              " 'max_depth': 3,\n",
              " 'min_child_weight': 1,\n",
              " 'missing': -999,\n",
              " 'n_estimators': 100,\n",
              " 'n_jobs': 1,\n",
              " 'nthread': None,\n",
              " 'objective': 'binary:logistic',\n",
              " 'random_state': 0,\n",
              " 'reg_alpha': 0,\n",
              " 'reg_lambda': 1,\n",
              " 'scale_pos_weight': 1,\n",
              " 'seed': None,\n",
              " 'silent': None,\n",
              " 'subsample': 1,\n",
              " 'verbosity': 1}"
            ]
          },
          "metadata": {},
          "execution_count": 2
        }
      ]
    },
    {
      "cell_type": "code",
      "source": [
        "from pandas import Timestamp\n",
        "import pandas as pd\n",
        "\n",
        "test = {8574.0: {(42198, Timestamp('2018-06-30 00:00:00')): 87.2},\n",
        " 3086.0: {(42198, Timestamp('2018-06-30 00:00:00')): 9.6},\n",
        " 5254.0: {(42198, Timestamp('2018-06-30 00:00:00')): -999.0},\n",
        " 2688.0: {(42198, Timestamp('2018-06-30 00:00:00')): 214.0},\n",
        " 4769.0: {(42198, Timestamp('2018-06-30 00:00:00')): 13.4},\n",
        " 13808.0: {(42198, Timestamp('2018-06-30 00:00:00')): 12.4},\n",
        " 1675.0: {(42198, Timestamp('2018-06-30 00:00:00')): 4.94},\n",
        " 2419.0: {(42198, Timestamp('2018-06-30 00:00:00')): 89.7},\n",
        " 2099.0: {(42198, Timestamp('2018-06-30 00:00:00')): 0.443},\n",
        " 1991.0: {(42198, Timestamp('2018-06-30 00:00:00')): 151.0},\n",
        " 4726.0: {(42198, Timestamp('2018-06-30 00:00:00')): 10.6},\n",
        " 16263.0: {(42198, Timestamp('2018-06-30 00:00:00')): 12.4},\n",
        " 18895.0: {(42198, Timestamp('2018-06-30 00:00:00')): -999.0},\n",
        " 5272.0: {(42198, Timestamp('2018-06-30 00:00:00')): -999.0},\n",
        " 3078.0: {(42198, Timestamp('2018-06-30 00:00:00')): 417.0},\n",
        " 582.0: {(42198, Timestamp('2018-06-30 00:00:00')): 0.43},\n",
        " 17339.0: {(42198, Timestamp('2018-06-30 00:00:00')): -999.0},\n",
        " 921.0: {(42198, Timestamp('2018-06-30 00:00:00')): 0.31},\n",
        " 1961.0: {(42198, Timestamp('2018-06-30 00:00:00')): 0.47},\n",
        " 3410.0: {(42198, Timestamp('2018-06-30 00:00:00')): 6.0},\n",
        " 5143.0: {(42198, Timestamp('2018-06-30 00:00:00')): 1.0145},\n",
        " 12367.0: {(42198, Timestamp('2018-06-30 00:00:00')): -999.0},\n",
        " 12348.0: {(42198, Timestamp('2018-06-30 00:00:00')): -999.0},\n",
        " 12347.0: {(42198, Timestamp('2018-06-30 00:00:00')): -999.0},\n",
        " 12369.0: {(42198, Timestamp('2018-06-30 00:00:00')): -999.0},\n",
        " 12365.0: {(42198, Timestamp('2018-06-30 00:00:00')): -999.0},\n",
        " 18029.0: {(42198, Timestamp('2018-06-30 00:00:00')): -999.0},\n",
        " 18027.0: {(42198, Timestamp('2018-06-30 00:00:00')): -999.0},\n",
        " 12449.0: {(42198, Timestamp('2018-06-30 00:00:00')): -999.0},\n",
        " 12460.0: {(42198, Timestamp('2018-06-30 00:00:00')): -999.0},\n",
        " 12483.0: {(42198, Timestamp('2018-06-30 00:00:00')): -999.0},\n",
        " 12478.0: {(42198, Timestamp('2018-06-30 00:00:00')): -999.0},\n",
        " 12471.0: {(42198, Timestamp('2018-06-30 00:00:00')): -999.0},\n",
        " 543.0: {(42198, Timestamp('2018-06-30 00:00:00')): 1.87}}"
      ],
      "metadata": {
        "id": "JHN6FcrP87p9"
      },
      "execution_count": 3,
      "outputs": []
    },
    {
      "cell_type": "code",
      "source": [
        "test_df = pd.DataFrame.from_dict(test)"
      ],
      "metadata": {
        "id": "ADJlcpvS9SIT"
      },
      "execution_count": 4,
      "outputs": []
    },
    {
      "cell_type": "code",
      "source": [
        "test_df.info()"
      ],
      "metadata": {
        "colab": {
          "base_uri": "https://localhost:8080/"
        },
        "id": "IjL-mPLD9ig9",
        "outputId": "1448e929-d44b-48b7-df88-a5606859be2e"
      },
      "execution_count": 5,
      "outputs": [
        {
          "output_type": "stream",
          "name": "stdout",
          "text": [
            "<class 'pandas.core.frame.DataFrame'>\n",
            "MultiIndex: 1 entries, (42198, Timestamp('2018-06-30 00:00:00')) to (42198, Timestamp('2018-06-30 00:00:00'))\n",
            "Data columns (total 34 columns):\n",
            " #   Column   Non-Null Count  Dtype  \n",
            "---  ------   --------------  -----  \n",
            " 0   8574.0   1 non-null      float64\n",
            " 1   3086.0   1 non-null      float64\n",
            " 2   5254.0   1 non-null      float64\n",
            " 3   2688.0   1 non-null      float64\n",
            " 4   4769.0   1 non-null      float64\n",
            " 5   13808.0  1 non-null      float64\n",
            " 6   1675.0   1 non-null      float64\n",
            " 7   2419.0   1 non-null      float64\n",
            " 8   2099.0   1 non-null      float64\n",
            " 9   1991.0   1 non-null      float64\n",
            " 10  4726.0   1 non-null      float64\n",
            " 11  16263.0  1 non-null      float64\n",
            " 12  18895.0  1 non-null      float64\n",
            " 13  5272.0   1 non-null      float64\n",
            " 14  3078.0   1 non-null      float64\n",
            " 15  582.0    1 non-null      float64\n",
            " 16  17339.0  1 non-null      float64\n",
            " 17  921.0    1 non-null      float64\n",
            " 18  1961.0   1 non-null      float64\n",
            " 19  3410.0   1 non-null      float64\n",
            " 20  5143.0   1 non-null      float64\n",
            " 21  12367.0  1 non-null      float64\n",
            " 22  12348.0  1 non-null      float64\n",
            " 23  12347.0  1 non-null      float64\n",
            " 24  12369.0  1 non-null      float64\n",
            " 25  12365.0  1 non-null      float64\n",
            " 26  18029.0  1 non-null      float64\n",
            " 27  18027.0  1 non-null      float64\n",
            " 28  12449.0  1 non-null      float64\n",
            " 29  12460.0  1 non-null      float64\n",
            " 30  12483.0  1 non-null      float64\n",
            " 31  12478.0  1 non-null      float64\n",
            " 32  12471.0  1 non-null      float64\n",
            " 33  543.0    1 non-null      float64\n",
            "dtypes: float64(34)\n",
            "memory usage: 538.0 bytes\n"
          ]
        }
      ]
    },
    {
      "cell_type": "code",
      "source": [
        "train = pd.read_csv(\"train_data.csv\", parse_dates=True)\n",
        "train.info()"
      ],
      "metadata": {
        "colab": {
          "base_uri": "https://localhost:8080/"
        },
        "id": "cNmepXii-hUB",
        "outputId": "bfee64ad-de25-4199-8013-9d0ef8897c6a"
      },
      "execution_count": 13,
      "outputs": [
        {
          "output_type": "stream",
          "name": "stdout",
          "text": [
            "<class 'pandas.core.frame.DataFrame'>\n",
            "RangeIndex: 174077 entries, 0 to 174076\n",
            "Data columns (total 37 columns):\n",
            " #   Column     Non-Null Count   Dtype  \n",
            "---  ------     --------------   -----  \n",
            " 0   p_id       174077 non-null  int64  \n",
            " 1   EntryDate  174077 non-null  object \n",
            " 2   8574.0     174077 non-null  float64\n",
            " 3   3086.0     174077 non-null  float64\n",
            " 4   5254.0     174077 non-null  float64\n",
            " 5   2688.0     174077 non-null  float64\n",
            " 6   4769.0     174077 non-null  float64\n",
            " 7   13808.0    174077 non-null  float64\n",
            " 8   1675.0     174077 non-null  float64\n",
            " 9   2419.0     174077 non-null  float64\n",
            " 10  2099.0     174077 non-null  float64\n",
            " 11  1991.0     174077 non-null  float64\n",
            " 12  4726.0     174077 non-null  float64\n",
            " 13  16263.0    174077 non-null  float64\n",
            " 14  18895.0    174077 non-null  float64\n",
            " 15  5272.0     174077 non-null  float64\n",
            " 16  3078.0     174077 non-null  float64\n",
            " 17  582.0      174077 non-null  float64\n",
            " 18  17339.0    174077 non-null  float64\n",
            " 19  921.0      174077 non-null  float64\n",
            " 20  1961.0     174077 non-null  float64\n",
            " 21  3410.0     174077 non-null  float64\n",
            " 22  5143.0     174077 non-null  float64\n",
            " 23  12367.0    174077 non-null  float64\n",
            " 24  12348.0    174077 non-null  float64\n",
            " 25  12347.0    174077 non-null  float64\n",
            " 26  12369.0    174077 non-null  float64\n",
            " 27  12365.0    174077 non-null  float64\n",
            " 28  18029.0    174077 non-null  float64\n",
            " 29  18027.0    174077 non-null  float64\n",
            " 30  12449.0    174077 non-null  float64\n",
            " 31  12460.0    174077 non-null  float64\n",
            " 32  12483.0    174077 non-null  float64\n",
            " 33  12478.0    174077 non-null  float64\n",
            " 34  12471.0    174077 non-null  float64\n",
            " 35  543.0      174077 non-null  float64\n",
            " 36  target     174077 non-null  int64  \n",
            "dtypes: float64(34), int64(2), object(1)\n",
            "memory usage: 49.1+ MB\n"
          ]
        }
      ]
    },
    {
      "cell_type": "code",
      "source": [
        "sample = train.iloc[:1,2:-1]\n",
        "for i in sample.items():\n",
        "  print(i)"
      ],
      "metadata": {
        "colab": {
          "base_uri": "https://localhost:8080/"
        },
        "id": "qzpI0dI7_-aU",
        "outputId": "15637cf5-0154-4e20-e09b-1a970b92f837"
      },
      "execution_count": 47,
      "outputs": [
        {
          "output_type": "stream",
          "name": "stdout",
          "text": [
            "('8574.0', 0    113.3\n",
            "Name: 8574.0, dtype: float64)\n",
            "('3086.0', 0    8.1\n",
            "Name: 3086.0, dtype: float64)\n",
            "('5254.0', 0    3.94\n",
            "Name: 5254.0, dtype: float64)\n",
            "('2688.0', 0    256.0\n",
            "Name: 2688.0, dtype: float64)\n",
            "('4769.0', 0    15.0\n",
            "Name: 4769.0, dtype: float64)\n",
            "('13808.0', 0    5.6\n",
            "Name: 13808.0, dtype: float64)\n",
            "('1675.0', 0    4.31\n",
            "Name: 1675.0, dtype: float64)\n",
            "('2419.0', 0    84.5\n",
            "Name: 2419.0, dtype: float64)\n",
            "('2099.0', 0    0.364\n",
            "Name: 2099.0, dtype: float64)\n",
            "('1991.0', 0    120.0\n",
            "Name: 1991.0, dtype: float64)\n",
            "('4726.0', 0    9.2\n",
            "Name: 4726.0, dtype: float64)\n",
            "('16263.0', 0    9.9\n",
            "Name: 16263.0, dtype: float64)\n",
            "('18895.0', 0    18.1\n",
            "Name: 18895.0, dtype: float64)\n",
            "('5272.0', 0    139.4\n",
            "Name: 5272.0, dtype: float64)\n",
            "('3078.0', 0    359.0\n",
            "Name: 3078.0, dtype: float64)\n",
            "('582.0', 0    0.32\n",
            "Name: 582.0, dtype: float64)\n",
            "('17339.0', 0   -999.0\n",
            "Name: 17339.0, dtype: float64)\n",
            "('921.0', 0    0.36\n",
            "Name: 921.0, dtype: float64)\n",
            "('1961.0', 0    0.46\n",
            "Name: 1961.0, dtype: float64)\n",
            "('3410.0', 0    7.0\n",
            "Name: 3410.0, dtype: float64)\n",
            "('5143.0', 0    1.009\n",
            "Name: 5143.0, dtype: float64)\n",
            "('12367.0', 0    0.48\n",
            "Name: 12367.0, dtype: float64)\n",
            "('12348.0', 0    0.16\n",
            "Name: 12348.0, dtype: float64)\n",
            "('12347.0', 0    0.03\n",
            "Name: 12347.0, dtype: float64)\n",
            "('12369.0', 0    3.59\n",
            "Name: 12369.0, dtype: float64)\n",
            "('12365.0', 0    1.36\n",
            "Name: 12365.0, dtype: float64)\n",
            "('18029.0', 0    0.4\n",
            "Name: 18029.0, dtype: float64)\n",
            "('18027.0', 0    0.02\n",
            "Name: 18027.0, dtype: float64)\n",
            "('12449.0', 0    0.5\n",
            "Name: 12449.0, dtype: float64)\n",
            "('12460.0', 0    2.8\n",
            "Name: 12460.0, dtype: float64)\n",
            "('12483.0', 0    64.0\n",
            "Name: 12483.0, dtype: float64)\n",
            "('12478.0', 0    8.5\n",
            "Name: 12478.0, dtype: float64)\n",
            "('12471.0', 0    24.2\n",
            "Name: 12471.0, dtype: float64)\n",
            "('543.0', 0    2.19\n",
            "Name: 543.0, dtype: float64)\n"
          ]
        }
      ]
    },
    {
      "cell_type": "code",
      "source": [
        "print(loaded_model.predict(sample))"
      ],
      "metadata": {
        "colab": {
          "base_uri": "https://localhost:8080/"
        },
        "id": "xZMVL-gEL3gp",
        "outputId": "edd2d56d-d854-4afb-cb17-078a65e0b9f7"
      },
      "execution_count": 36,
      "outputs": [
        {
          "output_type": "stream",
          "name": "stdout",
          "text": [
            "[1]\n"
          ]
        }
      ]
    },
    {
      "cell_type": "markdown",
      "source": [
        "### Prediction with the model"
      ],
      "metadata": {
        "id": "P7iLJxriFpRX"
      }
    },
    {
      "cell_type": "code",
      "source": [
        "len(sample.columns)"
      ],
      "metadata": {
        "id": "VJcUBJQRNHeF",
        "outputId": "2ccc16b7-79d5-437d-9972-9cfbaf488713",
        "colab": {
          "base_uri": "https://localhost:8080/"
        }
      },
      "execution_count": 45,
      "outputs": [
        {
          "output_type": "execute_result",
          "data": {
            "text/plain": [
              "34"
            ]
          },
          "metadata": {},
          "execution_count": 45
        }
      ]
    },
    {
      "cell_type": "code",
      "source": [
        "# print(list(sample.columns))\n",
        "# print(features)\n",
        "\n",
        "col = list(sample.columns)\n",
        "\n",
        "row = dict()\n",
        "row[0] = [300]*34\n",
        "# row[0] = list([-999.0, -999.0, -999.0, -999.0, -999.0, -999.0, -999.0, -999.0, -999.0, -999.0, -999.0, -999.0, -999.0, -999.0, -999.0, -999.0, -999.0, -999.0, -999.0, 5.0, 1.044, -999.0, -999.0, -999.0, -999.0, -999.0, -999.0, -999.0, -999.0, -999.0, -999.0, -999.0, -999.0, -999.0])\n",
        "sample = (pd.DataFrame.from_dict(row, orient=\"index\", columns=col))\n",
        "print(loaded_model.predict(sample))"
      ],
      "metadata": {
        "colab": {
          "base_uri": "https://localhost:8080/"
        },
        "id": "OZlNGM3MByZW",
        "outputId": "c999ce3a-3fd4-4181-acea-c8ad58e4eacf"
      },
      "execution_count": 41,
      "outputs": [
        {
          "output_type": "stream",
          "name": "stdout",
          "text": [
            "['8574.0', '3086.0', '5254.0', '2688.0', '4769.0', '13808.0', '1675.0', '2419.0', '2099.0', '1991.0', '4726.0', '16263.0', '18895.0', '5272.0', '3078.0', '582.0', '17339.0', '921.0', '1961.0', '3410.0', '5143.0', '12367.0', '12348.0', '12347.0', '12369.0', '12365.0', '18029.0', '18027.0', '12449.0', '12460.0', '12483.0', '12478.0', '12471.0', '543.0']\n",
            "[2688.0, 5143.0, 4726.0, 1961.0, 16263.0, 1675.0, 3086.0, 18027.0, 2419.0, 4769.0, 5254.0, 13808.0, 12483.0, 5272.0, 12367.0, 12449.0, 12471.0, 1991.0, 12365.0, 12460.0, 543.0, 582.0, 12369.0, 12348.0, 12347.0, 2099.0, 17339.0, 8574.0, 3410.0, 921.0, 12478.0, 18895.0, 3078.0, 18029.0]\n",
            "[0]\n"
          ]
        }
      ]
    },
    {
      "cell_type": "code",
      "source": [
        "row[0] = list([120]*34)\n",
        "sample = (pd.DataFrame.from_dict(row, orient=\"index\", columns=col))\n",
        "print(loaded_model.predict(sample))"
      ],
      "metadata": {
        "colab": {
          "base_uri": "https://localhost:8080/"
        },
        "id": "YFmSGXt49a5Z",
        "outputId": "c4087c3f-7437-40fa-8252-a405dab31a75"
      },
      "execution_count": 42,
      "outputs": [
        {
          "output_type": "stream",
          "name": "stdout",
          "text": [
            "[0]\n"
          ]
        }
      ]
    },
    {
      "cell_type": "code",
      "source": [
        "row[0] = list([-30]*34)\n",
        "sample = (pd.DataFrame.from_dict(row, orient=\"index\", columns=col))\n",
        "print(loaded_model.predict(sample))"
      ],
      "metadata": {
        "colab": {
          "base_uri": "https://localhost:8080/"
        },
        "id": "UIN04gAXFeZ1",
        "outputId": "36b9fcd3-7b63-4b96-f781-af1da760307f"
      },
      "execution_count": 43,
      "outputs": [
        {
          "output_type": "stream",
          "name": "stdout",
          "text": [
            "[1]\n"
          ]
        }
      ]
    },
    {
      "cell_type": "code",
      "source": [
        "row[0] = list([-999]*34)\n",
        "sample = (pd.DataFrame.from_dict(row, orient=\"index\", columns=col))\n",
        "print(loaded_model.predict(sample))"
      ],
      "metadata": {
        "colab": {
          "base_uri": "https://localhost:8080/"
        },
        "id": "9aJjYOtmFg52",
        "outputId": "f0edfb5e-c9b6-4ace-906d-d4a656f68ef2"
      },
      "execution_count": 44,
      "outputs": [
        {
          "output_type": "stream",
          "name": "stdout",
          "text": [
            "[1]\n"
          ]
        }
      ]
    }
  ]
}