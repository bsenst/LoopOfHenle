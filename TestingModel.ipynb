{
  "nbformat": 4,
  "nbformat_minor": 0,
  "metadata": {
    "colab": {
      "provenance": [],
      "authorship_tag": "ABX9TyO/Ho+PjRN3PQ9B8LXHG38D",
      "include_colab_link": true
    },
    "kernelspec": {
      "name": "python3",
      "display_name": "Python 3"
    },
    "language_info": {
      "name": "python"
    }
  },
  "cells": [
    {
      "cell_type": "markdown",
      "metadata": {
        "id": "view-in-github",
        "colab_type": "text"
      },
      "source": [
        "<a href=\"https://colab.research.google.com/github/bsenst/LoopOfHenle/blob/main/TestingModel.ipynb\" target=\"_parent\"><img src=\"https://colab.research.google.com/assets/colab-badge.svg\" alt=\"Open In Colab\"/></a>"
      ]
    },
    {
      "cell_type": "code",
      "execution_count": 1,
      "metadata": {
        "id": "OAp-ctYxvVqn"
      },
      "outputs": [],
      "source": [
        "import xgboost as xgb\n",
        "import pickle"
      ]
    },
    {
      "cell_type": "markdown",
      "source": [
        "### Loading the datasets"
      ],
      "metadata": {
        "id": "fRK3NNSzFudU"
      }
    },
    {
      "cell_type": "code",
      "source": [
        "loaded_model = pickle.load(open(\"/content/model_weighted.pkl\", 'rb'))\n",
        "\n",
        "\"\"\"x = [2.3]\n",
        "for i in range(40):\n",
        "  print(len(x), end=\" \")\n",
        "  try:\n",
        "    print(loaded_model.score(x, [0]))\n",
        "  except Exception as e:\n",
        "    x.append(4.5)\n",
        "    print(e)\n",
        "    pass\"\"\"\n",
        "\n",
        "features = [2688.0, 5143.0, 4726.0, 1961.0, 16263.0, 1675.0, 3086.0, 18027.0, 2419.0, 4769.0, 5254.0, 13808.0, 12483.0, 5272.0, 12367.0, 12449.0, 12471.0, 1991.0, 12365.0, 12460.0, 543.0, 582.0, 12369.0, 12348.0, 12347.0, 2099.0, 17339.0, 8574.0, 3410.0, 921.0, 12478.0, 18895.0, 3078.0, 18029.0]\n",
        "print(len(features))\n",
        "\n",
        "test = dict(zip(features, [3.5]*34))\n",
        "print(test)\n",
        "\n",
        "# loaded_model.predict(test)\n",
        "loaded_model.get_params()"
      ],
      "metadata": {
        "colab": {
          "base_uri": "https://localhost:8080/"
        },
        "id": "wgGXFEl8v1pu",
        "outputId": "398fd99f-52be-4121-8d79-249580fa04f9"
      },
      "execution_count": 2,
      "outputs": [
        {
          "output_type": "stream",
          "name": "stdout",
          "text": [
            "34\n",
            "{2688.0: 3.5, 5143.0: 3.5, 4726.0: 3.5, 1961.0: 3.5, 16263.0: 3.5, 1675.0: 3.5, 3086.0: 3.5, 18027.0: 3.5, 2419.0: 3.5, 4769.0: 3.5, 5254.0: 3.5, 13808.0: 3.5, 12483.0: 3.5, 5272.0: 3.5, 12367.0: 3.5, 12449.0: 3.5, 12471.0: 3.5, 1991.0: 3.5, 12365.0: 3.5, 12460.0: 3.5, 543.0: 3.5, 582.0: 3.5, 12369.0: 3.5, 12348.0: 3.5, 12347.0: 3.5, 2099.0: 3.5, 17339.0: 3.5, 8574.0: 3.5, 3410.0: 3.5, 921.0: 3.5, 12478.0: 3.5, 18895.0: 3.5, 3078.0: 3.5, 18029.0: 3.5}\n"
          ]
        },
        {
          "output_type": "execute_result",
          "data": {
            "text/plain": [
              "{'base_score': 0.5,\n",
              " 'booster': 'gbtree',\n",
              " 'colsample_bylevel': 1,\n",
              " 'colsample_bynode': 1,\n",
              " 'colsample_bytree': 1,\n",
              " 'gamma': 0,\n",
              " 'learning_rate': 0.1,\n",
              " 'max_delta_step': 0,\n",
              " 'max_depth': 3,\n",
              " 'min_child_weight': 1,\n",
              " 'missing': -999,\n",
              " 'n_estimators': 100,\n",
              " 'n_jobs': 1,\n",
              " 'nthread': None,\n",
              " 'objective': 'binary:logistic',\n",
              " 'random_state': 0,\n",
              " 'reg_alpha': 0,\n",
              " 'reg_lambda': 1,\n",
              " 'scale_pos_weight': 1,\n",
              " 'seed': None,\n",
              " 'silent': None,\n",
              " 'subsample': 1,\n",
              " 'verbosity': 1}"
            ]
          },
          "metadata": {},
          "execution_count": 2
        }
      ]
    },
    {
      "cell_type": "code",
      "source": [
        "from pandas import Timestamp\n",
        "import pandas as pd\n",
        "\n",
        "test = {8574.0: {(42198, Timestamp('2018-06-30 00:00:00')): 87.2},\n",
        " 3086.0: {(42198, Timestamp('2018-06-30 00:00:00')): 9.6},\n",
        " 5254.0: {(42198, Timestamp('2018-06-30 00:00:00')): -999.0},\n",
        " 2688.0: {(42198, Timestamp('2018-06-30 00:00:00')): 214.0},\n",
        " 4769.0: {(42198, Timestamp('2018-06-30 00:00:00')): 13.4},\n",
        " 13808.0: {(42198, Timestamp('2018-06-30 00:00:00')): 12.4},\n",
        " 1675.0: {(42198, Timestamp('2018-06-30 00:00:00')): 4.94},\n",
        " 2419.0: {(42198, Timestamp('2018-06-30 00:00:00')): 89.7},\n",
        " 2099.0: {(42198, Timestamp('2018-06-30 00:00:00')): 0.443},\n",
        " 1991.0: {(42198, Timestamp('2018-06-30 00:00:00')): 151.0},\n",
        " 4726.0: {(42198, Timestamp('2018-06-30 00:00:00')): 10.6},\n",
        " 16263.0: {(42198, Timestamp('2018-06-30 00:00:00')): 12.4},\n",
        " 18895.0: {(42198, Timestamp('2018-06-30 00:00:00')): -999.0},\n",
        " 5272.0: {(42198, Timestamp('2018-06-30 00:00:00')): -999.0},\n",
        " 3078.0: {(42198, Timestamp('2018-06-30 00:00:00')): 417.0},\n",
        " 582.0: {(42198, Timestamp('2018-06-30 00:00:00')): 0.43},\n",
        " 17339.0: {(42198, Timestamp('2018-06-30 00:00:00')): -999.0},\n",
        " 921.0: {(42198, Timestamp('2018-06-30 00:00:00')): 0.31},\n",
        " 1961.0: {(42198, Timestamp('2018-06-30 00:00:00')): 0.47},\n",
        " 3410.0: {(42198, Timestamp('2018-06-30 00:00:00')): 6.0},\n",
        " 5143.0: {(42198, Timestamp('2018-06-30 00:00:00')): 1.0145},\n",
        " 12367.0: {(42198, Timestamp('2018-06-30 00:00:00')): -999.0},\n",
        " 12348.0: {(42198, Timestamp('2018-06-30 00:00:00')): -999.0},\n",
        " 12347.0: {(42198, Timestamp('2018-06-30 00:00:00')): -999.0},\n",
        " 12369.0: {(42198, Timestamp('2018-06-30 00:00:00')): -999.0},\n",
        " 12365.0: {(42198, Timestamp('2018-06-30 00:00:00')): -999.0},\n",
        " 18029.0: {(42198, Timestamp('2018-06-30 00:00:00')): -999.0},\n",
        " 18027.0: {(42198, Timestamp('2018-06-30 00:00:00')): -999.0},\n",
        " 12449.0: {(42198, Timestamp('2018-06-30 00:00:00')): -999.0},\n",
        " 12460.0: {(42198, Timestamp('2018-06-30 00:00:00')): -999.0},\n",
        " 12483.0: {(42198, Timestamp('2018-06-30 00:00:00')): -999.0},\n",
        " 12478.0: {(42198, Timestamp('2018-06-30 00:00:00')): -999.0},\n",
        " 12471.0: {(42198, Timestamp('2018-06-30 00:00:00')): -999.0},\n",
        " 543.0: {(42198, Timestamp('2018-06-30 00:00:00')): 1.87}}"
      ],
      "metadata": {
        "id": "JHN6FcrP87p9"
      },
      "execution_count": 3,
      "outputs": []
    },
    {
      "cell_type": "code",
      "source": [
        "test_df = pd.DataFrame.from_dict(test)"
      ],
      "metadata": {
        "id": "ADJlcpvS9SIT"
      },
      "execution_count": 4,
      "outputs": []
    },
    {
      "cell_type": "code",
      "source": [
        "test_df.info()"
      ],
      "metadata": {
        "colab": {
          "base_uri": "https://localhost:8080/"
        },
        "id": "IjL-mPLD9ig9",
        "outputId": "1448e929-d44b-48b7-df88-a5606859be2e"
      },
      "execution_count": 5,
      "outputs": [
        {
          "output_type": "stream",
          "name": "stdout",
          "text": [
            "<class 'pandas.core.frame.DataFrame'>\n",
            "MultiIndex: 1 entries, (42198, Timestamp('2018-06-30 00:00:00')) to (42198, Timestamp('2018-06-30 00:00:00'))\n",
            "Data columns (total 34 columns):\n",
            " #   Column   Non-Null Count  Dtype  \n",
            "---  ------   --------------  -----  \n",
            " 0   8574.0   1 non-null      float64\n",
            " 1   3086.0   1 non-null      float64\n",
            " 2   5254.0   1 non-null      float64\n",
            " 3   2688.0   1 non-null      float64\n",
            " 4   4769.0   1 non-null      float64\n",
            " 5   13808.0  1 non-null      float64\n",
            " 6   1675.0   1 non-null      float64\n",
            " 7   2419.0   1 non-null      float64\n",
            " 8   2099.0   1 non-null      float64\n",
            " 9   1991.0   1 non-null      float64\n",
            " 10  4726.0   1 non-null      float64\n",
            " 11  16263.0  1 non-null      float64\n",
            " 12  18895.0  1 non-null      float64\n",
            " 13  5272.0   1 non-null      float64\n",
            " 14  3078.0   1 non-null      float64\n",
            " 15  582.0    1 non-null      float64\n",
            " 16  17339.0  1 non-null      float64\n",
            " 17  921.0    1 non-null      float64\n",
            " 18  1961.0   1 non-null      float64\n",
            " 19  3410.0   1 non-null      float64\n",
            " 20  5143.0   1 non-null      float64\n",
            " 21  12367.0  1 non-null      float64\n",
            " 22  12348.0  1 non-null      float64\n",
            " 23  12347.0  1 non-null      float64\n",
            " 24  12369.0  1 non-null      float64\n",
            " 25  12365.0  1 non-null      float64\n",
            " 26  18029.0  1 non-null      float64\n",
            " 27  18027.0  1 non-null      float64\n",
            " 28  12449.0  1 non-null      float64\n",
            " 29  12460.0  1 non-null      float64\n",
            " 30  12483.0  1 non-null      float64\n",
            " 31  12478.0  1 non-null      float64\n",
            " 32  12471.0  1 non-null      float64\n",
            " 33  543.0    1 non-null      float64\n",
            "dtypes: float64(34)\n",
            "memory usage: 538.0 bytes\n"
          ]
        }
      ]
    },
    {
      "cell_type": "code",
      "source": [
        "train = pd.read_csv(\"train_data.csv\", parse_dates=True)\n",
        "train.info()"
      ],
      "metadata": {
        "colab": {
          "base_uri": "https://localhost:8080/"
        },
        "id": "cNmepXii-hUB",
        "outputId": "bfee64ad-de25-4199-8013-9d0ef8897c6a"
      },
      "execution_count": 13,
      "outputs": [
        {
          "output_type": "stream",
          "name": "stdout",
          "text": [
            "<class 'pandas.core.frame.DataFrame'>\n",
            "RangeIndex: 174077 entries, 0 to 174076\n",
            "Data columns (total 37 columns):\n",
            " #   Column     Non-Null Count   Dtype  \n",
            "---  ------     --------------   -----  \n",
            " 0   p_id       174077 non-null  int64  \n",
            " 1   EntryDate  174077 non-null  object \n",
            " 2   8574.0     174077 non-null  float64\n",
            " 3   3086.0     174077 non-null  float64\n",
            " 4   5254.0     174077 non-null  float64\n",
            " 5   2688.0     174077 non-null  float64\n",
            " 6   4769.0     174077 non-null  float64\n",
            " 7   13808.0    174077 non-null  float64\n",
            " 8   1675.0     174077 non-null  float64\n",
            " 9   2419.0     174077 non-null  float64\n",
            " 10  2099.0     174077 non-null  float64\n",
            " 11  1991.0     174077 non-null  float64\n",
            " 12  4726.0     174077 non-null  float64\n",
            " 13  16263.0    174077 non-null  float64\n",
            " 14  18895.0    174077 non-null  float64\n",
            " 15  5272.0     174077 non-null  float64\n",
            " 16  3078.0     174077 non-null  float64\n",
            " 17  582.0      174077 non-null  float64\n",
            " 18  17339.0    174077 non-null  float64\n",
            " 19  921.0      174077 non-null  float64\n",
            " 20  1961.0     174077 non-null  float64\n",
            " 21  3410.0     174077 non-null  float64\n",
            " 22  5143.0     174077 non-null  float64\n",
            " 23  12367.0    174077 non-null  float64\n",
            " 24  12348.0    174077 non-null  float64\n",
            " 25  12347.0    174077 non-null  float64\n",
            " 26  12369.0    174077 non-null  float64\n",
            " 27  12365.0    174077 non-null  float64\n",
            " 28  18029.0    174077 non-null  float64\n",
            " 29  18027.0    174077 non-null  float64\n",
            " 30  12449.0    174077 non-null  float64\n",
            " 31  12460.0    174077 non-null  float64\n",
            " 32  12483.0    174077 non-null  float64\n",
            " 33  12478.0    174077 non-null  float64\n",
            " 34  12471.0    174077 non-null  float64\n",
            " 35  543.0      174077 non-null  float64\n",
            " 36  target     174077 non-null  int64  \n",
            "dtypes: float64(34), int64(2), object(1)\n",
            "memory usage: 49.1+ MB\n"
          ]
        }
      ]
    },
    {
      "cell_type": "code",
      "source": [
        "sample = train.iloc[:1,2:-1]\n",
        "sample"
      ],
      "metadata": {
        "colab": {
          "base_uri": "https://localhost:8080/",
          "height": 174
        },
        "id": "qzpI0dI7_-aU",
        "outputId": "55cc2196-6f18-48be-f0d5-4909f7700d12"
      },
      "execution_count": 34,
      "outputs": [
        {
          "output_type": "execute_result",
          "data": {
            "text/plain": [
              "   8574.0  3086.0  5254.0  2688.0  4769.0  13808.0  1675.0  2419.0  2099.0  \\\n",
              "0   113.3     8.1    3.94   256.0    15.0      5.6    4.31    84.5   0.364   \n",
              "\n",
              "   1991.0  ...  12369.0  12365.0  18029.0  18027.0  12449.0  12460.0  12483.0  \\\n",
              "0   120.0  ...     3.59     1.36      0.4     0.02      0.5      2.8     64.0   \n",
              "\n",
              "   12478.0  12471.0  543.0  \n",
              "0      8.5     24.2   2.19  \n",
              "\n",
              "[1 rows x 34 columns]"
            ],
            "text/html": [
              "\n",
              "  <div id=\"df-fb257acd-5f84-449f-b4eb-0ad51b5fea4f\">\n",
              "    <div class=\"colab-df-container\">\n",
              "      <div>\n",
              "<style scoped>\n",
              "    .dataframe tbody tr th:only-of-type {\n",
              "        vertical-align: middle;\n",
              "    }\n",
              "\n",
              "    .dataframe tbody tr th {\n",
              "        vertical-align: top;\n",
              "    }\n",
              "\n",
              "    .dataframe thead th {\n",
              "        text-align: right;\n",
              "    }\n",
              "</style>\n",
              "<table border=\"1\" class=\"dataframe\">\n",
              "  <thead>\n",
              "    <tr style=\"text-align: right;\">\n",
              "      <th></th>\n",
              "      <th>8574.0</th>\n",
              "      <th>3086.0</th>\n",
              "      <th>5254.0</th>\n",
              "      <th>2688.0</th>\n",
              "      <th>4769.0</th>\n",
              "      <th>13808.0</th>\n",
              "      <th>1675.0</th>\n",
              "      <th>2419.0</th>\n",
              "      <th>2099.0</th>\n",
              "      <th>1991.0</th>\n",
              "      <th>...</th>\n",
              "      <th>12369.0</th>\n",
              "      <th>12365.0</th>\n",
              "      <th>18029.0</th>\n",
              "      <th>18027.0</th>\n",
              "      <th>12449.0</th>\n",
              "      <th>12460.0</th>\n",
              "      <th>12483.0</th>\n",
              "      <th>12478.0</th>\n",
              "      <th>12471.0</th>\n",
              "      <th>543.0</th>\n",
              "    </tr>\n",
              "  </thead>\n",
              "  <tbody>\n",
              "    <tr>\n",
              "      <th>0</th>\n",
              "      <td>113.3</td>\n",
              "      <td>8.1</td>\n",
              "      <td>3.94</td>\n",
              "      <td>256.0</td>\n",
              "      <td>15.0</td>\n",
              "      <td>5.6</td>\n",
              "      <td>4.31</td>\n",
              "      <td>84.5</td>\n",
              "      <td>0.364</td>\n",
              "      <td>120.0</td>\n",
              "      <td>...</td>\n",
              "      <td>3.59</td>\n",
              "      <td>1.36</td>\n",
              "      <td>0.4</td>\n",
              "      <td>0.02</td>\n",
              "      <td>0.5</td>\n",
              "      <td>2.8</td>\n",
              "      <td>64.0</td>\n",
              "      <td>8.5</td>\n",
              "      <td>24.2</td>\n",
              "      <td>2.19</td>\n",
              "    </tr>\n",
              "  </tbody>\n",
              "</table>\n",
              "<p>1 rows × 34 columns</p>\n",
              "</div>\n",
              "      <button class=\"colab-df-convert\" onclick=\"convertToInteractive('df-fb257acd-5f84-449f-b4eb-0ad51b5fea4f')\"\n",
              "              title=\"Convert this dataframe to an interactive table.\"\n",
              "              style=\"display:none;\">\n",
              "        \n",
              "  <svg xmlns=\"http://www.w3.org/2000/svg\" height=\"24px\"viewBox=\"0 0 24 24\"\n",
              "       width=\"24px\">\n",
              "    <path d=\"M0 0h24v24H0V0z\" fill=\"none\"/>\n",
              "    <path d=\"M18.56 5.44l.94 2.06.94-2.06 2.06-.94-2.06-.94-.94-2.06-.94 2.06-2.06.94zm-11 1L8.5 8.5l.94-2.06 2.06-.94-2.06-.94L8.5 2.5l-.94 2.06-2.06.94zm10 10l.94 2.06.94-2.06 2.06-.94-2.06-.94-.94-2.06-.94 2.06-2.06.94z\"/><path d=\"M17.41 7.96l-1.37-1.37c-.4-.4-.92-.59-1.43-.59-.52 0-1.04.2-1.43.59L10.3 9.45l-7.72 7.72c-.78.78-.78 2.05 0 2.83L4 21.41c.39.39.9.59 1.41.59.51 0 1.02-.2 1.41-.59l7.78-7.78 2.81-2.81c.8-.78.8-2.07 0-2.86zM5.41 20L4 18.59l7.72-7.72 1.47 1.35L5.41 20z\"/>\n",
              "  </svg>\n",
              "      </button>\n",
              "      \n",
              "  <style>\n",
              "    .colab-df-container {\n",
              "      display:flex;\n",
              "      flex-wrap:wrap;\n",
              "      gap: 12px;\n",
              "    }\n",
              "\n",
              "    .colab-df-convert {\n",
              "      background-color: #E8F0FE;\n",
              "      border: none;\n",
              "      border-radius: 50%;\n",
              "      cursor: pointer;\n",
              "      display: none;\n",
              "      fill: #1967D2;\n",
              "      height: 32px;\n",
              "      padding: 0 0 0 0;\n",
              "      width: 32px;\n",
              "    }\n",
              "\n",
              "    .colab-df-convert:hover {\n",
              "      background-color: #E2EBFA;\n",
              "      box-shadow: 0px 1px 2px rgba(60, 64, 67, 0.3), 0px 1px 3px 1px rgba(60, 64, 67, 0.15);\n",
              "      fill: #174EA6;\n",
              "    }\n",
              "\n",
              "    [theme=dark] .colab-df-convert {\n",
              "      background-color: #3B4455;\n",
              "      fill: #D2E3FC;\n",
              "    }\n",
              "\n",
              "    [theme=dark] .colab-df-convert:hover {\n",
              "      background-color: #434B5C;\n",
              "      box-shadow: 0px 1px 3px 1px rgba(0, 0, 0, 0.15);\n",
              "      filter: drop-shadow(0px 1px 2px rgba(0, 0, 0, 0.3));\n",
              "      fill: #FFFFFF;\n",
              "    }\n",
              "  </style>\n",
              "\n",
              "      <script>\n",
              "        const buttonEl =\n",
              "          document.querySelector('#df-fb257acd-5f84-449f-b4eb-0ad51b5fea4f button.colab-df-convert');\n",
              "        buttonEl.style.display =\n",
              "          google.colab.kernel.accessAllowed ? 'block' : 'none';\n",
              "\n",
              "        async function convertToInteractive(key) {\n",
              "          const element = document.querySelector('#df-fb257acd-5f84-449f-b4eb-0ad51b5fea4f');\n",
              "          const dataTable =\n",
              "            await google.colab.kernel.invokeFunction('convertToInteractive',\n",
              "                                                     [key], {});\n",
              "          if (!dataTable) return;\n",
              "\n",
              "          const docLinkHtml = 'Like what you see? Visit the ' +\n",
              "            '<a target=\"_blank\" href=https://colab.research.google.com/notebooks/data_table.ipynb>data table notebook</a>'\n",
              "            + ' to learn more about interactive tables.';\n",
              "          element.innerHTML = '';\n",
              "          dataTable['output_type'] = 'display_data';\n",
              "          await google.colab.output.renderOutput(dataTable, element);\n",
              "          const docLink = document.createElement('div');\n",
              "          docLink.innerHTML = docLinkHtml;\n",
              "          element.appendChild(docLink);\n",
              "        }\n",
              "      </script>\n",
              "    </div>\n",
              "  </div>\n",
              "  "
            ]
          },
          "metadata": {},
          "execution_count": 34
        }
      ]
    },
    {
      "cell_type": "code",
      "source": [
        "print(loaded_model.predict(sample))"
      ],
      "metadata": {
        "id": "xZMVL-gEL3gp",
        "outputId": "edd2d56d-d854-4afb-cb17-078a65e0b9f7",
        "colab": {
          "base_uri": "https://localhost:8080/"
        }
      },
      "execution_count": 36,
      "outputs": [
        {
          "output_type": "stream",
          "name": "stdout",
          "text": [
            "[1]\n"
          ]
        }
      ]
    },
    {
      "cell_type": "markdown",
      "source": [
        "### Prediction with the model"
      ],
      "metadata": {
        "id": "P7iLJxriFpRX"
      }
    },
    {
      "cell_type": "code",
      "source": [
        "# print(list(sample.columns))\n",
        "# print(features)\n",
        "\n",
        "col = list(sample.columns)\n",
        "\n",
        "row = dict()\n",
        "row[0] = [300]*34\n",
        "# row[0] = list([-999.0, -999.0, -999.0, -999.0, -999.0, -999.0, -999.0, -999.0, -999.0, -999.0, -999.0, -999.0, -999.0, -999.0, -999.0, -999.0, -999.0, -999.0, -999.0, 5.0, 1.044, -999.0, -999.0, -999.0, -999.0, -999.0, -999.0, -999.0, -999.0, -999.0, -999.0, -999.0, -999.0, -999.0])\n",
        "sample = (pd.DataFrame.from_dict(row, orient=\"index\", columns=col))\n",
        "print(loaded_model.predict(sample))"
      ],
      "metadata": {
        "colab": {
          "base_uri": "https://localhost:8080/"
        },
        "id": "OZlNGM3MByZW",
        "outputId": "c999ce3a-3fd4-4181-acea-c8ad58e4eacf"
      },
      "execution_count": 41,
      "outputs": [
        {
          "output_type": "stream",
          "name": "stdout",
          "text": [
            "['8574.0', '3086.0', '5254.0', '2688.0', '4769.0', '13808.0', '1675.0', '2419.0', '2099.0', '1991.0', '4726.0', '16263.0', '18895.0', '5272.0', '3078.0', '582.0', '17339.0', '921.0', '1961.0', '3410.0', '5143.0', '12367.0', '12348.0', '12347.0', '12369.0', '12365.0', '18029.0', '18027.0', '12449.0', '12460.0', '12483.0', '12478.0', '12471.0', '543.0']\n",
            "[2688.0, 5143.0, 4726.0, 1961.0, 16263.0, 1675.0, 3086.0, 18027.0, 2419.0, 4769.0, 5254.0, 13808.0, 12483.0, 5272.0, 12367.0, 12449.0, 12471.0, 1991.0, 12365.0, 12460.0, 543.0, 582.0, 12369.0, 12348.0, 12347.0, 2099.0, 17339.0, 8574.0, 3410.0, 921.0, 12478.0, 18895.0, 3078.0, 18029.0]\n",
            "[0]\n"
          ]
        }
      ]
    },
    {
      "cell_type": "code",
      "source": [
        "row[0] = list([120]*34)\n",
        "sample = (pd.DataFrame.from_dict(row, orient=\"index\", columns=col))\n",
        "print(loaded_model.predict(sample))"
      ],
      "metadata": {
        "colab": {
          "base_uri": "https://localhost:8080/"
        },
        "id": "YFmSGXt49a5Z",
        "outputId": "c4087c3f-7437-40fa-8252-a405dab31a75"
      },
      "execution_count": 42,
      "outputs": [
        {
          "output_type": "stream",
          "name": "stdout",
          "text": [
            "[0]\n"
          ]
        }
      ]
    },
    {
      "cell_type": "code",
      "source": [
        "row[0] = list([-30]*34)\n",
        "sample = (pd.DataFrame.from_dict(row, orient=\"index\", columns=col))\n",
        "print(loaded_model.predict(sample))"
      ],
      "metadata": {
        "colab": {
          "base_uri": "https://localhost:8080/"
        },
        "id": "UIN04gAXFeZ1",
        "outputId": "36b9fcd3-7b63-4b96-f781-af1da760307f"
      },
      "execution_count": 43,
      "outputs": [
        {
          "output_type": "stream",
          "name": "stdout",
          "text": [
            "[1]\n"
          ]
        }
      ]
    },
    {
      "cell_type": "code",
      "source": [
        "row[0] = list([-999]*34)\n",
        "sample = (pd.DataFrame.from_dict(row, orient=\"index\", columns=col))\n",
        "print(loaded_model.predict(sample))"
      ],
      "metadata": {
        "colab": {
          "base_uri": "https://localhost:8080/"
        },
        "id": "9aJjYOtmFg52",
        "outputId": "f0edfb5e-c9b6-4ace-906d-d4a656f68ef2"
      },
      "execution_count": 44,
      "outputs": [
        {
          "output_type": "stream",
          "name": "stdout",
          "text": [
            "[1]\n"
          ]
        }
      ]
    }
  ]
}